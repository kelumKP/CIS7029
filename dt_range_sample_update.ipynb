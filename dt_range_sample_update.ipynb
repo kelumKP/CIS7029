{
 "cells": [
  {
   "cell_type": "code",
   "execution_count": 201,
   "metadata": {},
   "outputs": [],
   "source": [
    "import pathlib\n",
    "\n",
    "import holoviews as hv\n",
    "import hvplot.pandas # noqa\n",
    "import numpy as np\n",
    "import pandas as pd\n",
    "import panel as pn\n",
    "import datetime as dt\n",
    "\n",
    "pn.extension(sizing_mode='stretch_width')"
   ]
  },
  {
   "cell_type": "code",
   "execution_count": 202,
   "metadata": {},
   "outputs": [
    {
     "data": {
      "text/html": [
       "<div>\n",
       "<style scoped>\n",
       "    .dataframe tbody tr th:only-of-type {\n",
       "        vertical-align: middle;\n",
       "    }\n",
       "\n",
       "    .dataframe tbody tr th {\n",
       "        vertical-align: top;\n",
       "    }\n",
       "\n",
       "    .dataframe thead th {\n",
       "        text-align: right;\n",
       "    }\n",
       "</style>\n",
       "<table border=\"1\" class=\"dataframe\">\n",
       "  <thead>\n",
       "    <tr style=\"text-align: right;\">\n",
       "      <th></th>\n",
       "      <th>name</th>\n",
       "      <th>count</th>\n",
       "      <th>size</th>\n",
       "    </tr>\n",
       "    <tr>\n",
       "      <th>open_time</th>\n",
       "      <th></th>\n",
       "      <th></th>\n",
       "      <th></th>\n",
       "    </tr>\n",
       "  </thead>\n",
       "  <tbody>\n",
       "    <tr>\n",
       "      <th>2021-07-01</th>\n",
       "      <td>A</td>\n",
       "      <td>27</td>\n",
       "      <td>34</td>\n",
       "    </tr>\n",
       "    <tr>\n",
       "      <th>2022-07-02</th>\n",
       "      <td>B</td>\n",
       "      <td>24</td>\n",
       "      <td>56</td>\n",
       "    </tr>\n",
       "    <tr>\n",
       "      <th>2021-07-03</th>\n",
       "      <td>C</td>\n",
       "      <td>22</td>\n",
       "      <td>67</td>\n",
       "    </tr>\n",
       "    <tr>\n",
       "      <th>2021-07-03</th>\n",
       "      <td>D</td>\n",
       "      <td>32</td>\n",
       "      <td>78</td>\n",
       "    </tr>\n",
       "    <tr>\n",
       "      <th>2021-08-05</th>\n",
       "      <td>A</td>\n",
       "      <td>17</td>\n",
       "      <td>33</td>\n",
       "    </tr>\n",
       "    <tr>\n",
       "      <th>2021-09-11</th>\n",
       "      <td>B</td>\n",
       "      <td>34</td>\n",
       "      <td>55</td>\n",
       "    </tr>\n",
       "    <tr>\n",
       "      <th>2021-10-11</th>\n",
       "      <td>C</td>\n",
       "      <td>52</td>\n",
       "      <td>69</td>\n",
       "    </tr>\n",
       "    <tr>\n",
       "      <th>2022-11-11</th>\n",
       "      <td>D</td>\n",
       "      <td>62</td>\n",
       "      <td>79</td>\n",
       "    </tr>\n",
       "    <tr>\n",
       "      <th>2021-05-11</th>\n",
       "      <td>A</td>\n",
       "      <td>44</td>\n",
       "      <td>34</td>\n",
       "    </tr>\n",
       "    <tr>\n",
       "      <th>2022-08-11</th>\n",
       "      <td>B</td>\n",
       "      <td>88</td>\n",
       "      <td>12</td>\n",
       "    </tr>\n",
       "    <tr>\n",
       "      <th>2022-05-11</th>\n",
       "      <td>D</td>\n",
       "      <td>22</td>\n",
       "      <td>23</td>\n",
       "    </tr>\n",
       "  </tbody>\n",
       "</table>\n",
       "</div>"
      ],
      "text/plain": [
       "           name  count  size\n",
       "open_time                   \n",
       "2021-07-01    A     27    34\n",
       "2022-07-02    B     24    56\n",
       "2021-07-03    C     22    67\n",
       "2021-07-03    D     32    78\n",
       "2021-08-05    A     17    33\n",
       "2021-09-11    B     34    55\n",
       "2021-10-11    C     52    69\n",
       "2022-11-11    D     62    79\n",
       "2021-05-11    A     44    34\n",
       "2022-08-11    B     88    12\n",
       "2022-05-11    D     22    23"
      ]
     },
     "execution_count": 202,
     "metadata": {},
     "output_type": "execute_result"
    }
   ],
   "source": [
    "data = {'name':['A', 'B', 'C', 'D', 'A', 'B', 'C', 'D', 'A', 'B', 'D'],\n",
    "        'open_time': [dt.datetime(2021, 7, 1, 0, 0, 0), dt.datetime(2022, 7, 2, 0, 0), dt.datetime(2021, 7, 3, 0, 0),dt.datetime(2021, 7, 3, 0, 0), dt.datetime(2021, 8, 5, 0, 0, 0), dt.datetime(2021, 9, 11, 0, 0, 0), dt.datetime(2021, 10, 11, 0, 0, 0), dt.datetime(2022, 11, 11, 0, 0, 0), dt.datetime(2021, 5, 11, 0, 0, 0), dt.datetime(2022, 8, 11, 0, 0, 0), dt.datetime(2022, 5, 11, 0, 0, 0)],\n",
    "        'count':[27, 24, 22, 32, 17, 34, 52, 62, 44, 88, 22],\n",
    "        'size':[34, 56,67,78, 33, 55,69,79, 34,12, 23]\n",
    "       }\n",
    "\n",
    "\n",
    "df = pd.DataFrame(data)\n",
    "df\n",
    "df = df.set_index('open_time').tz_localize(None)\n",
    "df"
   ]
  },
  {
   "cell_type": "code",
   "execution_count": 203,
   "metadata": {},
   "outputs": [],
   "source": [
    "idf = df.interactive()"
   ]
  },
  {
   "cell_type": "code",
   "execution_count": 204,
   "metadata": {},
   "outputs": [],
   "source": [
    "date_range = pn.widgets.DateRangeSlider(name='Date Range',\n",
    "     start=df.index[0], end=df.index[-1])"
   ]
  },
  {
   "cell_type": "code",
   "execution_count": 205,
   "metadata": {},
   "outputs": [
    {
     "data": {},
     "metadata": {},
     "output_type": "display_data"
    },
    {
     "data": {
      "application/vnd.holoviews_exec.v0+json": "",
      "text/html": [
       "<div id='73805'>\n",
       "  <div class=\"bk-root\" id=\"2b69dd2b-1b0e-4455-a5aa-b2aedefaa432\" data-root-id=\"73805\"></div>\n",
       "</div>\n",
       "<script type=\"application/javascript\">(function(root) {\n",
       "  function embed_document(root) {\n",
       "    var docs_json = {\"6f601f46-0a04-40a3-b14c-0f238f1a1628\":{\"defs\":[{\"extends\":null,\"module\":null,\"name\":\"ReactiveHTML1\",\"overrides\":[],\"properties\":[]},{\"extends\":null,\"module\":null,\"name\":\"FlexBox1\",\"overrides\":[],\"properties\":[{\"default\":\"flex-start\",\"kind\":null,\"name\":\"align_content\"},{\"default\":\"flex-start\",\"kind\":null,\"name\":\"align_items\"},{\"default\":\"row\",\"kind\":null,\"name\":\"flex_direction\"},{\"default\":\"wrap\",\"kind\":null,\"name\":\"flex_wrap\"},{\"default\":\"flex-start\",\"kind\":null,\"name\":\"justify_content\"}]},{\"extends\":null,\"module\":null,\"name\":\"GridStack1\",\"overrides\":[],\"properties\":[{\"default\":\"warn\",\"kind\":null,\"name\":\"mode\"},{\"default\":null,\"kind\":null,\"name\":\"ncols\"},{\"default\":null,\"kind\":null,\"name\":\"nrows\"},{\"default\":true,\"kind\":null,\"name\":\"allow_resize\"},{\"default\":true,\"kind\":null,\"name\":\"allow_drag\"},{\"default\":[],\"kind\":null,\"name\":\"state\"}]},{\"extends\":null,\"module\":null,\"name\":\"click1\",\"overrides\":[],\"properties\":[{\"default\":\"\",\"kind\":null,\"name\":\"terminal_output\"},{\"default\":\"\",\"kind\":null,\"name\":\"debug_name\"},{\"default\":0,\"kind\":null,\"name\":\"clears\"}]},{\"extends\":null,\"module\":null,\"name\":\"NotificationAreaBase1\",\"overrides\":[],\"properties\":[{\"default\":\"bottom-right\",\"kind\":null,\"name\":\"position\"},{\"default\":0,\"kind\":null,\"name\":\"_clear\"}]},{\"extends\":null,\"module\":null,\"name\":\"NotificationArea1\",\"overrides\":[],\"properties\":[{\"default\":[],\"kind\":null,\"name\":\"notifications\"},{\"default\":\"bottom-right\",\"kind\":null,\"name\":\"position\"},{\"default\":0,\"kind\":null,\"name\":\"_clear\"},{\"default\":[{\"background\":\"#ffc107\",\"icon\":{\"className\":\"fas fa-exclamation-triangle\",\"color\":\"white\",\"tagName\":\"i\"},\"type\":\"warning\"},{\"background\":\"#007bff\",\"icon\":{\"className\":\"fas fa-info-circle\",\"color\":\"white\",\"tagName\":\"i\"},\"type\":\"info\"}],\"kind\":null,\"name\":\"types\"}]},{\"extends\":null,\"module\":null,\"name\":\"Notification\",\"overrides\":[],\"properties\":[{\"default\":null,\"kind\":null,\"name\":\"background\"},{\"default\":3000,\"kind\":null,\"name\":\"duration\"},{\"default\":null,\"kind\":null,\"name\":\"icon\"},{\"default\":\"\",\"kind\":null,\"name\":\"message\"},{\"default\":null,\"kind\":null,\"name\":\"notification_type\"},{\"default\":false,\"kind\":null,\"name\":\"_destroyed\"}]},{\"extends\":null,\"module\":null,\"name\":\"TemplateActions1\",\"overrides\":[],\"properties\":[{\"default\":0,\"kind\":null,\"name\":\"open_modal\"},{\"default\":0,\"kind\":null,\"name\":\"close_modal\"}]},{\"extends\":null,\"module\":null,\"name\":\"MaterialTemplateActions1\",\"overrides\":[],\"properties\":[{\"default\":0,\"kind\":null,\"name\":\"open_modal\"},{\"default\":0,\"kind\":null,\"name\":\"close_modal\"}]}],\"roots\":{\"references\":[{\"attributes\":{\"client_comm_id\":\"5a358404e0a8434b920aeb0775400eab\",\"comm_id\":\"35f1b7311a254097ab925ddd8f99af88\",\"plot_id\":\"73805\"},\"id\":\"73813\",\"type\":\"panel.models.comm_manager.CommManager\"},{\"attributes\":{\"children\":[{\"id\":\"73808\"},{\"id\":\"73810\"}],\"margin\":[0,0,0,0],\"name\":\"Row65286\",\"sizing_mode\":\"stretch_width\"},\"id\":\"73807\",\"type\":\"Row\"},{\"attributes\":{\"children\":[{\"id\":\"73807\"},{\"id\":\"73811\"}],\"margin\":[0,0,0,0],\"name\":\"Column65287\",\"sizing_mode\":\"stretch_width\"},\"id\":\"73806\",\"type\":\"Column\"},{\"attributes\":{\"children\":[{\"id\":\"73812\"}],\"margin\":[0,0,0,0],\"name\":\"Row65266\",\"sizing_mode\":\"stretch_width\"},\"id\":\"73811\",\"type\":\"Row\"},{\"attributes\":{\"children\":[{\"id\":\"73806\"}],\"margin\":[0,0,0,0],\"name\":\"Row65288\",\"sizing_mode\":\"stretch_width\"},\"id\":\"73805\",\"type\":\"Row\"},{\"attributes\":{\"children\":[{\"id\":\"73809\"}],\"margin\":[0,0,0,0],\"name\":\"Column65261\",\"sizing_mode\":\"stretch_width\"},\"id\":\"73808\",\"type\":\"Column\"},{\"attributes\":{\"end\":1652227200000.0,\"margin\":[5,10,5,10],\"sizing_mode\":\"stretch_width\",\"start\":1625097600000.0,\"title\":\"Date Range\",\"value\":[1625097600000.0,1652227200000.0]},\"id\":\"73809\",\"type\":\"DateRangeSlider\"},{\"attributes\":{\"margin\":[5,5,5,5],\"name\":\"DataFrame65283\",\"sizing_mode\":\"stretch_width\",\"text\":\"&lt;table border=&quot;0&quot; class=&quot;dataframe panel-df&quot;&gt;\\n  &lt;thead&gt;\\n    &lt;tr style=&quot;text-align: right;&quot;&gt;\\n      &lt;th&gt;&lt;/th&gt;\\n      &lt;th&gt;name&lt;/th&gt;\\n      &lt;th&gt;count&lt;/th&gt;\\n      &lt;th&gt;size&lt;/th&gt;\\n    &lt;/tr&gt;\\n    &lt;tr&gt;\\n      &lt;th&gt;open_time&lt;/th&gt;\\n      &lt;th&gt;&lt;/th&gt;\\n      &lt;th&gt;&lt;/th&gt;\\n      &lt;th&gt;&lt;/th&gt;\\n    &lt;/tr&gt;\\n  &lt;/thead&gt;\\n  &lt;tbody&gt;\\n    &lt;tr&gt;\\n      &lt;th&gt;2021-07-01&lt;/th&gt;\\n      &lt;td&gt;A&lt;/td&gt;\\n      &lt;td&gt;27&lt;/td&gt;\\n      &lt;td&gt;34&lt;/td&gt;\\n    &lt;/tr&gt;\\n    &lt;tr&gt;\\n      &lt;th&gt;2021-07-03&lt;/th&gt;\\n      &lt;td&gt;C&lt;/td&gt;\\n      &lt;td&gt;22&lt;/td&gt;\\n      &lt;td&gt;67&lt;/td&gt;\\n    &lt;/tr&gt;\\n    &lt;tr&gt;\\n      &lt;th&gt;2021-07-03&lt;/th&gt;\\n      &lt;td&gt;D&lt;/td&gt;\\n      &lt;td&gt;32&lt;/td&gt;\\n      &lt;td&gt;78&lt;/td&gt;\\n    &lt;/tr&gt;\\n    &lt;tr&gt;\\n      &lt;th&gt;2021-08-05&lt;/th&gt;\\n      &lt;td&gt;A&lt;/td&gt;\\n      &lt;td&gt;17&lt;/td&gt;\\n      &lt;td&gt;33&lt;/td&gt;\\n    &lt;/tr&gt;\\n    &lt;tr&gt;\\n      &lt;th&gt;2021-09-11&lt;/th&gt;\\n      &lt;td&gt;B&lt;/td&gt;\\n      &lt;td&gt;34&lt;/td&gt;\\n      &lt;td&gt;55&lt;/td&gt;\\n    &lt;/tr&gt;\\n  &lt;/tbody&gt;\\n&lt;/table&gt;\"},\"id\":\"73812\",\"type\":\"panel.models.markup.HTML\"},{\"attributes\":{\"margin\":[5,5,5,5],\"name\":\"HSpacer65285\",\"sizing_mode\":\"stretch_width\"},\"id\":\"73810\",\"type\":\"Spacer\"}],\"root_ids\":[\"73805\",\"73813\"]},\"title\":\"Bokeh Application\",\"version\":\"2.4.3\"}};\n",
       "    var render_items = [{\"docid\":\"6f601f46-0a04-40a3-b14c-0f238f1a1628\",\"root_ids\":[\"73805\"],\"roots\":{\"73805\":\"2b69dd2b-1b0e-4455-a5aa-b2aedefaa432\"}}];\n",
       "    root.Bokeh.embed.embed_items_notebook(docs_json, render_items);\n",
       "  }\n",
       "  if (root.Bokeh !== undefined && root.Bokeh.Panel !== undefined && ( root['Tabulator'] !== undefined) && ( root['Tabulator'] !== undefined)) {\n",
       "    embed_document(root);\n",
       "  } else {\n",
       "    var attempts = 0;\n",
       "    var timer = setInterval(function(root) {\n",
       "      if (root.Bokeh !== undefined && root.Bokeh.Panel !== undefined && (root['Tabulator'] !== undefined) && (root['Tabulator'] !== undefined)) {\n",
       "        clearInterval(timer);\n",
       "        embed_document(root);\n",
       "      } else if (document.readyState == \"complete\") {\n",
       "        attempts++;\n",
       "        if (attempts > 200) {\n",
       "          clearInterval(timer);\n",
       "          console.log(\"Bokeh: ERROR: Unable to run BokehJS code because BokehJS library is missing\");\n",
       "        }\n",
       "      }\n",
       "    }, 25, root)\n",
       "  }\n",
       "})(window);</script>"
      ],
      "text/plain": [
       "<hvplot.interactive.Interactive at 0x1340fed40>"
      ]
     },
     "execution_count": 205,
     "metadata": {
      "application/vnd.holoviews_exec.v0+json": {
       "id": "73805"
      }
     },
     "output_type": "execute_result"
    }
   ],
   "source": [
    "filtered = (idf[\n",
    "   (idf.index >= date_range.param.value_start) &\n",
    "    (idf.index <= date_range.param.value_end)]\n",
    ")\n",
    "\n",
    "filtered.head()"
   ]
  },
  {
   "cell_type": "code",
   "execution_count": 206,
   "metadata": {},
   "outputs": [
    {
     "data": {
      "text/plain": [
       "'notebook'"
      ]
     },
     "execution_count": 206,
     "metadata": {},
     "output_type": "execute_result"
    }
   ],
   "source": [
    "def environment():\n",
    "    try:\n",
    "        get_ipython()\n",
    "        return \"notebook\"\n",
    "    except:\n",
    "        return \"server\"\n",
    "environment()\n"
   ]
  },
  {
   "cell_type": "code",
   "execution_count": 207,
   "metadata": {},
   "outputs": [
    {
     "data": {},
     "metadata": {},
     "output_type": "display_data"
    },
    {
     "data": {
      "application/vnd.holoviews_exec.v0+json": "",
      "text/html": [
       "<div id='73814'>\n",
       "  <div class=\"bk-root\" id=\"ada90fe1-97ec-4cca-bbb4-40b5c3ecab51\" data-root-id=\"73814\"></div>\n",
       "</div>\n",
       "<script type=\"application/javascript\">(function(root) {\n",
       "  function embed_document(root) {\n",
       "    var docs_json = {\"b93ade8a-8847-47cb-a486-d8976f376c16\":{\"defs\":[{\"extends\":null,\"module\":null,\"name\":\"ReactiveHTML1\",\"overrides\":[],\"properties\":[]},{\"extends\":null,\"module\":null,\"name\":\"FlexBox1\",\"overrides\":[],\"properties\":[{\"default\":\"flex-start\",\"kind\":null,\"name\":\"align_content\"},{\"default\":\"flex-start\",\"kind\":null,\"name\":\"align_items\"},{\"default\":\"row\",\"kind\":null,\"name\":\"flex_direction\"},{\"default\":\"wrap\",\"kind\":null,\"name\":\"flex_wrap\"},{\"default\":\"flex-start\",\"kind\":null,\"name\":\"justify_content\"}]},{\"extends\":null,\"module\":null,\"name\":\"GridStack1\",\"overrides\":[],\"properties\":[{\"default\":\"warn\",\"kind\":null,\"name\":\"mode\"},{\"default\":null,\"kind\":null,\"name\":\"ncols\"},{\"default\":null,\"kind\":null,\"name\":\"nrows\"},{\"default\":true,\"kind\":null,\"name\":\"allow_resize\"},{\"default\":true,\"kind\":null,\"name\":\"allow_drag\"},{\"default\":[],\"kind\":null,\"name\":\"state\"}]},{\"extends\":null,\"module\":null,\"name\":\"click1\",\"overrides\":[],\"properties\":[{\"default\":\"\",\"kind\":null,\"name\":\"terminal_output\"},{\"default\":\"\",\"kind\":null,\"name\":\"debug_name\"},{\"default\":0,\"kind\":null,\"name\":\"clears\"}]},{\"extends\":null,\"module\":null,\"name\":\"NotificationAreaBase1\",\"overrides\":[],\"properties\":[{\"default\":\"bottom-right\",\"kind\":null,\"name\":\"position\"},{\"default\":0,\"kind\":null,\"name\":\"_clear\"}]},{\"extends\":null,\"module\":null,\"name\":\"NotificationArea1\",\"overrides\":[],\"properties\":[{\"default\":[],\"kind\":null,\"name\":\"notifications\"},{\"default\":\"bottom-right\",\"kind\":null,\"name\":\"position\"},{\"default\":0,\"kind\":null,\"name\":\"_clear\"},{\"default\":[{\"background\":\"#ffc107\",\"icon\":{\"className\":\"fas fa-exclamation-triangle\",\"color\":\"white\",\"tagName\":\"i\"},\"type\":\"warning\"},{\"background\":\"#007bff\",\"icon\":{\"className\":\"fas fa-info-circle\",\"color\":\"white\",\"tagName\":\"i\"},\"type\":\"info\"}],\"kind\":null,\"name\":\"types\"}]},{\"extends\":null,\"module\":null,\"name\":\"Notification\",\"overrides\":[],\"properties\":[{\"default\":null,\"kind\":null,\"name\":\"background\"},{\"default\":3000,\"kind\":null,\"name\":\"duration\"},{\"default\":null,\"kind\":null,\"name\":\"icon\"},{\"default\":\"\",\"kind\":null,\"name\":\"message\"},{\"default\":null,\"kind\":null,\"name\":\"notification_type\"},{\"default\":false,\"kind\":null,\"name\":\"_destroyed\"}]},{\"extends\":null,\"module\":null,\"name\":\"TemplateActions1\",\"overrides\":[],\"properties\":[{\"default\":0,\"kind\":null,\"name\":\"open_modal\"},{\"default\":0,\"kind\":null,\"name\":\"close_modal\"}]},{\"extends\":null,\"module\":null,\"name\":\"MaterialTemplateActions1\",\"overrides\":[],\"properties\":[{\"default\":0,\"kind\":null,\"name\":\"open_modal\"},{\"default\":0,\"kind\":null,\"name\":\"close_modal\"}]}],\"roots\":{\"references\":[{\"attributes\":{\"children\":[{\"id\":\"73815\"},{\"id\":\"73816\"},{\"id\":\"73817\"},{\"id\":\"73818\"}],\"margin\":[0,0,0,0],\"name\":\"Row65295\",\"sizing_mode\":\"stretch_width\"},\"id\":\"73814\",\"type\":\"Row\"},{\"attributes\":{\"background\":\"#ff6f69\",\"height\":50,\"margin\":[5,5,5,5],\"name\":\"HSpacer65291\",\"sizing_mode\":\"stretch_width\"},\"id\":\"73815\",\"type\":\"Spacer\"},{\"attributes\":{\"background\":\"#ffcc5c\",\"height\":50,\"margin\":[5,5,5,5],\"name\":\"HSpacer65292\",\"sizing_mode\":\"stretch_width\"},\"id\":\"73816\",\"type\":\"Spacer\"},{\"attributes\":{\"background\":\"#58d8b0\",\"height\":50,\"margin\":[5,5,5,5],\"name\":\"HSpacer65294\",\"sizing_mode\":\"stretch_width\"},\"id\":\"73818\",\"type\":\"Spacer\"},{\"attributes\":{\"background\":\"#88d8b0\",\"height\":50,\"margin\":[5,5,5,5],\"name\":\"HSpacer65293\",\"sizing_mode\":\"stretch_width\"},\"id\":\"73817\",\"type\":\"Spacer\"},{\"attributes\":{\"client_comm_id\":\"2b97e43c620f4ae881a6729330869326\",\"comm_id\":\"88a59173d8b0419083d4b33f6baa2298\",\"plot_id\":\"73814\"},\"id\":\"73819\",\"type\":\"panel.models.comm_manager.CommManager\"}],\"root_ids\":[\"73814\",\"73819\"]},\"title\":\"Bokeh Application\",\"version\":\"2.4.3\"}};\n",
       "    var render_items = [{\"docid\":\"b93ade8a-8847-47cb-a486-d8976f376c16\",\"root_ids\":[\"73814\"],\"roots\":{\"73814\":\"ada90fe1-97ec-4cca-bbb4-40b5c3ecab51\"}}];\n",
       "    root.Bokeh.embed.embed_items_notebook(docs_json, render_items);\n",
       "  }\n",
       "  if (root.Bokeh !== undefined && root.Bokeh.Panel !== undefined && ( root['Tabulator'] !== undefined) && ( root['Tabulator'] !== undefined)) {\n",
       "    embed_document(root);\n",
       "  } else {\n",
       "    var attempts = 0;\n",
       "    var timer = setInterval(function(root) {\n",
       "      if (root.Bokeh !== undefined && root.Bokeh.Panel !== undefined && (root['Tabulator'] !== undefined) && (root['Tabulator'] !== undefined)) {\n",
       "        clearInterval(timer);\n",
       "        embed_document(root);\n",
       "      } else if (document.readyState == \"complete\") {\n",
       "        attempts++;\n",
       "        if (attempts > 200) {\n",
       "          clearInterval(timer);\n",
       "          console.log(\"Bokeh: ERROR: Unable to run BokehJS code because BokehJS library is missing\");\n",
       "        }\n",
       "      }\n",
       "    }, 25, root)\n",
       "  }\n",
       "})(window);</script>"
      ],
      "text/plain": [
       "Row(sizing_mode='stretch_width')\n",
       "    [0] HSpacer(background='#ff6f69', height=50)\n",
       "    [1] HSpacer(background='#ffcc5c', height=50)\n",
       "    [2] HSpacer(background='#88d8b0', height=50)\n",
       "    [3] HSpacer(background='#58d8b0', height=50)"
      ]
     },
     "execution_count": 207,
     "metadata": {
      "application/vnd.holoviews_exec.v0+json": {
       "id": "73814"
      }
     },
     "output_type": "execute_result"
    }
   ],
   "source": [
    "PALETTE = [\"#ff6f69\", \"#ffcc5c\", \"#88d8b0\",\"#58d8b0\" ]\n",
    "pn.Row(\n",
    "    pn.layout.HSpacer(height=50, background=PALETTE[0]),\n",
    "    pn.layout.HSpacer(height=50, background=PALETTE[1]),\n",
    "    pn.layout.HSpacer(height=50, background=PALETTE[2]),\n",
    "    pn.layout.HSpacer(height=50, background=PALETTE[3]),\n",
    ")"
   ]
  },
  {
   "cell_type": "code",
   "execution_count": 208,
   "metadata": {},
   "outputs": [],
   "source": [
    "if environment()==\"server\":\n",
    "   theme=\"fast\"\n",
    "else:\n",
    "   theme=\"simple\""
   ]
  },
  {
   "cell_type": "code",
   "execution_count": 209,
   "metadata": {},
   "outputs": [
    {
     "data": {},
     "metadata": {},
     "output_type": "display_data"
    },
    {
     "data": {
      "application/vnd.holoviews_exec.v0+json": "",
      "text/html": [
       "<div id='73820'>\n",
       "  <div class=\"bk-root\" id=\"47ec6fcc-957f-41b5-9ea8-6141c536740d\" data-root-id=\"73820\"></div>\n",
       "</div>\n",
       "<script type=\"application/javascript\">(function(root) {\n",
       "  function embed_document(root) {\n",
       "    var docs_json = {\"09f41165-bbb7-4988-afaa-3fe5b5c28238\":{\"defs\":[{\"extends\":null,\"module\":null,\"name\":\"ReactiveHTML1\",\"overrides\":[],\"properties\":[]},{\"extends\":null,\"module\":null,\"name\":\"FlexBox1\",\"overrides\":[],\"properties\":[{\"default\":\"flex-start\",\"kind\":null,\"name\":\"align_content\"},{\"default\":\"flex-start\",\"kind\":null,\"name\":\"align_items\"},{\"default\":\"row\",\"kind\":null,\"name\":\"flex_direction\"},{\"default\":\"wrap\",\"kind\":null,\"name\":\"flex_wrap\"},{\"default\":\"flex-start\",\"kind\":null,\"name\":\"justify_content\"}]},{\"extends\":null,\"module\":null,\"name\":\"GridStack1\",\"overrides\":[],\"properties\":[{\"default\":\"warn\",\"kind\":null,\"name\":\"mode\"},{\"default\":null,\"kind\":null,\"name\":\"ncols\"},{\"default\":null,\"kind\":null,\"name\":\"nrows\"},{\"default\":true,\"kind\":null,\"name\":\"allow_resize\"},{\"default\":true,\"kind\":null,\"name\":\"allow_drag\"},{\"default\":[],\"kind\":null,\"name\":\"state\"}]},{\"extends\":null,\"module\":null,\"name\":\"click1\",\"overrides\":[],\"properties\":[{\"default\":\"\",\"kind\":null,\"name\":\"terminal_output\"},{\"default\":\"\",\"kind\":null,\"name\":\"debug_name\"},{\"default\":0,\"kind\":null,\"name\":\"clears\"}]},{\"extends\":null,\"module\":null,\"name\":\"NotificationAreaBase1\",\"overrides\":[],\"properties\":[{\"default\":\"bottom-right\",\"kind\":null,\"name\":\"position\"},{\"default\":0,\"kind\":null,\"name\":\"_clear\"}]},{\"extends\":null,\"module\":null,\"name\":\"NotificationArea1\",\"overrides\":[],\"properties\":[{\"default\":[],\"kind\":null,\"name\":\"notifications\"},{\"default\":\"bottom-right\",\"kind\":null,\"name\":\"position\"},{\"default\":0,\"kind\":null,\"name\":\"_clear\"},{\"default\":[{\"background\":\"#ffc107\",\"icon\":{\"className\":\"fas fa-exclamation-triangle\",\"color\":\"white\",\"tagName\":\"i\"},\"type\":\"warning\"},{\"background\":\"#007bff\",\"icon\":{\"className\":\"fas fa-info-circle\",\"color\":\"white\",\"tagName\":\"i\"},\"type\":\"info\"}],\"kind\":null,\"name\":\"types\"}]},{\"extends\":null,\"module\":null,\"name\":\"Notification\",\"overrides\":[],\"properties\":[{\"default\":null,\"kind\":null,\"name\":\"background\"},{\"default\":3000,\"kind\":null,\"name\":\"duration\"},{\"default\":null,\"kind\":null,\"name\":\"icon\"},{\"default\":\"\",\"kind\":null,\"name\":\"message\"},{\"default\":null,\"kind\":null,\"name\":\"notification_type\"},{\"default\":false,\"kind\":null,\"name\":\"_destroyed\"}]},{\"extends\":null,\"module\":null,\"name\":\"TemplateActions1\",\"overrides\":[],\"properties\":[{\"default\":0,\"kind\":null,\"name\":\"open_modal\"},{\"default\":0,\"kind\":null,\"name\":\"close_modal\"}]},{\"extends\":null,\"module\":null,\"name\":\"MaterialTemplateActions1\",\"overrides\":[],\"properties\":[{\"default\":0,\"kind\":null,\"name\":\"open_modal\"},{\"default\":0,\"kind\":null,\"name\":\"close_modal\"}]}],\"roots\":{\"references\":[{\"attributes\":{\"margin\":[5,5,5,5],\"name\":\"HSpacer65370\",\"sizing_mode\":\"stretch_width\"},\"id\":\"73825\",\"type\":\"Spacer\"},{\"attributes\":{\"children\":[{\"id\":\"73821\"}],\"margin\":[0,0,0,0],\"name\":\"Row65373\",\"sizing_mode\":\"stretch_width\"},\"id\":\"73820\",\"type\":\"Row\"},{\"attributes\":{\"text_align\":\"right\"},\"id\":\"73840\",\"type\":\"NumberFormatter\"},{\"attributes\":{\"data\":{\"count\":[27,22,32,17,34,52,22],\"name\":[\"A\",\"C\",\"D\",\"A\",\"B\",\"C\",\"D\"],\"open_time\":{\"__ndarray__\":\"AADA1/Wld0IAAECjmqZ3QgAAQKOapndCAAAAwTmxd0IAAMB1Ir13QgAAQGLKxndCAABApQYLeEI=\",\"dtype\":\"float64\",\"order\":\"little\",\"shape\":[7]},\"size\":[34,67,78,33,55,69,23]},\"selected\":{\"id\":\"73828\"},\"selection_policy\":{\"id\":\"73852\"}},\"id\":\"73827\",\"type\":\"ColumnDataSource\"},{\"attributes\":{\"client_comm_id\":\"35ffc0a04a594701b1397696150c8a7d\",\"comm_id\":\"6072b9920b53483481aafa43b742780f\",\"plot_id\":\"73820\"},\"id\":\"73858\",\"type\":\"panel.models.comm_manager.CommManager\"},{\"attributes\":{\"indices\":[]},\"id\":\"73828\",\"type\":\"Selection\"},{\"attributes\":{\"children\":[{\"id\":\"73823\"},{\"id\":\"73825\"}],\"margin\":[0,0,0,0],\"name\":\"Row65371\",\"sizing_mode\":\"stretch_width\"},\"id\":\"73822\",\"type\":\"Row\"},{\"attributes\":{\"children\":[{\"id\":\"73822\"},{\"id\":\"73826\"}],\"margin\":[0,0,0,0],\"name\":\"Column65372\",\"sizing_mode\":\"stretch_width\"},\"id\":\"73821\",\"type\":\"Column\"},{\"attributes\":{\"children\":[{\"id\":\"73824\"}],\"margin\":[0,0,0,0],\"name\":\"Column65347\",\"sizing_mode\":\"stretch_width\"},\"id\":\"73823\",\"type\":\"Column\"},{\"attributes\":{\"editor\":{\"id\":\"73846\"},\"field\":\"size\",\"formatter\":{\"id\":\"73845\"},\"title\":\"size\",\"width\":0},\"id\":\"73847\",\"type\":\"TableColumn\"},{\"attributes\":{},\"id\":\"73841\",\"type\":\"IntEditor\"},{\"attributes\":{},\"id\":\"73846\",\"type\":\"IntEditor\"},{\"attributes\":{\"format\":\"%Y-%m-%d %H:%M:%S\",\"text_align\":\"left\"},\"id\":\"73829\",\"type\":\"DateFormatter\"},{\"attributes\":{\"end\":1652227200000.0,\"margin\":[5,10,5,10],\"sizing_mode\":\"stretch_width\",\"start\":1625097600000.0,\"title\":\"Date Range\",\"value\":[1625097600000.0,1652227200000.0]},\"id\":\"73824\",\"type\":\"DateRangeSlider\"},{\"attributes\":{},\"id\":\"73835\",\"type\":\"StringFormatter\"},{\"attributes\":{\"columns\":[{\"id\":\"73832\"},{\"id\":\"73837\"},{\"id\":\"73842\"},{\"id\":\"73847\"}],\"configuration\":{\"columns\":[{\"field\":\"open_time\"},{\"field\":\"name\"},{\"field\":\"count\"},{\"field\":\"size\"}],\"dataTree\":false,\"selectable\":true},\"indexes\":[\"open_time\"],\"layout\":\"fit_data_table\",\"margin\":[5,10,5,10],\"max_page\":1,\"name\":\"\",\"page\":1,\"page_size\":10,\"pagination\":\"remote\",\"select_mode\":true,\"selectable_rows\":null,\"sizing_mode\":\"stretch_width\",\"source\":{\"id\":\"73827\"},\"styles\":{\"data\":{},\"id\":\"02e48cd3d7004301b62b868ee2f8334e\"},\"subscribed_events\":[\"table-edit\",\"cell-click\"]},\"id\":\"73850\",\"type\":\"panel.models.tabulator.DataTabulator\"},{\"attributes\":{},\"id\":\"73836\",\"type\":\"StringEditor\"},{\"attributes\":{\"editor\":{\"id\":\"73831\"},\"field\":\"open_time\",\"formatter\":{\"id\":\"73829\"},\"title\":\"open_time\",\"width\":0},\"id\":\"73832\",\"type\":\"TableColumn\"},{\"attributes\":{\"editor\":{\"id\":\"73841\"},\"field\":\"count\",\"formatter\":{\"id\":\"73840\"},\"title\":\"count\",\"width\":0},\"id\":\"73842\",\"type\":\"TableColumn\"},{\"attributes\":{},\"id\":\"73852\",\"type\":\"UnionRenderers\"},{\"attributes\":{\"children\":[{\"id\":\"73850\"}],\"margin\":[0,0,0,0],\"name\":\"Row65352\",\"sizing_mode\":\"stretch_width\"},\"id\":\"73826\",\"type\":\"Row\"},{\"attributes\":{},\"id\":\"73831\",\"type\":\"CellEditor\"},{\"attributes\":{\"text_align\":\"right\"},\"id\":\"73845\",\"type\":\"NumberFormatter\"},{\"attributes\":{\"editor\":{\"id\":\"73836\"},\"field\":\"name\",\"formatter\":{\"id\":\"73835\"},\"title\":\"name\",\"width\":0},\"id\":\"73837\",\"type\":\"TableColumn\"}],\"root_ids\":[\"73820\",\"73858\"]},\"title\":\"Bokeh Application\",\"version\":\"2.4.3\"}};\n",
       "    var render_items = [{\"docid\":\"09f41165-bbb7-4988-afaa-3fe5b5c28238\",\"root_ids\":[\"73820\"],\"roots\":{\"73820\":\"47ec6fcc-957f-41b5-9ea8-6141c536740d\"}}];\n",
       "    root.Bokeh.embed.embed_items_notebook(docs_json, render_items);\n",
       "  }\n",
       "  if (root.Bokeh !== undefined && root.Bokeh.Panel !== undefined && ( root['Tabulator'] !== undefined) && ( root['Tabulator'] !== undefined)) {\n",
       "    embed_document(root);\n",
       "  } else {\n",
       "    var attempts = 0;\n",
       "    var timer = setInterval(function(root) {\n",
       "      if (root.Bokeh !== undefined && root.Bokeh.Panel !== undefined && (root['Tabulator'] !== undefined) && (root['Tabulator'] !== undefined)) {\n",
       "        clearInterval(timer);\n",
       "        embed_document(root);\n",
       "      } else if (document.readyState == \"complete\") {\n",
       "        attempts++;\n",
       "        if (attempts > 200) {\n",
       "          clearInterval(timer);\n",
       "          console.log(\"Bokeh: ERROR: Unable to run BokehJS code because BokehJS library is missing\");\n",
       "        }\n",
       "      }\n",
       "    }, 25, root)\n",
       "  }\n",
       "})(window);</script>"
      ],
      "text/plain": [
       "<hvplot.interactive.Interactive at 0x1338b6b90>"
      ]
     },
     "execution_count": 209,
     "metadata": {
      "application/vnd.holoviews_exec.v0+json": {
       "id": "73820"
      }
     },
     "output_type": "execute_result"
    }
   ],
   "source": [
    "itable = filtered.pipe(pn.widgets.Tabulator, pagination='remote', page_size=10, theme=theme)\n",
    "itable"
   ]
  },
  {
   "cell_type": "code",
   "execution_count": 210,
   "metadata": {},
   "outputs": [],
   "source": [
    "depth_hist = filtered.hvplot(y=['count', 'size'], kind='hist', responsive=True, min_height=200)"
   ]
  },
  {
   "cell_type": "code",
   "execution_count": 211,
   "metadata": {},
   "outputs": [],
   "source": [
    "yaxis = pn.widgets.RadioButtonGroup(\n",
    "    name='Y axis', \n",
    "    options=['count', 'size'],\n",
    "    button_type='success'\n",
    ")"
   ]
  },
  {
   "cell_type": "code",
   "execution_count": 212,
   "metadata": {},
   "outputs": [
    {
     "data": {},
     "metadata": {},
     "output_type": "display_data"
    },
    {
     "data": {},
     "metadata": {},
     "output_type": "display_data"
    },
    {
     "data": {
      "application/vnd.holoviews_exec.v0+json": "",
      "text/html": [
       "<div id='73869'>\n",
       "  <div class=\"bk-root\" id=\"7cc63f67-6aa3-4a2e-80f1-f5afe331c587\" data-root-id=\"73869\"></div>\n",
       "</div>\n",
       "<script type=\"application/javascript\">(function(root) {\n",
       "  function embed_document(root) {\n",
       "    var docs_json = {\"cb3797ca-1e3e-4c1e-9112-38106c5e26f6\":{\"defs\":[{\"extends\":null,\"module\":null,\"name\":\"ReactiveHTML1\",\"overrides\":[],\"properties\":[]},{\"extends\":null,\"module\":null,\"name\":\"FlexBox1\",\"overrides\":[],\"properties\":[{\"default\":\"flex-start\",\"kind\":null,\"name\":\"align_content\"},{\"default\":\"flex-start\",\"kind\":null,\"name\":\"align_items\"},{\"default\":\"row\",\"kind\":null,\"name\":\"flex_direction\"},{\"default\":\"wrap\",\"kind\":null,\"name\":\"flex_wrap\"},{\"default\":\"flex-start\",\"kind\":null,\"name\":\"justify_content\"}]},{\"extends\":null,\"module\":null,\"name\":\"GridStack1\",\"overrides\":[],\"properties\":[{\"default\":\"warn\",\"kind\":null,\"name\":\"mode\"},{\"default\":null,\"kind\":null,\"name\":\"ncols\"},{\"default\":null,\"kind\":null,\"name\":\"nrows\"},{\"default\":true,\"kind\":null,\"name\":\"allow_resize\"},{\"default\":true,\"kind\":null,\"name\":\"allow_drag\"},{\"default\":[],\"kind\":null,\"name\":\"state\"}]},{\"extends\":null,\"module\":null,\"name\":\"click1\",\"overrides\":[],\"properties\":[{\"default\":\"\",\"kind\":null,\"name\":\"terminal_output\"},{\"default\":\"\",\"kind\":null,\"name\":\"debug_name\"},{\"default\":0,\"kind\":null,\"name\":\"clears\"}]},{\"extends\":null,\"module\":null,\"name\":\"NotificationAreaBase1\",\"overrides\":[],\"properties\":[{\"default\":\"bottom-right\",\"kind\":null,\"name\":\"position\"},{\"default\":0,\"kind\":null,\"name\":\"_clear\"}]},{\"extends\":null,\"module\":null,\"name\":\"NotificationArea1\",\"overrides\":[],\"properties\":[{\"default\":[],\"kind\":null,\"name\":\"notifications\"},{\"default\":\"bottom-right\",\"kind\":null,\"name\":\"position\"},{\"default\":0,\"kind\":null,\"name\":\"_clear\"},{\"default\":[{\"background\":\"#ffc107\",\"icon\":{\"className\":\"fas fa-exclamation-triangle\",\"color\":\"white\",\"tagName\":\"i\"},\"type\":\"warning\"},{\"background\":\"#007bff\",\"icon\":{\"className\":\"fas fa-info-circle\",\"color\":\"white\",\"tagName\":\"i\"},\"type\":\"info\"}],\"kind\":null,\"name\":\"types\"}]},{\"extends\":null,\"module\":null,\"name\":\"Notification\",\"overrides\":[],\"properties\":[{\"default\":null,\"kind\":null,\"name\":\"background\"},{\"default\":3000,\"kind\":null,\"name\":\"duration\"},{\"default\":null,\"kind\":null,\"name\":\"icon\"},{\"default\":\"\",\"kind\":null,\"name\":\"message\"},{\"default\":null,\"kind\":null,\"name\":\"notification_type\"},{\"default\":false,\"kind\":null,\"name\":\"_destroyed\"}]},{\"extends\":null,\"module\":null,\"name\":\"TemplateActions1\",\"overrides\":[],\"properties\":[{\"default\":0,\"kind\":null,\"name\":\"open_modal\"},{\"default\":0,\"kind\":null,\"name\":\"close_modal\"}]},{\"extends\":null,\"module\":null,\"name\":\"MaterialTemplateActions1\",\"overrides\":[],\"properties\":[{\"default\":0,\"kind\":null,\"name\":\"open_modal\"},{\"default\":0,\"kind\":null,\"name\":\"close_modal\"}]}],\"roots\":{\"references\":[{\"attributes\":{},\"id\":\"73889\",\"type\":\"LinearScale\"},{\"attributes\":{\"line_alpha\":0.2,\"line_color\":\"#58d8b0\",\"x\":{\"field\":\"open_time\"},\"y\":{\"field\":\"count\"}},\"id\":\"74026\",\"type\":\"Line\"},{\"attributes\":{\"line_alpha\":0.1,\"line_color\":\"#88d8b0\",\"x\":{\"field\":\"open_time\"},\"y\":{\"field\":\"count\"}},\"id\":\"73989\",\"type\":\"Line\"},{\"attributes\":{},\"id\":\"73900\",\"type\":\"PanTool\"},{\"attributes\":{},\"id\":\"73914\",\"type\":\"AllLabels\"},{\"attributes\":{},\"id\":\"74042\",\"type\":\"UnionRenderers\"},{\"attributes\":{\"axis\":{\"id\":\"73895\"},\"coordinates\":null,\"dimension\":1,\"grid_line_color\":null,\"group\":null,\"ticker\":null},\"id\":\"73898\",\"type\":\"Grid\"},{\"attributes\":{},\"id\":\"73896\",\"type\":\"BasicTicker\"},{\"attributes\":{},\"id\":\"73901\",\"type\":\"WheelZoomTool\"},{\"attributes\":{},\"id\":\"73899\",\"type\":\"SaveTool\"},{\"attributes\":{\"coordinates\":null,\"data_source\":{\"id\":\"73985\"},\"glyph\":{\"id\":\"73988\"},\"group\":null,\"hover_glyph\":null,\"muted_glyph\":{\"id\":\"73990\"},\"nonselection_glyph\":{\"id\":\"73989\"},\"selection_glyph\":{\"id\":\"74020\"},\"view\":{\"id\":\"73992\"}},\"id\":\"73991\",\"type\":\"GlyphRenderer\"},{\"attributes\":{\"line_color\":\"#88d8b0\",\"x\":{\"field\":\"open_time\"},\"y\":{\"field\":\"count\"}},\"id\":\"73988\",\"type\":\"Line\"},{\"attributes\":{\"overlay\":{\"id\":\"73904\"}},\"id\":\"73902\",\"type\":\"BoxZoomTool\"},{\"attributes\":{},\"id\":\"74004\",\"type\":\"UnionRenderers\"},{\"attributes\":{},\"id\":\"73903\",\"type\":\"ResetTool\"},{\"attributes\":{\"line_alpha\":0.2,\"line_color\":\"#88d8b0\",\"x\":{\"field\":\"open_time\"},\"y\":{\"field\":\"count\"}},\"id\":\"73990\",\"type\":\"Line\"},{\"attributes\":{\"children\":[{\"id\":\"73870\"}],\"margin\":[0,0,0,0],\"name\":\"Row65706\",\"sizing_mode\":\"stretch_width\"},\"id\":\"73869\",\"type\":\"Row\"},{\"attributes\":{\"source\":{\"id\":\"74021\"}},\"id\":\"74028\",\"type\":\"CDSView\"},{\"attributes\":{\"source\":{\"id\":\"73985\"}},\"id\":\"73992\",\"type\":\"CDSView\"},{\"attributes\":{\"bottom_units\":\"screen\",\"coordinates\":null,\"fill_alpha\":0.5,\"fill_color\":\"lightgrey\",\"group\":null,\"left_units\":\"screen\",\"level\":\"overlay\",\"line_alpha\":1.0,\"line_color\":\"black\",\"line_dash\":[4,4],\"line_width\":2,\"right_units\":\"screen\",\"syncable\":false,\"top_units\":\"screen\"},\"id\":\"73904\",\"type\":\"BoxAnnotation\"},{\"attributes\":{\"line_color\":\"#88d8b0\",\"x\":{\"field\":\"open_time\"},\"y\":{\"field\":\"count\"}},\"id\":\"74020\",\"type\":\"Line\"},{\"attributes\":{\"label\":{\"value\":\"C\"},\"renderers\":[{\"id\":\"73991\"}]},\"id\":\"74019\",\"type\":\"LegendItem\"},{\"attributes\":{\"data\":{\"count\":[27,17],\"name\":[\"A\",\"A\"],\"open_time\":{\"__ndarray__\":\"AADA1/Wld0IAAADBObF3Qg==\",\"dtype\":\"float64\",\"order\":\"little\",\"shape\":[2]}},\"selected\":{\"id\":\"73919\"},\"selection_policy\":{\"id\":\"73933\"}},\"id\":\"73918\",\"type\":\"ColumnDataSource\"},{\"attributes\":{\"tools\":[{\"id\":\"73878\"},{\"id\":\"73899\"},{\"id\":\"73900\"},{\"id\":\"73901\"},{\"id\":\"73902\"},{\"id\":\"73903\"}]},\"id\":\"73905\",\"type\":\"Toolbar\"},{\"attributes\":{\"active\":0,\"button_type\":\"success\",\"labels\":[\"count\",\"size\"],\"margin\":[5,10,5,10],\"sizing_mode\":\"stretch_width\"},\"id\":\"73874\",\"type\":\"RadioButtonGroup\"},{\"attributes\":{},\"id\":\"73916\",\"type\":\"BasicTickFormatter\"},{\"attributes\":{\"label\":{\"value\":\"A\"},\"renderers\":[{\"id\":\"73924\"}]},\"id\":\"73949\",\"type\":\"LegendItem\"},{\"attributes\":{},\"id\":\"73917\",\"type\":\"AllLabels\"},{\"attributes\":{\"line_color\":\"#ff6f69\",\"x\":{\"field\":\"open_time\"},\"y\":{\"field\":\"count\"}},\"id\":\"73950\",\"type\":\"Line\"},{\"attributes\":{\"data\":{\"count\":[34],\"name\":[\"B\"],\"open_time\":{\"__ndarray__\":\"AADAdSK9d0I=\",\"dtype\":\"float64\",\"order\":\"little\",\"shape\":[1]}},\"selected\":{\"id\":\"73952\"},\"selection_policy\":{\"id\":\"73968\"}},\"id\":\"73951\",\"type\":\"ColumnDataSource\"},{\"attributes\":{},\"id\":\"73913\",\"type\":\"DatetimeTickFormatter\"},{\"attributes\":{\"coordinates\":null,\"data_source\":{\"id\":\"73951\"},\"glyph\":{\"id\":\"73954\"},\"group\":null,\"hover_glyph\":null,\"muted_glyph\":{\"id\":\"73956\"},\"nonselection_glyph\":{\"id\":\"73955\"},\"selection_glyph\":{\"id\":\"73984\"},\"view\":{\"id\":\"73958\"}},\"id\":\"73957\",\"type\":\"GlyphRenderer\"},{\"attributes\":{\"coordinates\":null,\"data_source\":{\"id\":\"74021\"},\"glyph\":{\"id\":\"74024\"},\"group\":null,\"hover_glyph\":null,\"muted_glyph\":{\"id\":\"74026\"},\"nonselection_glyph\":{\"id\":\"74025\"},\"selection_glyph\":{\"id\":\"74058\"},\"view\":{\"id\":\"74028\"}},\"id\":\"74027\",\"type\":\"GlyphRenderer\"},{\"attributes\":{\"line_alpha\":0.1,\"line_color\":\"#ff6f69\",\"x\":{\"field\":\"open_time\"},\"y\":{\"field\":\"count\"}},\"id\":\"73922\",\"type\":\"Line\"},{\"attributes\":{\"coordinates\":null,\"data_source\":{\"id\":\"73918\"},\"glyph\":{\"id\":\"73921\"},\"group\":null,\"hover_glyph\":null,\"muted_glyph\":{\"id\":\"73923\"},\"nonselection_glyph\":{\"id\":\"73922\"},\"selection_glyph\":{\"id\":\"73950\"},\"view\":{\"id\":\"73925\"}},\"id\":\"73924\",\"type\":\"GlyphRenderer\"},{\"attributes\":{},\"id\":\"73919\",\"type\":\"Selection\"},{\"attributes\":{},\"id\":\"73986\",\"type\":\"Selection\"},{\"attributes\":{\"line_alpha\":0.1,\"line_color\":\"#ffcc5c\",\"x\":{\"field\":\"open_time\"},\"y\":{\"field\":\"count\"}},\"id\":\"73955\",\"type\":\"Line\"},{\"attributes\":{\"line_alpha\":0.2,\"line_color\":\"#ff6f69\",\"x\":{\"field\":\"open_time\"},\"y\":{\"field\":\"count\"}},\"id\":\"73923\",\"type\":\"Line\"},{\"attributes\":{\"line_alpha\":0.2,\"line_color\":\"#ffcc5c\",\"x\":{\"field\":\"open_time\"},\"y\":{\"field\":\"count\"}},\"id\":\"73956\",\"type\":\"Line\"},{\"attributes\":{\"line_color\":\"#ffcc5c\",\"x\":{\"field\":\"open_time\"},\"y\":{\"field\":\"count\"}},\"id\":\"73954\",\"type\":\"Line\"},{\"attributes\":{},\"id\":\"73952\",\"type\":\"Selection\"},{\"attributes\":{\"line_color\":\"#ff6f69\",\"x\":{\"field\":\"open_time\"},\"y\":{\"field\":\"count\"}},\"id\":\"73921\",\"type\":\"Line\"},{\"attributes\":{\"mantissas\":[1,2,5],\"max_interval\":500.0,\"num_minor_ticks\":0},\"id\":\"73936\",\"type\":\"AdaptiveTicker\"},{\"attributes\":{\"source\":{\"id\":\"73951\"}},\"id\":\"73958\",\"type\":\"CDSView\"},{\"attributes\":{\"click_policy\":\"mute\",\"coordinates\":null,\"group\":null,\"items\":[{\"id\":\"73949\"},{\"id\":\"73983\"},{\"id\":\"74019\"},{\"id\":\"74057\"}],\"location\":[0,0],\"title\":\"name\"},\"id\":\"73948\",\"type\":\"Legend\"},{\"attributes\":{\"data\":{\"count\":[22,52],\"name\":[\"C\",\"C\"],\"open_time\":{\"__ndarray__\":\"AABAo5qmd0IAAEBiysZ3Qg==\",\"dtype\":\"float64\",\"order\":\"little\",\"shape\":[2]}},\"selected\":{\"id\":\"73986\"},\"selection_policy\":{\"id\":\"74004\"}},\"id\":\"73985\",\"type\":\"ColumnDataSource\"},{\"attributes\":{\"label\":{\"value\":\"B\"},\"renderers\":[{\"id\":\"73957\"}]},\"id\":\"73983\",\"type\":\"LegendItem\"},{\"attributes\":{\"base\":60,\"mantissas\":[1,2,5,10,15,20,30],\"max_interval\":1800000.0,\"min_interval\":1000.0,\"num_minor_ticks\":0},\"id\":\"73937\",\"type\":\"AdaptiveTicker\"},{\"attributes\":{\"source\":{\"id\":\"73918\"}},\"id\":\"73925\",\"type\":\"CDSView\"},{\"attributes\":{},\"id\":\"74022\",\"type\":\"Selection\"},{\"attributes\":{\"months\":[0,1,2,3,4,5,6,7,8,9,10,11]},\"id\":\"73943\",\"type\":\"MonthsTicker\"},{\"attributes\":{},\"id\":\"73968\",\"type\":\"UnionRenderers\"},{\"attributes\":{\"days\":[1,8,15,22]},\"id\":\"73941\",\"type\":\"DaysTicker\"},{\"attributes\":{},\"id\":\"73947\",\"type\":\"YearsTicker\"},{\"attributes\":{\"label\":{\"value\":\"D\"},\"renderers\":[{\"id\":\"74027\"}]},\"id\":\"74057\",\"type\":\"LegendItem\"},{\"attributes\":{\"base\":24,\"mantissas\":[1,2,4,6,8,12],\"max_interval\":43200000.0,\"min_interval\":3600000.0,\"num_minor_ticks\":0},\"id\":\"73938\",\"type\":\"AdaptiveTicker\"},{\"attributes\":{\"end\":1652227200000.0,\"reset_end\":1652227200000.0,\"reset_start\":1625097600000.0,\"start\":1625097600000.0,\"tags\":[[[\"open_time\",\"open_time\",null]]]},\"id\":\"73876\",\"type\":\"Range1d\"},{\"attributes\":{\"days\":[1,2,3,4,5,6,7,8,9,10,11,12,13,14,15,16,17,18,19,20,21,22,23,24,25,26,27,28,29,30,31]},\"id\":\"73939\",\"type\":\"DaysTicker\"},{\"attributes\":{\"days\":[1,4,7,10,13,16,19,22,25,28]},\"id\":\"73940\",\"type\":\"DaysTicker\"},{\"attributes\":{\"axis\":{\"id\":\"73891\"},\"coordinates\":null,\"grid_line_color\":null,\"group\":null,\"ticker\":null},\"id\":\"73894\",\"type\":\"Grid\"},{\"attributes\":{\"children\":[{\"id\":\"73873\"},{\"id\":\"73874\"}],\"margin\":[0,0,0,0],\"name\":\"Column65694\",\"sizing_mode\":\"stretch_width\"},\"id\":\"73872\",\"type\":\"Column\"},{\"attributes\":{\"days\":[1,15]},\"id\":\"73942\",\"type\":\"DaysTicker\"},{\"attributes\":{\"months\":[0,6]},\"id\":\"73946\",\"type\":\"MonthsTicker\"},{\"attributes\":{\"end\":55.5,\"reset_end\":55.5,\"reset_start\":13.5,\"start\":13.5,\"tags\":[[[\"count\",\"count\",null]]]},\"id\":\"73877\",\"type\":\"Range1d\"},{\"attributes\":{\"end\":1652227200000.0,\"margin\":[5,10,5,10],\"sizing_mode\":\"stretch_width\",\"start\":1625097600000.0,\"title\":\"Date Range\",\"value\":[1625097600000.0,1652227200000.0]},\"id\":\"73873\",\"type\":\"DateRangeSlider\"},{\"attributes\":{\"months\":[0,2,4,6,8,10]},\"id\":\"73944\",\"type\":\"MonthsTicker\"},{\"attributes\":{\"months\":[0,4,8]},\"id\":\"73945\",\"type\":\"MonthsTicker\"},{\"attributes\":{\"client_comm_id\":\"90a978217ad14c40a836168c94a64340\",\"comm_id\":\"11c543eff91c4a8199c617da98d0749e\",\"plot_id\":\"73869\"},\"id\":\"74171\",\"type\":\"panel.models.comm_manager.CommManager\"},{\"attributes\":{\"children\":[{\"id\":\"73871\"},{\"id\":\"73882\"}],\"margin\":[0,0,0,0],\"name\":\"Column65705\",\"sizing_mode\":\"stretch_width\"},\"id\":\"73870\",\"type\":\"Column\"},{\"attributes\":{\"callback\":null,\"formatters\":{\"@{open_time}\":\"datetime\"},\"renderers\":[{\"id\":\"73924\"},{\"id\":\"73957\"},{\"id\":\"73991\"},{\"id\":\"74027\"}],\"tags\":[\"hv_created\"],\"tooltips\":[[\"name\",\"@{name}\"],[\"open_time\",\"@{open_time}{%F %T}\"],[\"count\",\"@{count}\"]]},\"id\":\"73878\",\"type\":\"HoverTool\"},{\"attributes\":{\"children\":[{\"id\":\"73872\"},{\"id\":\"73875\"}],\"margin\":[0,0,0,0],\"name\":\"Row65699\",\"sizing_mode\":\"stretch_width\"},\"id\":\"73871\",\"type\":\"Row\"},{\"attributes\":{\"data\":{\"count\":[32,22],\"name\":[\"D\",\"D\"],\"open_time\":{\"__ndarray__\":\"AABAo5qmd0IAAEClBgt4Qg==\",\"dtype\":\"float64\",\"order\":\"little\",\"shape\":[2]}},\"selected\":{\"id\":\"74022\"},\"selection_policy\":{\"id\":\"74042\"}},\"id\":\"74021\",\"type\":\"ColumnDataSource\"},{\"attributes\":{},\"id\":\"73887\",\"type\":\"LinearScale\"},{\"attributes\":{\"below\":[{\"id\":\"73891\"}],\"center\":[{\"id\":\"73894\"},{\"id\":\"73898\"}],\"height\":400,\"left\":[{\"id\":\"73895\"}],\"margin\":[5,5,5,5],\"min_border_bottom\":10,\"min_border_left\":10,\"min_border_right\":10,\"min_border_top\":10,\"renderers\":[{\"id\":\"73924\"},{\"id\":\"73957\"},{\"id\":\"73991\"},{\"id\":\"74027\"}],\"right\":[{\"id\":\"73948\"}],\"sizing_mode\":\"stretch_width\",\"title\":{\"id\":\"73883\"},\"toolbar\":{\"id\":\"73905\"},\"width\":700,\"x_range\":{\"id\":\"73876\"},\"x_scale\":{\"id\":\"73887\"},\"y_range\":{\"id\":\"73877\"},\"y_scale\":{\"id\":\"73889\"}},\"id\":\"73882\",\"subtype\":\"Figure\",\"type\":\"Plot\"},{\"attributes\":{\"axis_label\":\"count\",\"coordinates\":null,\"formatter\":{\"id\":\"73916\"},\"group\":null,\"major_label_policy\":{\"id\":\"73917\"},\"ticker\":{\"id\":\"73896\"}},\"id\":\"73895\",\"type\":\"LinearAxis\"},{\"attributes\":{\"line_color\":\"#58d8b0\",\"x\":{\"field\":\"open_time\"},\"y\":{\"field\":\"count\"}},\"id\":\"74024\",\"type\":\"Line\"},{\"attributes\":{\"line_alpha\":0.1,\"line_color\":\"#58d8b0\",\"x\":{\"field\":\"open_time\"},\"y\":{\"field\":\"count\"}},\"id\":\"74025\",\"type\":\"Line\"},{\"attributes\":{},\"id\":\"73933\",\"type\":\"UnionRenderers\"},{\"attributes\":{\"margin\":[5,5,5,5],\"name\":\"HSpacer65698\",\"sizing_mode\":\"stretch_width\"},\"id\":\"73875\",\"type\":\"Spacer\"},{\"attributes\":{\"line_color\":\"#58d8b0\",\"x\":{\"field\":\"open_time\"},\"y\":{\"field\":\"count\"}},\"id\":\"74058\",\"type\":\"Line\"},{\"attributes\":{\"coordinates\":null,\"group\":null,\"text_color\":\"black\",\"text_font_size\":\"12pt\"},\"id\":\"73883\",\"type\":\"Title\"},{\"attributes\":{\"num_minor_ticks\":5,\"tickers\":[{\"id\":\"73936\"},{\"id\":\"73937\"},{\"id\":\"73938\"},{\"id\":\"73939\"},{\"id\":\"73940\"},{\"id\":\"73941\"},{\"id\":\"73942\"},{\"id\":\"73943\"},{\"id\":\"73944\"},{\"id\":\"73945\"},{\"id\":\"73946\"},{\"id\":\"73947\"}]},\"id\":\"73892\",\"type\":\"DatetimeTicker\"},{\"attributes\":{\"line_color\":\"#ffcc5c\",\"x\":{\"field\":\"open_time\"},\"y\":{\"field\":\"count\"}},\"id\":\"73984\",\"type\":\"Line\"},{\"attributes\":{\"axis_label\":\"open_time\",\"coordinates\":null,\"formatter\":{\"id\":\"73913\"},\"group\":null,\"major_label_policy\":{\"id\":\"73914\"},\"ticker\":{\"id\":\"73892\"}},\"id\":\"73891\",\"type\":\"DatetimeAxis\"}],\"root_ids\":[\"73869\",\"74171\"]},\"title\":\"Bokeh Application\",\"version\":\"2.4.3\"}};\n",
       "    var render_items = [{\"docid\":\"cb3797ca-1e3e-4c1e-9112-38106c5e26f6\",\"root_ids\":[\"73869\"],\"roots\":{\"73869\":\"7cc63f67-6aa3-4a2e-80f1-f5afe331c587\"}}];\n",
       "    root.Bokeh.embed.embed_items_notebook(docs_json, render_items);\n",
       "  }\n",
       "  if (root.Bokeh !== undefined && root.Bokeh.Panel !== undefined && ( root['Tabulator'] !== undefined) && ( root['Tabulator'] !== undefined)) {\n",
       "    embed_document(root);\n",
       "  } else {\n",
       "    var attempts = 0;\n",
       "    var timer = setInterval(function(root) {\n",
       "      if (root.Bokeh !== undefined && root.Bokeh.Panel !== undefined && (root['Tabulator'] !== undefined) && (root['Tabulator'] !== undefined)) {\n",
       "        clearInterval(timer);\n",
       "        embed_document(root);\n",
       "      } else if (document.readyState == \"complete\") {\n",
       "        attempts++;\n",
       "        if (attempts > 200) {\n",
       "          clearInterval(timer);\n",
       "          console.log(\"Bokeh: ERROR: Unable to run BokehJS code because BokehJS library is missing\");\n",
       "        }\n",
       "      }\n",
       "    }, 25, root)\n",
       "  }\n",
       "})(window);</script>"
      ],
      "text/plain": [
       "<hvplot.interactive.Interactive at 0x134ceefb0>"
      ]
     },
     "execution_count": 212,
     "metadata": {
      "application/vnd.holoviews_exec.v0+json": {
       "id": "73869"
      }
     },
     "output_type": "execute_result"
    }
   ],
   "source": [
    "ihvplot = filtered.hvplot(x='open_time', y=yaxis, by='name', color=PALETTE, line_width=1, height=400)\n",
    "ihvplot"
   ]
  },
  {
   "cell_type": "code",
   "execution_count": 213,
   "metadata": {},
   "outputs": [
    {
     "name": "stdout",
     "output_type": "stream",
     "text": [
      "Launching server at http://localhost:50581\n"
     ]
    },
    {
     "data": {
      "text/plain": [
       "<bokeh.server.server.Server at 0x139fbe290>"
      ]
     },
     "execution_count": 213,
     "metadata": {},
     "output_type": "execute_result"
    }
   ],
   "source": [
    "template = pn.template.FastListTemplate(\n",
    "    title='Interactive DataFrame Dashboards', \n",
    "    sidebar=[date_range, 'Y axis' , yaxis],\n",
    "    main=[depth_hist.panel(), itable.panel(), ihvplot.panel()],\n",
    "    accent_base_color=\"#88d8b0\",\n",
    "    header_background=\"#88d8b0\",\n",
    ")\n",
    "template.show()\n",
    "#template.servable();"
   ]
  }
 ],
 "metadata": {
  "kernelspec": {
   "display_name": "Python 3.10.5 64-bit",
   "language": "python",
   "name": "python3"
  },
  "language_info": {
   "codemirror_mode": {
    "name": "ipython",
    "version": 3
   },
   "file_extension": ".py",
   "mimetype": "text/x-python",
   "name": "python",
   "nbconvert_exporter": "python",
   "pygments_lexer": "ipython3",
   "version": "3.10.5"
  },
  "orig_nbformat": 4,
  "vscode": {
   "interpreter": {
    "hash": "aee8b7b246df8f9039afb4144a1f6fd8d2ca17a180786b69acc140d282b71a49"
   }
  }
 },
 "nbformat": 4,
 "nbformat_minor": 2
}
