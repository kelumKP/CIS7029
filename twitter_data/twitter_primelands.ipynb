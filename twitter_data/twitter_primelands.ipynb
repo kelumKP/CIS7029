{
 "cells": [
  {
   "cell_type": "code",
   "execution_count": 1,
   "metadata": {},
   "outputs": [],
   "source": [
    "import tweepy\n",
    "import pandas as pd"
   ]
  },
  {
   "cell_type": "code",
   "execution_count": 2,
   "metadata": {},
   "outputs": [],
   "source": [
    "consumer_key = \"L45cVwt1PcimfFnycMhQEHRsg\"\n",
    "consumer_secret = \"a2f3dr6xHHukbCzlvzK5j0mDYg3di3aN8EfixXOhzV9dbhMk1F\"\n",
    "access_token = \"1533339797187883008-A5uEjCSsKsH4OBeTaO8g0vHaqoI8h6\"\n",
    "access_token_secret = \"UKvwBMeTRN6p4f2ogcrQAQT52Fi6eWUhe2pCnEkaJ8UGq\""
   ]
  },
  {
   "cell_type": "code",
   "execution_count": 3,
   "metadata": {},
   "outputs": [],
   "source": [
    "auth = tweepy.OAuth1UserHandler(consumer_key,consumer_secret)\n",
    "auth.set_access_token(access_token, access_token_secret)\n",
    "api = tweepy.API(auth)"
   ]
  },
  {
   "cell_type": "code",
   "execution_count": 4,
   "metadata": {},
   "outputs": [
    {
     "name": "stderr",
     "output_type": "stream",
     "text": [
      "Unexpected parameter: id\n",
      "Unexpected parameter: id\n",
      "Unexpected parameter: id\n",
      "Unexpected parameter: id\n",
      "Unexpected parameter: id\n",
      "Unexpected parameter: id\n",
      "Unexpected parameter: id\n",
      "Unexpected parameter: id\n"
     ]
    }
   ],
   "source": [
    "number_of_tweets = 1000\n",
    "tweets = []\n",
    "likes = []\n",
    "time = []\n",
    "person_name = \"Prime Lands\"\n",
    "twitter_username = \"Prime_Lands\"\n",
    "\n",
    "\n",
    "for i in tweepy.Cursor(api.user_timeline, id = twitter_username, tweet_mode = \"extended\").items(number_of_tweets):\n",
    "    tweets.append(i.full_text)\n",
    "    likes.append(i.favorite_count)\n",
    "    time.append(i.created_at)"
   ]
  },
  {
   "cell_type": "code",
   "execution_count": 5,
   "metadata": {},
   "outputs": [],
   "source": [
    "df = pd.DataFrame({'tweets': tweets, 'likes': likes, 'time': time})"
   ]
  },
  {
   "cell_type": "code",
   "execution_count": 6,
   "metadata": {},
   "outputs": [
    {
     "data": {
      "text/html": [
       "<div>\n",
       "<style scoped>\n",
       "    .dataframe tbody tr th:only-of-type {\n",
       "        vertical-align: middle;\n",
       "    }\n",
       "\n",
       "    .dataframe tbody tr th {\n",
       "        vertical-align: top;\n",
       "    }\n",
       "\n",
       "    .dataframe thead th {\n",
       "        text-align: right;\n",
       "    }\n",
       "</style>\n",
       "<table border=\"1\" class=\"dataframe\">\n",
       "  <thead>\n",
       "    <tr style=\"text-align: right;\">\n",
       "      <th></th>\n",
       "      <th>tweets</th>\n",
       "      <th>likes</th>\n",
       "      <th>time</th>\n",
       "    </tr>\n",
       "  </thead>\n",
       "  <tbody>\n",
       "    <tr>\n",
       "      <th>0</th>\n",
       "      <td>https://t.co/Zb8g96sZGJ</td>\n",
       "      <td>1</td>\n",
       "      <td>2017-01-03 10:18:11+00:00</td>\n",
       "    </tr>\n",
       "    <tr>\n",
       "      <th>1</th>\n",
       "      <td>https://t.co/bgTN3ieobk</td>\n",
       "      <td>1</td>\n",
       "      <td>2017-01-03 10:17:54+00:00</td>\n",
       "    </tr>\n",
       "    <tr>\n",
       "      <th>2</th>\n",
       "      <td>The Land Located At  Nawagamuwa Kaduwela..\\nEa...</td>\n",
       "      <td>9</td>\n",
       "      <td>2016-05-16 03:13:46+00:00</td>\n",
       "    </tr>\n",
       "    <tr>\n",
       "      <th>3</th>\n",
       "      <td>ඇස්  වහක්  කටවහක් නෑ හැම  අතින්ම සුබයි නවගමුව ...</td>\n",
       "      <td>3</td>\n",
       "      <td>2016-05-16 02:55:49+00:00</td>\n",
       "    </tr>\n",
       "    <tr>\n",
       "      <th>4</th>\n",
       "      <td>Prime Tranquility Gardens Kelaniya\\n1P:225,000...</td>\n",
       "      <td>1</td>\n",
       "      <td>2016-05-16 02:44:24+00:00</td>\n",
       "    </tr>\n",
       "    <tr>\n",
       "      <th>...</th>\n",
       "      <td>...</td>\n",
       "      <td>...</td>\n",
       "      <td>...</td>\n",
       "    </tr>\n",
       "    <tr>\n",
       "      <th>121</th>\n",
       "      <td>@gagani_n Hi, Yes we can help you.</td>\n",
       "      <td>0</td>\n",
       "      <td>2015-02-12 04:53:54+00:00</td>\n",
       "    </tr>\n",
       "    <tr>\n",
       "      <th>122</th>\n",
       "      <td>@gagani_n Thanks for your inquiry. We have lot...</td>\n",
       "      <td>0</td>\n",
       "      <td>2015-02-12 04:44:21+00:00</td>\n",
       "    </tr>\n",
       "    <tr>\n",
       "      <th>123</th>\n",
       "      <td>ඔබේ ගෙදර ලස්සන කරගන්න, ඒ වගේම  යාළුවන්ගෙත්,  ඔ...</td>\n",
       "      <td>0</td>\n",
       "      <td>2015-02-11 11:09:14+00:00</td>\n",
       "    </tr>\n",
       "    <tr>\n",
       "      <th>124</th>\n",
       "      <td>Hey, This is one of our ongoing project. For m...</td>\n",
       "      <td>0</td>\n",
       "      <td>2015-02-11 10:01:11+00:00</td>\n",
       "    </tr>\n",
       "    <tr>\n",
       "      <th>125</th>\n",
       "      <td>Hey,\\nThe real leader in Real State - PRIME LA...</td>\n",
       "      <td>0</td>\n",
       "      <td>2015-02-11 09:45:27+00:00</td>\n",
       "    </tr>\n",
       "  </tbody>\n",
       "</table>\n",
       "<p>126 rows × 3 columns</p>\n",
       "</div>"
      ],
      "text/plain": [
       "                                                tweets  likes  \\\n",
       "0                              https://t.co/Zb8g96sZGJ      1   \n",
       "1                              https://t.co/bgTN3ieobk      1   \n",
       "2    The Land Located At  Nawagamuwa Kaduwela..\\nEa...      9   \n",
       "3    ඇස්  වහක්  කටවහක් නෑ හැම  අතින්ම සුබයි නවගමුව ...      3   \n",
       "4    Prime Tranquility Gardens Kelaniya\\n1P:225,000...      1   \n",
       "..                                                 ...    ...   \n",
       "121                 @gagani_n Hi, Yes we can help you.      0   \n",
       "122  @gagani_n Thanks for your inquiry. We have lot...      0   \n",
       "123  ඔබේ ගෙදර ලස්සන කරගන්න, ඒ වගේම  යාළුවන්ගෙත්,  ඔ...      0   \n",
       "124  Hey, This is one of our ongoing project. For m...      0   \n",
       "125  Hey,\\nThe real leader in Real State - PRIME LA...      0   \n",
       "\n",
       "                         time  \n",
       "0   2017-01-03 10:18:11+00:00  \n",
       "1   2017-01-03 10:17:54+00:00  \n",
       "2   2016-05-16 03:13:46+00:00  \n",
       "3   2016-05-16 02:55:49+00:00  \n",
       "4   2016-05-16 02:44:24+00:00  \n",
       "..                        ...  \n",
       "121 2015-02-12 04:53:54+00:00  \n",
       "122 2015-02-12 04:44:21+00:00  \n",
       "123 2015-02-11 11:09:14+00:00  \n",
       "124 2015-02-11 10:01:11+00:00  \n",
       "125 2015-02-11 09:45:27+00:00  \n",
       "\n",
       "[126 rows x 3 columns]"
      ]
     },
     "execution_count": 6,
     "metadata": {},
     "output_type": "execute_result"
    }
   ],
   "source": [
    "df"
   ]
  },
  {
   "cell_type": "code",
   "execution_count": 7,
   "metadata": {},
   "outputs": [],
   "source": [
    "df = df[~df.tweets.str.contains(\"RT\")]\n",
    "df = df[~df.tweets.str.contains(\"amp\")]"
   ]
  },
  {
   "cell_type": "code",
   "execution_count": 8,
   "metadata": {},
   "outputs": [
    {
     "data": {
      "text/html": [
       "<div>\n",
       "<style scoped>\n",
       "    .dataframe tbody tr th:only-of-type {\n",
       "        vertical-align: middle;\n",
       "    }\n",
       "\n",
       "    .dataframe tbody tr th {\n",
       "        vertical-align: top;\n",
       "    }\n",
       "\n",
       "    .dataframe thead th {\n",
       "        text-align: right;\n",
       "    }\n",
       "</style>\n",
       "<table border=\"1\" class=\"dataframe\">\n",
       "  <thead>\n",
       "    <tr style=\"text-align: right;\">\n",
       "      <th></th>\n",
       "      <th>tweets</th>\n",
       "      <th>likes</th>\n",
       "      <th>time</th>\n",
       "    </tr>\n",
       "  </thead>\n",
       "  <tbody>\n",
       "    <tr>\n",
       "      <th>0</th>\n",
       "      <td>https://t.co/Zb8g96sZGJ</td>\n",
       "      <td>1</td>\n",
       "      <td>2017-01-03 10:18:11+00:00</td>\n",
       "    </tr>\n",
       "    <tr>\n",
       "      <th>1</th>\n",
       "      <td>https://t.co/bgTN3ieobk</td>\n",
       "      <td>1</td>\n",
       "      <td>2017-01-03 10:17:54+00:00</td>\n",
       "    </tr>\n",
       "    <tr>\n",
       "      <th>2</th>\n",
       "      <td>The Land Located At  Nawagamuwa Kaduwela..\\nEa...</td>\n",
       "      <td>9</td>\n",
       "      <td>2016-05-16 03:13:46+00:00</td>\n",
       "    </tr>\n",
       "    <tr>\n",
       "      <th>3</th>\n",
       "      <td>ඇස්  වහක්  කටවහක් නෑ හැම  අතින්ම සුබයි නවගමුව ...</td>\n",
       "      <td>3</td>\n",
       "      <td>2016-05-16 02:55:49+00:00</td>\n",
       "    </tr>\n",
       "    <tr>\n",
       "      <th>4</th>\n",
       "      <td>Prime Tranquility Gardens Kelaniya\\n1P:225,000...</td>\n",
       "      <td>1</td>\n",
       "      <td>2016-05-16 02:44:24+00:00</td>\n",
       "    </tr>\n",
       "    <tr>\n",
       "      <th>...</th>\n",
       "      <td>...</td>\n",
       "      <td>...</td>\n",
       "      <td>...</td>\n",
       "    </tr>\n",
       "    <tr>\n",
       "      <th>121</th>\n",
       "      <td>@gagani_n Hi, Yes we can help you.</td>\n",
       "      <td>0</td>\n",
       "      <td>2015-02-12 04:53:54+00:00</td>\n",
       "    </tr>\n",
       "    <tr>\n",
       "      <th>122</th>\n",
       "      <td>@gagani_n Thanks for your inquiry. We have lot...</td>\n",
       "      <td>0</td>\n",
       "      <td>2015-02-12 04:44:21+00:00</td>\n",
       "    </tr>\n",
       "    <tr>\n",
       "      <th>123</th>\n",
       "      <td>ඔබේ ගෙදර ලස්සන කරගන්න, ඒ වගේම  යාළුවන්ගෙත්,  ඔ...</td>\n",
       "      <td>0</td>\n",
       "      <td>2015-02-11 11:09:14+00:00</td>\n",
       "    </tr>\n",
       "    <tr>\n",
       "      <th>124</th>\n",
       "      <td>Hey, This is one of our ongoing project. For m...</td>\n",
       "      <td>0</td>\n",
       "      <td>2015-02-11 10:01:11+00:00</td>\n",
       "    </tr>\n",
       "    <tr>\n",
       "      <th>125</th>\n",
       "      <td>Hey,\\nThe real leader in Real State - PRIME LA...</td>\n",
       "      <td>0</td>\n",
       "      <td>2015-02-11 09:45:27+00:00</td>\n",
       "    </tr>\n",
       "  </tbody>\n",
       "</table>\n",
       "<p>125 rows × 3 columns</p>\n",
       "</div>"
      ],
      "text/plain": [
       "                                                tweets  likes  \\\n",
       "0                              https://t.co/Zb8g96sZGJ      1   \n",
       "1                              https://t.co/bgTN3ieobk      1   \n",
       "2    The Land Located At  Nawagamuwa Kaduwela..\\nEa...      9   \n",
       "3    ඇස්  වහක්  කටවහක් නෑ හැම  අතින්ම සුබයි නවගමුව ...      3   \n",
       "4    Prime Tranquility Gardens Kelaniya\\n1P:225,000...      1   \n",
       "..                                                 ...    ...   \n",
       "121                 @gagani_n Hi, Yes we can help you.      0   \n",
       "122  @gagani_n Thanks for your inquiry. We have lot...      0   \n",
       "123  ඔබේ ගෙදර ලස්සන කරගන්න, ඒ වගේම  යාළුවන්ගෙත්,  ඔ...      0   \n",
       "124  Hey, This is one of our ongoing project. For m...      0   \n",
       "125  Hey,\\nThe real leader in Real State - PRIME LA...      0   \n",
       "\n",
       "                         time  \n",
       "0   2017-01-03 10:18:11+00:00  \n",
       "1   2017-01-03 10:17:54+00:00  \n",
       "2   2016-05-16 03:13:46+00:00  \n",
       "3   2016-05-16 02:55:49+00:00  \n",
       "4   2016-05-16 02:44:24+00:00  \n",
       "..                        ...  \n",
       "121 2015-02-12 04:53:54+00:00  \n",
       "122 2015-02-12 04:44:21+00:00  \n",
       "123 2015-02-11 11:09:14+00:00  \n",
       "124 2015-02-11 10:01:11+00:00  \n",
       "125 2015-02-11 09:45:27+00:00  \n",
       "\n",
       "[125 rows x 3 columns]"
      ]
     },
     "execution_count": 8,
     "metadata": {},
     "output_type": "execute_result"
    }
   ],
   "source": [
    "df"
   ]
  },
  {
   "cell_type": "code",
   "execution_count": 9,
   "metadata": {},
   "outputs": [],
   "source": [
    "df = df.reset_index(drop=True)"
   ]
  },
  {
   "cell_type": "code",
   "execution_count": 10,
   "metadata": {},
   "outputs": [
    {
     "data": {
      "text/html": [
       "<div>\n",
       "<style scoped>\n",
       "    .dataframe tbody tr th:only-of-type {\n",
       "        vertical-align: middle;\n",
       "    }\n",
       "\n",
       "    .dataframe tbody tr th {\n",
       "        vertical-align: top;\n",
       "    }\n",
       "\n",
       "    .dataframe thead th {\n",
       "        text-align: right;\n",
       "    }\n",
       "</style>\n",
       "<table border=\"1\" class=\"dataframe\">\n",
       "  <thead>\n",
       "    <tr style=\"text-align: right;\">\n",
       "      <th></th>\n",
       "      <th>tweets</th>\n",
       "      <th>likes</th>\n",
       "      <th>time</th>\n",
       "    </tr>\n",
       "  </thead>\n",
       "  <tbody>\n",
       "    <tr>\n",
       "      <th>0</th>\n",
       "      <td>https://t.co/Zb8g96sZGJ</td>\n",
       "      <td>1</td>\n",
       "      <td>2017-01-03 10:18:11+00:00</td>\n",
       "    </tr>\n",
       "    <tr>\n",
       "      <th>1</th>\n",
       "      <td>https://t.co/bgTN3ieobk</td>\n",
       "      <td>1</td>\n",
       "      <td>2017-01-03 10:17:54+00:00</td>\n",
       "    </tr>\n",
       "    <tr>\n",
       "      <th>2</th>\n",
       "      <td>The Land Located At  Nawagamuwa Kaduwela..\\nEa...</td>\n",
       "      <td>9</td>\n",
       "      <td>2016-05-16 03:13:46+00:00</td>\n",
       "    </tr>\n",
       "    <tr>\n",
       "      <th>3</th>\n",
       "      <td>ඇස්  වහක්  කටවහක් නෑ හැම  අතින්ම සුබයි නවගමුව ...</td>\n",
       "      <td>3</td>\n",
       "      <td>2016-05-16 02:55:49+00:00</td>\n",
       "    </tr>\n",
       "    <tr>\n",
       "      <th>4</th>\n",
       "      <td>Prime Tranquility Gardens Kelaniya\\n1P:225,000...</td>\n",
       "      <td>1</td>\n",
       "      <td>2016-05-16 02:44:24+00:00</td>\n",
       "    </tr>\n",
       "    <tr>\n",
       "      <th>...</th>\n",
       "      <td>...</td>\n",
       "      <td>...</td>\n",
       "      <td>...</td>\n",
       "    </tr>\n",
       "    <tr>\n",
       "      <th>120</th>\n",
       "      <td>@gagani_n Hi, Yes we can help you.</td>\n",
       "      <td>0</td>\n",
       "      <td>2015-02-12 04:53:54+00:00</td>\n",
       "    </tr>\n",
       "    <tr>\n",
       "      <th>121</th>\n",
       "      <td>@gagani_n Thanks for your inquiry. We have lot...</td>\n",
       "      <td>0</td>\n",
       "      <td>2015-02-12 04:44:21+00:00</td>\n",
       "    </tr>\n",
       "    <tr>\n",
       "      <th>122</th>\n",
       "      <td>ඔබේ ගෙදර ලස්සන කරගන්න, ඒ වගේම  යාළුවන්ගෙත්,  ඔ...</td>\n",
       "      <td>0</td>\n",
       "      <td>2015-02-11 11:09:14+00:00</td>\n",
       "    </tr>\n",
       "    <tr>\n",
       "      <th>123</th>\n",
       "      <td>Hey, This is one of our ongoing project. For m...</td>\n",
       "      <td>0</td>\n",
       "      <td>2015-02-11 10:01:11+00:00</td>\n",
       "    </tr>\n",
       "    <tr>\n",
       "      <th>124</th>\n",
       "      <td>Hey,\\nThe real leader in Real State - PRIME LA...</td>\n",
       "      <td>0</td>\n",
       "      <td>2015-02-11 09:45:27+00:00</td>\n",
       "    </tr>\n",
       "  </tbody>\n",
       "</table>\n",
       "<p>125 rows × 3 columns</p>\n",
       "</div>"
      ],
      "text/plain": [
       "                                                tweets  likes  \\\n",
       "0                              https://t.co/Zb8g96sZGJ      1   \n",
       "1                              https://t.co/bgTN3ieobk      1   \n",
       "2    The Land Located At  Nawagamuwa Kaduwela..\\nEa...      9   \n",
       "3    ඇස්  වහක්  කටවහක් නෑ හැම  අතින්ම සුබයි නවගමුව ...      3   \n",
       "4    Prime Tranquility Gardens Kelaniya\\n1P:225,000...      1   \n",
       "..                                                 ...    ...   \n",
       "120                 @gagani_n Hi, Yes we can help you.      0   \n",
       "121  @gagani_n Thanks for your inquiry. We have lot...      0   \n",
       "122  ඔබේ ගෙදර ලස්සන කරගන්න, ඒ වගේම  යාළුවන්ගෙත්,  ඔ...      0   \n",
       "123  Hey, This is one of our ongoing project. For m...      0   \n",
       "124  Hey,\\nThe real leader in Real State - PRIME LA...      0   \n",
       "\n",
       "                         time  \n",
       "0   2017-01-03 10:18:11+00:00  \n",
       "1   2017-01-03 10:17:54+00:00  \n",
       "2   2016-05-16 03:13:46+00:00  \n",
       "3   2016-05-16 02:55:49+00:00  \n",
       "4   2016-05-16 02:44:24+00:00  \n",
       "..                        ...  \n",
       "120 2015-02-12 04:53:54+00:00  \n",
       "121 2015-02-12 04:44:21+00:00  \n",
       "122 2015-02-11 11:09:14+00:00  \n",
       "123 2015-02-11 10:01:11+00:00  \n",
       "124 2015-02-11 09:45:27+00:00  \n",
       "\n",
       "[125 rows x 3 columns]"
      ]
     },
     "execution_count": 10,
     "metadata": {},
     "output_type": "execute_result"
    }
   ],
   "source": [
    "df"
   ]
  },
  {
   "cell_type": "code",
   "execution_count": 11,
   "metadata": {},
   "outputs": [],
   "source": [
    "mostlike = df.loc[df.likes.nlargest(5).index]"
   ]
  },
  {
   "cell_type": "code",
   "execution_count": 12,
   "metadata": {},
   "outputs": [
    {
     "data": {
      "text/html": [
       "<div>\n",
       "<style scoped>\n",
       "    .dataframe tbody tr th:only-of-type {\n",
       "        vertical-align: middle;\n",
       "    }\n",
       "\n",
       "    .dataframe tbody tr th {\n",
       "        vertical-align: top;\n",
       "    }\n",
       "\n",
       "    .dataframe thead th {\n",
       "        text-align: right;\n",
       "    }\n",
       "</style>\n",
       "<table border=\"1\" class=\"dataframe\">\n",
       "  <thead>\n",
       "    <tr style=\"text-align: right;\">\n",
       "      <th></th>\n",
       "      <th>tweets</th>\n",
       "      <th>likes</th>\n",
       "      <th>time</th>\n",
       "    </tr>\n",
       "  </thead>\n",
       "  <tbody>\n",
       "    <tr>\n",
       "      <th>2</th>\n",
       "      <td>The Land Located At  Nawagamuwa Kaduwela..\\nEa...</td>\n",
       "      <td>9</td>\n",
       "      <td>2016-05-16 03:13:46+00:00</td>\n",
       "    </tr>\n",
       "    <tr>\n",
       "      <th>3</th>\n",
       "      <td>ඇස්  වහක්  කටවහක් නෑ හැම  අතින්ම සුබයි නවගමුව ...</td>\n",
       "      <td>3</td>\n",
       "      <td>2016-05-16 02:55:49+00:00</td>\n",
       "    </tr>\n",
       "    <tr>\n",
       "      <th>85</th>\n",
       "      <td>Buy Land.They're not making it anymore. #quote...</td>\n",
       "      <td>3</td>\n",
       "      <td>2016-01-20 10:48:01+00:00</td>\n",
       "    </tr>\n",
       "    <tr>\n",
       "      <th>111</th>\n",
       "      <td>A Great Service From a Great Family http://t.c...</td>\n",
       "      <td>3</td>\n",
       "      <td>2015-03-21 03:28:02+00:00</td>\n",
       "    </tr>\n",
       "    <tr>\n",
       "      <th>114</th>\n",
       "      <td>Happy Birthday Boss... Real Boss in Real Estat...</td>\n",
       "      <td>3</td>\n",
       "      <td>2015-03-18 06:00:42+00:00</td>\n",
       "    </tr>\n",
       "  </tbody>\n",
       "</table>\n",
       "</div>"
      ],
      "text/plain": [
       "                                                tweets  likes  \\\n",
       "2    The Land Located At  Nawagamuwa Kaduwela..\\nEa...      9   \n",
       "3    ඇස්  වහක්  කටවහක් නෑ හැම  අතින්ම සුබයි නවගමුව ...      3   \n",
       "85   Buy Land.They're not making it anymore. #quote...      3   \n",
       "111  A Great Service From a Great Family http://t.c...      3   \n",
       "114  Happy Birthday Boss... Real Boss in Real Estat...      3   \n",
       "\n",
       "                         time  \n",
       "2   2016-05-16 03:13:46+00:00  \n",
       "3   2016-05-16 02:55:49+00:00  \n",
       "85  2016-01-20 10:48:01+00:00  \n",
       "111 2015-03-21 03:28:02+00:00  \n",
       "114 2015-03-18 06:00:42+00:00  "
      ]
     },
     "execution_count": 12,
     "metadata": {},
     "output_type": "execute_result"
    }
   ],
   "source": [
    "mostlike"
   ]
  },
  {
   "cell_type": "code",
   "execution_count": 13,
   "metadata": {},
   "outputs": [],
   "source": [
    "import matplotlib.pyplot as plt\n",
    "import re\n",
    "import spacy\n",
    "nlp = spacy.load(\"en_core_web_lg\")\n",
    "import seaborn as sns"
   ]
  },
  {
   "cell_type": "code",
   "execution_count": 15,
   "metadata": {},
   "outputs": [],
   "source": [
    "list_of_sentences = [sentence for sentence in df.tweets]\n",
    "\n",
    "lines = []\n",
    "for sentence in list_of_sentences:\n",
    "    words = sentence.split()\n",
    "    for w in words:\n",
    "        lines.append(w)"
   ]
  },
  {
   "cell_type": "code",
   "execution_count": 16,
   "metadata": {},
   "outputs": [],
   "source": [
    "lines = [re.sub(r'[^A-Za-z0-9]+','',x) for x in lines]\n",
    "\n",
    "lines2 = []\n",
    "\n",
    "for word in lines:\n",
    "    if word != '':\n",
    "        lines2.append(word)\n",
    "\n"
   ]
  },
  {
   "cell_type": "code",
   "execution_count": 17,
   "metadata": {},
   "outputs": [],
   "source": [
    "import nltk\n",
    "from nltk.stem.snowball import SnowballStemmer\n",
    "\n",
    "s_stemmer = SnowballStemmer(language='english')\n",
    "\n",
    "stem = []\n",
    "for word in lines2:\n",
    "    stem.append(s_stemmer.stem(word))"
   ]
  },
  {
   "cell_type": "code",
   "execution_count": 18,
   "metadata": {},
   "outputs": [],
   "source": [
    "stem2 = []\n",
    "\n",
    "for word in stem:\n",
    "    if word not in nlp.Defaults.stop_words:\n",
    "        stem2.append(word)"
   ]
  },
  {
   "cell_type": "code",
   "execution_count": 19,
   "metadata": {},
   "outputs": [],
   "source": [
    "df2 = pd.DataFrame(stem2)\n",
    "\n",
    "df2 = df2[0].value_counts()"
   ]
  },
  {
   "cell_type": "code",
   "execution_count": 20,
   "metadata": {},
   "outputs": [
    {
     "name": "stderr",
     "output_type": "stream",
     "text": [
      "/Library/Frameworks/Python.framework/Versions/3.10/lib/python3.10/site-packages/seaborn/_decorators.py:36: FutureWarning: Pass the following variables as keyword args: x, y. From version 0.12, the only valid positional argument will be `data`, and passing other arguments without an explicit keyword will result in an error or misinterpretation.\n",
      "  warnings.warn(\n"
     ]
    },
    {
     "data": {
      "image/png": "[encoded data removed]",
      "text/plain": [
       "<Figure size 720x360 with 1 Axes>"
      ]
     },
     "metadata": {
      "needs_background": "light"
     },
     "output_type": "display_data"
    }
   ],
   "source": [
    "df2 = df2[:20,]\n",
    "plt.figure(figsize=(10,5))\n",
    "sns.barplot(df2.values, df2.index, alpha=1)\n",
    "plt.title( person_name + ' Top Words Overall')\n",
    "plt.ylabel('Word from Tweet', fontsize = 12)\n",
    "plt.xlabel('Count of Words', fontsize = 12)\n",
    "plt.show()"
   ]
  },
  {
   "cell_type": "code",
   "execution_count": 21,
   "metadata": {},
   "outputs": [],
   "source": [
    "def show_ents(doc):\n",
    "    if doc.ents:\n",
    "        for ent in doc.ents:\n",
    "            print(ent.text + ' _ ' + ent.label_ + ' _ ' + str(spacy.explain(ent.label_)))"
   ]
  },
  {
   "cell_type": "code",
   "execution_count": 22,
   "metadata": {},
   "outputs": [],
   "source": [
    "str1 = \" \"\n",
    "stem2 = str1.join(lines2)\n",
    "\n",
    "stem2 = nlp(stem2)\n",
    "\n",
    "label = [(X.text, X.label_) for X in stem2.ents]\n",
    "\n",
    "df6 = pd.DataFrame(label, columns = ['Word', 'Entity'])\n",
    "\n",
    "df7 = df6.where(df6['Entity'] == 'ORG')\n",
    "\n",
    "df7 = df7['Word'].value_counts()"
   ]
  },
  {
   "cell_type": "code",
   "execution_count": 23,
   "metadata": {},
   "outputs": [
    {
     "name": "stderr",
     "output_type": "stream",
     "text": [
      "/Library/Frameworks/Python.framework/Versions/3.10/lib/python3.10/site-packages/seaborn/_decorators.py:36: FutureWarning: Pass the following variables as keyword args: x, y. From version 0.12, the only valid positional argument will be `data`, and passing other arguments without an explicit keyword will result in an error or misinterpretation.\n",
      "  warnings.warn(\n"
     ]
    },
    {
     "data": {
      "image/png": "[encoded data removed]",
      "text/plain": [
       "<Figure size 720x360 with 1 Axes>"
      ]
     },
     "metadata": {
      "needs_background": "light"
     },
     "output_type": "display_data"
    }
   ],
   "source": [
    "dfx = df7[:20,]\n",
    "plt.figure(figsize=(10,5))\n",
    "sns.barplot(dfx.values, dfx.index, alpha=1)\n",
    "plt.title( person_name + ' Top Organizations Mentioned')\n",
    "plt.ylabel('Word from Tweet', fontsize = 12)\n",
    "plt.xlabel('Count of Words', fontsize = 12)\n",
    "plt.show()"
   ]
  },
  {
   "cell_type": "code",
   "execution_count": 24,
   "metadata": {},
   "outputs": [],
   "source": [
    "str1 = \" \"\n",
    "stem2 = str1.join(lines2)\n",
    "\n",
    "stem2 = nlp(stem2)\n",
    "\n",
    "label = [(X.text, X.label_) for X in stem2.ents]\n",
    "\n",
    "df10 = pd.DataFrame(label, columns = ['Word', 'Entity'])\n",
    "\n",
    "df10 = df10.where(df6['Entity'] == 'PERSON')\n",
    "\n",
    "df11 = df10['Word'].value_counts()"
   ]
  },
  {
   "cell_type": "code",
   "execution_count": 25,
   "metadata": {},
   "outputs": [
    {
     "name": "stderr",
     "output_type": "stream",
     "text": [
      "/Library/Frameworks/Python.framework/Versions/3.10/lib/python3.10/site-packages/seaborn/_decorators.py:36: FutureWarning: Pass the following variables as keyword args: x, y. From version 0.12, the only valid positional argument will be `data`, and passing other arguments without an explicit keyword will result in an error or misinterpretation.\n",
      "  warnings.warn(\n"
     ]
    },
    {
     "data": {
      "image/png": "[encoded data removed]",
      "text/plain": [
       "<Figure size 720x360 with 1 Axes>"
      ]
     },
     "metadata": {
      "needs_background": "light"
     },
     "output_type": "display_data"
    }
   ],
   "source": [
    "dfy = df11[:20,]\n",
    "plt.figure(figsize=(10,5))\n",
    "sns.barplot(dfy.values, dfy.index, alpha=1)\n",
    "plt.title( person_name + ' Top People Mentioned')\n",
    "plt.ylabel('Word from Tweet', fontsize = 12)\n",
    "plt.xlabel('Count of Words', fontsize = 12)\n",
    "plt.show()"
   ]
  }
 ],
 "metadata": {
  "kernelspec": {
   "display_name": "Python 3.10.5 64-bit",
   "language": "python",
   "name": "python3"
  },
  "language_info": {
   "codemirror_mode": {
    "name": "ipython",
    "version": 3
   },
   "file_extension": ".py",
   "mimetype": "text/x-python",
   "name": "python",
   "nbconvert_exporter": "python",
   "pygments_lexer": "ipython3",
   "version": "3.10.5"
  },
  "orig_nbformat": 4,
  "vscode": {
   "interpreter": {
    "hash": "aee8b7b246df8f9039afb4144a1f6fd8d2ca17a180786b69acc140d282b71a49"
   }
  }
 },
 "nbformat": 4,
 "nbformat_minor": 2
}
