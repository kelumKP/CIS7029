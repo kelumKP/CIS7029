{
 "cells": [
  {
   "cell_type": "code",
   "execution_count": 1,
   "metadata": {},
   "outputs": [],
   "source": [
    "import tweepy\n",
    "import pandas as pd"
   ]
  },
  {
   "cell_type": "code",
   "execution_count": 2,
   "metadata": {},
   "outputs": [],
   "source": [
    "consumer_key = \"L45cVwt1PcimfFnycMhQEHRsg\"\n",
    "consumer_secret = \"a2f3dr6xHHukbCzlvzK5j0mDYg3di3aN8EfixXOhzV9dbhMk1F\"\n",
    "access_token = \"1533339797187883008-A5uEjCSsKsH4OBeTaO8g0vHaqoI8h6\"\n",
    "access_token_secret = \"UKvwBMeTRN6p4f2ogcrQAQT52Fi6eWUhe2pCnEkaJ8UGq\""
   ]
  },
  {
   "cell_type": "code",
   "execution_count": 3,
   "metadata": {},
   "outputs": [],
   "source": [
    "auth = tweepy.OAuth1UserHandler(consumer_key,consumer_secret)\n",
    "auth.set_access_token(access_token, access_token_secret)\n",
    "api = tweepy.API(auth)"
   ]
  },
  {
   "cell_type": "code",
   "execution_count": 4,
   "metadata": {},
   "outputs": [
    {
     "name": "stderr",
     "output_type": "stream",
     "text": [
      "Unexpected parameter: id\n",
      "Unexpected parameter: id\n",
      "Unexpected parameter: id\n",
      "Unexpected parameter: id\n",
      "Unexpected parameter: id\n",
      "Unexpected parameter: id\n",
      "Unexpected parameter: id\n",
      "Unexpected parameter: id\n",
      "Unexpected parameter: id\n",
      "Unexpected parameter: id\n",
      "Unexpected parameter: id\n",
      "Unexpected parameter: id\n",
      "Unexpected parameter: id\n",
      "Unexpected parameter: id\n",
      "Unexpected parameter: id\n",
      "Unexpected parameter: id\n",
      "Unexpected parameter: id\n",
      "Unexpected parameter: id\n",
      "Unexpected parameter: id\n",
      "Unexpected parameter: id\n",
      "Unexpected parameter: id\n",
      "Unexpected parameter: id\n",
      "Unexpected parameter: id\n",
      "Unexpected parameter: id\n",
      "Unexpected parameter: id\n",
      "Unexpected parameter: id\n",
      "Unexpected parameter: id\n",
      "Unexpected parameter: id\n",
      "Unexpected parameter: id\n",
      "Unexpected parameter: id\n",
      "Unexpected parameter: id\n",
      "Unexpected parameter: id\n",
      "Unexpected parameter: id\n",
      "Unexpected parameter: id\n",
      "Unexpected parameter: id\n",
      "Unexpected parameter: id\n"
     ]
    }
   ],
   "source": [
    "number_of_tweets = 1000\n",
    "tweets = []\n",
    "likes = []\n",
    "time = []\n",
    "person_name = \"Blue Ocean\"\n",
    "twitter_username = \"BlueOceanSL\"\n",
    "\n",
    "\n",
    "for i in tweepy.Cursor(api.user_timeline, id = twitter_username, tweet_mode = \"extended\").items(number_of_tweets):\n",
    "    tweets.append(i.full_text)\n",
    "    likes.append(i.favorite_count)\n",
    "    time.append(i.created_at)"
   ]
  },
  {
   "cell_type": "code",
   "execution_count": 5,
   "metadata": {},
   "outputs": [],
   "source": [
    "df = pd.DataFrame({'tweets': tweets, 'likes': likes, 'time': time})"
   ]
  },
  {
   "cell_type": "code",
   "execution_count": 6,
   "metadata": {},
   "outputs": [
    {
     "data": {
      "text/html": [
       "<div>\n",
       "<style scoped>\n",
       "    .dataframe tbody tr th:only-of-type {\n",
       "        vertical-align: middle;\n",
       "    }\n",
       "\n",
       "    .dataframe tbody tr th {\n",
       "        vertical-align: top;\n",
       "    }\n",
       "\n",
       "    .dataframe thead th {\n",
       "        text-align: right;\n",
       "    }\n",
       "</style>\n",
       "<table border=\"1\" class=\"dataframe\">\n",
       "  <thead>\n",
       "    <tr style=\"text-align: right;\">\n",
       "      <th></th>\n",
       "      <th>tweets</th>\n",
       "      <th>likes</th>\n",
       "      <th>time</th>\n",
       "    </tr>\n",
       "  </thead>\n",
       "  <tbody>\n",
       "    <tr>\n",
       "      <th>0</th>\n",
       "      <td>The development organization intends to increa...</td>\n",
       "      <td>0</td>\n",
       "      <td>2022-03-07 04:03:16+00:00</td>\n",
       "    </tr>\n",
       "    <tr>\n",
       "      <th>1</th>\n",
       "      <td>Our engineers and other staff are in the last ...</td>\n",
       "      <td>0</td>\n",
       "      <td>2022-02-18 03:43:58+00:00</td>\n",
       "    </tr>\n",
       "    <tr>\n",
       "      <th>2</th>\n",
       "      <td>Great things happen when Blue Ocean gets invol...</td>\n",
       "      <td>0</td>\n",
       "      <td>2022-02-17 09:04:59+00:00</td>\n",
       "    </tr>\n",
       "    <tr>\n",
       "      <th>3</th>\n",
       "      <td>Quote of the day 💎\\n\\nhttps://t.co/yzBWhhLYm7 ...</td>\n",
       "      <td>0</td>\n",
       "      <td>2022-02-15 03:15:19+00:00</td>\n",
       "    </tr>\n",
       "    <tr>\n",
       "      <th>4</th>\n",
       "      <td>The Pioneer Institute specialized in conductin...</td>\n",
       "      <td>0</td>\n",
       "      <td>2022-02-14 11:58:59+00:00</td>\n",
       "    </tr>\n",
       "    <tr>\n",
       "      <th>...</th>\n",
       "      <td>...</td>\n",
       "      <td>...</td>\n",
       "      <td>...</td>\n",
       "    </tr>\n",
       "    <tr>\n",
       "      <th>683</th>\n",
       "      <td>RT @ireneamd: \" #Efficiency is doing things ri...</td>\n",
       "      <td>0</td>\n",
       "      <td>2013-02-19 11:32:58+00:00</td>\n",
       "    </tr>\n",
       "    <tr>\n",
       "      <th>684</th>\n",
       "      <td>Sri Lanka receives much #FDI primarly due to t...</td>\n",
       "      <td>0</td>\n",
       "      <td>2013-02-19 10:42:48+00:00</td>\n",
       "    </tr>\n",
       "    <tr>\n",
       "      <th>685</th>\n",
       "      <td>Sri Lanka Named the British #Airways Best #Des...</td>\n",
       "      <td>0</td>\n",
       "      <td>2013-02-19 10:18:38+00:00</td>\n",
       "    </tr>\n",
       "    <tr>\n",
       "      <th>686</th>\n",
       "      <td>RT @AbsoluteInterns: “Success is liking yourse...</td>\n",
       "      <td>0</td>\n",
       "      <td>2013-02-18 10:58:14+00:00</td>\n",
       "    </tr>\n",
       "    <tr>\n",
       "      <th>687</th>\n",
       "      <td>RT @ireneamd: Sri Lanka \"Best #Destination To ...</td>\n",
       "      <td>0</td>\n",
       "      <td>2013-02-18 10:49:23+00:00</td>\n",
       "    </tr>\n",
       "  </tbody>\n",
       "</table>\n",
       "<p>688 rows × 3 columns</p>\n",
       "</div>"
      ],
      "text/plain": [
       "                                                tweets  likes  \\\n",
       "0    The development organization intends to increa...      0   \n",
       "1    Our engineers and other staff are in the last ...      0   \n",
       "2    Great things happen when Blue Ocean gets invol...      0   \n",
       "3    Quote of the day 💎\\n\\nhttps://t.co/yzBWhhLYm7 ...      0   \n",
       "4    The Pioneer Institute specialized in conductin...      0   \n",
       "..                                                 ...    ...   \n",
       "683  RT @ireneamd: \" #Efficiency is doing things ri...      0   \n",
       "684  Sri Lanka receives much #FDI primarly due to t...      0   \n",
       "685  Sri Lanka Named the British #Airways Best #Des...      0   \n",
       "686  RT @AbsoluteInterns: “Success is liking yourse...      0   \n",
       "687  RT @ireneamd: Sri Lanka \"Best #Destination To ...      0   \n",
       "\n",
       "                         time  \n",
       "0   2022-03-07 04:03:16+00:00  \n",
       "1   2022-02-18 03:43:58+00:00  \n",
       "2   2022-02-17 09:04:59+00:00  \n",
       "3   2022-02-15 03:15:19+00:00  \n",
       "4   2022-02-14 11:58:59+00:00  \n",
       "..                        ...  \n",
       "683 2013-02-19 11:32:58+00:00  \n",
       "684 2013-02-19 10:42:48+00:00  \n",
       "685 2013-02-19 10:18:38+00:00  \n",
       "686 2013-02-18 10:58:14+00:00  \n",
       "687 2013-02-18 10:49:23+00:00  \n",
       "\n",
       "[688 rows x 3 columns]"
      ]
     },
     "execution_count": 6,
     "metadata": {},
     "output_type": "execute_result"
    }
   ],
   "source": [
    "df"
   ]
  },
  {
   "cell_type": "code",
   "execution_count": 7,
   "metadata": {},
   "outputs": [],
   "source": [
    "df = df[~df.tweets.str.contains(\"RT\")]\n",
    "df = df[~df.tweets.str.contains(\"amp\")]"
   ]
  },
  {
   "cell_type": "code",
   "execution_count": 8,
   "metadata": {},
   "outputs": [
    {
     "data": {
      "text/html": [
       "<div>\n",
       "<style scoped>\n",
       "    .dataframe tbody tr th:only-of-type {\n",
       "        vertical-align: middle;\n",
       "    }\n",
       "\n",
       "    .dataframe tbody tr th {\n",
       "        vertical-align: top;\n",
       "    }\n",
       "\n",
       "    .dataframe thead th {\n",
       "        text-align: right;\n",
       "    }\n",
       "</style>\n",
       "<table border=\"1\" class=\"dataframe\">\n",
       "  <thead>\n",
       "    <tr style=\"text-align: right;\">\n",
       "      <th></th>\n",
       "      <th>tweets</th>\n",
       "      <th>likes</th>\n",
       "      <th>time</th>\n",
       "    </tr>\n",
       "  </thead>\n",
       "  <tbody>\n",
       "    <tr>\n",
       "      <th>0</th>\n",
       "      <td>The development organization intends to increa...</td>\n",
       "      <td>0</td>\n",
       "      <td>2022-03-07 04:03:16+00:00</td>\n",
       "    </tr>\n",
       "    <tr>\n",
       "      <th>1</th>\n",
       "      <td>Our engineers and other staff are in the last ...</td>\n",
       "      <td>0</td>\n",
       "      <td>2022-02-18 03:43:58+00:00</td>\n",
       "    </tr>\n",
       "    <tr>\n",
       "      <th>2</th>\n",
       "      <td>Great things happen when Blue Ocean gets invol...</td>\n",
       "      <td>0</td>\n",
       "      <td>2022-02-17 09:04:59+00:00</td>\n",
       "    </tr>\n",
       "    <tr>\n",
       "      <th>3</th>\n",
       "      <td>Quote of the day 💎\\n\\nhttps://t.co/yzBWhhLYm7 ...</td>\n",
       "      <td>0</td>\n",
       "      <td>2022-02-15 03:15:19+00:00</td>\n",
       "    </tr>\n",
       "    <tr>\n",
       "      <th>5</th>\n",
       "      <td>Money can’t buy happiness. Habibi, come to Dub...</td>\n",
       "      <td>0</td>\n",
       "      <td>2022-02-10 11:48:07+00:00</td>\n",
       "    </tr>\n",
       "    <tr>\n",
       "      <th>...</th>\n",
       "      <td>...</td>\n",
       "      <td>...</td>\n",
       "      <td>...</td>\n",
       "    </tr>\n",
       "    <tr>\n",
       "      <th>680</th>\n",
       "      <td>Sri Lanka has seen a surge in trade-related tr...</td>\n",
       "      <td>0</td>\n",
       "      <td>2013-02-21 07:01:24+00:00</td>\n",
       "    </tr>\n",
       "    <tr>\n",
       "      <th>681</th>\n",
       "      <td>#IMF - \"#SriLanka, after emerging from long ci...</td>\n",
       "      <td>0</td>\n",
       "      <td>2013-02-21 03:23:50+00:00</td>\n",
       "    </tr>\n",
       "    <tr>\n",
       "      <th>682</th>\n",
       "      <td>Luxury apartments in the Pearl of Asia, Sri La...</td>\n",
       "      <td>0</td>\n",
       "      <td>2013-02-20 05:55:11+00:00</td>\n",
       "    </tr>\n",
       "    <tr>\n",
       "      <th>684</th>\n",
       "      <td>Sri Lanka receives much #FDI primarly due to t...</td>\n",
       "      <td>0</td>\n",
       "      <td>2013-02-19 10:42:48+00:00</td>\n",
       "    </tr>\n",
       "    <tr>\n",
       "      <th>685</th>\n",
       "      <td>Sri Lanka Named the British #Airways Best #Des...</td>\n",
       "      <td>0</td>\n",
       "      <td>2013-02-19 10:18:38+00:00</td>\n",
       "    </tr>\n",
       "  </tbody>\n",
       "</table>\n",
       "<p>631 rows × 3 columns</p>\n",
       "</div>"
      ],
      "text/plain": [
       "                                                tweets  likes  \\\n",
       "0    The development organization intends to increa...      0   \n",
       "1    Our engineers and other staff are in the last ...      0   \n",
       "2    Great things happen when Blue Ocean gets invol...      0   \n",
       "3    Quote of the day 💎\\n\\nhttps://t.co/yzBWhhLYm7 ...      0   \n",
       "5    Money can’t buy happiness. Habibi, come to Dub...      0   \n",
       "..                                                 ...    ...   \n",
       "680  Sri Lanka has seen a surge in trade-related tr...      0   \n",
       "681  #IMF - \"#SriLanka, after emerging from long ci...      0   \n",
       "682  Luxury apartments in the Pearl of Asia, Sri La...      0   \n",
       "684  Sri Lanka receives much #FDI primarly due to t...      0   \n",
       "685  Sri Lanka Named the British #Airways Best #Des...      0   \n",
       "\n",
       "                         time  \n",
       "0   2022-03-07 04:03:16+00:00  \n",
       "1   2022-02-18 03:43:58+00:00  \n",
       "2   2022-02-17 09:04:59+00:00  \n",
       "3   2022-02-15 03:15:19+00:00  \n",
       "5   2022-02-10 11:48:07+00:00  \n",
       "..                        ...  \n",
       "680 2013-02-21 07:01:24+00:00  \n",
       "681 2013-02-21 03:23:50+00:00  \n",
       "682 2013-02-20 05:55:11+00:00  \n",
       "684 2013-02-19 10:42:48+00:00  \n",
       "685 2013-02-19 10:18:38+00:00  \n",
       "\n",
       "[631 rows x 3 columns]"
      ]
     },
     "execution_count": 8,
     "metadata": {},
     "output_type": "execute_result"
    }
   ],
   "source": [
    "df"
   ]
  },
  {
   "cell_type": "code",
   "execution_count": 9,
   "metadata": {},
   "outputs": [],
   "source": [
    "df = df.reset_index(drop=True)"
   ]
  },
  {
   "cell_type": "code",
   "execution_count": 10,
   "metadata": {},
   "outputs": [
    {
     "data": {
      "text/html": [
       "<div>\n",
       "<style scoped>\n",
       "    .dataframe tbody tr th:only-of-type {\n",
       "        vertical-align: middle;\n",
       "    }\n",
       "\n",
       "    .dataframe tbody tr th {\n",
       "        vertical-align: top;\n",
       "    }\n",
       "\n",
       "    .dataframe thead th {\n",
       "        text-align: right;\n",
       "    }\n",
       "</style>\n",
       "<table border=\"1\" class=\"dataframe\">\n",
       "  <thead>\n",
       "    <tr style=\"text-align: right;\">\n",
       "      <th></th>\n",
       "      <th>tweets</th>\n",
       "      <th>likes</th>\n",
       "      <th>time</th>\n",
       "    </tr>\n",
       "  </thead>\n",
       "  <tbody>\n",
       "    <tr>\n",
       "      <th>0</th>\n",
       "      <td>The development organization intends to increa...</td>\n",
       "      <td>0</td>\n",
       "      <td>2022-03-07 04:03:16+00:00</td>\n",
       "    </tr>\n",
       "    <tr>\n",
       "      <th>1</th>\n",
       "      <td>Our engineers and other staff are in the last ...</td>\n",
       "      <td>0</td>\n",
       "      <td>2022-02-18 03:43:58+00:00</td>\n",
       "    </tr>\n",
       "    <tr>\n",
       "      <th>2</th>\n",
       "      <td>Great things happen when Blue Ocean gets invol...</td>\n",
       "      <td>0</td>\n",
       "      <td>2022-02-17 09:04:59+00:00</td>\n",
       "    </tr>\n",
       "    <tr>\n",
       "      <th>3</th>\n",
       "      <td>Quote of the day 💎\\n\\nhttps://t.co/yzBWhhLYm7 ...</td>\n",
       "      <td>0</td>\n",
       "      <td>2022-02-15 03:15:19+00:00</td>\n",
       "    </tr>\n",
       "    <tr>\n",
       "      <th>4</th>\n",
       "      <td>Money can’t buy happiness. Habibi, come to Dub...</td>\n",
       "      <td>0</td>\n",
       "      <td>2022-02-10 11:48:07+00:00</td>\n",
       "    </tr>\n",
       "    <tr>\n",
       "      <th>...</th>\n",
       "      <td>...</td>\n",
       "      <td>...</td>\n",
       "      <td>...</td>\n",
       "    </tr>\n",
       "    <tr>\n",
       "      <th>626</th>\n",
       "      <td>Sri Lanka has seen a surge in trade-related tr...</td>\n",
       "      <td>0</td>\n",
       "      <td>2013-02-21 07:01:24+00:00</td>\n",
       "    </tr>\n",
       "    <tr>\n",
       "      <th>627</th>\n",
       "      <td>#IMF - \"#SriLanka, after emerging from long ci...</td>\n",
       "      <td>0</td>\n",
       "      <td>2013-02-21 03:23:50+00:00</td>\n",
       "    </tr>\n",
       "    <tr>\n",
       "      <th>628</th>\n",
       "      <td>Luxury apartments in the Pearl of Asia, Sri La...</td>\n",
       "      <td>0</td>\n",
       "      <td>2013-02-20 05:55:11+00:00</td>\n",
       "    </tr>\n",
       "    <tr>\n",
       "      <th>629</th>\n",
       "      <td>Sri Lanka receives much #FDI primarly due to t...</td>\n",
       "      <td>0</td>\n",
       "      <td>2013-02-19 10:42:48+00:00</td>\n",
       "    </tr>\n",
       "    <tr>\n",
       "      <th>630</th>\n",
       "      <td>Sri Lanka Named the British #Airways Best #Des...</td>\n",
       "      <td>0</td>\n",
       "      <td>2013-02-19 10:18:38+00:00</td>\n",
       "    </tr>\n",
       "  </tbody>\n",
       "</table>\n",
       "<p>631 rows × 3 columns</p>\n",
       "</div>"
      ],
      "text/plain": [
       "                                                tweets  likes  \\\n",
       "0    The development organization intends to increa...      0   \n",
       "1    Our engineers and other staff are in the last ...      0   \n",
       "2    Great things happen when Blue Ocean gets invol...      0   \n",
       "3    Quote of the day 💎\\n\\nhttps://t.co/yzBWhhLYm7 ...      0   \n",
       "4    Money can’t buy happiness. Habibi, come to Dub...      0   \n",
       "..                                                 ...    ...   \n",
       "626  Sri Lanka has seen a surge in trade-related tr...      0   \n",
       "627  #IMF - \"#SriLanka, after emerging from long ci...      0   \n",
       "628  Luxury apartments in the Pearl of Asia, Sri La...      0   \n",
       "629  Sri Lanka receives much #FDI primarly due to t...      0   \n",
       "630  Sri Lanka Named the British #Airways Best #Des...      0   \n",
       "\n",
       "                         time  \n",
       "0   2022-03-07 04:03:16+00:00  \n",
       "1   2022-02-18 03:43:58+00:00  \n",
       "2   2022-02-17 09:04:59+00:00  \n",
       "3   2022-02-15 03:15:19+00:00  \n",
       "4   2022-02-10 11:48:07+00:00  \n",
       "..                        ...  \n",
       "626 2013-02-21 07:01:24+00:00  \n",
       "627 2013-02-21 03:23:50+00:00  \n",
       "628 2013-02-20 05:55:11+00:00  \n",
       "629 2013-02-19 10:42:48+00:00  \n",
       "630 2013-02-19 10:18:38+00:00  \n",
       "\n",
       "[631 rows x 3 columns]"
      ]
     },
     "execution_count": 10,
     "metadata": {},
     "output_type": "execute_result"
    }
   ],
   "source": [
    "df"
   ]
  },
  {
   "cell_type": "code",
   "execution_count": 11,
   "metadata": {},
   "outputs": [],
   "source": [
    "mostlike = df.loc[df.likes.nlargest(5).index]"
   ]
  },
  {
   "cell_type": "code",
   "execution_count": 12,
   "metadata": {},
   "outputs": [
    {
     "data": {
      "text/html": [
       "<div>\n",
       "<style scoped>\n",
       "    .dataframe tbody tr th:only-of-type {\n",
       "        vertical-align: middle;\n",
       "    }\n",
       "\n",
       "    .dataframe tbody tr th {\n",
       "        vertical-align: top;\n",
       "    }\n",
       "\n",
       "    .dataframe thead th {\n",
       "        text-align: right;\n",
       "    }\n",
       "</style>\n",
       "<table border=\"1\" class=\"dataframe\">\n",
       "  <thead>\n",
       "    <tr style=\"text-align: right;\">\n",
       "      <th></th>\n",
       "      <th>tweets</th>\n",
       "      <th>likes</th>\n",
       "      <th>time</th>\n",
       "    </tr>\n",
       "  </thead>\n",
       "  <tbody>\n",
       "    <tr>\n",
       "      <th>34</th>\n",
       "      <td>Carve out Great Life at No.08, Jayasinghe Road...</td>\n",
       "      <td>3</td>\n",
       "      <td>2020-01-13 07:56:57+00:00</td>\n",
       "    </tr>\n",
       "    <tr>\n",
       "      <th>40</th>\n",
       "      <td>Great article by James Harris\\nhttps://t.co/Mx...</td>\n",
       "      <td>3</td>\n",
       "      <td>2020-01-03 07:19:19+00:00</td>\n",
       "    </tr>\n",
       "    <tr>\n",
       "      <th>36</th>\n",
       "      <td>#blueoceangroup #blueoceanapartments #srilanka...</td>\n",
       "      <td>2</td>\n",
       "      <td>2020-01-11 05:14:31+00:00</td>\n",
       "    </tr>\n",
       "    <tr>\n",
       "      <th>39</th>\n",
       "      <td>\"Real Estate is the safest investment in the w...</td>\n",
       "      <td>2</td>\n",
       "      <td>2020-01-03 07:57:58+00:00</td>\n",
       "    </tr>\n",
       "    <tr>\n",
       "      <th>41</th>\n",
       "      <td>Blue Ocean Apartment at De Saram Road, Mount L...</td>\n",
       "      <td>2</td>\n",
       "      <td>2019-12-27 11:04:26+00:00</td>\n",
       "    </tr>\n",
       "  </tbody>\n",
       "</table>\n",
       "</div>"
      ],
      "text/plain": [
       "                                               tweets  likes  \\\n",
       "34  Carve out Great Life at No.08, Jayasinghe Road...      3   \n",
       "40  Great article by James Harris\\nhttps://t.co/Mx...      3   \n",
       "36  #blueoceangroup #blueoceanapartments #srilanka...      2   \n",
       "39  \"Real Estate is the safest investment in the w...      2   \n",
       "41  Blue Ocean Apartment at De Saram Road, Mount L...      2   \n",
       "\n",
       "                        time  \n",
       "34 2020-01-13 07:56:57+00:00  \n",
       "40 2020-01-03 07:19:19+00:00  \n",
       "36 2020-01-11 05:14:31+00:00  \n",
       "39 2020-01-03 07:57:58+00:00  \n",
       "41 2019-12-27 11:04:26+00:00  "
      ]
     },
     "execution_count": 12,
     "metadata": {},
     "output_type": "execute_result"
    }
   ],
   "source": [
    "mostlike"
   ]
  },
  {
   "cell_type": "code",
   "execution_count": 13,
   "metadata": {},
   "outputs": [],
   "source": [
    "import matplotlib.pyplot as plt\n",
    "import re\n",
    "import spacy\n",
    "nlp = spacy.load(\"en_core_web_lg\")\n",
    "import seaborn as sns"
   ]
  },
  {
   "cell_type": "code",
   "execution_count": 14,
   "metadata": {},
   "outputs": [],
   "source": [
    "list_of_sentences = [sentence for sentence in df.tweets]\n",
    "\n",
    "lines = []\n",
    "for sentence in list_of_sentences:\n",
    "    words = sentence.split()\n",
    "    for w in words:\n",
    "        lines.append(w)"
   ]
  },
  {
   "cell_type": "code",
   "execution_count": 15,
   "metadata": {},
   "outputs": [],
   "source": [
    "lines = [re.sub(r'[^A-Za-z0-9]+','',x) for x in lines]\n",
    "\n",
    "lines2 = []\n",
    "\n",
    "for word in lines:\n",
    "    if word != '':\n",
    "        lines2.append(word)\n",
    "\n"
   ]
  },
  {
   "cell_type": "code",
   "execution_count": 16,
   "metadata": {},
   "outputs": [],
   "source": [
    "import nltk\n",
    "from nltk.stem.snowball import SnowballStemmer\n",
    "\n",
    "s_stemmer = SnowballStemmer(language='english')\n",
    "\n",
    "stem = []\n",
    "for word in lines2:\n",
    "    stem.append(s_stemmer.stem(word))"
   ]
  },
  {
   "cell_type": "code",
   "execution_count": 17,
   "metadata": {},
   "outputs": [],
   "source": [
    "stem2 = []\n",
    "\n",
    "for word in stem:\n",
    "    if word not in nlp.Defaults.stop_words:\n",
    "        stem2.append(word)"
   ]
  },
  {
   "cell_type": "code",
   "execution_count": 18,
   "metadata": {},
   "outputs": [],
   "source": [
    "df2 = pd.DataFrame(stem2)\n",
    "\n",
    "df2 = df2[0].value_counts()"
   ]
  },
  {
   "cell_type": "code",
   "execution_count": 19,
   "metadata": {},
   "outputs": [
    {
     "name": "stderr",
     "output_type": "stream",
     "text": [
      "/Library/Frameworks/Python.framework/Versions/3.10/lib/python3.10/site-packages/seaborn/_decorators.py:36: FutureWarning: Pass the following variables as keyword args: x, y. From version 0.12, the only valid positional argument will be `data`, and passing other arguments without an explicit keyword will result in an error or misinterpretation.\n",
      "  warnings.warn(\n"
     ]
    },
    {
     "data": {
      "image/png": "[encoded data removed]",
      "text/plain": [
       "<Figure size 720x360 with 1 Axes>"
      ]
     },
     "metadata": {
      "needs_background": "light"
     },
     "output_type": "display_data"
    }
   ],
   "source": [
    "df2 = df2[:20,]\n",
    "plt.figure(figsize=(10,5))\n",
    "sns.barplot(df2.values, df2.index, alpha=1)\n",
    "plt.title( person_name + ' Top Words Overall')\n",
    "plt.ylabel('Word from Tweet', fontsize = 12)\n",
    "plt.xlabel('Count of Words', fontsize = 12)\n",
    "plt.show()"
   ]
  },
  {
   "cell_type": "code",
   "execution_count": 20,
   "metadata": {},
   "outputs": [],
   "source": [
    "def show_ents(doc):\n",
    "    if doc.ents:\n",
    "        for ent in doc.ents:\n",
    "            print(ent.text + ' _ ' + ent.label_ + ' _ ' + str(spacy.explain(ent.label_)))"
   ]
  },
  {
   "cell_type": "code",
   "execution_count": 21,
   "metadata": {},
   "outputs": [],
   "source": [
    "str1 = \" \"\n",
    "stem2 = str1.join(lines2)\n",
    "\n",
    "stem2 = nlp(stem2)\n",
    "\n",
    "label = [(X.text, X.label_) for X in stem2.ents]\n",
    "\n",
    "df6 = pd.DataFrame(label, columns = ['Word', 'Entity'])\n",
    "\n",
    "df7 = df6.where(df6['Entity'] == 'ORG')\n",
    "\n",
    "df7 = df7['Word'].value_counts()"
   ]
  },
  {
   "cell_type": "code",
   "execution_count": 22,
   "metadata": {},
   "outputs": [
    {
     "name": "stderr",
     "output_type": "stream",
     "text": [
      "/Library/Frameworks/Python.framework/Versions/3.10/lib/python3.10/site-packages/seaborn/_decorators.py:36: FutureWarning: Pass the following variables as keyword args: x, y. From version 0.12, the only valid positional argument will be `data`, and passing other arguments without an explicit keyword will result in an error or misinterpretation.\n",
      "  warnings.warn(\n"
     ]
    },
    {
     "data": {
      "image/png": "[encoded data removed]",
      "text/plain": [
       "<Figure size 720x360 with 1 Axes>"
      ]
     },
     "metadata": {
      "needs_background": "light"
     },
     "output_type": "display_data"
    }
   ],
   "source": [
    "dfx = df7[:20,]\n",
    "plt.figure(figsize=(10,5))\n",
    "sns.barplot(dfx.values, dfx.index, alpha=1)\n",
    "plt.title( person_name + ' Top Organizations Mentioned')\n",
    "plt.ylabel('Word from Tweet', fontsize = 12)\n",
    "plt.xlabel('Count of Words', fontsize = 12)\n",
    "plt.show()"
   ]
  },
  {
   "cell_type": "code",
   "execution_count": 23,
   "metadata": {},
   "outputs": [],
   "source": [
    "str1 = \" \"\n",
    "stem2 = str1.join(lines2)\n",
    "\n",
    "stem2 = nlp(stem2)\n",
    "\n",
    "label = [(X.text, X.label_) for X in stem2.ents]\n",
    "\n",
    "df10 = pd.DataFrame(label, columns = ['Word', 'Entity'])\n",
    "\n",
    "df10 = df10.where(df6['Entity'] == 'PERSON')\n",
    "\n",
    "df11 = df10['Word'].value_counts()"
   ]
  },
  {
   "cell_type": "code",
   "execution_count": 24,
   "metadata": {},
   "outputs": [
    {
     "name": "stderr",
     "output_type": "stream",
     "text": [
      "/Library/Frameworks/Python.framework/Versions/3.10/lib/python3.10/site-packages/seaborn/_decorators.py:36: FutureWarning: Pass the following variables as keyword args: x, y. From version 0.12, the only valid positional argument will be `data`, and passing other arguments without an explicit keyword will result in an error or misinterpretation.\n",
      "  warnings.warn(\n"
     ]
    },
    {
     "data": {
      "image/png": "[encoded data removed]",
      "text/plain": [
       "<Figure size 720x360 with 1 Axes>"
      ]
     },
     "metadata": {
      "needs_background": "light"
     },
     "output_type": "display_data"
    }
   ],
   "source": [
    "dfy = df11[:20,]\n",
    "plt.figure(figsize=(10,5))\n",
    "sns.barplot(dfy.values, dfy.index, alpha=1)\n",
    "plt.title( person_name + ' Top People Mentioned')\n",
    "plt.ylabel('Word from Tweet', fontsize = 12)\n",
    "plt.xlabel('Count of Words', fontsize = 12)\n",
    "plt.show()"
   ]
  }
 ],
 "metadata": {
  "kernelspec": {
   "display_name": "Python 3.10.5 64-bit",
   "language": "python",
   "name": "python3"
  },
  "language_info": {
   "codemirror_mode": {
    "name": "ipython",
    "version": 3
   },
   "file_extension": ".py",
   "mimetype": "text/x-python",
   "name": "python",
   "nbconvert_exporter": "python",
   "pygments_lexer": "ipython3",
   "version": "3.10.5"
  },
  "orig_nbformat": 4,
  "vscode": {
   "interpreter": {
    "hash": "aee8b7b246df8f9039afb4144a1f6fd8d2ca17a180786b69acc140d282b71a49"
   }
  }
 },
 "nbformat": 4,
 "nbformat_minor": 2
}
