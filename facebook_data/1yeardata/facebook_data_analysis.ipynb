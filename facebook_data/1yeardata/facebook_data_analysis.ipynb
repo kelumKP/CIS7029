{
 "cells": [
  {
   "cell_type": "code",
   "execution_count": 38,
   "metadata": {},
   "outputs": [
    {
     "data": {
      "application/javascript": "(function(root) {\n  function now() {\n    return new Date();\n  }\n\n  var force = true;\n\n  if (typeof root._bokeh_onload_callbacks === \"undefined\" || force === true) {\n    root._bokeh_onload_callbacks = [];\n    root._bokeh_is_loading = undefined;\n  }\n\n  if (typeof (root._bokeh_timeout) === \"undefined\" || force === true) {\n    root._bokeh_timeout = Date.now() + 5000;\n    root._bokeh_failed_load = false;\n  }\n\n  function run_callbacks() {\n    try {\n      root._bokeh_onload_callbacks.forEach(function(callback) {\n        if (callback != null)\n          callback();\n      });\n    } finally {\n      delete root._bokeh_onload_callbacks\n    }\n    console.debug(\"Bokeh: all callbacks have finished\");\n  }\n\n  function load_libs(css_urls, js_urls, js_modules, callback) {\n    if (css_urls == null) css_urls = [];\n    if (js_urls == null) js_urls = [];\n    if (js_modules == null) js_modules = [];\n\n    root._bokeh_onload_callbacks.push(callback);\n    if (root._bokeh_is_loading > 0) {\n      console.debug(\"Bokeh: BokehJS is being loaded, scheduling callback at\", now());\n      return null;\n    }\n    if (js_urls.length === 0 && js_modules.length === 0) {\n      run_callbacks();\n      return null;\n    }\n    console.debug(\"Bokeh: BokehJS not loaded, scheduling load and callback at\", now());\n\n    function on_load() {\n      root._bokeh_is_loading--;\n      if (root._bokeh_is_loading === 0) {\n        console.debug(\"Bokeh: all BokehJS libraries/stylesheets loaded\");\n        run_callbacks()\n      }\n    }\n\n    function on_error() {\n      console.error(\"failed to load \" + url);\n    }\n\n    for (var i = 0; i < css_urls.length; i++) {\n      var url = css_urls[i];\n      const element = document.createElement(\"link\");\n      element.onload = on_load;\n      element.onerror = on_error;\n      element.rel = \"stylesheet\";\n      element.type = \"text/css\";\n      element.href = url;\n      console.debug(\"Bokeh: injecting link tag for BokehJS stylesheet: \", url);\n      document.body.appendChild(element);\n    }\n\n    var skip = [];\n    if (window.requirejs) {\n      window.requirejs.config({'packages': {}, 'paths': {'tabulator': 'https://unpkg.com/tabulator-tables@4.9.3/dist/js/tabulator', 'moment': 'https://cdn.jsdelivr.net/npm/luxon/build/global/luxon.min', 'gridstack': 'https://cdn.jsdelivr.net/npm/gridstack@4.2.5/dist/gridstack-h5', 'notyf': 'https://cdn.jsdelivr.net/npm/notyf@3/notyf.min'}, 'shim': {'gridstack': {'exports': 'GridStack'}}});\n      require([\"tabulator\"], function(Tabulator) {\n\twindow.Tabulator = Tabulator\n\ton_load()\n      })\n      require([\"moment\"], function(moment) {\n\twindow.moment = moment\n\ton_load()\n      })\n      require([\"gridstack\"], function(GridStack) {\n\twindow.GridStack = GridStack\n\ton_load()\n      })\n      require([\"notyf\"], function() {\n\ton_load()\n      })\n      root._bokeh_is_loading = css_urls.length + 4;\n    } else {\n      root._bokeh_is_loading = css_urls.length + js_urls.length + js_modules.length;\n    }    if (((window['Tabulator'] !== undefined) && (!(window['Tabulator'] instanceof HTMLElement))) || window.requirejs) {\n      var urls = ['https://unpkg.com/tabulator-tables@4.9.3/dist/js/tabulator.js'];\n      for (var i = 0; i < urls.length; i++) {\n        skip.push(urls[i])\n      }\n    }    if (((window['moment'] !== undefined) && (!(window['moment'] instanceof HTMLElement))) || window.requirejs) {\n      var urls = ['https://cdn.jsdelivr.net/npm/luxon/build/global/luxon.min.js'];\n      for (var i = 0; i < urls.length; i++) {\n        skip.push(urls[i])\n      }\n    }    if (((window['GridStack'] !== undefined) && (!(window['GridStack'] instanceof HTMLElement))) || window.requirejs) {\n      var urls = ['https://cdn.jsdelivr.net/npm/gridstack@4.2.5/dist/gridstack-h5.js'];\n      for (var i = 0; i < urls.length; i++) {\n        skip.push(urls[i])\n      }\n    }    if (((window['Notyf'] !== undefined) && (!(window['Notyf'] instanceof HTMLElement))) || window.requirejs) {\n      var urls = ['https://cdn.jsdelivr.net/npm/notyf@3/notyf.min.js'];\n      for (var i = 0; i < urls.length; i++) {\n        skip.push(urls[i])\n      }\n    }    for (var i = 0; i < js_urls.length; i++) {\n      var url = js_urls[i];\n      if (skip.indexOf(url) >= 0) {\n\tif (!window.requirejs) {\n\t  on_load();\n\t}\n\tcontinue;\n      }\n      var element = document.createElement('script');\n      element.onload = on_load;\n      element.onerror = on_error;\n      element.async = false;\n      element.src = url;\n      console.debug(\"Bokeh: injecting script tag for BokehJS library: \", url);\n      document.head.appendChild(element);\n    }\n    for (var i = 0; i < js_modules.length; i++) {\n      var url = js_modules[i];\n      if (skip.indexOf(url) >= 0) {\n\tif (!window.requirejs) {\n\t  on_load();\n\t}\n\tcontinue;\n      }\n      var element = document.createElement('script');\n      element.onload = on_load;\n      element.onerror = on_error;\n      element.async = false;\n      element.src = url;\n      element.type = \"module\";\n      console.debug(\"Bokeh: injecting script tag for BokehJS library: \", url);\n      document.head.appendChild(element);\n    }\n    if (!js_urls.length && !js_modules.length) {\n      on_load()\n    }\n  };\n\n  function inject_raw_css(css) {\n    const element = document.createElement(\"style\");\n    element.appendChild(document.createTextNode(css));\n    document.body.appendChild(element);\n  }\n\n  var js_urls = [\"https://unpkg.com/tabulator-tables@4.9.3/dist/js/tabulator.js\", \"https://cdn.jsdelivr.net/npm/luxon/build/global/luxon.min.js\", \"https://cdn.bokeh.org/bokeh/release/bokeh-2.4.3.min.js\", \"https://cdn.bokeh.org/bokeh/release/bokeh-gl-2.4.3.min.js\", \"https://cdn.bokeh.org/bokeh/release/bokeh-widgets-2.4.3.min.js\", \"https://cdn.bokeh.org/bokeh/release/bokeh-tables-2.4.3.min.js\", \"https://cdn.bokeh.org/bokeh/release/bokeh-mathjax-2.4.3.min.js\", \"https://cdn.jsdelivr.net/npm/notyf@3/notyf.min.js\", \"https://unpkg.com/@holoviz/panel@0.13.1/dist/panel.min.js\"];\n  var js_modules = [];\n  var css_urls = [\"https://unpkg.com/tabulator-tables@4.9.3/dist/css/tabulator_simple.min.css\", \"https://cdn.jsdelivr.net/npm/notyf@3/notyf.min.css\", \"https://cdnjs.cloudflare.com/ajax/libs/font-awesome/5.15.1/css/all.min.css\", \"https://unpkg.com/@holoviz/panel@0.13.1/dist/css/debugger.css\", \"https://unpkg.com/@holoviz/panel@0.13.1/dist/css/alerts.css\", \"https://unpkg.com/@holoviz/panel@0.13.1/dist/css/card.css\", \"https://unpkg.com/@holoviz/panel@0.13.1/dist/css/widgets.css\", \"https://unpkg.com/@holoviz/panel@0.13.1/dist/css/markdown.css\", \"https://unpkg.com/@holoviz/panel@0.13.1/dist/css/json.css\", \"https://unpkg.com/@holoviz/panel@0.13.1/dist/css/loading.css\", \"https://unpkg.com/@holoviz/panel@0.13.1/dist/css/dataframe.css\"];\n  var inline_js = [    function(Bokeh) {\n      inject_raw_css(\"\\n    .bk.pn-loading.arcs:before {\\n      background-image: url(\\\"data:image/svg+xml;base64,PHN2ZyB4bWxucz0iaHR0cDovL3d3dy53My5vcmcvMjAwMC9zdmciIHhtbG5zOnhsaW5rPSJodHRwOi8vd3d3LnczLm9yZy8xOTk5L3hsaW5rIiBzdHlsZT0ibWFyZ2luOiBhdXRvOyBiYWNrZ3JvdW5kOiBub25lOyBkaXNwbGF5OiBibG9jazsgc2hhcGUtcmVuZGVyaW5nOiBhdXRvOyIgdmlld0JveD0iMCAwIDEwMCAxMDAiIHByZXNlcnZlQXNwZWN0UmF0aW89InhNaWRZTWlkIj4gIDxjaXJjbGUgY3g9IjUwIiBjeT0iNTAiIHI9IjMyIiBzdHJva2Utd2lkdGg9IjgiIHN0cm9rZT0iI2MzYzNjMyIgc3Ryb2tlLWRhc2hhcnJheT0iNTAuMjY1NDgyNDU3NDM2NjkgNTAuMjY1NDgyNDU3NDM2NjkiIGZpbGw9Im5vbmUiIHN0cm9rZS1saW5lY2FwPSJyb3VuZCI+ICAgIDxhbmltYXRlVHJhbnNmb3JtIGF0dHJpYnV0ZU5hbWU9InRyYW5zZm9ybSIgdHlwZT0icm90YXRlIiByZXBlYXRDb3VudD0iaW5kZWZpbml0ZSIgZHVyPSIxcyIga2V5VGltZXM9IjA7MSIgdmFsdWVzPSIwIDUwIDUwOzM2MCA1MCA1MCI+PC9hbmltYXRlVHJhbnNmb3JtPiAgPC9jaXJjbGU+PC9zdmc+\\\");\\n      background-size: auto calc(min(50%, 400px));\\n    }\\n    \");\n    },    function(Bokeh) {\n      Bokeh.set_log_level(\"info\");\n    },\nfunction(Bokeh) {} // ensure no trailing comma for IE\n  ];\n\n  function run_inline_js() {\n    if ((root.Bokeh !== undefined) || (force === true)) {\n      for (var i = 0; i < inline_js.length; i++) {\n        inline_js[i].call(root, root.Bokeh);\n      }} else if (Date.now() < root._bokeh_timeout) {\n      setTimeout(run_inline_js, 100);\n    } else if (!root._bokeh_failed_load) {\n      console.log(\"Bokeh: BokehJS failed to load within specified timeout.\");\n      root._bokeh_failed_load = true;\n    }\n  }\n\n  if (root._bokeh_is_loading === 0) {\n    console.debug(\"Bokeh: BokehJS loaded, going straight to plotting\");\n    run_inline_js();\n  } else {\n    load_libs(css_urls, js_urls, js_modules, function() {\n      console.debug(\"Bokeh: BokehJS plotting callback run at\", now());\n      run_inline_js();\n    });\n  }\n}(window));",
      "application/vnd.holoviews_load.v0+json": ""
     },
     "metadata": {},
     "output_type": "display_data"
    },
    {
     "data": {
      "application/javascript": "\nif ((window.PyViz === undefined) || (window.PyViz instanceof HTMLElement)) {\n  window.PyViz = {comms: {}, comm_status:{}, kernels:{}, receivers: {}, plot_index: []}\n}\n\n\n    function JupyterCommManager() {\n    }\n\n    JupyterCommManager.prototype.register_target = function(plot_id, comm_id, msg_handler) {\n      if (window.comm_manager || ((window.Jupyter !== undefined) && (Jupyter.notebook.kernel != null))) {\n        var comm_manager = window.comm_manager || Jupyter.notebook.kernel.comm_manager;\n        comm_manager.register_target(comm_id, function(comm) {\n          comm.on_msg(msg_handler);\n        });\n      } else if ((plot_id in window.PyViz.kernels) && (window.PyViz.kernels[plot_id])) {\n        window.PyViz.kernels[plot_id].registerCommTarget(comm_id, function(comm) {\n          comm.onMsg = msg_handler;\n        });\n      } else if (typeof google != 'undefined' && google.colab.kernel != null) {\n        google.colab.kernel.comms.registerTarget(comm_id, (comm) => {\n          var messages = comm.messages[Symbol.asyncIterator]();\n          function processIteratorResult(result) {\n            var message = result.value;\n            console.log(message)\n            var content = {data: message.data, comm_id};\n            var buffers = []\n            for (var buffer of message.buffers || []) {\n              buffers.push(new DataView(buffer))\n            }\n            var metadata = message.metadata || {};\n            var msg = {content, buffers, metadata}\n            msg_handler(msg);\n            return messages.next().then(processIteratorResult);\n          }\n          return messages.next().then(processIteratorResult);\n        })\n      }\n    }\n\n    JupyterCommManager.prototype.get_client_comm = function(plot_id, comm_id, msg_handler) {\n      if (comm_id in window.PyViz.comms) {\n        return window.PyViz.comms[comm_id];\n      } else if (window.comm_manager || ((window.Jupyter !== undefined) && (Jupyter.notebook.kernel != null))) {\n        var comm_manager = window.comm_manager || Jupyter.notebook.kernel.comm_manager;\n        var comm = comm_manager.new_comm(comm_id, {}, {}, {}, comm_id);\n        if (msg_handler) {\n          comm.on_msg(msg_handler);\n        }\n      } else if ((plot_id in window.PyViz.kernels) && (window.PyViz.kernels[plot_id])) {\n        var comm = window.PyViz.kernels[plot_id].connectToComm(comm_id);\n        comm.open();\n        if (msg_handler) {\n          comm.onMsg = msg_handler;\n        }\n      } else if (typeof google != 'undefined' && google.colab.kernel != null) {\n        var comm_promise = google.colab.kernel.comms.open(comm_id)\n        comm_promise.then((comm) => {\n          window.PyViz.comms[comm_id] = comm;\n          if (msg_handler) {\n            var messages = comm.messages[Symbol.asyncIterator]();\n            function processIteratorResult(result) {\n              var message = result.value;\n              var content = {data: message.data};\n              var metadata = message.metadata || {comm_id};\n              var msg = {content, metadata}\n              msg_handler(msg);\n              return messages.next().then(processIteratorResult);\n            }\n            return messages.next().then(processIteratorResult);\n          }\n        }) \n        var sendClosure = (data, metadata, buffers, disposeOnDone) => {\n          return comm_promise.then((comm) => {\n            comm.send(data, metadata, buffers, disposeOnDone);\n          });\n        };\n        var comm = {\n          send: sendClosure\n        };\n      }\n      window.PyViz.comms[comm_id] = comm;\n      return comm;\n    }\n    window.PyViz.comm_manager = new JupyterCommManager();\n    \n\n\nvar JS_MIME_TYPE = 'application/javascript';\nvar HTML_MIME_TYPE = 'text/html';\nvar EXEC_MIME_TYPE = 'application/vnd.holoviews_exec.v0+json';\nvar CLASS_NAME = 'output';\n\n/**\n * Render data to the DOM node\n */\nfunction render(props, node) {\n  var div = document.createElement(\"div\");\n  var script = document.createElement(\"script\");\n  node.appendChild(div);\n  node.appendChild(script);\n}\n\n/**\n * Handle when a new output is added\n */\nfunction handle_add_output(event, handle) {\n  var output_area = handle.output_area;\n  var output = handle.output;\n  if ((output.data == undefined) || (!output.data.hasOwnProperty(EXEC_MIME_TYPE))) {\n    return\n  }\n  var id = output.metadata[EXEC_MIME_TYPE][\"id\"];\n  var toinsert = output_area.element.find(\".\" + CLASS_NAME.split(' ')[0]);\n  if (id !== undefined) {\n    var nchildren = toinsert.length;\n    var html_node = toinsert[nchildren-1].children[0];\n    html_node.innerHTML = output.data[HTML_MIME_TYPE];\n    var scripts = [];\n    var nodelist = html_node.querySelectorAll(\"script\");\n    for (var i in nodelist) {\n      if (nodelist.hasOwnProperty(i)) {\n        scripts.push(nodelist[i])\n      }\n    }\n\n    scripts.forEach( function (oldScript) {\n      var newScript = document.createElement(\"script\");\n      var attrs = [];\n      var nodemap = oldScript.attributes;\n      for (var j in nodemap) {\n        if (nodemap.hasOwnProperty(j)) {\n          attrs.push(nodemap[j])\n        }\n      }\n      attrs.forEach(function(attr) { newScript.setAttribute(attr.name, attr.value) });\n      newScript.appendChild(document.createTextNode(oldScript.innerHTML));\n      oldScript.parentNode.replaceChild(newScript, oldScript);\n    });\n    if (JS_MIME_TYPE in output.data) {\n      toinsert[nchildren-1].children[1].textContent = output.data[JS_MIME_TYPE];\n    }\n    output_area._hv_plot_id = id;\n    if ((window.Bokeh !== undefined) && (id in Bokeh.index)) {\n      window.PyViz.plot_index[id] = Bokeh.index[id];\n    } else {\n      window.PyViz.plot_index[id] = null;\n    }\n  } else if (output.metadata[EXEC_MIME_TYPE][\"server_id\"] !== undefined) {\n    var bk_div = document.createElement(\"div\");\n    bk_div.innerHTML = output.data[HTML_MIME_TYPE];\n    var script_attrs = bk_div.children[0].attributes;\n    for (var i = 0; i < script_attrs.length; i++) {\n      toinsert[toinsert.length - 1].childNodes[1].setAttribute(script_attrs[i].name, script_attrs[i].value);\n    }\n    // store reference to server id on output_area\n    output_area._bokeh_server_id = output.metadata[EXEC_MIME_TYPE][\"server_id\"];\n  }\n}\n\n/**\n * Handle when an output is cleared or removed\n */\nfunction handle_clear_output(event, handle) {\n  var id = handle.cell.output_area._hv_plot_id;\n  var server_id = handle.cell.output_area._bokeh_server_id;\n  if (((id === undefined) || !(id in PyViz.plot_index)) && (server_id !== undefined)) { return; }\n  var comm = window.PyViz.comm_manager.get_client_comm(\"hv-extension-comm\", \"hv-extension-comm\", function () {});\n  if (server_id !== null) {\n    comm.send({event_type: 'server_delete', 'id': server_id});\n    return;\n  } else if (comm !== null) {\n    comm.send({event_type: 'delete', 'id': id});\n  }\n  delete PyViz.plot_index[id];\n  if ((window.Bokeh !== undefined) & (id in window.Bokeh.index)) {\n    var doc = window.Bokeh.index[id].model.document\n    doc.clear();\n    const i = window.Bokeh.documents.indexOf(doc);\n    if (i > -1) {\n      window.Bokeh.documents.splice(i, 1);\n    }\n  }\n}\n\n/**\n * Handle kernel restart event\n */\nfunction handle_kernel_cleanup(event, handle) {\n  delete PyViz.comms[\"hv-extension-comm\"];\n  window.PyViz.plot_index = {}\n}\n\n/**\n * Handle update_display_data messages\n */\nfunction handle_update_output(event, handle) {\n  handle_clear_output(event, {cell: {output_area: handle.output_area}})\n  handle_add_output(event, handle)\n}\n\nfunction register_renderer(events, OutputArea) {\n  function append_mime(data, metadata, element) {\n    // create a DOM node to render to\n    var toinsert = this.create_output_subarea(\n    metadata,\n    CLASS_NAME,\n    EXEC_MIME_TYPE\n    );\n    this.keyboard_manager.register_events(toinsert);\n    // Render to node\n    var props = {data: data, metadata: metadata[EXEC_MIME_TYPE]};\n    render(props, toinsert[0]);\n    element.append(toinsert);\n    return toinsert\n  }\n\n  events.on('output_added.OutputArea', handle_add_output);\n  events.on('output_updated.OutputArea', handle_update_output);\n  events.on('clear_output.CodeCell', handle_clear_output);\n  events.on('delete.Cell', handle_clear_output);\n  events.on('kernel_ready.Kernel', handle_kernel_cleanup);\n\n  OutputArea.prototype.register_mime_type(EXEC_MIME_TYPE, append_mime, {\n    safe: true,\n    index: 0\n  });\n}\n\nif (window.Jupyter !== undefined) {\n  try {\n    var events = require('base/js/events');\n    var OutputArea = require('notebook/js/outputarea').OutputArea;\n    if (OutputArea.prototype.mime_types().indexOf(EXEC_MIME_TYPE) == -1) {\n      register_renderer(events, OutputArea);\n    }\n  } catch(err) {\n  }\n}\n",
      "application/vnd.holoviews_load.v0+json": ""
     },
     "metadata": {},
     "output_type": "display_data"
    },
    {
     "data": {
      "text/html": [
       "<style>.bk-root, .bk-root .bk:before, .bk-root .bk:after {\n",
       "  font-family: var(--jp-ui-font-size1);\n",
       "  font-size: var(--jp-ui-font-size1);\n",
       "  color: var(--jp-ui-font-color1);\n",
       "}\n",
       "</style>"
      ]
     },
     "metadata": {},
     "output_type": "display_data"
    }
   ],
   "source": [
    "import pandas as pd\n",
    "import panel as pn\n",
    "import datetime as dt\n",
    "import matplotlib.pyplot as plt\n",
    "import numpy as np\n",
    "from matplotlib.dates import DateFormatter\n",
    "import seaborn as sns\n",
    "\n",
    "pn.extension('tabulator')\n",
    "\n",
    "import hvplot.pandas"
   ]
  },
  {
   "cell_type": "code",
   "execution_count": 39,
   "metadata": {},
   "outputs": [],
   "source": [
    "files = ['PrimeLandData1Year.xlsx']"
   ]
  },
  {
   "cell_type": "code",
   "execution_count": 40,
   "metadata": {},
   "outputs": [
    {
     "name": "stderr",
     "output_type": "stream",
     "text": [
      "/var/folders/kp/bgyrqb3s3n19yxcx2cyqppwh0000gn/T/ipykernel_2724/2132965398.py:4: FutureWarning: The frame.append method is deprecated and will be removed from pandas in a future version. Use pandas.concat instead.\n",
      "  df = df.append(pd.read_excel(file, sheet_name=\"posts\"), ignore_index=False)\n"
     ]
    },
    {
     "data": {
      "text/html": [
       "<div>\n",
       "<style scoped>\n",
       "    .dataframe tbody tr th:only-of-type {\n",
       "        vertical-align: middle;\n",
       "    }\n",
       "\n",
       "    .dataframe tbody tr th {\n",
       "        vertical-align: top;\n",
       "    }\n",
       "\n",
       "    .dataframe thead th {\n",
       "        text-align: right;\n",
       "    }\n",
       "</style>\n",
       "<table border=\"1\" class=\"dataframe\">\n",
       "  <thead>\n",
       "    <tr style=\"text-align: right;\">\n",
       "      <th></th>\n",
       "      <th>company</th>\n",
       "      <th>post_id</th>\n",
       "      <th>created_time</th>\n",
       "      <th>updated_time</th>\n",
       "      <th>message</th>\n",
       "      <th>shares_count</th>\n",
       "      <th>comments_count</th>\n",
       "      <th>reactions_count</th>\n",
       "      <th>like_count</th>\n",
       "      <th>love_count</th>\n",
       "      <th>haha_count</th>\n",
       "      <th>wow_count</th>\n",
       "      <th>sad_count</th>\n",
       "      <th>angry_count</th>\n",
       "    </tr>\n",
       "  </thead>\n",
       "  <tbody>\n",
       "    <tr>\n",
       "      <th>0</th>\n",
       "      <td>Prime Lands</td>\n",
       "      <td>135205517289_10159515017212290</td>\n",
       "      <td>2021-07-20T14:49:19</td>\n",
       "      <td>2021-07-20T14:49:19</td>\n",
       "      <td>Wisdom From Women Leaders in Sri Lanka!  Co-Ch...</td>\n",
       "      <td>NaN</td>\n",
       "      <td>0</td>\n",
       "      <td>3</td>\n",
       "      <td>3</td>\n",
       "      <td>0</td>\n",
       "      <td>0</td>\n",
       "      <td>0</td>\n",
       "      <td>0</td>\n",
       "      <td>0</td>\n",
       "    </tr>\n",
       "    <tr>\n",
       "      <th>1</th>\n",
       "      <td>Prime Lands</td>\n",
       "      <td>135205517289_10159514731812290</td>\n",
       "      <td>2021-07-20T11:55:49</td>\n",
       "      <td>2021-07-24T14:49:01</td>\n",
       "      <td>බිංගිරිය නගරයෙන්ම ව්‍යාපාරික හා නේවාසික බිම් ක...</td>\n",
       "      <td>4.0</td>\n",
       "      <td>2</td>\n",
       "      <td>64</td>\n",
       "      <td>63</td>\n",
       "      <td>1</td>\n",
       "      <td>0</td>\n",
       "      <td>0</td>\n",
       "      <td>0</td>\n",
       "      <td>0</td>\n",
       "    </tr>\n",
       "    <tr>\n",
       "      <th>2</th>\n",
       "      <td>Prime Lands</td>\n",
       "      <td>135205517289_10159527144357290</td>\n",
       "      <td>2021-07-26T05:51:50</td>\n",
       "      <td>2021-07-30T11:43:51</td>\n",
       "      <td>කුලියාපිටිය වෛද්‍ය විද්‍යාලයට මීටර් 500 දුරින්...</td>\n",
       "      <td>2.0</td>\n",
       "      <td>6</td>\n",
       "      <td>123</td>\n",
       "      <td>116</td>\n",
       "      <td>5</td>\n",
       "      <td>1</td>\n",
       "      <td>0</td>\n",
       "      <td>1</td>\n",
       "      <td>0</td>\n",
       "    </tr>\n",
       "    <tr>\n",
       "      <th>3</th>\n",
       "      <td>Prime Lands</td>\n",
       "      <td>135205517289_10159527177727290</td>\n",
       "      <td>2021-07-26T06:26:45</td>\n",
       "      <td>2021-08-01T04:53:50</td>\n",
       "      <td>මිද්දෙනිය නගරයෙන් පැහැදිලි ඔප්පු සහිත බිම් කොට...</td>\n",
       "      <td>17.0</td>\n",
       "      <td>37</td>\n",
       "      <td>1408</td>\n",
       "      <td>1376</td>\n",
       "      <td>28</td>\n",
       "      <td>3</td>\n",
       "      <td>0</td>\n",
       "      <td>1</td>\n",
       "      <td>0</td>\n",
       "    </tr>\n",
       "    <tr>\n",
       "      <th>4</th>\n",
       "      <td>Prime Lands</td>\n",
       "      <td>135205517289_10159538109032290</td>\n",
       "      <td>2021-07-31T07:05:37</td>\n",
       "      <td>2021-08-03T12:28:15</td>\n",
       "      <td>The Chairman of Prime Group, Mr. Premalal Brah...</td>\n",
       "      <td>13.0</td>\n",
       "      <td>3</td>\n",
       "      <td>30</td>\n",
       "      <td>26</td>\n",
       "      <td>4</td>\n",
       "      <td>0</td>\n",
       "      <td>0</td>\n",
       "      <td>0</td>\n",
       "      <td>0</td>\n",
       "    </tr>\n",
       "  </tbody>\n",
       "</table>\n",
       "</div>"
      ],
      "text/plain": [
       "       company                         post_id         created_time  \\\n",
       "0  Prime Lands  135205517289_10159515017212290  2021-07-20T14:49:19   \n",
       "1  Prime Lands  135205517289_10159514731812290  2021-07-20T11:55:49   \n",
       "2  Prime Lands  135205517289_10159527144357290  2021-07-26T05:51:50   \n",
       "3  Prime Lands  135205517289_10159527177727290  2021-07-26T06:26:45   \n",
       "4  Prime Lands  135205517289_10159538109032290  2021-07-31T07:05:37   \n",
       "\n",
       "          updated_time                                            message  \\\n",
       "0  2021-07-20T14:49:19  Wisdom From Women Leaders in Sri Lanka!  Co-Ch...   \n",
       "1  2021-07-24T14:49:01  බිංගිරිය නගරයෙන්ම ව්‍යාපාරික හා නේවාසික බිම් ක...   \n",
       "2  2021-07-30T11:43:51  කුලියාපිටිය වෛද්‍ය විද්‍යාලයට මීටර් 500 දුරින්...   \n",
       "3  2021-08-01T04:53:50  මිද්දෙනිය නගරයෙන් පැහැදිලි ඔප්පු සහිත බිම් කොට...   \n",
       "4  2021-08-03T12:28:15  The Chairman of Prime Group, Mr. Premalal Brah...   \n",
       "\n",
       "   shares_count  comments_count  reactions_count  like_count  love_count  \\\n",
       "0           NaN               0                3           3           0   \n",
       "1           4.0               2               64          63           1   \n",
       "2           2.0               6              123         116           5   \n",
       "3          17.0              37             1408        1376          28   \n",
       "4          13.0               3               30          26           4   \n",
       "\n",
       "   haha_count  wow_count  sad_count  angry_count  \n",
       "0           0          0          0            0  \n",
       "1           0          0          0            0  \n",
       "2           1          0          1            0  \n",
       "3           3          0          1            0  \n",
       "4           0          0          0            0  "
      ]
     },
     "execution_count": 40,
     "metadata": {},
     "output_type": "execute_result"
    }
   ],
   "source": [
    "df = pd.DataFrame()\n",
    "for file in files:\n",
    "     if file.endswith('.xlsx'):\n",
    "         df = df.append(pd.read_excel(file, sheet_name=\"posts\"), ignore_index=False) \n",
    "df.head()\n",
    "\n"
   ]
  },
  {
   "cell_type": "code",
   "execution_count": 41,
   "metadata": {},
   "outputs": [
    {
     "data": {
      "text/html": [
       "<div>\n",
       "<style scoped>\n",
       "    .dataframe tbody tr th:only-of-type {\n",
       "        vertical-align: middle;\n",
       "    }\n",
       "\n",
       "    .dataframe tbody tr th {\n",
       "        vertical-align: top;\n",
       "    }\n",
       "\n",
       "    .dataframe thead th {\n",
       "        text-align: right;\n",
       "    }\n",
       "</style>\n",
       "<table border=\"1\" class=\"dataframe\">\n",
       "  <thead>\n",
       "    <tr style=\"text-align: right;\">\n",
       "      <th></th>\n",
       "      <th>company</th>\n",
       "      <th>post_id</th>\n",
       "      <th>created_time</th>\n",
       "      <th>updated_time</th>\n",
       "      <th>message</th>\n",
       "      <th>shares_count</th>\n",
       "      <th>comments_count</th>\n",
       "      <th>reactions_count</th>\n",
       "      <th>like_count</th>\n",
       "      <th>love_count</th>\n",
       "      <th>haha_count</th>\n",
       "      <th>wow_count</th>\n",
       "      <th>sad_count</th>\n",
       "      <th>angry_count</th>\n",
       "    </tr>\n",
       "  </thead>\n",
       "  <tbody>\n",
       "    <tr>\n",
       "      <th>34</th>\n",
       "      <td>Prime Lands</td>\n",
       "      <td>135205517289_10159514146667290</td>\n",
       "      <td>2021-07-20 03:45:28</td>\n",
       "      <td>2021-09-21 03:39:16</td>\n",
       "      <td>Prime Villas Dalugama, a Project with Definite...</td>\n",
       "      <td>48.0</td>\n",
       "      <td>36</td>\n",
       "      <td>2384</td>\n",
       "      <td>2346</td>\n",
       "      <td>34</td>\n",
       "      <td>2</td>\n",
       "      <td>2</td>\n",
       "      <td>0</td>\n",
       "      <td>0</td>\n",
       "    </tr>\n",
       "    <tr>\n",
       "      <th>6</th>\n",
       "      <td>Prime Lands</td>\n",
       "      <td>135205517289_10159514182577290</td>\n",
       "      <td>2021-07-20 04:13:36</td>\n",
       "      <td>2021-08-07 03:52:08</td>\n",
       "      <td>කුරුණෑගල නගරයට විනාඩි 5යි...!!! සියළු නාගරික ප...</td>\n",
       "      <td>24.0</td>\n",
       "      <td>64</td>\n",
       "      <td>2708</td>\n",
       "      <td>2674</td>\n",
       "      <td>33</td>\n",
       "      <td>1</td>\n",
       "      <td>0</td>\n",
       "      <td>0</td>\n",
       "      <td>0</td>\n",
       "    </tr>\n",
       "    <tr>\n",
       "      <th>13</th>\n",
       "      <td>Prime Lands</td>\n",
       "      <td>135205517289_10159514731557290</td>\n",
       "      <td>2021-07-20 11:55:29</td>\n",
       "      <td>2021-08-24 08:26:07</td>\n",
       "      <td>මීගමුවෙන් නියම තැනක් සියලු පහසුකම් සමඟ, 251 බස...</td>\n",
       "      <td>13.0</td>\n",
       "      <td>78</td>\n",
       "      <td>136</td>\n",
       "      <td>131</td>\n",
       "      <td>4</td>\n",
       "      <td>1</td>\n",
       "      <td>0</td>\n",
       "      <td>0</td>\n",
       "      <td>0</td>\n",
       "    </tr>\n",
       "    <tr>\n",
       "      <th>1</th>\n",
       "      <td>Prime Lands</td>\n",
       "      <td>135205517289_10159514731812290</td>\n",
       "      <td>2021-07-20 11:55:49</td>\n",
       "      <td>2021-07-24 14:49:01</td>\n",
       "      <td>බිංගිරිය නගරයෙන්ම ව්‍යාපාරික හා නේවාසික බිම් ක...</td>\n",
       "      <td>4.0</td>\n",
       "      <td>2</td>\n",
       "      <td>64</td>\n",
       "      <td>63</td>\n",
       "      <td>1</td>\n",
       "      <td>0</td>\n",
       "      <td>0</td>\n",
       "      <td>0</td>\n",
       "      <td>0</td>\n",
       "    </tr>\n",
       "    <tr>\n",
       "      <th>0</th>\n",
       "      <td>Prime Lands</td>\n",
       "      <td>135205517289_10159515017212290</td>\n",
       "      <td>2021-07-20 14:49:19</td>\n",
       "      <td>2021-07-20 14:49:19</td>\n",
       "      <td>Wisdom From Women Leaders in Sri Lanka!  Co-Ch...</td>\n",
       "      <td>0.0</td>\n",
       "      <td>0</td>\n",
       "      <td>3</td>\n",
       "      <td>3</td>\n",
       "      <td>0</td>\n",
       "      <td>0</td>\n",
       "      <td>0</td>\n",
       "      <td>0</td>\n",
       "      <td>0</td>\n",
       "    </tr>\n",
       "  </tbody>\n",
       "</table>\n",
       "</div>"
      ],
      "text/plain": [
       "        company                         post_id        created_time  \\\n",
       "34  Prime Lands  135205517289_10159514146667290 2021-07-20 03:45:28   \n",
       "6   Prime Lands  135205517289_10159514182577290 2021-07-20 04:13:36   \n",
       "13  Prime Lands  135205517289_10159514731557290 2021-07-20 11:55:29   \n",
       "1   Prime Lands  135205517289_10159514731812290 2021-07-20 11:55:49   \n",
       "0   Prime Lands  135205517289_10159515017212290 2021-07-20 14:49:19   \n",
       "\n",
       "          updated_time                                            message  \\\n",
       "34 2021-09-21 03:39:16  Prime Villas Dalugama, a Project with Definite...   \n",
       "6  2021-08-07 03:52:08  කුරුණෑගල නගරයට විනාඩි 5යි...!!! සියළු නාගරික ප...   \n",
       "13 2021-08-24 08:26:07  මීගමුවෙන් නියම තැනක් සියලු පහසුකම් සමඟ, 251 බස...   \n",
       "1  2021-07-24 14:49:01  බිංගිරිය නගරයෙන්ම ව්‍යාපාරික හා නේවාසික බිම් ක...   \n",
       "0  2021-07-20 14:49:19  Wisdom From Women Leaders in Sri Lanka!  Co-Ch...   \n",
       "\n",
       "    shares_count  comments_count  reactions_count  like_count  love_count  \\\n",
       "34          48.0              36             2384        2346          34   \n",
       "6           24.0              64             2708        2674          33   \n",
       "13          13.0              78              136         131           4   \n",
       "1            4.0               2               64          63           1   \n",
       "0            0.0               0                3           3           0   \n",
       "\n",
       "    haha_count  wow_count  sad_count  angry_count  \n",
       "34           2          2          0            0  \n",
       "6            1          0          0            0  \n",
       "13           1          0          0            0  \n",
       "1            0          0          0            0  \n",
       "0            0          0          0            0  "
      ]
     },
     "execution_count": 41,
     "metadata": {},
     "output_type": "execute_result"
    }
   ],
   "source": [
    "\n",
    "df['shares_count'] = df['shares_count'].replace(np.nan, 0)\n",
    "df['comments_count'] = df['comments_count'].replace(np.nan, 0)\n",
    "df['reactions_count'] = df['reactions_count'].replace(np.nan, 0)\n",
    "df['like_count'] = df['like_count'].replace(np.nan, 0)\n",
    "df['love_count'] = df['love_count'].replace(np.nan, 0)\n",
    "df['haha_count'] = df['haha_count'].replace(np.nan, 0)\n",
    "df['wow_count'] = df['wow_count'].replace(np.nan, 0)\n",
    "df['sad_count'] = df['sad_count'].replace(np.nan, 0)\n",
    "df['angry_count'] = df['angry_count'].replace(np.nan, 0)\n",
    "\n",
    "df['created_time'] = pd.to_datetime(df['created_time'])\n",
    "df['updated_time'] = pd.to_datetime(df['updated_time'])\n",
    "\n",
    "df.sort_values(by='created_time', inplace=True)\n",
    "\n",
    "df.head()\n",
    "\n"
   ]
  },
  {
   "cell_type": "code",
   "execution_count": 42,
   "metadata": {},
   "outputs": [
    {
     "name": "stdout",
     "output_type": "stream",
     "text": [
      "average share count: 17.821538461538463\n",
      "average comments count: 50.30153846153846\n",
      "average reactions count: 1250.6707692307693\n"
     ]
    }
   ],
   "source": [
    "average_share_count = df[\"shares_count\"].sum()/len(df.index)\n",
    "print(f'average share count: {average_share_count}')\n",
    "\n",
    "average_comments_count = df[\"comments_count\"].sum()/len(df.index)\n",
    "print(f'average comments count: {average_comments_count}')\n",
    "\n",
    "average_reactions_count = df[\"reactions_count\"].sum()/len(df.index)\n",
    "print(f'average reactions count: {average_reactions_count}')"
   ]
  },
  {
   "cell_type": "code",
   "execution_count": 43,
   "metadata": {},
   "outputs": [
    {
     "data": {
      "text/plain": [
       "<AxesSubplot:xlabel='created_time'>"
      ]
     },
     "execution_count": 43,
     "metadata": {},
     "output_type": "execute_result"
    },
    {
     "data": {
      "image/png": "[encoded data removed]",
      "text/plain": [
       "<Figure size 432x288 with 1 Axes>"
      ]
     },
     "metadata": {
      "needs_background": "light"
     },
     "output_type": "display_data"
    }
   ],
   "source": [
    "df.reset_index().plot(x ='created_time', y='shares_count', kind = 'line')"
   ]
  },
  {
   "cell_type": "code",
   "execution_count": 44,
   "metadata": {},
   "outputs": [
    {
     "data": {
      "image/png": "[encoded data removed]",
      "text/plain": [
       "<Figure size 432x288 with 1 Axes>"
      ]
     },
     "metadata": {},
     "output_type": "display_data"
    }
   ],
   "source": [
    "reactions_count =  df['like_count'].sum()\n",
    "like_count = df['like_count'].sum()\n",
    "love_count = df['love_count'].sum()\n",
    "haha_count = df['haha_count'].sum()\n",
    "wow_count = df['wow_count'].sum()\n",
    "sad_count = df['sad_count'].sum()\n",
    "angry_count = df['angry_count'].sum()\n",
    "\n",
    "y = np.array([like_count, love_count, haha_count, wow_count, sad_count,angry_count])\n",
    "mylabels = [\"Like\", \"Love\", \"Haha\", \"Wow\",\"Sad\", \"Angry\"]\n",
    "\n",
    "plt.pie(y, labels = mylabels)\n",
    "plt.legend(title = \"Total Reactions:\")\n",
    "plt.show() \n",
    "\n",
    "\n"
   ]
  },
  {
   "cell_type": "code",
   "execution_count": 45,
   "metadata": {},
   "outputs": [
    {
     "data": {
      "image/png": "[encoded data removed]",
      "text/plain": [
       "<Figure size 432x360 with 1 Axes>"
      ]
     },
     "metadata": {},
     "output_type": "display_data"
    }
   ],
   "source": [
    "fig1, ax1 = plt.subplots(figsize=(6, 5))\n",
    "fig1.subplots_adjust(0.3,0,1,1)\n",
    "\n",
    "\n",
    "theme = plt.get_cmap('bwr')\n",
    "ax1.set_prop_cycle(\"color\", [theme(1. * i / len(y)) for i in range(len(y))])\n",
    "\n",
    "_, _ = ax1.pie(y, startangle=90)\n",
    "\n",
    "ax1.axis('equal')\n",
    "\n",
    "total = sum(y)\n",
    "plt.legend(\n",
    "    loc='upper left',\n",
    "    labels=['%s, %1.1f%%' % (\n",
    "        l, (float(s) / total) * 100) for l, s in zip(mylabels, y)],\n",
    "    prop={'size': 11},\n",
    "    bbox_to_anchor=(0.0, 1),\n",
    "    bbox_transform=fig1.transFigure\n",
    ")\n",
    "\n",
    "plt.show()"
   ]
  },
  {
   "cell_type": "code",
   "execution_count": 46,
   "metadata": {},
   "outputs": [
    {
     "data": {
      "text/plain": [
       "(0.0, 5.0)"
      ]
     },
     "execution_count": 46,
     "metadata": {},
     "output_type": "execute_result"
    },
    {
     "data": {
      "image/png": "[encoded data removed]",
      "text/plain": [
       "<Figure size 432x288 with 1 Axes>"
      ]
     },
     "metadata": {
      "needs_background": "light"
     },
     "output_type": "display_data"
    }
   ],
   "source": [
    "x = df['created_time']\n",
    "y = df['shares_count']\n",
    "\n",
    "fig, ax = plt.subplots()\n",
    "ax.plot_date(x, y, markerfacecolor='CornflowerBlue', markeredgecolor='white')\n",
    "fig.autofmt_xdate()\n",
    "ax.set_xlim([dt.date(2021, 7, 1), dt.date(2022, 8, 1)])\n",
    "ax.set_ylim([0, 5])"
   ]
  },
  {
   "cell_type": "code",
   "execution_count": 47,
   "metadata": {},
   "outputs": [
    {
     "data": {
      "image/png": "[encoded data removed]",
      "text/plain": [
       "<Figure size 432x288 with 1 Axes>"
      ]
     },
     "metadata": {
      "needs_background": "light"
     },
     "output_type": "display_data"
    }
   ],
   "source": [
    "df[\"created_time\"] = pd.to_datetime(df['created_time'])\n",
    "df.plot(x=\"created_time\", y=[\"shares_count\", \"comments_count\"])\n",
    "plt.show()"
   ]
  },
  {
   "cell_type": "code",
   "execution_count": 48,
   "metadata": {},
   "outputs": [
    {
     "data": {
      "image/png": "[encoded data removed]",
      "text/plain": [
       "<Figure size 432x288 with 1 Axes>"
      ]
     },
     "metadata": {
      "needs_background": "light"
     },
     "output_type": "display_data"
    }
   ],
   "source": [
    "df[\"created_time\"] = pd.to_datetime(df['created_time'])\n",
    "df.plot(x=\"created_time\", y=[\"like_count\", \"love_count\", \"haha_count\", \"wow_count\", \"sad_count\",\"angry_count\"])\n",
    "plt.show()"
   ]
  },
  {
   "cell_type": "code",
   "execution_count": 49,
   "metadata": {},
   "outputs": [
    {
     "data": {
      "text/html": [
       "<div>\n",
       "<style scoped>\n",
       "    .dataframe tbody tr th:only-of-type {\n",
       "        vertical-align: middle;\n",
       "    }\n",
       "\n",
       "    .dataframe tbody tr th {\n",
       "        vertical-align: top;\n",
       "    }\n",
       "\n",
       "    .dataframe thead th {\n",
       "        text-align: right;\n",
       "    }\n",
       "</style>\n",
       "<table border=\"1\" class=\"dataframe\">\n",
       "  <thead>\n",
       "    <tr style=\"text-align: right;\">\n",
       "      <th></th>\n",
       "      <th>shares_count</th>\n",
       "      <th>comments_count</th>\n",
       "      <th>reactions_count</th>\n",
       "      <th>like_count</th>\n",
       "      <th>love_count</th>\n",
       "      <th>haha_count</th>\n",
       "      <th>wow_count</th>\n",
       "      <th>sad_count</th>\n",
       "      <th>angry_count</th>\n",
       "    </tr>\n",
       "    <tr>\n",
       "      <th>created_time</th>\n",
       "      <th></th>\n",
       "      <th></th>\n",
       "      <th></th>\n",
       "      <th></th>\n",
       "      <th></th>\n",
       "      <th></th>\n",
       "      <th></th>\n",
       "      <th></th>\n",
       "      <th></th>\n",
       "    </tr>\n",
       "  </thead>\n",
       "  <tbody>\n",
       "    <tr>\n",
       "      <th>2021-07-31</th>\n",
       "      <td>751.0</td>\n",
       "      <td>3613</td>\n",
       "      <td>32254</td>\n",
       "      <td>31284</td>\n",
       "      <td>867</td>\n",
       "      <td>43</td>\n",
       "      <td>28</td>\n",
       "      <td>17</td>\n",
       "      <td>15</td>\n",
       "    </tr>\n",
       "    <tr>\n",
       "      <th>2021-08-31</th>\n",
       "      <td>548.0</td>\n",
       "      <td>1623</td>\n",
       "      <td>28185</td>\n",
       "      <td>26922</td>\n",
       "      <td>1164</td>\n",
       "      <td>45</td>\n",
       "      <td>25</td>\n",
       "      <td>16</td>\n",
       "      <td>13</td>\n",
       "    </tr>\n",
       "    <tr>\n",
       "      <th>2021-09-30</th>\n",
       "      <td>428.0</td>\n",
       "      <td>768</td>\n",
       "      <td>35465</td>\n",
       "      <td>34698</td>\n",
       "      <td>673</td>\n",
       "      <td>46</td>\n",
       "      <td>17</td>\n",
       "      <td>13</td>\n",
       "      <td>18</td>\n",
       "    </tr>\n",
       "    <tr>\n",
       "      <th>2021-10-31</th>\n",
       "      <td>289.0</td>\n",
       "      <td>722</td>\n",
       "      <td>25687</td>\n",
       "      <td>24990</td>\n",
       "      <td>610</td>\n",
       "      <td>48</td>\n",
       "      <td>12</td>\n",
       "      <td>11</td>\n",
       "      <td>16</td>\n",
       "    </tr>\n",
       "    <tr>\n",
       "      <th>2021-11-30</th>\n",
       "      <td>224.0</td>\n",
       "      <td>430</td>\n",
       "      <td>30692</td>\n",
       "      <td>29978</td>\n",
       "      <td>622</td>\n",
       "      <td>31</td>\n",
       "      <td>27</td>\n",
       "      <td>19</td>\n",
       "      <td>15</td>\n",
       "    </tr>\n",
       "    <tr>\n",
       "      <th>2021-12-31</th>\n",
       "      <td>188.0</td>\n",
       "      <td>367</td>\n",
       "      <td>29002</td>\n",
       "      <td>28255</td>\n",
       "      <td>662</td>\n",
       "      <td>40</td>\n",
       "      <td>21</td>\n",
       "      <td>15</td>\n",
       "      <td>9</td>\n",
       "    </tr>\n",
       "    <tr>\n",
       "      <th>2022-01-31</th>\n",
       "      <td>264.0</td>\n",
       "      <td>1730</td>\n",
       "      <td>24929</td>\n",
       "      <td>24194</td>\n",
       "      <td>617</td>\n",
       "      <td>62</td>\n",
       "      <td>24</td>\n",
       "      <td>19</td>\n",
       "      <td>13</td>\n",
       "    </tr>\n",
       "    <tr>\n",
       "      <th>2022-02-28</th>\n",
       "      <td>304.0</td>\n",
       "      <td>684</td>\n",
       "      <td>17918</td>\n",
       "      <td>17454</td>\n",
       "      <td>392</td>\n",
       "      <td>44</td>\n",
       "      <td>17</td>\n",
       "      <td>8</td>\n",
       "      <td>3</td>\n",
       "    </tr>\n",
       "    <tr>\n",
       "      <th>2022-03-31</th>\n",
       "      <td>319.0</td>\n",
       "      <td>1018</td>\n",
       "      <td>26134</td>\n",
       "      <td>25690</td>\n",
       "      <td>368</td>\n",
       "      <td>34</td>\n",
       "      <td>19</td>\n",
       "      <td>13</td>\n",
       "      <td>10</td>\n",
       "    </tr>\n",
       "    <tr>\n",
       "      <th>2022-04-30</th>\n",
       "      <td>566.0</td>\n",
       "      <td>1063</td>\n",
       "      <td>33174</td>\n",
       "      <td>32504</td>\n",
       "      <td>575</td>\n",
       "      <td>40</td>\n",
       "      <td>34</td>\n",
       "      <td>7</td>\n",
       "      <td>14</td>\n",
       "    </tr>\n",
       "    <tr>\n",
       "      <th>2022-05-31</th>\n",
       "      <td>859.0</td>\n",
       "      <td>1906</td>\n",
       "      <td>47619</td>\n",
       "      <td>46583</td>\n",
       "      <td>863</td>\n",
       "      <td>67</td>\n",
       "      <td>64</td>\n",
       "      <td>19</td>\n",
       "      <td>23</td>\n",
       "    </tr>\n",
       "    <tr>\n",
       "      <th>2022-06-30</th>\n",
       "      <td>810.0</td>\n",
       "      <td>1953</td>\n",
       "      <td>51953</td>\n",
       "      <td>50112</td>\n",
       "      <td>1682</td>\n",
       "      <td>98</td>\n",
       "      <td>35</td>\n",
       "      <td>21</td>\n",
       "      <td>5</td>\n",
       "    </tr>\n",
       "    <tr>\n",
       "      <th>2022-07-31</th>\n",
       "      <td>242.0</td>\n",
       "      <td>471</td>\n",
       "      <td>23456</td>\n",
       "      <td>22966</td>\n",
       "      <td>431</td>\n",
       "      <td>33</td>\n",
       "      <td>14</td>\n",
       "      <td>8</td>\n",
       "      <td>4</td>\n",
       "    </tr>\n",
       "  </tbody>\n",
       "</table>\n",
       "</div>"
      ],
      "text/plain": [
       "              shares_count  comments_count  reactions_count  like_count  \\\n",
       "created_time                                                              \n",
       "2021-07-31           751.0            3613            32254       31284   \n",
       "2021-08-31           548.0            1623            28185       26922   \n",
       "2021-09-30           428.0             768            35465       34698   \n",
       "2021-10-31           289.0             722            25687       24990   \n",
       "2021-11-30           224.0             430            30692       29978   \n",
       "2021-12-31           188.0             367            29002       28255   \n",
       "2022-01-31           264.0            1730            24929       24194   \n",
       "2022-02-28           304.0             684            17918       17454   \n",
       "2022-03-31           319.0            1018            26134       25690   \n",
       "2022-04-30           566.0            1063            33174       32504   \n",
       "2022-05-31           859.0            1906            47619       46583   \n",
       "2022-06-30           810.0            1953            51953       50112   \n",
       "2022-07-31           242.0             471            23456       22966   \n",
       "\n",
       "              love_count  haha_count  wow_count  sad_count  angry_count  \n",
       "created_time                                                             \n",
       "2021-07-31           867          43         28         17           15  \n",
       "2021-08-31          1164          45         25         16           13  \n",
       "2021-09-30           673          46         17         13           18  \n",
       "2021-10-31           610          48         12         11           16  \n",
       "2021-11-30           622          31         27         19           15  \n",
       "2021-12-31           662          40         21         15            9  \n",
       "2022-01-31           617          62         24         19           13  \n",
       "2022-02-28           392          44         17          8            3  \n",
       "2022-03-31           368          34         19         13           10  \n",
       "2022-04-30           575          40         34          7           14  \n",
       "2022-05-31           863          67         64         19           23  \n",
       "2022-06-30          1682          98         35         21            5  \n",
       "2022-07-31           431          33         14          8            4  "
      ]
     },
     "execution_count": 49,
     "metadata": {},
     "output_type": "execute_result"
    }
   ],
   "source": [
    "df_groupby_m_y = df.groupby(pd.Grouper(key='created_time',freq='M')).sum()\n",
    "df_groupby_m_y\n"
   ]
  },
  {
   "cell_type": "code",
   "execution_count": 50,
   "metadata": {},
   "outputs": [
    {
     "data": {
      "text/plain": [
       "<AxesSubplot:xlabel='created_time'>"
      ]
     },
     "execution_count": 50,
     "metadata": {},
     "output_type": "execute_result"
    },
    {
     "data": {
      "image/png": "[encoded data removed]",
      "text/plain": [
       "<Figure size 432x288 with 1 Axes>"
      ]
     },
     "metadata": {
      "needs_background": "light"
     },
     "output_type": "display_data"
    }
   ],
   "source": [
    "df_groupby_m_y.reset_index().plot(x ='created_time', y='shares_count', kind = 'bar')"
   ]
  },
  {
   "cell_type": "code",
   "execution_count": 51,
   "metadata": {},
   "outputs": [
    {
     "data": {
      "text/plain": [
       "<AxesSubplot:xlabel='created_time'>"
      ]
     },
     "execution_count": 51,
     "metadata": {},
     "output_type": "execute_result"
    },
    {
     "data": {
      "image/png": "[encoded data removed]",
      "text/plain": [
       "<Figure size 432x288 with 1 Axes>"
      ]
     },
     "metadata": {
      "needs_background": "light"
     },
     "output_type": "display_data"
    }
   ],
   "source": [
    "df_groupby_m_y.reset_index().plot(\n",
    "    x=\"created_time\", y=[\"shares_count\", \"comments_count\", \"reactions_count\"], kind=\"bar\"\n",
    ")\n"
   ]
  },
  {
   "cell_type": "code",
   "execution_count": 52,
   "metadata": {},
   "outputs": [
    {
     "data": {
      "text/plain": [
       "<AxesSubplot:xlabel='created_time'>"
      ]
     },
     "execution_count": 52,
     "metadata": {},
     "output_type": "execute_result"
    },
    {
     "data": {
      "image/png": "[encoded data removed]",
      "text/plain": [
       "<Figure size 432x288 with 1 Axes>"
      ]
     },
     "metadata": {
      "needs_background": "light"
     },
     "output_type": "display_data"
    }
   ],
   "source": [
    "df_groupby_m_y.reset_index().plot(\n",
    "    x=\"created_time\", y=[\"like_count\", \"love_count\", \"haha_count\", \"wow_count\", \"sad_count\",\"angry_count\"], kind=\"bar\"\n",
    ")\n"
   ]
  },
  {
   "cell_type": "code",
   "execution_count": 56,
   "metadata": {},
   "outputs": [
    {
     "data": {
      "text/plain": [
       "created_time  created_time\n",
       "2021          7               25\n",
       "              8               25\n",
       "              9               25\n",
       "              10              25\n",
       "              11              25\n",
       "              12              25\n",
       "2022          1               25\n",
       "              2               25\n",
       "              3               25\n",
       "              4               25\n",
       "              5               25\n",
       "              6               25\n",
       "              7               25\n",
       "Name: created_time, dtype: int64"
      ]
     },
     "execution_count": 56,
     "metadata": {},
     "output_type": "execute_result"
    }
   ],
   "source": [
    "df['created_time'].groupby([df.created_time.dt.year, df.created_time.dt.month]).agg('count')"
   ]
  },
  {
   "cell_type": "code",
   "execution_count": 53,
   "metadata": {},
   "outputs": [
    {
     "data": {
      "text/html": [
       "<div>\n",
       "<style scoped>\n",
       "    .dataframe tbody tr th:only-of-type {\n",
       "        vertical-align: middle;\n",
       "    }\n",
       "\n",
       "    .dataframe tbody tr th {\n",
       "        vertical-align: top;\n",
       "    }\n",
       "\n",
       "    .dataframe thead th {\n",
       "        text-align: right;\n",
       "    }\n",
       "</style>\n",
       "<table border=\"1\" class=\"dataframe\">\n",
       "  <thead>\n",
       "    <tr style=\"text-align: right;\">\n",
       "      <th></th>\n",
       "      <th>shares_count</th>\n",
       "      <th>comments_count</th>\n",
       "      <th>reactions_count</th>\n",
       "      <th>like_count</th>\n",
       "      <th>love_count</th>\n",
       "      <th>haha_count</th>\n",
       "      <th>wow_count</th>\n",
       "      <th>sad_count</th>\n",
       "      <th>angry_count</th>\n",
       "    </tr>\n",
       "    <tr>\n",
       "      <th>created_time</th>\n",
       "      <th></th>\n",
       "      <th></th>\n",
       "      <th></th>\n",
       "      <th></th>\n",
       "      <th></th>\n",
       "      <th></th>\n",
       "      <th></th>\n",
       "      <th></th>\n",
       "      <th></th>\n",
       "    </tr>\n",
       "  </thead>\n",
       "  <tbody>\n",
       "    <tr>\n",
       "      <th>2021-07-31</th>\n",
       "      <td>14.0</td>\n",
       "      <td>61.0</td>\n",
       "      <td>1093.0</td>\n",
       "      <td>1066.0</td>\n",
       "      <td>28.0</td>\n",
       "      <td>2.0</td>\n",
       "      <td>1.0</td>\n",
       "      <td>0.0</td>\n",
       "      <td>0.0</td>\n",
       "    </tr>\n",
       "    <tr>\n",
       "      <th>2021-08-31</th>\n",
       "      <td>15.0</td>\n",
       "      <td>35.0</td>\n",
       "      <td>1212.0</td>\n",
       "      <td>1169.0</td>\n",
       "      <td>26.0</td>\n",
       "      <td>1.0</td>\n",
       "      <td>0.0</td>\n",
       "      <td>0.0</td>\n",
       "      <td>0.0</td>\n",
       "    </tr>\n",
       "    <tr>\n",
       "      <th>2021-09-30</th>\n",
       "      <td>12.0</td>\n",
       "      <td>17.0</td>\n",
       "      <td>1462.0</td>\n",
       "      <td>1437.0</td>\n",
       "      <td>25.0</td>\n",
       "      <td>1.0</td>\n",
       "      <td>0.0</td>\n",
       "      <td>0.0</td>\n",
       "      <td>1.0</td>\n",
       "    </tr>\n",
       "    <tr>\n",
       "      <th>2021-10-31</th>\n",
       "      <td>9.0</td>\n",
       "      <td>17.0</td>\n",
       "      <td>967.0</td>\n",
       "      <td>949.0</td>\n",
       "      <td>23.0</td>\n",
       "      <td>1.0</td>\n",
       "      <td>0.0</td>\n",
       "      <td>0.0</td>\n",
       "      <td>0.0</td>\n",
       "    </tr>\n",
       "    <tr>\n",
       "      <th>2021-11-30</th>\n",
       "      <td>8.0</td>\n",
       "      <td>11.0</td>\n",
       "      <td>1132.0</td>\n",
       "      <td>1110.0</td>\n",
       "      <td>20.0</td>\n",
       "      <td>1.0</td>\n",
       "      <td>1.0</td>\n",
       "      <td>0.0</td>\n",
       "      <td>0.0</td>\n",
       "    </tr>\n",
       "    <tr>\n",
       "      <th>2021-12-31</th>\n",
       "      <td>6.0</td>\n",
       "      <td>9.0</td>\n",
       "      <td>1180.0</td>\n",
       "      <td>1145.0</td>\n",
       "      <td>27.0</td>\n",
       "      <td>2.0</td>\n",
       "      <td>1.0</td>\n",
       "      <td>0.0</td>\n",
       "      <td>0.0</td>\n",
       "    </tr>\n",
       "    <tr>\n",
       "      <th>2022-01-31</th>\n",
       "      <td>7.0</td>\n",
       "      <td>16.0</td>\n",
       "      <td>763.0</td>\n",
       "      <td>743.0</td>\n",
       "      <td>19.0</td>\n",
       "      <td>1.0</td>\n",
       "      <td>1.0</td>\n",
       "      <td>1.0</td>\n",
       "      <td>0.0</td>\n",
       "    </tr>\n",
       "    <tr>\n",
       "      <th>2022-02-28</th>\n",
       "      <td>11.0</td>\n",
       "      <td>15.0</td>\n",
       "      <td>684.0</td>\n",
       "      <td>669.0</td>\n",
       "      <td>13.0</td>\n",
       "      <td>1.0</td>\n",
       "      <td>1.0</td>\n",
       "      <td>0.0</td>\n",
       "      <td>0.0</td>\n",
       "    </tr>\n",
       "    <tr>\n",
       "      <th>2022-03-31</th>\n",
       "      <td>12.0</td>\n",
       "      <td>25.0</td>\n",
       "      <td>853.0</td>\n",
       "      <td>830.0</td>\n",
       "      <td>14.0</td>\n",
       "      <td>1.0</td>\n",
       "      <td>0.0</td>\n",
       "      <td>0.0</td>\n",
       "      <td>0.0</td>\n",
       "    </tr>\n",
       "    <tr>\n",
       "      <th>2022-04-30</th>\n",
       "      <td>11.0</td>\n",
       "      <td>27.0</td>\n",
       "      <td>822.0</td>\n",
       "      <td>783.0</td>\n",
       "      <td>12.0</td>\n",
       "      <td>0.0</td>\n",
       "      <td>1.0</td>\n",
       "      <td>0.0</td>\n",
       "      <td>0.0</td>\n",
       "    </tr>\n",
       "    <tr>\n",
       "      <th>2022-05-31</th>\n",
       "      <td>20.0</td>\n",
       "      <td>36.0</td>\n",
       "      <td>1356.0</td>\n",
       "      <td>1329.0</td>\n",
       "      <td>30.0</td>\n",
       "      <td>2.0</td>\n",
       "      <td>2.0</td>\n",
       "      <td>0.0</td>\n",
       "      <td>1.0</td>\n",
       "    </tr>\n",
       "    <tr>\n",
       "      <th>2022-06-30</th>\n",
       "      <td>18.0</td>\n",
       "      <td>22.0</td>\n",
       "      <td>1304.0</td>\n",
       "      <td>1274.0</td>\n",
       "      <td>20.0</td>\n",
       "      <td>2.0</td>\n",
       "      <td>0.0</td>\n",
       "      <td>0.0</td>\n",
       "      <td>0.0</td>\n",
       "    </tr>\n",
       "    <tr>\n",
       "      <th>2022-07-31</th>\n",
       "      <td>9.0</td>\n",
       "      <td>15.0</td>\n",
       "      <td>880.0</td>\n",
       "      <td>864.0</td>\n",
       "      <td>14.0</td>\n",
       "      <td>1.0</td>\n",
       "      <td>0.0</td>\n",
       "      <td>0.0</td>\n",
       "      <td>0.0</td>\n",
       "    </tr>\n",
       "  </tbody>\n",
       "</table>\n",
       "</div>"
      ],
      "text/plain": [
       "              shares_count  comments_count  reactions_count  like_count  \\\n",
       "created_time                                                              \n",
       "2021-07-31            14.0            61.0           1093.0      1066.0   \n",
       "2021-08-31            15.0            35.0           1212.0      1169.0   \n",
       "2021-09-30            12.0            17.0           1462.0      1437.0   \n",
       "2021-10-31             9.0            17.0            967.0       949.0   \n",
       "2021-11-30             8.0            11.0           1132.0      1110.0   \n",
       "2021-12-31             6.0             9.0           1180.0      1145.0   \n",
       "2022-01-31             7.0            16.0            763.0       743.0   \n",
       "2022-02-28            11.0            15.0            684.0       669.0   \n",
       "2022-03-31            12.0            25.0            853.0       830.0   \n",
       "2022-04-30            11.0            27.0            822.0       783.0   \n",
       "2022-05-31            20.0            36.0           1356.0      1329.0   \n",
       "2022-06-30            18.0            22.0           1304.0      1274.0   \n",
       "2022-07-31             9.0            15.0            880.0       864.0   \n",
       "\n",
       "              love_count  haha_count  wow_count  sad_count  angry_count  \n",
       "created_time                                                             \n",
       "2021-07-31          28.0         2.0        1.0        0.0          0.0  \n",
       "2021-08-31          26.0         1.0        0.0        0.0          0.0  \n",
       "2021-09-30          25.0         1.0        0.0        0.0          1.0  \n",
       "2021-10-31          23.0         1.0        0.0        0.0          0.0  \n",
       "2021-11-30          20.0         1.0        1.0        0.0          0.0  \n",
       "2021-12-31          27.0         2.0        1.0        0.0          0.0  \n",
       "2022-01-31          19.0         1.0        1.0        1.0          0.0  \n",
       "2022-02-28          13.0         1.0        1.0        0.0          0.0  \n",
       "2022-03-31          14.0         1.0        0.0        0.0          0.0  \n",
       "2022-04-30          12.0         0.0        1.0        0.0          0.0  \n",
       "2022-05-31          30.0         2.0        2.0        0.0          1.0  \n",
       "2022-06-30          20.0         2.0        0.0        0.0          0.0  \n",
       "2022-07-31          14.0         1.0        0.0        0.0          0.0  "
      ]
     },
     "execution_count": 53,
     "metadata": {},
     "output_type": "execute_result"
    }
   ],
   "source": [
    "df_median_m_y = df.groupby(pd.Grouper(key='created_time',freq='M')).median()\n",
    "df_median_m_y"
   ]
  },
  {
   "cell_type": "code",
   "execution_count": null,
   "metadata": {},
   "outputs": [],
   "source": [
    "average_share_count = df[\"shares_count\"].sum()/len(df.index)\n",
    "print(f'average share count: {average_share_count}')\n",
    "\n",
    "average_comments_count = df[\"comments_count\"].sum()/len(df.index)\n",
    "print(f'average comments count: {average_comments_count}')\n",
    "\n",
    "average_reactions_count = df[\"reactions_count\"].sum()/len(df.index)\n",
    "print(f'average reactions count: {average_reactions_count}')"
   ]
  }
 ],
 "metadata": {
  "kernelspec": {
   "display_name": "Python 3.10.5 64-bit",
   "language": "python",
   "name": "python3"
  },
  "language_info": {
   "codemirror_mode": {
    "name": "ipython",
    "version": 3
   },
   "file_extension": ".py",
   "mimetype": "text/x-python",
   "name": "python",
   "nbconvert_exporter": "python",
   "pygments_lexer": "ipython3",
   "version": "3.10.5"
  },
  "orig_nbformat": 4,
  "vscode": {
   "interpreter": {
    "hash": "aee8b7b246df8f9039afb4144a1f6fd8d2ca17a180786b69acc140d282b71a49"
   }
  }
 },
 "nbformat": 4,
 "nbformat_minor": 2
}
