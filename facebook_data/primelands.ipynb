{
 "cells": [
  {
   "cell_type": "code",
   "execution_count": 1,
   "metadata": {},
   "outputs": [],
   "source": [
    "# install these libraries if you don't already have them\n",
    "# !pip install facebook_scraper\n",
    "# !pip install vaderSentiment\n",
    "# !pip install openpyxl\n",
    "\n",
    "import pandas as pd\n",
    "import numpy as np\n",
    "import matplotlib.pyplot as plt\n",
    "from collections import defaultdict\n",
    "from collections.abc import Iterable\n",
    "from facebook_scraper import get_posts \n",
    "from vaderSentiment.vaderSentiment import SentimentIntensityAnalyzer\n",
    "from wordcloud import WordCloud, STOPWORDS\n",
    "import spacy\n",
    "from spacy.matcher import PhraseMatcher\n",
    "import statsmodels.api as sm"
   ]
  },
  {
   "cell_type": "code",
   "execution_count": 3,
   "metadata": {},
   "outputs": [
    {
     "ename": "JSONDecodeError",
     "evalue": "Extra data: line 1 column 184858 (char 184857)",
     "output_type": "error",
     "traceback": [
      "\u001b[0;31m---------------------------------------------------------------------------\u001b[0m",
      "\u001b[0;31mJSONDecodeError\u001b[0m                           Traceback (most recent call last)",
      "\u001b[1;32m/Users/kelumrubasin/Desktop/MSC_DATA_SCIENCE/1_Social_Media_Analytics/Assignment_CIS7029/facebook_data/primelands.ipynb Cell 2\u001b[0m in \u001b[0;36m<cell line: 3>\u001b[0;34m()\u001b[0m\n\u001b[1;32m      <a href='vscode-notebook-cell:/Users/kelumrubasin/Desktop/MSC_DATA_SCIENCE/1_Social_Media_Analytics/Assignment_CIS7029/facebook_data/primelands.ipynb#ch0000001?line=0'>1</a>\u001b[0m listposts \u001b[39m=\u001b[39m []\n\u001b[0;32m----> <a href='vscode-notebook-cell:/Users/kelumrubasin/Desktop/MSC_DATA_SCIENCE/1_Social_Media_Analytics/Assignment_CIS7029/facebook_data/primelands.ipynb#ch0000001?line=2'>3</a>\u001b[0m \u001b[39mfor\u001b[39;00m post \u001b[39min\u001b[39;00m get_posts(\u001b[39m'\u001b[39m\u001b[39mprimelands\u001b[39m\u001b[39m'\u001b[39m, cookies\u001b[39m=\u001b[39m\u001b[39m\"\u001b[39m\u001b[39m/Users/kelumrubasin/Desktop/MSC_DATA_SCIENCE/1_Social_Media_Analytics/Assignment_CIS7029/facebook_data/facebook.com_cookies.txt\u001b[39m\u001b[39m\"\u001b[39m,\n\u001b[1;32m      <a href='vscode-notebook-cell:/Users/kelumrubasin/Desktop/MSC_DATA_SCIENCE/1_Social_Media_Analytics/Assignment_CIS7029/facebook_data/primelands.ipynb#ch0000001?line=3'>4</a>\u001b[0m                       pages\u001b[39m=\u001b[39m\u001b[39m25\u001b[39m,\n\u001b[1;32m      <a href='vscode-notebook-cell:/Users/kelumrubasin/Desktop/MSC_DATA_SCIENCE/1_Social_Media_Analytics/Assignment_CIS7029/facebook_data/primelands.ipynb#ch0000001?line=4'>5</a>\u001b[0m                       options\u001b[39m=\u001b[39m{\u001b[39m'\u001b[39m\u001b[39mcomments\u001b[39m\u001b[39m'\u001b[39m: \u001b[39mTrue\u001b[39;00m}):\n\u001b[1;32m      <a href='vscode-notebook-cell:/Users/kelumrubasin/Desktop/MSC_DATA_SCIENCE/1_Social_Media_Analytics/Assignment_CIS7029/facebook_data/primelands.ipynb#ch0000001?line=5'>6</a>\u001b[0m     listposts\u001b[39m.\u001b[39mappend(post)\n\u001b[1;32m      <a href='vscode-notebook-cell:/Users/kelumrubasin/Desktop/MSC_DATA_SCIENCE/1_Social_Media_Analytics/Assignment_CIS7029/facebook_data/primelands.ipynb#ch0000001?line=7'>8</a>\u001b[0m \u001b[39mprint\u001b[39m(\u001b[39m'\u001b[39m\u001b[39mNumber of posts: \u001b[39m\u001b[39m{}\u001b[39;00m\u001b[39m'\u001b[39m\u001b[39m.\u001b[39mformat(\u001b[39mlen\u001b[39m(listposts)))\n",
      "File \u001b[0;32m/Library/Frameworks/Python.framework/Versions/3.10/lib/python3.10/site-packages/facebook_scraper/facebook_scraper.py:1089\u001b[0m, in \u001b[0;36mFacebookScraper._generic_get_posts\u001b[0;34m(self, extract_post_fn, iter_pages_fn, page_limit, options, remove_source, latest_date, max_past_limit, **kwargs)\u001b[0m\n\u001b[1;32m   1086\u001b[0m counter \u001b[39m=\u001b[39m itertools\u001b[39m.\u001b[39mcount(\u001b[39m0\u001b[39m) \u001b[39mif\u001b[39;00m page_limit \u001b[39mis\u001b[39;00m \u001b[39mNone\u001b[39;00m \u001b[39melse\u001b[39;00m \u001b[39mrange\u001b[39m(page_limit)\n\u001b[1;32m   1088\u001b[0m logger\u001b[39m.\u001b[39mdebug(\u001b[39m\"\u001b[39m\u001b[39mStarting to iterate pages\u001b[39m\u001b[39m\"\u001b[39m)\n\u001b[0;32m-> 1089\u001b[0m \u001b[39mfor\u001b[39;00m i, page \u001b[39min\u001b[39;00m \u001b[39mzip\u001b[39m(counter, iter_pages_fn()):\n\u001b[1;32m   1090\u001b[0m     logger\u001b[39m.\u001b[39mdebug(\u001b[39m\"\u001b[39m\u001b[39mExtracting posts from page \u001b[39m\u001b[39m%s\u001b[39;00m\u001b[39m\"\u001b[39m, i)\n\u001b[1;32m   1091\u001b[0m     \u001b[39mfor\u001b[39;00m post_element \u001b[39min\u001b[39;00m page:\n",
      "File \u001b[0;32m/Library/Frameworks/Python.framework/Versions/3.10/lib/python3.10/site-packages/facebook_scraper/page_iterators.py:108\u001b[0m, in \u001b[0;36mgeneric_iter_pages\u001b[0;34m(start_url, page_parser_cls, request_fn, **kwargs)\u001b[0m\n\u001b[1;32m    105\u001b[0m             \u001b[39mraise\u001b[39;00m\n\u001b[1;32m    107\u001b[0m logger\u001b[39m.\u001b[39mdebug(\u001b[39m\"\u001b[39m\u001b[39mParsing page response\u001b[39m\u001b[39m\"\u001b[39m)\n\u001b[0;32m--> 108\u001b[0m parser \u001b[39m=\u001b[39m page_parser_cls(response)\n\u001b[1;32m    110\u001b[0m page \u001b[39m=\u001b[39m parser\u001b[39m.\u001b[39mget_page()\n\u001b[1;32m    112\u001b[0m \u001b[39m# TODO: If page is actually an iterable calling len(page) might consume it\u001b[39;00m\n",
      "File \u001b[0;32m/Library/Frameworks/Python.framework/Versions/3.10/lib/python3.10/site-packages/facebook_scraper/page_iterators.py:147\u001b[0m, in \u001b[0;36mPageParser.__init__\u001b[0;34m(self, response)\u001b[0m\n\u001b[1;32m    144\u001b[0m \u001b[39mself\u001b[39m\u001b[39m.\u001b[39mhtml \u001b[39m=\u001b[39m \u001b[39mNone\u001b[39;00m\n\u001b[1;32m    145\u001b[0m \u001b[39mself\u001b[39m\u001b[39m.\u001b[39mcursor_blob \u001b[39m=\u001b[39m \u001b[39mNone\u001b[39;00m\n\u001b[0;32m--> 147\u001b[0m \u001b[39mself\u001b[39;49m\u001b[39m.\u001b[39;49m_parse()\n",
      "File \u001b[0;32m/Library/Frameworks/Python.framework/Versions/3.10/lib/python3.10/site-packages/facebook_scraper/page_iterators.py:185\u001b[0m, in \u001b[0;36mPageParser._parse\u001b[0;34m(self)\u001b[0m\n\u001b[1;32m    183\u001b[0m \u001b[39mdef\u001b[39;00m \u001b[39m_parse\u001b[39m(\u001b[39mself\u001b[39m):\n\u001b[1;32m    184\u001b[0m     \u001b[39mif\u001b[39;00m \u001b[39mself\u001b[39m\u001b[39m.\u001b[39mresponse\u001b[39m.\u001b[39mtext\u001b[39m.\u001b[39mstartswith(\u001b[39mself\u001b[39m\u001b[39m.\u001b[39mjson_prefix):\n\u001b[0;32m--> 185\u001b[0m         \u001b[39mself\u001b[39;49m\u001b[39m.\u001b[39;49m_parse_json()\n\u001b[1;32m    186\u001b[0m     \u001b[39melse\u001b[39;00m:\n\u001b[1;32m    187\u001b[0m         \u001b[39mself\u001b[39m\u001b[39m.\u001b[39m_parse_html()\n",
      "File \u001b[0;32m/Library/Frameworks/Python.framework/Versions/3.10/lib/python3.10/site-packages/facebook_scraper/page_iterators.py:195\u001b[0m, in \u001b[0;36mPageParser._parse_json\u001b[0;34m(self)\u001b[0m\n\u001b[1;32m    193\u001b[0m \u001b[39mdef\u001b[39;00m \u001b[39m_parse_json\u001b[39m(\u001b[39mself\u001b[39m):\n\u001b[1;32m    194\u001b[0m     prefix_length \u001b[39m=\u001b[39m \u001b[39mlen\u001b[39m(\u001b[39mself\u001b[39m\u001b[39m.\u001b[39mjson_prefix)\n\u001b[0;32m--> 195\u001b[0m     data \u001b[39m=\u001b[39m json\u001b[39m.\u001b[39;49mloads(\u001b[39mself\u001b[39;49m\u001b[39m.\u001b[39;49mresponse\u001b[39m.\u001b[39;49mtext[prefix_length:])  \u001b[39m# Strip 'for (;;);'\u001b[39;00m\n\u001b[1;32m    197\u001b[0m     \u001b[39mfor\u001b[39;00m action \u001b[39min\u001b[39;00m data\u001b[39m.\u001b[39mget(\u001b[39m'\u001b[39m\u001b[39mpayload\u001b[39m\u001b[39m'\u001b[39m, data)[\u001b[39m'\u001b[39m\u001b[39mactions\u001b[39m\u001b[39m'\u001b[39m]:\n\u001b[1;32m    198\u001b[0m         \u001b[39mif\u001b[39;00m action[\u001b[39m'\u001b[39m\u001b[39mcmd\u001b[39m\u001b[39m'\u001b[39m] \u001b[39m==\u001b[39m \u001b[39m'\u001b[39m\u001b[39mreplace\u001b[39m\u001b[39m'\u001b[39m:\n",
      "File \u001b[0;32m/Library/Frameworks/Python.framework/Versions/3.10/lib/python3.10/json/__init__.py:346\u001b[0m, in \u001b[0;36mloads\u001b[0;34m(s, cls, object_hook, parse_float, parse_int, parse_constant, object_pairs_hook, **kw)\u001b[0m\n\u001b[1;32m    341\u001b[0m     s \u001b[39m=\u001b[39m s\u001b[39m.\u001b[39mdecode(detect_encoding(s), \u001b[39m'\u001b[39m\u001b[39msurrogatepass\u001b[39m\u001b[39m'\u001b[39m)\n\u001b[1;32m    343\u001b[0m \u001b[39mif\u001b[39;00m (\u001b[39mcls\u001b[39m \u001b[39mis\u001b[39;00m \u001b[39mNone\u001b[39;00m \u001b[39mand\u001b[39;00m object_hook \u001b[39mis\u001b[39;00m \u001b[39mNone\u001b[39;00m \u001b[39mand\u001b[39;00m\n\u001b[1;32m    344\u001b[0m         parse_int \u001b[39mis\u001b[39;00m \u001b[39mNone\u001b[39;00m \u001b[39mand\u001b[39;00m parse_float \u001b[39mis\u001b[39;00m \u001b[39mNone\u001b[39;00m \u001b[39mand\u001b[39;00m\n\u001b[1;32m    345\u001b[0m         parse_constant \u001b[39mis\u001b[39;00m \u001b[39mNone\u001b[39;00m \u001b[39mand\u001b[39;00m object_pairs_hook \u001b[39mis\u001b[39;00m \u001b[39mNone\u001b[39;00m \u001b[39mand\u001b[39;00m \u001b[39mnot\u001b[39;00m kw):\n\u001b[0;32m--> 346\u001b[0m     \u001b[39mreturn\u001b[39;00m _default_decoder\u001b[39m.\u001b[39;49mdecode(s)\n\u001b[1;32m    347\u001b[0m \u001b[39mif\u001b[39;00m \u001b[39mcls\u001b[39m \u001b[39mis\u001b[39;00m \u001b[39mNone\u001b[39;00m:\n\u001b[1;32m    348\u001b[0m     \u001b[39mcls\u001b[39m \u001b[39m=\u001b[39m JSONDecoder\n",
      "File \u001b[0;32m/Library/Frameworks/Python.framework/Versions/3.10/lib/python3.10/json/decoder.py:340\u001b[0m, in \u001b[0;36mJSONDecoder.decode\u001b[0;34m(self, s, _w)\u001b[0m\n\u001b[1;32m    338\u001b[0m end \u001b[39m=\u001b[39m _w(s, end)\u001b[39m.\u001b[39mend()\n\u001b[1;32m    339\u001b[0m \u001b[39mif\u001b[39;00m end \u001b[39m!=\u001b[39m \u001b[39mlen\u001b[39m(s):\n\u001b[0;32m--> 340\u001b[0m     \u001b[39mraise\u001b[39;00m JSONDecodeError(\u001b[39m\"\u001b[39m\u001b[39mExtra data\u001b[39m\u001b[39m\"\u001b[39m, s, end)\n\u001b[1;32m    341\u001b[0m \u001b[39mreturn\u001b[39;00m obj\n",
      "\u001b[0;31mJSONDecodeError\u001b[0m: Extra data: line 1 column 184858 (char 184857)"
     ]
    }
   ],
   "source": [
    "listposts = []\n",
    "\n",
    "for post in get_posts('primelands', cookies=\"/Users/kelumrubasin/Desktop/MSC_DATA_SCIENCE/1_Social_Media_Analytics/Assignment_CIS7029/facebook_data/facebook.com_cookies.txt\",\n",
    "                      pages=25,\n",
    "                      options={'comments': True}):\n",
    "    listposts.append(post)\n",
    "    \n",
    "print('Number of posts: {}'.format(len(listposts)))   "
   ]
  },
  {
   "cell_type": "code",
   "execution_count": 4,
   "metadata": {},
   "outputs": [],
   "source": [
    "columns = ['post_id', \n",
    "           'time',  \n",
    "           'text', \n",
    "           'likes',\n",
    "           'comments', \n",
    "           'shares', \n",
    "           'comments_full']\n",
    "\n",
    "df_posts = pd.DataFrame(listposts)[columns]"
   ]
  },
  {
   "cell_type": "code",
   "execution_count": 5,
   "metadata": {},
   "outputs": [],
   "source": [
    "analyzer = SentimentIntensityAnalyzer()\n",
    "\n",
    "list_comments = []\n",
    "for index, row in df_posts.iterrows():\n",
    "    post_id = row['post_id']\n",
    "    if isinstance(row['comments_full'], Iterable):\n",
    "        for comment in row['comments_full']:\n",
    "            dict_temp = {}\n",
    "            dict_temp['post_id'] = post_id\n",
    "            dict_temp['comment'] = comment['comment_text']\n",
    "            dict_temp['sentiment'] = analyzer.polarity_scores(\n",
    "                comment['comment_text'])['compound']\n",
    "            list_comments.append(dict_temp)        \n",
    "\n",
    "df_comments = pd.DataFrame(list_comments)"
   ]
  },
  {
   "cell_type": "code",
   "execution_count": 6,
   "metadata": {},
   "outputs": [],
   "source": [
    "posts_sentiment = df_comments.groupby('post_id').mean()\n",
    "\n",
    "df_posts = df_posts.join(posts_sentiment, on=['post_id'])\n",
    "\n",
    "df_posts.drop(columns=['comments_full'], inplace=True)\n",
    "df_posts.fillna(0.0, inplace=True)\n",
    "\n",
    "with pd.ExcelWriter('../primelands.xlsx') as writer:\n",
    "    df_posts.to_excel(writer, sheet_name='posts_data', index_label='ID')\n",
    "    df_comments.to_excel(writer, sheet_name='posts_comments', index_label='ID')\n",
    "    "
   ]
  },
  {
   "cell_type": "code",
   "execution_count": 7,
   "metadata": {},
   "outputs": [],
   "source": [
    "# Load data from exisiting files to save time\n",
    "df_posts = pd.read_excel('../primelands.xlsx', sheet_name='posts_data')\n",
    "df_comments = pd.read_excel('../primelands.xlsx', sheet_name='posts_comments')"
   ]
  },
  {
   "cell_type": "code",
   "execution_count": 8,
   "metadata": {},
   "outputs": [
    {
     "data": {
      "text/html": [
       "<div>\n",
       "<style scoped>\n",
       "    .dataframe tbody tr th:only-of-type {\n",
       "        vertical-align: middle;\n",
       "    }\n",
       "\n",
       "    .dataframe tbody tr th {\n",
       "        vertical-align: top;\n",
       "    }\n",
       "\n",
       "    .dataframe thead th {\n",
       "        text-align: right;\n",
       "    }\n",
       "</style>\n",
       "<table border=\"1\" class=\"dataframe\">\n",
       "  <thead>\n",
       "    <tr style=\"text-align: right;\">\n",
       "      <th></th>\n",
       "      <th>ID</th>\n",
       "      <th>post_id</th>\n",
       "      <th>time</th>\n",
       "      <th>text</th>\n",
       "      <th>likes</th>\n",
       "      <th>comments</th>\n",
       "      <th>shares</th>\n",
       "      <th>sentiment</th>\n",
       "    </tr>\n",
       "  </thead>\n",
       "  <tbody>\n",
       "    <tr>\n",
       "      <th>0</th>\n",
       "      <td>0</td>\n",
       "      <td>10160184885147290</td>\n",
       "      <td>2022-07-22 13:36:16</td>\n",
       "      <td>අනුරාධපුර - පුත්තලම පාරට මුහුණලා අගනා නේවාසික ...</td>\n",
       "      <td>52</td>\n",
       "      <td>1</td>\n",
       "      <td>1</td>\n",
       "      <td>0.0000</td>\n",
       "    </tr>\n",
       "    <tr>\n",
       "      <th>1</th>\n",
       "      <td>1</td>\n",
       "      <td>10160184882127290</td>\n",
       "      <td>2022-07-22 13:33:03</td>\n",
       "      <td>සුන්දර වෙල්යායකට මුහුණලා අනුරාධපුරෙන් අගනා බිම...</td>\n",
       "      <td>5</td>\n",
       "      <td>1</td>\n",
       "      <td>0</td>\n",
       "      <td>0.0000</td>\n",
       "    </tr>\n",
       "    <tr>\n",
       "      <th>2</th>\n",
       "      <td>2</td>\n",
       "      <td>10160184880962290</td>\n",
       "      <td>2022-07-22 13:31:30</td>\n",
       "      <td>දඹුල්ල මහ නගරසභා සීමාවෙන් වටිනා බිම් කොටස්\\n👉 ...</td>\n",
       "      <td>4</td>\n",
       "      <td>1</td>\n",
       "      <td>0</td>\n",
       "      <td>0.0772</td>\n",
       "    </tr>\n",
       "    <tr>\n",
       "      <th>3</th>\n",
       "      <td>3</td>\n",
       "      <td>10160184877312290</td>\n",
       "      <td>2022-07-22 13:27:39</td>\n",
       "      <td>මුලු ඉඩමම ලක්ෂ 15කට නාරම්මල හොඳම තැනකින්!!!\\n📲...</td>\n",
       "      <td>3</td>\n",
       "      <td>1</td>\n",
       "      <td>0</td>\n",
       "      <td>0.0000</td>\n",
       "    </tr>\n",
       "    <tr>\n",
       "      <th>4</th>\n",
       "      <td>4</td>\n",
       "      <td>10160183726687290</td>\n",
       "      <td>2022-07-21 19:49:52</td>\n",
       "      <td>අහංගම - ඉමදූව බස් පාරට මුහුණලා අගනා බිම් කොටස්...</td>\n",
       "      <td>2</td>\n",
       "      <td>0</td>\n",
       "      <td>7</td>\n",
       "      <td>0.0000</td>\n",
       "    </tr>\n",
       "  </tbody>\n",
       "</table>\n",
       "</div>"
      ],
      "text/plain": [
       "   ID            post_id                time  \\\n",
       "0   0  10160184885147290 2022-07-22 13:36:16   \n",
       "1   1  10160184882127290 2022-07-22 13:33:03   \n",
       "2   2  10160184880962290 2022-07-22 13:31:30   \n",
       "3   3  10160184877312290 2022-07-22 13:27:39   \n",
       "4   4  10160183726687290 2022-07-21 19:49:52   \n",
       "\n",
       "                                                text  likes  comments  shares  \\\n",
       "0  අනුරාධපුර - පුත්තලම පාරට මුහුණලා අගනා නේවාසික ...     52         1       1   \n",
       "1  සුන්දර වෙල්යායකට මුහුණලා අනුරාධපුරෙන් අගනා බිම...      5         1       0   \n",
       "2  දඹුල්ල මහ නගරසභා සීමාවෙන් වටිනා බිම් කොටස්\\n👉 ...      4         1       0   \n",
       "3  මුලු ඉඩමම ලක්ෂ 15කට නාරම්මල හොඳම තැනකින්!!!\\n📲...      3         1       0   \n",
       "4  අහංගම - ඉමදූව බස් පාරට මුහුණලා අගනා බිම් කොටස්...      2         0       7   \n",
       "\n",
       "   sentiment  \n",
       "0     0.0000  \n",
       "1     0.0000  \n",
       "2     0.0772  \n",
       "3     0.0000  \n",
       "4     0.0000  "
      ]
     },
     "execution_count": 8,
     "metadata": {},
     "output_type": "execute_result"
    }
   ],
   "source": [
    "# print out dataframe for posts \n",
    "df_posts.head()"
   ]
  },
  {
   "cell_type": "code",
   "execution_count": 9,
   "metadata": {},
   "outputs": [
    {
     "data": {
      "text/html": [
       "<div>\n",
       "<style scoped>\n",
       "    .dataframe tbody tr th:only-of-type {\n",
       "        vertical-align: middle;\n",
       "    }\n",
       "\n",
       "    .dataframe tbody tr th {\n",
       "        vertical-align: top;\n",
       "    }\n",
       "\n",
       "    .dataframe thead th {\n",
       "        text-align: right;\n",
       "    }\n",
       "</style>\n",
       "<table border=\"1\" class=\"dataframe\">\n",
       "  <thead>\n",
       "    <tr style=\"text-align: right;\">\n",
       "      <th></th>\n",
       "      <th>ID</th>\n",
       "      <th>post_id</th>\n",
       "      <th>comment</th>\n",
       "      <th>sentiment</th>\n",
       "    </tr>\n",
       "  </thead>\n",
       "  <tbody>\n",
       "    <tr>\n",
       "      <th>0</th>\n",
       "      <td>0</td>\n",
       "      <td>10160184880962290</td>\n",
       "      <td>Details pls</td>\n",
       "      <td>0.0772</td>\n",
       "    </tr>\n",
       "    <tr>\n",
       "      <th>1</th>\n",
       "      <td>1</td>\n",
       "      <td>10160183721282290</td>\n",
       "      <td>👍👍</td>\n",
       "      <td>0.0000</td>\n",
       "    </tr>\n",
       "    <tr>\n",
       "      <th>2</th>\n",
       "      <td>2</td>\n",
       "      <td>10160183713482290</td>\n",
       "      <td>How much one purch</td>\n",
       "      <td>0.0000</td>\n",
       "    </tr>\n",
       "    <tr>\n",
       "      <th>3</th>\n",
       "      <td>3</td>\n",
       "      <td>10160183713482290</td>\n",
       "      <td>👍👍</td>\n",
       "      <td>0.0000</td>\n",
       "    </tr>\n",
       "    <tr>\n",
       "      <th>4</th>\n",
       "      <td>4</td>\n",
       "      <td>10160183688187290</td>\n",
       "      <td>Price plz</td>\n",
       "      <td>0.0772</td>\n",
       "    </tr>\n",
       "  </tbody>\n",
       "</table>\n",
       "</div>"
      ],
      "text/plain": [
       "   ID            post_id             comment  sentiment\n",
       "0   0  10160184880962290         Details pls     0.0772\n",
       "1   1  10160183721282290                  👍👍     0.0000\n",
       "2   2  10160183713482290  How much one purch     0.0000\n",
       "3   3  10160183713482290                  👍👍     0.0000\n",
       "4   4  10160183688187290           Price plz     0.0772"
      ]
     },
     "execution_count": 9,
     "metadata": {},
     "output_type": "execute_result"
    }
   ],
   "source": [
    "# print out dataframe for comments \n",
    "df_comments.head()"
   ]
  },
  {
   "cell_type": "code",
   "execution_count": 10,
   "metadata": {},
   "outputs": [
    {
     "data": {
      "image/png": "[encoded data removed]",
      "text/plain": [
       "<Figure size 720x432 with 1 Axes>"
      ]
     },
     "metadata": {
      "needs_background": "light"
     },
     "output_type": "display_data"
    }
   ],
   "source": [
    "# merge all texts in posts\n",
    "post_text = ' '.join(df_posts['text'])\n",
    "post_text = post_text.replace('\\n', '') # remove blank lines characters\n",
    "\n",
    "# update stopwords\n",
    "stopwords = set(STOPWORDS)\n",
    "stopwords.update(['https', 'gov', 'au', 'nsw', 's', 're'])\n",
    "\n",
    "# Generate a word cloud image\n",
    "wordcloud = WordCloud(random_state=1, \n",
    "                      collocations=True, \n",
    "                      stopwords=stopwords,\n",
    "                      max_words=60,\n",
    "                      background_color='black',\n",
    "                      colormap ='rainbow',\n",
    "                      contour_color='steelblue').generate(post_text)\n",
    "\n",
    "# Function to display word cloud img via matplotlib\n",
    "def plot_cloud(wordcloud):\n",
    "    plt.figure(figsize=(10, 6))\n",
    "    plt.imshow(wordcloud, interpolation='bilinear')\n",
    "    plt.axis('off')\n",
    "\n",
    "# plot world cloud    \n",
    "plot_cloud(wordcloud)"
   ]
  }
 ],
 "metadata": {
  "kernelspec": {
   "display_name": "Python 3.10.5 64-bit",
   "language": "python",
   "name": "python3"
  },
  "language_info": {
   "codemirror_mode": {
    "name": "ipython",
    "version": 3
   },
   "file_extension": ".py",
   "mimetype": "text/x-python",
   "name": "python",
   "nbconvert_exporter": "python",
   "pygments_lexer": "ipython3",
   "version": "3.10.5"
  },
  "orig_nbformat": 4,
  "vscode": {
   "interpreter": {
    "hash": "aee8b7b246df8f9039afb4144a1f6fd8d2ca17a180786b69acc140d282b71a49"
   }
  }
 },
 "nbformat": 4,
 "nbformat_minor": 2
}
