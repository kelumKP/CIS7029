{
 "cells": [
  {
   "cell_type": "code",
   "execution_count": 323,
   "metadata": {},
   "outputs": [],
   "source": [
    "import pathlib\n",
    "\n",
    "import holoviews as hv\n",
    "import hvplot.pandas # noqa\n",
    "import numpy as np\n",
    "import pandas as pd\n",
    "import panel as pn\n",
    "import datetime as dt\n",
    "import calendar\n",
    "\n",
    "pn.extension(sizing_mode='stretch_width')"
   ]
  },
  {
   "cell_type": "code",
   "execution_count": 324,
   "metadata": {},
   "outputs": [
    {
     "data": {
      "text/html": [
       "<div>\n",
       "<style scoped>\n",
       "    .dataframe tbody tr th:only-of-type {\n",
       "        vertical-align: middle;\n",
       "    }\n",
       "\n",
       "    .dataframe tbody tr th {\n",
       "        vertical-align: top;\n",
       "    }\n",
       "\n",
       "    .dataframe thead th {\n",
       "        text-align: right;\n",
       "    }\n",
       "</style>\n",
       "<table border=\"1\" class=\"dataframe\">\n",
       "  <thead>\n",
       "    <tr style=\"text-align: right;\">\n",
       "      <th></th>\n",
       "      <th>name</th>\n",
       "      <th>open_time</th>\n",
       "      <th>count</th>\n",
       "      <th>size</th>\n",
       "      <th>open_date</th>\n",
       "    </tr>\n",
       "  </thead>\n",
       "  <tbody>\n",
       "    <tr>\n",
       "      <th>0</th>\n",
       "      <td>A</td>\n",
       "      <td>2021-07-01</td>\n",
       "      <td>27</td>\n",
       "      <td>34</td>\n",
       "      <td>2021-07-01</td>\n",
       "    </tr>\n",
       "    <tr>\n",
       "      <th>1</th>\n",
       "      <td>B</td>\n",
       "      <td>2022-07-02</td>\n",
       "      <td>24</td>\n",
       "      <td>56</td>\n",
       "      <td>2022-07-02</td>\n",
       "    </tr>\n",
       "    <tr>\n",
       "      <th>2</th>\n",
       "      <td>C</td>\n",
       "      <td>2021-07-03</td>\n",
       "      <td>22</td>\n",
       "      <td>67</td>\n",
       "      <td>2021-07-03</td>\n",
       "    </tr>\n",
       "    <tr>\n",
       "      <th>3</th>\n",
       "      <td>D</td>\n",
       "      <td>2021-07-03</td>\n",
       "      <td>32</td>\n",
       "      <td>78</td>\n",
       "      <td>2021-07-03</td>\n",
       "    </tr>\n",
       "    <tr>\n",
       "      <th>4</th>\n",
       "      <td>A</td>\n",
       "      <td>2021-08-05</td>\n",
       "      <td>17</td>\n",
       "      <td>33</td>\n",
       "      <td>2021-08-05</td>\n",
       "    </tr>\n",
       "    <tr>\n",
       "      <th>5</th>\n",
       "      <td>B</td>\n",
       "      <td>2021-09-11</td>\n",
       "      <td>34</td>\n",
       "      <td>55</td>\n",
       "      <td>2021-09-11</td>\n",
       "    </tr>\n",
       "    <tr>\n",
       "      <th>6</th>\n",
       "      <td>C</td>\n",
       "      <td>2021-10-11</td>\n",
       "      <td>52</td>\n",
       "      <td>69</td>\n",
       "      <td>2021-10-11</td>\n",
       "    </tr>\n",
       "    <tr>\n",
       "      <th>7</th>\n",
       "      <td>D</td>\n",
       "      <td>2022-11-11</td>\n",
       "      <td>62</td>\n",
       "      <td>79</td>\n",
       "      <td>2022-11-11</td>\n",
       "    </tr>\n",
       "    <tr>\n",
       "      <th>8</th>\n",
       "      <td>A</td>\n",
       "      <td>2021-05-11</td>\n",
       "      <td>44</td>\n",
       "      <td>34</td>\n",
       "      <td>2021-05-11</td>\n",
       "    </tr>\n",
       "    <tr>\n",
       "      <th>9</th>\n",
       "      <td>B</td>\n",
       "      <td>2022-08-11</td>\n",
       "      <td>88</td>\n",
       "      <td>12</td>\n",
       "      <td>2022-08-11</td>\n",
       "    </tr>\n",
       "    <tr>\n",
       "      <th>10</th>\n",
       "      <td>D</td>\n",
       "      <td>2022-05-11</td>\n",
       "      <td>22</td>\n",
       "      <td>23</td>\n",
       "      <td>2022-05-11</td>\n",
       "    </tr>\n",
       "  </tbody>\n",
       "</table>\n",
       "</div>"
      ],
      "text/plain": [
       "   name  open_time  count  size   open_date\n",
       "0     A 2021-07-01     27    34  2021-07-01\n",
       "1     B 2022-07-02     24    56  2022-07-02\n",
       "2     C 2021-07-03     22    67  2021-07-03\n",
       "3     D 2021-07-03     32    78  2021-07-03\n",
       "4     A 2021-08-05     17    33  2021-08-05\n",
       "5     B 2021-09-11     34    55  2021-09-11\n",
       "6     C 2021-10-11     52    69  2021-10-11\n",
       "7     D 2022-11-11     62    79  2022-11-11\n",
       "8     A 2021-05-11     44    34  2021-05-11\n",
       "9     B 2022-08-11     88    12  2022-08-11\n",
       "10    D 2022-05-11     22    23  2022-05-11"
      ]
     },
     "execution_count": 324,
     "metadata": {},
     "output_type": "execute_result"
    }
   ],
   "source": [
    "data = {'name':['A', 'B', 'C', 'D', 'A', 'B', 'C', 'D', 'A', 'B', 'D'],\n",
    "        'open_time': [dt.datetime(2021, 7, 1, 0, 0, 0), dt.datetime(2022, 7, 2, 0, 0), dt.datetime(2021, 7, 3, 0, 0),dt.datetime(2021, 7, 3, 0, 0), dt.datetime(2021, 8, 5, 0, 0, 0), dt.datetime(2021, 9, 11, 0, 0, 0), dt.datetime(2021, 10, 11, 0, 0, 0), dt.datetime(2022, 11, 11, 0, 0, 0), dt.datetime(2021, 5, 11, 0, 0, 0), dt.datetime(2022, 8, 11, 0, 0, 0), dt.datetime(2022, 5, 11, 0, 0, 0)],\n",
    "        'count':[27, 24, 22, 32, 17, 34, 52, 62, 44, 88, 22],\n",
    "        'size':[34, 56,67,78, 33, 55,69,79, 34,12, 23]\n",
    "       }\n",
    "\n",
    "df = pd.DataFrame(data)\n",
    "df\n",
    "df['open_date'] = pd.to_datetime(df['open_time']).dt.date\n",
    "df\n"
   ]
  },
  {
   "cell_type": "code",
   "execution_count": 325,
   "metadata": {},
   "outputs": [
    {
     "data": {
      "text/html": [
       "<div>\n",
       "<style scoped>\n",
       "    .dataframe tbody tr th:only-of-type {\n",
       "        vertical-align: middle;\n",
       "    }\n",
       "\n",
       "    .dataframe tbody tr th {\n",
       "        vertical-align: top;\n",
       "    }\n",
       "\n",
       "    .dataframe thead th {\n",
       "        text-align: right;\n",
       "    }\n",
       "</style>\n",
       "<table border=\"1\" class=\"dataframe\">\n",
       "  <thead>\n",
       "    <tr style=\"text-align: right;\">\n",
       "      <th></th>\n",
       "      <th>name</th>\n",
       "      <th>open_time</th>\n",
       "      <th>count</th>\n",
       "      <th>size</th>\n",
       "      <th>open_date</th>\n",
       "      <th>year</th>\n",
       "      <th>month</th>\n",
       "    </tr>\n",
       "  </thead>\n",
       "  <tbody>\n",
       "    <tr>\n",
       "      <th>0</th>\n",
       "      <td>A</td>\n",
       "      <td>2021-07-01</td>\n",
       "      <td>27</td>\n",
       "      <td>34</td>\n",
       "      <td>2021-07-01</td>\n",
       "      <td>2021</td>\n",
       "      <td>7</td>\n",
       "    </tr>\n",
       "    <tr>\n",
       "      <th>1</th>\n",
       "      <td>B</td>\n",
       "      <td>2022-07-02</td>\n",
       "      <td>24</td>\n",
       "      <td>56</td>\n",
       "      <td>2022-07-02</td>\n",
       "      <td>2022</td>\n",
       "      <td>7</td>\n",
       "    </tr>\n",
       "    <tr>\n",
       "      <th>2</th>\n",
       "      <td>C</td>\n",
       "      <td>2021-07-03</td>\n",
       "      <td>22</td>\n",
       "      <td>67</td>\n",
       "      <td>2021-07-03</td>\n",
       "      <td>2021</td>\n",
       "      <td>7</td>\n",
       "    </tr>\n",
       "    <tr>\n",
       "      <th>3</th>\n",
       "      <td>D</td>\n",
       "      <td>2021-07-03</td>\n",
       "      <td>32</td>\n",
       "      <td>78</td>\n",
       "      <td>2021-07-03</td>\n",
       "      <td>2021</td>\n",
       "      <td>7</td>\n",
       "    </tr>\n",
       "    <tr>\n",
       "      <th>4</th>\n",
       "      <td>A</td>\n",
       "      <td>2021-08-05</td>\n",
       "      <td>17</td>\n",
       "      <td>33</td>\n",
       "      <td>2021-08-05</td>\n",
       "      <td>2021</td>\n",
       "      <td>8</td>\n",
       "    </tr>\n",
       "    <tr>\n",
       "      <th>5</th>\n",
       "      <td>B</td>\n",
       "      <td>2021-09-11</td>\n",
       "      <td>34</td>\n",
       "      <td>55</td>\n",
       "      <td>2021-09-11</td>\n",
       "      <td>2021</td>\n",
       "      <td>9</td>\n",
       "    </tr>\n",
       "    <tr>\n",
       "      <th>6</th>\n",
       "      <td>C</td>\n",
       "      <td>2021-10-11</td>\n",
       "      <td>52</td>\n",
       "      <td>69</td>\n",
       "      <td>2021-10-11</td>\n",
       "      <td>2021</td>\n",
       "      <td>10</td>\n",
       "    </tr>\n",
       "    <tr>\n",
       "      <th>7</th>\n",
       "      <td>D</td>\n",
       "      <td>2022-11-11</td>\n",
       "      <td>62</td>\n",
       "      <td>79</td>\n",
       "      <td>2022-11-11</td>\n",
       "      <td>2022</td>\n",
       "      <td>11</td>\n",
       "    </tr>\n",
       "    <tr>\n",
       "      <th>8</th>\n",
       "      <td>A</td>\n",
       "      <td>2021-05-11</td>\n",
       "      <td>44</td>\n",
       "      <td>34</td>\n",
       "      <td>2021-05-11</td>\n",
       "      <td>2021</td>\n",
       "      <td>5</td>\n",
       "    </tr>\n",
       "    <tr>\n",
       "      <th>9</th>\n",
       "      <td>B</td>\n",
       "      <td>2022-08-11</td>\n",
       "      <td>88</td>\n",
       "      <td>12</td>\n",
       "      <td>2022-08-11</td>\n",
       "      <td>2022</td>\n",
       "      <td>8</td>\n",
       "    </tr>\n",
       "    <tr>\n",
       "      <th>10</th>\n",
       "      <td>D</td>\n",
       "      <td>2022-05-11</td>\n",
       "      <td>22</td>\n",
       "      <td>23</td>\n",
       "      <td>2022-05-11</td>\n",
       "      <td>2022</td>\n",
       "      <td>5</td>\n",
       "    </tr>\n",
       "  </tbody>\n",
       "</table>\n",
       "</div>"
      ],
      "text/plain": [
       "   name  open_time  count  size   open_date  year  month\n",
       "0     A 2021-07-01     27    34  2021-07-01  2021      7\n",
       "1     B 2022-07-02     24    56  2022-07-02  2022      7\n",
       "2     C 2021-07-03     22    67  2021-07-03  2021      7\n",
       "3     D 2021-07-03     32    78  2021-07-03  2021      7\n",
       "4     A 2021-08-05     17    33  2021-08-05  2021      8\n",
       "5     B 2021-09-11     34    55  2021-09-11  2021      9\n",
       "6     C 2021-10-11     52    69  2021-10-11  2021     10\n",
       "7     D 2022-11-11     62    79  2022-11-11  2022     11\n",
       "8     A 2021-05-11     44    34  2021-05-11  2021      5\n",
       "9     B 2022-08-11     88    12  2022-08-11  2022      8\n",
       "10    D 2022-05-11     22    23  2022-05-11  2022      5"
      ]
     },
     "execution_count": 325,
     "metadata": {},
     "output_type": "execute_result"
    }
   ],
   "source": [
    "df['year'] = pd.to_datetime(df['open_time']).dt.year\n",
    "df['month'] = pd.to_datetime(df['open_time']).dt.month\n",
    "\n",
    "df"
   ]
  },
  {
   "cell_type": "code",
   "execution_count": 326,
   "metadata": {},
   "outputs": [],
   "source": [
    "idf = df.interactive()\n",
    "\n",
    "\n",
    "\n",
    "df.set_index('open_time', inplace=True)"
   ]
  },
  {
   "cell_type": "code",
   "execution_count": 327,
   "metadata": {},
   "outputs": [],
   "source": [
    "months_slider = pn.widgets.IntSlider(name='Month', start=7, end=11, step=1)\n",
    "\n",
    "years_togglegroup = pn.widgets.ToggleGroup(\n",
    "    name='Years',\n",
    "    options=[2021, 2022], \n",
    "    value=[2021, 2022],\n",
    "    button_type='success')\n",
    "    \n",
    "yaxis = pn.widgets.RadioButtonGroup(\n",
    "    name='Dimentions', \n",
    "    options=['count', 'size'],\n",
    "    button_type='warning'\n",
    ")\n"
   ]
  },
  {
   "cell_type": "code",
   "execution_count": 328,
   "metadata": {},
   "outputs": [
    {
     "data": {},
     "metadata": {},
     "output_type": "display_data"
    },
    {
     "data": {
      "application/vnd.holoviews_exec.v0+json": "",
      "text/html": [
       "<div id='53751'>\n",
       "  <div class=\"bk-root\" id=\"9630eac7-38b8-4518-9741-d1d6cbd5d24f\" data-root-id=\"53751\"></div>\n",
       "</div>\n",
       "<script type=\"application/javascript\">(function(root) {\n",
       "  function embed_document(root) {\n",
       "    var docs_json = {\"ecd18ef6-32f2-4465-bcdb-4c354c4c7e05\":{\"defs\":[{\"extends\":null,\"module\":null,\"name\":\"ReactiveHTML1\",\"overrides\":[],\"properties\":[]},{\"extends\":null,\"module\":null,\"name\":\"FlexBox1\",\"overrides\":[],\"properties\":[{\"default\":\"flex-start\",\"kind\":null,\"name\":\"align_content\"},{\"default\":\"flex-start\",\"kind\":null,\"name\":\"align_items\"},{\"default\":\"row\",\"kind\":null,\"name\":\"flex_direction\"},{\"default\":\"wrap\",\"kind\":null,\"name\":\"flex_wrap\"},{\"default\":\"flex-start\",\"kind\":null,\"name\":\"justify_content\"}]},{\"extends\":null,\"module\":null,\"name\":\"GridStack1\",\"overrides\":[],\"properties\":[{\"default\":\"warn\",\"kind\":null,\"name\":\"mode\"},{\"default\":null,\"kind\":null,\"name\":\"ncols\"},{\"default\":null,\"kind\":null,\"name\":\"nrows\"},{\"default\":true,\"kind\":null,\"name\":\"allow_resize\"},{\"default\":true,\"kind\":null,\"name\":\"allow_drag\"},{\"default\":[],\"kind\":null,\"name\":\"state\"}]},{\"extends\":null,\"module\":null,\"name\":\"click1\",\"overrides\":[],\"properties\":[{\"default\":\"\",\"kind\":null,\"name\":\"terminal_output\"},{\"default\":\"\",\"kind\":null,\"name\":\"debug_name\"},{\"default\":0,\"kind\":null,\"name\":\"clears\"}]},{\"extends\":null,\"module\":null,\"name\":\"NotificationAreaBase1\",\"overrides\":[],\"properties\":[{\"default\":\"bottom-right\",\"kind\":null,\"name\":\"position\"},{\"default\":0,\"kind\":null,\"name\":\"_clear\"}]},{\"extends\":null,\"module\":null,\"name\":\"NotificationArea1\",\"overrides\":[],\"properties\":[{\"default\":[],\"kind\":null,\"name\":\"notifications\"},{\"default\":\"bottom-right\",\"kind\":null,\"name\":\"position\"},{\"default\":0,\"kind\":null,\"name\":\"_clear\"},{\"default\":[{\"background\":\"#ffc107\",\"icon\":{\"className\":\"fas fa-exclamation-triangle\",\"color\":\"white\",\"tagName\":\"i\"},\"type\":\"warning\"},{\"background\":\"#007bff\",\"icon\":{\"className\":\"fas fa-info-circle\",\"color\":\"white\",\"tagName\":\"i\"},\"type\":\"info\"}],\"kind\":null,\"name\":\"types\"}]},{\"extends\":null,\"module\":null,\"name\":\"Notification\",\"overrides\":[],\"properties\":[{\"default\":null,\"kind\":null,\"name\":\"background\"},{\"default\":3000,\"kind\":null,\"name\":\"duration\"},{\"default\":null,\"kind\":null,\"name\":\"icon\"},{\"default\":\"\",\"kind\":null,\"name\":\"message\"},{\"default\":null,\"kind\":null,\"name\":\"notification_type\"},{\"default\":false,\"kind\":null,\"name\":\"_destroyed\"}]},{\"extends\":null,\"module\":null,\"name\":\"TemplateActions1\",\"overrides\":[],\"properties\":[{\"default\":0,\"kind\":null,\"name\":\"open_modal\"},{\"default\":0,\"kind\":null,\"name\":\"close_modal\"}]},{\"extends\":null,\"module\":null,\"name\":\"MaterialTemplateActions1\",\"overrides\":[],\"properties\":[{\"default\":0,\"kind\":null,\"name\":\"open_modal\"},{\"default\":0,\"kind\":null,\"name\":\"close_modal\"}]}],\"roots\":{\"references\":[{\"attributes\":{\"children\":[{\"id\":\"53752\"}],\"margin\":[0,0,0,0],\"name\":\"Row63366\",\"sizing_mode\":\"stretch_width\"},\"id\":\"53751\",\"type\":\"Row\"},{\"attributes\":{\"children\":[{\"id\":\"53753\"},{\"id\":\"53759\"}],\"margin\":[0,0,0,0],\"name\":\"Column63365\",\"sizing_mode\":\"stretch_width\"},\"id\":\"53752\",\"type\":\"Column\"},{\"attributes\":{\"client_comm_id\":\"4aaaf4ec4a3b481b95c398189cc9ee53\",\"comm_id\":\"3cde0f88273c446ba7e9cd5af8933d49\",\"plot_id\":\"53751\"},\"id\":\"53761\",\"type\":\"panel.models.comm_manager.CommManager\"},{\"attributes\":{\"end\":11,\"margin\":[5,10,5,10],\"sizing_mode\":\"stretch_width\",\"start\":7,\"title\":\"Month\",\"value\":7},\"id\":\"53755\",\"type\":\"Slider\"},{\"attributes\":{\"active\":0,\"button_type\":\"warning\",\"labels\":[\"count\",\"size\"],\"margin\":[5,10,5,10],\"sizing_mode\":\"stretch_width\"},\"id\":\"53757\",\"type\":\"RadioButtonGroup\"},{\"attributes\":{\"margin\":[5,5,5,5],\"name\":\"DataFrame63361\",\"sizing_mode\":\"stretch_width\",\"text\":\"&lt;table border=&quot;0&quot; class=&quot;dataframe panel-df&quot;&gt;\\n  &lt;thead&gt;\\n    &lt;tr style=&quot;text-align: right;&quot;&gt;\\n      &lt;th&gt;&lt;/th&gt;\\n      &lt;th&gt;name&lt;/th&gt;\\n      &lt;th&gt;open_date&lt;/th&gt;\\n      &lt;th&gt;count&lt;/th&gt;\\n    &lt;/tr&gt;\\n  &lt;/thead&gt;\\n  &lt;tbody&gt;\\n    &lt;tr&gt;\\n      &lt;th&gt;0&lt;/th&gt;\\n      &lt;td&gt;A&lt;/td&gt;\\n      &lt;td&gt;2021-07-01&lt;/td&gt;\\n      &lt;td&gt;27.0&lt;/td&gt;\\n    &lt;/tr&gt;\\n    &lt;tr&gt;\\n      &lt;th&gt;1&lt;/th&gt;\\n      &lt;td&gt;C&lt;/td&gt;\\n      &lt;td&gt;2021-07-03&lt;/td&gt;\\n      &lt;td&gt;22.0&lt;/td&gt;\\n    &lt;/tr&gt;\\n    &lt;tr&gt;\\n      &lt;th&gt;2&lt;/th&gt;\\n      &lt;td&gt;D&lt;/td&gt;\\n      &lt;td&gt;2021-07-03&lt;/td&gt;\\n      &lt;td&gt;32.0&lt;/td&gt;\\n    &lt;/tr&gt;\\n    &lt;tr&gt;\\n      &lt;th&gt;3&lt;/th&gt;\\n      &lt;td&gt;B&lt;/td&gt;\\n      &lt;td&gt;2022-07-02&lt;/td&gt;\\n      &lt;td&gt;24.0&lt;/td&gt;\\n    &lt;/tr&gt;\\n  &lt;/tbody&gt;\\n&lt;/table&gt;\"},\"id\":\"53760\",\"type\":\"panel.models.markup.HTML\"},{\"attributes\":{\"children\":[{\"id\":\"53755\"},{\"id\":\"53756\"},{\"id\":\"53757\"}],\"margin\":[0,0,0,0],\"name\":\"Column63336\",\"sizing_mode\":\"stretch_width\"},\"id\":\"53754\",\"type\":\"Column\"},{\"attributes\":{\"children\":[{\"id\":\"53760\"}],\"margin\":[0,0,0,0],\"name\":\"Row63341\",\"sizing_mode\":\"stretch_width\"},\"id\":\"53759\",\"type\":\"Row\"},{\"attributes\":{\"children\":[{\"id\":\"53754\"},{\"id\":\"53758\"}],\"margin\":[0,0,0,0],\"name\":\"Row63364\",\"sizing_mode\":\"stretch_width\"},\"id\":\"53753\",\"type\":\"Row\"},{\"attributes\":{\"margin\":[5,5,5,5],\"name\":\"HSpacer63363\",\"sizing_mode\":\"stretch_width\"},\"id\":\"53758\",\"type\":\"Spacer\"},{\"attributes\":{\"active\":[0,1],\"button_type\":\"success\",\"labels\":[\"2021\",\"2022\"],\"margin\":[5,10,5,10],\"sizing_mode\":\"stretch_width\"},\"id\":\"53756\",\"type\":\"CheckboxButtonGroup\"}],\"root_ids\":[\"53751\",\"53761\"]},\"title\":\"Bokeh Application\",\"version\":\"2.4.3\"}};\n",
       "    var render_items = [{\"docid\":\"ecd18ef6-32f2-4465-bcdb-4c354c4c7e05\",\"root_ids\":[\"53751\"],\"roots\":{\"53751\":\"9630eac7-38b8-4518-9741-d1d6cbd5d24f\"}}];\n",
       "    root.Bokeh.embed.embed_items_notebook(docs_json, render_items);\n",
       "  }\n",
       "  if (root.Bokeh !== undefined && root.Bokeh.Panel !== undefined) {\n",
       "    embed_document(root);\n",
       "  } else {\n",
       "    var attempts = 0;\n",
       "    var timer = setInterval(function(root) {\n",
       "      if (root.Bokeh !== undefined && root.Bokeh.Panel !== undefined) {\n",
       "        clearInterval(timer);\n",
       "        embed_document(root);\n",
       "      } else if (document.readyState == \"complete\") {\n",
       "        attempts++;\n",
       "        if (attempts > 200) {\n",
       "          clearInterval(timer);\n",
       "          console.log(\"Bokeh: ERROR: Unable to run BokehJS code because BokehJS library is missing\");\n",
       "        }\n",
       "      }\n",
       "    }, 25, root)\n",
       "  }\n",
       "})(window);</script>"
      ],
      "text/plain": [
       "<hvplot.interactive.Interactive at 0x1394091e0>"
      ]
     },
     "execution_count": 328,
     "metadata": {
      "application/vnd.holoviews_exec.v0+json": {
       "id": "53751"
      }
     },
     "output_type": "execute_result"
    }
   ],
   "source": [
    "ipipeline = (\n",
    "    idf[\n",
    "        (idf.month == months_slider) & \n",
    "        (idf.year.isin(years_togglegroup))\n",
    "    ]\n",
    "    .groupby(['name','open_date'])[yaxis].mean()\n",
    "    .to_frame()\n",
    "    .reset_index()\n",
    "    .sort_values(by='open_date')  \n",
    "    .reset_index(drop=True)\n",
    ")\n",
    "ipipeline\n"
   ]
  },
  {
   "cell_type": "code",
   "execution_count": 329,
   "metadata": {},
   "outputs": [
    {
     "data": {
      "text/plain": [
       "'notebook'"
      ]
     },
     "execution_count": 329,
     "metadata": {},
     "output_type": "execute_result"
    }
   ],
   "source": [
    "def environment():\n",
    "    try:\n",
    "        get_ipython()\n",
    "        return \"notebook\"\n",
    "    except:\n",
    "        return \"server\"\n",
    "environment()"
   ]
  },
  {
   "cell_type": "code",
   "execution_count": 330,
   "metadata": {},
   "outputs": [
    {
     "data": {},
     "metadata": {},
     "output_type": "display_data"
    },
    {
     "data": {
      "application/vnd.holoviews_exec.v0+json": "",
      "text/html": [
       "<div id='53762'>\n",
       "  <div class=\"bk-root\" id=\"34fa87ea-392c-41e5-852a-fae7d6ae9ef2\" data-root-id=\"53762\"></div>\n",
       "</div>\n",
       "<script type=\"application/javascript\">(function(root) {\n",
       "  function embed_document(root) {\n",
       "    var docs_json = {\"790377f9-86d3-470c-8ca8-0a35865ba065\":{\"defs\":[{\"extends\":null,\"module\":null,\"name\":\"ReactiveHTML1\",\"overrides\":[],\"properties\":[]},{\"extends\":null,\"module\":null,\"name\":\"FlexBox1\",\"overrides\":[],\"properties\":[{\"default\":\"flex-start\",\"kind\":null,\"name\":\"align_content\"},{\"default\":\"flex-start\",\"kind\":null,\"name\":\"align_items\"},{\"default\":\"row\",\"kind\":null,\"name\":\"flex_direction\"},{\"default\":\"wrap\",\"kind\":null,\"name\":\"flex_wrap\"},{\"default\":\"flex-start\",\"kind\":null,\"name\":\"justify_content\"}]},{\"extends\":null,\"module\":null,\"name\":\"GridStack1\",\"overrides\":[],\"properties\":[{\"default\":\"warn\",\"kind\":null,\"name\":\"mode\"},{\"default\":null,\"kind\":null,\"name\":\"ncols\"},{\"default\":null,\"kind\":null,\"name\":\"nrows\"},{\"default\":true,\"kind\":null,\"name\":\"allow_resize\"},{\"default\":true,\"kind\":null,\"name\":\"allow_drag\"},{\"default\":[],\"kind\":null,\"name\":\"state\"}]},{\"extends\":null,\"module\":null,\"name\":\"click1\",\"overrides\":[],\"properties\":[{\"default\":\"\",\"kind\":null,\"name\":\"terminal_output\"},{\"default\":\"\",\"kind\":null,\"name\":\"debug_name\"},{\"default\":0,\"kind\":null,\"name\":\"clears\"}]},{\"extends\":null,\"module\":null,\"name\":\"NotificationAreaBase1\",\"overrides\":[],\"properties\":[{\"default\":\"bottom-right\",\"kind\":null,\"name\":\"position\"},{\"default\":0,\"kind\":null,\"name\":\"_clear\"}]},{\"extends\":null,\"module\":null,\"name\":\"NotificationArea1\",\"overrides\":[],\"properties\":[{\"default\":[],\"kind\":null,\"name\":\"notifications\"},{\"default\":\"bottom-right\",\"kind\":null,\"name\":\"position\"},{\"default\":0,\"kind\":null,\"name\":\"_clear\"},{\"default\":[{\"background\":\"#ffc107\",\"icon\":{\"className\":\"fas fa-exclamation-triangle\",\"color\":\"white\",\"tagName\":\"i\"},\"type\":\"warning\"},{\"background\":\"#007bff\",\"icon\":{\"className\":\"fas fa-info-circle\",\"color\":\"white\",\"tagName\":\"i\"},\"type\":\"info\"}],\"kind\":null,\"name\":\"types\"}]},{\"extends\":null,\"module\":null,\"name\":\"Notification\",\"overrides\":[],\"properties\":[{\"default\":null,\"kind\":null,\"name\":\"background\"},{\"default\":3000,\"kind\":null,\"name\":\"duration\"},{\"default\":null,\"kind\":null,\"name\":\"icon\"},{\"default\":\"\",\"kind\":null,\"name\":\"message\"},{\"default\":null,\"kind\":null,\"name\":\"notification_type\"},{\"default\":false,\"kind\":null,\"name\":\"_destroyed\"}]},{\"extends\":null,\"module\":null,\"name\":\"TemplateActions1\",\"overrides\":[],\"properties\":[{\"default\":0,\"kind\":null,\"name\":\"open_modal\"},{\"default\":0,\"kind\":null,\"name\":\"close_modal\"}]},{\"extends\":null,\"module\":null,\"name\":\"MaterialTemplateActions1\",\"overrides\":[],\"properties\":[{\"default\":0,\"kind\":null,\"name\":\"open_modal\"},{\"default\":0,\"kind\":null,\"name\":\"close_modal\"}]}],\"roots\":{\"references\":[{\"attributes\":{\"children\":[{\"id\":\"53763\"},{\"id\":\"53764\"},{\"id\":\"53765\"},{\"id\":\"53766\"}],\"margin\":[0,0,0,0],\"name\":\"Row63373\",\"sizing_mode\":\"stretch_width\"},\"id\":\"53762\",\"type\":\"Row\"},{\"attributes\":{\"background\":\"#ff6f69\",\"height\":50,\"margin\":[5,5,5,5],\"name\":\"HSpacer63369\",\"sizing_mode\":\"stretch_width\"},\"id\":\"53763\",\"type\":\"Spacer\"},{\"attributes\":{\"background\":\"#ffcc5c\",\"height\":50,\"margin\":[5,5,5,5],\"name\":\"HSpacer63370\",\"sizing_mode\":\"stretch_width\"},\"id\":\"53764\",\"type\":\"Spacer\"},{\"attributes\":{\"client_comm_id\":\"9f37733e0bcd4a9ea6d575ba7dc936a1\",\"comm_id\":\"d7f0bcfe7a2d4b28b8497473dc1c0742\",\"plot_id\":\"53762\"},\"id\":\"53767\",\"type\":\"panel.models.comm_manager.CommManager\"},{\"attributes\":{\"background\":\"#88d8b0\",\"height\":50,\"margin\":[5,5,5,5],\"name\":\"HSpacer63371\",\"sizing_mode\":\"stretch_width\"},\"id\":\"53765\",\"type\":\"Spacer\"},{\"attributes\":{\"background\":\"#58d8b0\",\"height\":50,\"margin\":[5,5,5,5],\"name\":\"HSpacer63372\",\"sizing_mode\":\"stretch_width\"},\"id\":\"53766\",\"type\":\"Spacer\"}],\"root_ids\":[\"53762\",\"53767\"]},\"title\":\"Bokeh Application\",\"version\":\"2.4.3\"}};\n",
       "    var render_items = [{\"docid\":\"790377f9-86d3-470c-8ca8-0a35865ba065\",\"root_ids\":[\"53762\"],\"roots\":{\"53762\":\"34fa87ea-392c-41e5-852a-fae7d6ae9ef2\"}}];\n",
       "    root.Bokeh.embed.embed_items_notebook(docs_json, render_items);\n",
       "  }\n",
       "  if (root.Bokeh !== undefined && root.Bokeh.Panel !== undefined) {\n",
       "    embed_document(root);\n",
       "  } else {\n",
       "    var attempts = 0;\n",
       "    var timer = setInterval(function(root) {\n",
       "      if (root.Bokeh !== undefined && root.Bokeh.Panel !== undefined) {\n",
       "        clearInterval(timer);\n",
       "        embed_document(root);\n",
       "      } else if (document.readyState == \"complete\") {\n",
       "        attempts++;\n",
       "        if (attempts > 200) {\n",
       "          clearInterval(timer);\n",
       "          console.log(\"Bokeh: ERROR: Unable to run BokehJS code because BokehJS library is missing\");\n",
       "        }\n",
       "      }\n",
       "    }, 25, root)\n",
       "  }\n",
       "})(window);</script>"
      ],
      "text/plain": [
       "Row(sizing_mode='stretch_width')\n",
       "    [0] HSpacer(background='#ff6f69', height=50)\n",
       "    [1] HSpacer(background='#ffcc5c', height=50)\n",
       "    [2] HSpacer(background='#88d8b0', height=50)\n",
       "    [3] HSpacer(background='#58d8b0', height=50)"
      ]
     },
     "execution_count": 330,
     "metadata": {
      "application/vnd.holoviews_exec.v0+json": {
       "id": "53762"
      }
     },
     "output_type": "execute_result"
    }
   ],
   "source": [
    "PALETTE = [\"#ff6f69\", \"#ffcc5c\", \"#88d8b0\",\"#58d8b0\" ]\n",
    "pn.Row(\n",
    "    pn.layout.HSpacer(height=50, background=PALETTE[0]),\n",
    "    pn.layout.HSpacer(height=50, background=PALETTE[1]),\n",
    "    pn.layout.HSpacer(height=50, background=PALETTE[2]),\n",
    "    pn.layout.HSpacer(height=50, background=PALETTE[3]),\n",
    ")"
   ]
  },
  {
   "cell_type": "code",
   "execution_count": 331,
   "metadata": {},
   "outputs": [],
   "source": [
    "if environment()==\"server\":\n",
    "   theme=\"fast\"\n",
    "else:\n",
    "   theme=\"simple\""
   ]
  },
  {
   "cell_type": "code",
   "execution_count": 332,
   "metadata": {},
   "outputs": [
    {
     "data": {},
     "metadata": {},
     "output_type": "display_data"
    },
    {
     "data": {
      "application/vnd.holoviews_exec.v0+json": "",
      "text/html": [
       "<div id='53768'>\n",
       "  <div class=\"bk-root\" id=\"10bb62e7-fac0-40d2-96ba-bab18e1a8186\" data-root-id=\"53768\"></div>\n",
       "</div>\n",
       "<script type=\"application/javascript\">(function(root) {\n",
       "  function embed_document(root) {\n",
       "    var docs_json = {\"41fc1129-b0be-4aee-a2d0-25757f17c3b4\":{\"defs\":[{\"extends\":null,\"module\":null,\"name\":\"ReactiveHTML1\",\"overrides\":[],\"properties\":[]},{\"extends\":null,\"module\":null,\"name\":\"FlexBox1\",\"overrides\":[],\"properties\":[{\"default\":\"flex-start\",\"kind\":null,\"name\":\"align_content\"},{\"default\":\"flex-start\",\"kind\":null,\"name\":\"align_items\"},{\"default\":\"row\",\"kind\":null,\"name\":\"flex_direction\"},{\"default\":\"wrap\",\"kind\":null,\"name\":\"flex_wrap\"},{\"default\":\"flex-start\",\"kind\":null,\"name\":\"justify_content\"}]},{\"extends\":null,\"module\":null,\"name\":\"GridStack1\",\"overrides\":[],\"properties\":[{\"default\":\"warn\",\"kind\":null,\"name\":\"mode\"},{\"default\":null,\"kind\":null,\"name\":\"ncols\"},{\"default\":null,\"kind\":null,\"name\":\"nrows\"},{\"default\":true,\"kind\":null,\"name\":\"allow_resize\"},{\"default\":true,\"kind\":null,\"name\":\"allow_drag\"},{\"default\":[],\"kind\":null,\"name\":\"state\"}]},{\"extends\":null,\"module\":null,\"name\":\"click1\",\"overrides\":[],\"properties\":[{\"default\":\"\",\"kind\":null,\"name\":\"terminal_output\"},{\"default\":\"\",\"kind\":null,\"name\":\"debug_name\"},{\"default\":0,\"kind\":null,\"name\":\"clears\"}]},{\"extends\":null,\"module\":null,\"name\":\"NotificationAreaBase1\",\"overrides\":[],\"properties\":[{\"default\":\"bottom-right\",\"kind\":null,\"name\":\"position\"},{\"default\":0,\"kind\":null,\"name\":\"_clear\"}]},{\"extends\":null,\"module\":null,\"name\":\"NotificationArea1\",\"overrides\":[],\"properties\":[{\"default\":[],\"kind\":null,\"name\":\"notifications\"},{\"default\":\"bottom-right\",\"kind\":null,\"name\":\"position\"},{\"default\":0,\"kind\":null,\"name\":\"_clear\"},{\"default\":[{\"background\":\"#ffc107\",\"icon\":{\"className\":\"fas fa-exclamation-triangle\",\"color\":\"white\",\"tagName\":\"i\"},\"type\":\"warning\"},{\"background\":\"#007bff\",\"icon\":{\"className\":\"fas fa-info-circle\",\"color\":\"white\",\"tagName\":\"i\"},\"type\":\"info\"}],\"kind\":null,\"name\":\"types\"}]},{\"extends\":null,\"module\":null,\"name\":\"Notification\",\"overrides\":[],\"properties\":[{\"default\":null,\"kind\":null,\"name\":\"background\"},{\"default\":3000,\"kind\":null,\"name\":\"duration\"},{\"default\":null,\"kind\":null,\"name\":\"icon\"},{\"default\":\"\",\"kind\":null,\"name\":\"message\"},{\"default\":null,\"kind\":null,\"name\":\"notification_type\"},{\"default\":false,\"kind\":null,\"name\":\"_destroyed\"}]},{\"extends\":null,\"module\":null,\"name\":\"TemplateActions1\",\"overrides\":[],\"properties\":[{\"default\":0,\"kind\":null,\"name\":\"open_modal\"},{\"default\":0,\"kind\":null,\"name\":\"close_modal\"}]},{\"extends\":null,\"module\":null,\"name\":\"MaterialTemplateActions1\",\"overrides\":[],\"properties\":[{\"default\":0,\"kind\":null,\"name\":\"open_modal\"},{\"default\":0,\"kind\":null,\"name\":\"close_modal\"}]}],\"roots\":{\"references\":[{\"attributes\":{\"editor\":{\"id\":\"53791\"},\"field\":\"open_date\",\"formatter\":{\"id\":\"53790\"},\"title\":\"open_date\",\"width\":0},\"id\":\"53792\",\"type\":\"TableColumn\"},{\"attributes\":{\"format\":\"%Y-%m-%d\",\"text_align\":\"right\"},\"id\":\"53790\",\"type\":\"DateFormatter\"},{\"attributes\":{\"columns\":[{\"id\":\"53782\"},{\"id\":\"53787\"},{\"id\":\"53792\"},{\"id\":\"53797\"}],\"configuration\":{\"columns\":[{\"field\":\"index\"},{\"field\":\"name\"},{\"field\":\"open_date\"},{\"field\":\"count\"}],\"dataTree\":false,\"selectable\":true},\"indexes\":[\"index\"],\"layout\":\"fit_data_table\",\"margin\":[5,10,5,10],\"max_page\":1,\"name\":\"\",\"page\":1,\"page_size\":10,\"pagination\":\"remote\",\"select_mode\":true,\"selectable_rows\":null,\"sizing_mode\":\"stretch_width\",\"source\":{\"id\":\"53777\"},\"styles\":{\"data\":{},\"id\":\"79790e6d045a4259b16e763772a90227\"},\"subscribed_events\":[\"table-edit\",\"cell-click\"]},\"id\":\"53800\",\"type\":\"panel.models.tabulator.DataTabulator\"},{\"attributes\":{\"editor\":{\"id\":\"53786\"},\"field\":\"name\",\"formatter\":{\"id\":\"53785\"},\"title\":\"name\",\"width\":0},\"id\":\"53787\",\"type\":\"TableColumn\"},{\"attributes\":{\"children\":[{\"id\":\"53771\"},{\"id\":\"53775\"}],\"margin\":[0,0,0,0],\"name\":\"Row63461\",\"sizing_mode\":\"stretch_width\"},\"id\":\"53770\",\"type\":\"Row\"},{\"attributes\":{\"text_align\":\"left\"},\"id\":\"53779\",\"type\":\"NumberFormatter\"},{\"attributes\":{\"margin\":[5,5,5,5],\"name\":\"HSpacer63460\",\"sizing_mode\":\"stretch_width\"},\"id\":\"53775\",\"type\":\"Spacer\"},{\"attributes\":{},\"id\":\"53796\",\"type\":\"NumberEditor\"},{\"attributes\":{},\"id\":\"53785\",\"type\":\"StringFormatter\"},{\"attributes\":{},\"id\":\"53781\",\"type\":\"CellEditor\"},{\"attributes\":{\"end\":11,\"margin\":[5,10,5,10],\"sizing_mode\":\"stretch_width\",\"start\":7,\"title\":\"Month\",\"value\":7},\"id\":\"53772\",\"type\":\"Slider\"},{\"attributes\":{\"children\":[{\"id\":\"53770\"},{\"id\":\"53776\"}],\"margin\":[0,0,0,0],\"name\":\"Column63462\",\"sizing_mode\":\"stretch_width\"},\"id\":\"53769\",\"type\":\"Column\"},{\"attributes\":{\"editor\":{\"id\":\"53796\"},\"field\":\"count\",\"formatter\":{\"id\":\"53795\"},\"title\":\"count\",\"width\":0},\"id\":\"53797\",\"type\":\"TableColumn\"},{\"attributes\":{\"indices\":[]},\"id\":\"53778\",\"type\":\"Selection\"},{\"attributes\":{},\"id\":\"53791\",\"type\":\"DateEditor\"},{\"attributes\":{},\"id\":\"53786\",\"type\":\"StringEditor\"},{\"attributes\":{\"active\":[0,1],\"button_type\":\"success\",\"labels\":[\"2021\",\"2022\"],\"margin\":[5,10,5,10],\"sizing_mode\":\"stretch_width\"},\"id\":\"53773\",\"type\":\"CheckboxButtonGroup\"},{\"attributes\":{\"active\":0,\"button_type\":\"warning\",\"labels\":[\"count\",\"size\"],\"margin\":[5,10,5,10],\"sizing_mode\":\"stretch_width\"},\"id\":\"53774\",\"type\":\"RadioButtonGroup\"},{\"attributes\":{\"children\":[{\"id\":\"53769\"}],\"margin\":[0,0,0,0],\"name\":\"Row63463\",\"sizing_mode\":\"stretch_width\"},\"id\":\"53768\",\"type\":\"Row\"},{\"attributes\":{\"data\":{\"count\":{\"__ndarray__\":\"AAAAAAAAO0AAAAAAAAA2QAAAAAAAAEBAAAAAAAAAOEA=\",\"dtype\":\"float64\",\"order\":\"little\",\"shape\":[4]},\"index\":[0,1,2,3],\"name\":[\"A\",\"C\",\"D\",\"B\"],\"open_date\":{\"__ndarray__\":\"AADA1/Wld0IAAECjmqZ3QgAAQKOapndCAABAUMMbeEI=\",\"dtype\":\"float64\",\"order\":\"little\",\"shape\":[4]}},\"selected\":{\"id\":\"53778\"},\"selection_policy\":{\"id\":\"53802\"}},\"id\":\"53777\",\"type\":\"ColumnDataSource\"},{\"attributes\":{\"format\":\"0,0.0[00000]\",\"text_align\":\"right\"},\"id\":\"53795\",\"type\":\"NumberFormatter\"},{\"attributes\":{\"editor\":{\"id\":\"53781\"},\"field\":\"index\",\"formatter\":{\"id\":\"53779\"},\"title\":\"index\",\"width\":0},\"id\":\"53782\",\"type\":\"TableColumn\"},{\"attributes\":{},\"id\":\"53802\",\"type\":\"UnionRenderers\"},{\"attributes\":{\"children\":[{\"id\":\"53800\"}],\"margin\":[0,0,0,0],\"name\":\"Row63439\",\"sizing_mode\":\"stretch_width\"},\"id\":\"53776\",\"type\":\"Row\"},{\"attributes\":{\"children\":[{\"id\":\"53772\"},{\"id\":\"53773\"},{\"id\":\"53774\"}],\"margin\":[0,0,0,0],\"name\":\"Column63434\",\"sizing_mode\":\"stretch_width\"},\"id\":\"53771\",\"type\":\"Column\"},{\"attributes\":{\"client_comm_id\":\"75aac9d7bce94c85a6a47be0a07ed94d\",\"comm_id\":\"0609bcf9e99d47f39856bacf8b7494a3\",\"plot_id\":\"53768\"},\"id\":\"53808\",\"type\":\"panel.models.comm_manager.CommManager\"}],\"root_ids\":[\"53768\",\"53808\"]},\"title\":\"Bokeh Application\",\"version\":\"2.4.3\"}};\n",
       "    var render_items = [{\"docid\":\"41fc1129-b0be-4aee-a2d0-25757f17c3b4\",\"root_ids\":[\"53768\"],\"roots\":{\"53768\":\"10bb62e7-fac0-40d2-96ba-bab18e1a8186\"}}];\n",
       "    root.Bokeh.embed.embed_items_notebook(docs_json, render_items);\n",
       "  }\n",
       "  if (root.Bokeh !== undefined && root.Bokeh.Panel !== undefined) {\n",
       "    embed_document(root);\n",
       "  } else {\n",
       "    var attempts = 0;\n",
       "    var timer = setInterval(function(root) {\n",
       "      if (root.Bokeh !== undefined && root.Bokeh.Panel !== undefined) {\n",
       "        clearInterval(timer);\n",
       "        embed_document(root);\n",
       "      } else if (document.readyState == \"complete\") {\n",
       "        attempts++;\n",
       "        if (attempts > 200) {\n",
       "          clearInterval(timer);\n",
       "          console.log(\"Bokeh: ERROR: Unable to run BokehJS code because BokehJS library is missing\");\n",
       "        }\n",
       "      }\n",
       "    }, 25, root)\n",
       "  }\n",
       "})(window);</script>"
      ],
      "text/plain": [
       "<hvplot.interactive.Interactive at 0x138f12560>"
      ]
     },
     "execution_count": 332,
     "metadata": {
      "application/vnd.holoviews_exec.v0+json": {
       "id": "53768"
      }
     },
     "output_type": "execute_result"
    }
   ],
   "source": [
    "itable = ipipeline.pipe(pn.widgets.Tabulator, pagination='remote', page_size=10, theme=theme)\n",
    "itable"
   ]
  },
  {
   "cell_type": "code",
   "execution_count": 333,
   "metadata": {},
   "outputs": [
    {
     "data": {},
     "metadata": {},
     "output_type": "display_data"
    },
    {
     "data": {},
     "metadata": {},
     "output_type": "display_data"
    },
    {
     "data": {
      "application/vnd.holoviews_exec.v0+json": "",
      "text/html": [
       "<div id='53819'>\n",
       "  <div class=\"bk-root\" id=\"2c929633-be4a-415c-99db-df215f5d6103\" data-root-id=\"53819\"></div>\n",
       "</div>\n",
       "<script type=\"application/javascript\">(function(root) {\n",
       "  function embed_document(root) {\n",
       "    var docs_json = {\"caf0b6fb-0c00-471f-8ff3-0db611cb9ca8\":{\"defs\":[{\"extends\":null,\"module\":null,\"name\":\"ReactiveHTML1\",\"overrides\":[],\"properties\":[]},{\"extends\":null,\"module\":null,\"name\":\"FlexBox1\",\"overrides\":[],\"properties\":[{\"default\":\"flex-start\",\"kind\":null,\"name\":\"align_content\"},{\"default\":\"flex-start\",\"kind\":null,\"name\":\"align_items\"},{\"default\":\"row\",\"kind\":null,\"name\":\"flex_direction\"},{\"default\":\"wrap\",\"kind\":null,\"name\":\"flex_wrap\"},{\"default\":\"flex-start\",\"kind\":null,\"name\":\"justify_content\"}]},{\"extends\":null,\"module\":null,\"name\":\"GridStack1\",\"overrides\":[],\"properties\":[{\"default\":\"warn\",\"kind\":null,\"name\":\"mode\"},{\"default\":null,\"kind\":null,\"name\":\"ncols\"},{\"default\":null,\"kind\":null,\"name\":\"nrows\"},{\"default\":true,\"kind\":null,\"name\":\"allow_resize\"},{\"default\":true,\"kind\":null,\"name\":\"allow_drag\"},{\"default\":[],\"kind\":null,\"name\":\"state\"}]},{\"extends\":null,\"module\":null,\"name\":\"click1\",\"overrides\":[],\"properties\":[{\"default\":\"\",\"kind\":null,\"name\":\"terminal_output\"},{\"default\":\"\",\"kind\":null,\"name\":\"debug_name\"},{\"default\":0,\"kind\":null,\"name\":\"clears\"}]},{\"extends\":null,\"module\":null,\"name\":\"NotificationAreaBase1\",\"overrides\":[],\"properties\":[{\"default\":\"bottom-right\",\"kind\":null,\"name\":\"position\"},{\"default\":0,\"kind\":null,\"name\":\"_clear\"}]},{\"extends\":null,\"module\":null,\"name\":\"NotificationArea1\",\"overrides\":[],\"properties\":[{\"default\":[],\"kind\":null,\"name\":\"notifications\"},{\"default\":\"bottom-right\",\"kind\":null,\"name\":\"position\"},{\"default\":0,\"kind\":null,\"name\":\"_clear\"},{\"default\":[{\"background\":\"#ffc107\",\"icon\":{\"className\":\"fas fa-exclamation-triangle\",\"color\":\"white\",\"tagName\":\"i\"},\"type\":\"warning\"},{\"background\":\"#007bff\",\"icon\":{\"className\":\"fas fa-info-circle\",\"color\":\"white\",\"tagName\":\"i\"},\"type\":\"info\"}],\"kind\":null,\"name\":\"types\"}]},{\"extends\":null,\"module\":null,\"name\":\"Notification\",\"overrides\":[],\"properties\":[{\"default\":null,\"kind\":null,\"name\":\"background\"},{\"default\":3000,\"kind\":null,\"name\":\"duration\"},{\"default\":null,\"kind\":null,\"name\":\"icon\"},{\"default\":\"\",\"kind\":null,\"name\":\"message\"},{\"default\":null,\"kind\":null,\"name\":\"notification_type\"},{\"default\":false,\"kind\":null,\"name\":\"_destroyed\"}]},{\"extends\":null,\"module\":null,\"name\":\"TemplateActions1\",\"overrides\":[],\"properties\":[{\"default\":0,\"kind\":null,\"name\":\"open_modal\"},{\"default\":0,\"kind\":null,\"name\":\"close_modal\"}]},{\"extends\":null,\"module\":null,\"name\":\"MaterialTemplateActions1\",\"overrides\":[],\"properties\":[{\"default\":0,\"kind\":null,\"name\":\"open_modal\"},{\"default\":0,\"kind\":null,\"name\":\"close_modal\"}]}],\"roots\":{\"references\":[{\"attributes\":{\"line_alpha\":0.1,\"line_color\":\"#58d8b0\",\"line_width\":6,\"x\":{\"field\":\"open_date\"},\"y\":{\"field\":\"count\"}},\"id\":\"53976\",\"type\":\"Line\"},{\"attributes\":{\"data\":{\"count\":{\"__ndarray__\":\"AAAAAAAANkA=\",\"dtype\":\"float64\",\"order\":\"little\",\"shape\":[1]},\"name\":[\"C\"],\"open_date\":{\"__ndarray__\":\"AABAo5qmd0I=\",\"dtype\":\"float64\",\"order\":\"little\",\"shape\":[1]}},\"selected\":{\"id\":\"53937\"},\"selection_policy\":{\"id\":\"53955\"}},\"id\":\"53936\",\"type\":\"ColumnDataSource\"},{\"attributes\":{\"callback\":null,\"formatters\":{\"@{open_date}\":\"datetime\"},\"renderers\":[{\"id\":\"53875\"},{\"id\":\"53908\"},{\"id\":\"53942\"},{\"id\":\"53978\"}],\"tags\":[\"hv_created\"],\"tooltips\":[[\"name\",\"@{name}\"],[\"open_date\",\"@{open_date}{%F %T}\"],[\"count\",\"@{count}\"]]},\"id\":\"53829\",\"type\":\"HoverTool\"},{\"attributes\":{\"below\":[{\"id\":\"53842\"}],\"center\":[{\"id\":\"53845\"},{\"id\":\"53849\"}],\"height\":400,\"left\":[{\"id\":\"53846\"}],\"margin\":[5,5,5,5],\"min_border_bottom\":10,\"min_border_left\":10,\"min_border_right\":10,\"min_border_top\":10,\"renderers\":[{\"id\":\"53875\"},{\"id\":\"53908\"},{\"id\":\"53942\"},{\"id\":\"53978\"}],\"right\":[{\"id\":\"53899\"}],\"sizing_mode\":\"stretch_width\",\"title\":{\"id\":\"53834\"},\"toolbar\":{\"id\":\"53856\"},\"width\":700,\"x_range\":{\"id\":\"53827\"},\"x_scale\":{\"id\":\"53838\"},\"y_range\":{\"id\":\"53828\"},\"y_scale\":{\"id\":\"53840\"}},\"id\":\"53833\",\"subtype\":\"Figure\",\"type\":\"Plot\"},{\"attributes\":{\"children\":[{\"id\":\"53820\"}],\"margin\":[0,0,0,0],\"name\":\"Row63664\",\"sizing_mode\":\"stretch_width\"},\"id\":\"53819\",\"type\":\"Row\"},{\"attributes\":{\"line_alpha\":0.1,\"line_color\":\"#ff6f69\",\"line_width\":6,\"x\":{\"field\":\"open_date\"},\"y\":{\"field\":\"count\"}},\"id\":\"53873\",\"type\":\"Line\"},{\"attributes\":{\"end\":33.0,\"reset_end\":33.0,\"reset_start\":21.0,\"start\":21.0,\"tags\":[[[\"count\",\"count\",null]]]},\"id\":\"53828\",\"type\":\"Range1d\"},{\"attributes\":{},\"id\":\"53955\",\"type\":\"UnionRenderers\"},{\"attributes\":{\"end\":11,\"margin\":[5,10,5,10],\"sizing_mode\":\"stretch_width\",\"start\":7,\"title\":\"Month\",\"value\":7},\"id\":\"53823\",\"type\":\"Slider\"},{\"attributes\":{\"source\":{\"id\":\"53869\"}},\"id\":\"53876\",\"type\":\"CDSView\"},{\"attributes\":{},\"id\":\"53838\",\"type\":\"LinearScale\"},{\"attributes\":{\"active\":0,\"button_type\":\"warning\",\"labels\":[\"count\",\"size\"],\"margin\":[5,10,5,10],\"sizing_mode\":\"stretch_width\"},\"id\":\"53825\",\"type\":\"RadioButtonGroup\"},{\"attributes\":{\"label\":{\"value\":\"C\"},\"renderers\":[{\"id\":\"53942\"}]},\"id\":\"53970\",\"type\":\"LegendItem\"},{\"attributes\":{\"data\":{\"count\":{\"__ndarray__\":\"AAAAAAAAOEA=\",\"dtype\":\"float64\",\"order\":\"little\",\"shape\":[1]},\"name\":[\"B\"],\"open_date\":{\"__ndarray__\":\"AABAUMMbeEI=\",\"dtype\":\"float64\",\"order\":\"little\",\"shape\":[1]}},\"selected\":{\"id\":\"53903\"},\"selection_policy\":{\"id\":\"53919\"}},\"id\":\"53902\",\"type\":\"ColumnDataSource\"},{\"attributes\":{\"line_color\":\"#88d8b0\",\"line_width\":6,\"x\":{\"field\":\"open_date\"},\"y\":{\"field\":\"count\"}},\"id\":\"53971\",\"type\":\"Line\"},{\"attributes\":{},\"id\":\"53884\",\"type\":\"UnionRenderers\"},{\"attributes\":{\"end\":1656720000000.0,\"reset_end\":1656720000000.0,\"reset_start\":1625097600000.0,\"start\":1625097600000.0,\"tags\":[[[\"open_date\",\"open_date\",null]]]},\"id\":\"53827\",\"type\":\"Range1d\"},{\"attributes\":{\"coordinates\":null,\"data_source\":{\"id\":\"53869\"},\"glyph\":{\"id\":\"53872\"},\"group\":null,\"hover_glyph\":null,\"muted_glyph\":{\"id\":\"53874\"},\"nonselection_glyph\":{\"id\":\"53873\"},\"selection_glyph\":{\"id\":\"53901\"},\"view\":{\"id\":\"53876\"}},\"id\":\"53875\",\"type\":\"GlyphRenderer\"},{\"attributes\":{\"active\":[0,1],\"button_type\":\"success\",\"labels\":[\"2021\",\"2022\"],\"margin\":[5,10,5,10],\"sizing_mode\":\"stretch_width\"},\"id\":\"53824\",\"type\":\"CheckboxButtonGroup\"},{\"attributes\":{\"line_color\":\"#88d8b0\",\"line_width\":6,\"x\":{\"field\":\"open_date\"},\"y\":{\"field\":\"count\"}},\"id\":\"53939\",\"type\":\"Line\"},{\"attributes\":{},\"id\":\"53864\",\"type\":\"DatetimeTickFormatter\"},{\"attributes\":{\"coordinates\":null,\"group\":null,\"text_color\":\"black\",\"text_font_size\":\"12pt\"},\"id\":\"53834\",\"type\":\"Title\"},{\"attributes\":{\"margin\":[5,5,5,5],\"name\":\"HSpacer63656\",\"sizing_mode\":\"stretch_width\"},\"id\":\"53826\",\"type\":\"Spacer\"},{\"attributes\":{\"num_minor_ticks\":5,\"tickers\":[{\"id\":\"53887\"},{\"id\":\"53888\"},{\"id\":\"53889\"},{\"id\":\"53890\"},{\"id\":\"53891\"},{\"id\":\"53892\"},{\"id\":\"53893\"},{\"id\":\"53894\"},{\"id\":\"53895\"},{\"id\":\"53896\"},{\"id\":\"53897\"},{\"id\":\"53898\"}]},\"id\":\"53843\",\"type\":\"DatetimeTicker\"},{\"attributes\":{\"children\":[{\"id\":\"53822\"},{\"id\":\"53826\"}],\"margin\":[0,0,0,0],\"name\":\"Row63657\",\"sizing_mode\":\"stretch_width\"},\"id\":\"53821\",\"type\":\"Row\"},{\"attributes\":{\"axis\":{\"id\":\"53842\"},\"coordinates\":null,\"grid_line_color\":null,\"group\":null,\"ticker\":null},\"id\":\"53845\",\"type\":\"Grid\"},{\"attributes\":{\"axis_label\":\"open_date\",\"coordinates\":null,\"formatter\":{\"id\":\"53864\"},\"group\":null,\"major_label_policy\":{\"id\":\"53865\"},\"ticker\":{\"id\":\"53843\"}},\"id\":\"53842\",\"type\":\"DatetimeAxis\"},{\"attributes\":{},\"id\":\"53840\",\"type\":\"LinearScale\"},{\"attributes\":{\"coordinates\":null,\"data_source\":{\"id\":\"53936\"},\"glyph\":{\"id\":\"53939\"},\"group\":null,\"hover_glyph\":null,\"muted_glyph\":{\"id\":\"53941\"},\"nonselection_glyph\":{\"id\":\"53940\"},\"selection_glyph\":{\"id\":\"53971\"},\"view\":{\"id\":\"53943\"}},\"id\":\"53942\",\"type\":\"GlyphRenderer\"},{\"attributes\":{\"children\":[{\"id\":\"53821\"},{\"id\":\"53833\"}],\"margin\":[0,0,0,0],\"name\":\"Column63663\",\"sizing_mode\":\"stretch_width\"},\"id\":\"53820\",\"type\":\"Column\"},{\"attributes\":{},\"id\":\"53937\",\"type\":\"Selection\"},{\"attributes\":{},\"id\":\"53851\",\"type\":\"PanTool\"},{\"attributes\":{\"line_alpha\":0.2,\"line_color\":\"#88d8b0\",\"line_width\":6,\"x\":{\"field\":\"open_date\"},\"y\":{\"field\":\"count\"}},\"id\":\"53941\",\"type\":\"Line\"},{\"attributes\":{},\"id\":\"53865\",\"type\":\"AllLabels\"},{\"attributes\":{\"source\":{\"id\":\"53902\"}},\"id\":\"53909\",\"type\":\"CDSView\"},{\"attributes\":{\"click_policy\":\"mute\",\"coordinates\":null,\"group\":null,\"items\":[{\"id\":\"53900\"},{\"id\":\"53934\"},{\"id\":\"53970\"},{\"id\":\"54008\"}],\"location\":[0,0],\"title\":\"name\"},\"id\":\"53899\",\"type\":\"Legend\"},{\"attributes\":{\"axis\":{\"id\":\"53846\"},\"coordinates\":null,\"dimension\":1,\"grid_line_color\":null,\"group\":null,\"ticker\":null},\"id\":\"53849\",\"type\":\"Grid\"},{\"attributes\":{\"line_color\":\"#ff6f69\",\"line_width\":6,\"x\":{\"field\":\"open_date\"},\"y\":{\"field\":\"count\"}},\"id\":\"53901\",\"type\":\"Line\"},{\"attributes\":{},\"id\":\"53847\",\"type\":\"BasicTicker\"},{\"attributes\":{},\"id\":\"53852\",\"type\":\"WheelZoomTool\"},{\"attributes\":{},\"id\":\"53850\",\"type\":\"SaveTool\"},{\"attributes\":{\"line_alpha\":0.1,\"line_color\":\"#ffcc5c\",\"line_width\":6,\"x\":{\"field\":\"open_date\"},\"y\":{\"field\":\"count\"}},\"id\":\"53906\",\"type\":\"Line\"},{\"attributes\":{\"client_comm_id\":\"db7a80528ec749379b7f94503795c6d3\",\"comm_id\":\"75bd12a6848e4b2baf2e527aeae755b5\",\"plot_id\":\"53819\"},\"id\":\"54122\",\"type\":\"panel.models.comm_manager.CommManager\"},{\"attributes\":{\"overlay\":{\"id\":\"53855\"}},\"id\":\"53853\",\"type\":\"BoxZoomTool\"},{\"attributes\":{\"coordinates\":null,\"data_source\":{\"id\":\"53902\"},\"glyph\":{\"id\":\"53905\"},\"group\":null,\"hover_glyph\":null,\"muted_glyph\":{\"id\":\"53907\"},\"nonselection_glyph\":{\"id\":\"53906\"},\"selection_glyph\":{\"id\":\"53935\"},\"view\":{\"id\":\"53909\"}},\"id\":\"53908\",\"type\":\"GlyphRenderer\"},{\"attributes\":{},\"id\":\"53854\",\"type\":\"ResetTool\"},{\"attributes\":{\"mantissas\":[1,2,5],\"max_interval\":500.0,\"num_minor_ticks\":0},\"id\":\"53887\",\"type\":\"AdaptiveTicker\"},{\"attributes\":{\"bottom_units\":\"screen\",\"coordinates\":null,\"fill_alpha\":0.5,\"fill_color\":\"lightgrey\",\"group\":null,\"left_units\":\"screen\",\"level\":\"overlay\",\"line_alpha\":1.0,\"line_color\":\"black\",\"line_dash\":[4,4],\"line_width\":2,\"right_units\":\"screen\",\"syncable\":false,\"top_units\":\"screen\"},\"id\":\"53855\",\"type\":\"BoxAnnotation\"},{\"attributes\":{\"label\":{\"value\":\"B\"},\"renderers\":[{\"id\":\"53908\"}]},\"id\":\"53934\",\"type\":\"LegendItem\"},{\"attributes\":{\"data\":{\"count\":{\"__ndarray__\":\"AAAAAAAAQEA=\",\"dtype\":\"float64\",\"order\":\"little\",\"shape\":[1]},\"name\":[\"D\"],\"open_date\":{\"__ndarray__\":\"AABAo5qmd0I=\",\"dtype\":\"float64\",\"order\":\"little\",\"shape\":[1]}},\"selected\":{\"id\":\"53973\"},\"selection_policy\":{\"id\":\"53993\"}},\"id\":\"53972\",\"type\":\"ColumnDataSource\"},{\"attributes\":{\"line_color\":\"#ffcc5c\",\"line_width\":6,\"x\":{\"field\":\"open_date\"},\"y\":{\"field\":\"count\"}},\"id\":\"53935\",\"type\":\"Line\"},{\"attributes\":{\"base\":60,\"mantissas\":[1,2,5,10,15,20,30],\"max_interval\":1800000.0,\"min_interval\":1000.0,\"num_minor_ticks\":0},\"id\":\"53888\",\"type\":\"AdaptiveTicker\"},{\"attributes\":{},\"id\":\"53867\",\"type\":\"BasicTickFormatter\"},{\"attributes\":{\"line_alpha\":0.1,\"line_color\":\"#88d8b0\",\"line_width\":6,\"x\":{\"field\":\"open_date\"},\"y\":{\"field\":\"count\"}},\"id\":\"53940\",\"type\":\"Line\"},{\"attributes\":{\"months\":[0,1,2,3,4,5,6,7,8,9,10,11]},\"id\":\"53894\",\"type\":\"MonthsTicker\"},{\"attributes\":{},\"id\":\"53868\",\"type\":\"AllLabels\"},{\"attributes\":{\"days\":[1,8,15,22]},\"id\":\"53892\",\"type\":\"DaysTicker\"},{\"attributes\":{\"line_color\":\"#ffcc5c\",\"line_width\":6,\"x\":{\"field\":\"open_date\"},\"y\":{\"field\":\"count\"}},\"id\":\"53905\",\"type\":\"Line\"},{\"attributes\":{},\"id\":\"53898\",\"type\":\"YearsTicker\"},{\"attributes\":{\"base\":24,\"mantissas\":[1,2,4,6,8,12],\"max_interval\":43200000.0,\"min_interval\":3600000.0,\"num_minor_ticks\":0},\"id\":\"53889\",\"type\":\"AdaptiveTicker\"},{\"attributes\":{\"days\":[1,2,3,4,5,6,7,8,9,10,11,12,13,14,15,16,17,18,19,20,21,22,23,24,25,26,27,28,29,30,31]},\"id\":\"53890\",\"type\":\"DaysTicker\"},{\"attributes\":{\"source\":{\"id\":\"53972\"}},\"id\":\"53979\",\"type\":\"CDSView\"},{\"attributes\":{},\"id\":\"53919\",\"type\":\"UnionRenderers\"},{\"attributes\":{\"days\":[1,4,7,10,13,16,19,22,25,28]},\"id\":\"53891\",\"type\":\"DaysTicker\"},{\"attributes\":{\"days\":[1,15]},\"id\":\"53893\",\"type\":\"DaysTicker\"},{\"attributes\":{\"tools\":[{\"id\":\"53829\"},{\"id\":\"53850\"},{\"id\":\"53851\"},{\"id\":\"53852\"},{\"id\":\"53853\"},{\"id\":\"53854\"}]},\"id\":\"53856\",\"type\":\"Toolbar\"},{\"attributes\":{\"months\":[0,6]},\"id\":\"53897\",\"type\":\"MonthsTicker\"},{\"attributes\":{\"months\":[0,2,4,6,8,10]},\"id\":\"53895\",\"type\":\"MonthsTicker\"},{\"attributes\":{\"months\":[0,4,8]},\"id\":\"53896\",\"type\":\"MonthsTicker\"},{\"attributes\":{},\"id\":\"53903\",\"type\":\"Selection\"},{\"attributes\":{\"line_alpha\":0.2,\"line_color\":\"#ffcc5c\",\"line_width\":6,\"x\":{\"field\":\"open_date\"},\"y\":{\"field\":\"count\"}},\"id\":\"53907\",\"type\":\"Line\"},{\"attributes\":{},\"id\":\"53993\",\"type\":\"UnionRenderers\"},{\"attributes\":{\"label\":{\"value\":\"D\"},\"renderers\":[{\"id\":\"53978\"}]},\"id\":\"54008\",\"type\":\"LegendItem\"},{\"attributes\":{\"line_alpha\":0.2,\"line_color\":\"#ff6f69\",\"line_width\":6,\"x\":{\"field\":\"open_date\"},\"y\":{\"field\":\"count\"}},\"id\":\"53874\",\"type\":\"Line\"},{\"attributes\":{\"line_color\":\"#58d8b0\",\"line_width\":6,\"x\":{\"field\":\"open_date\"},\"y\":{\"field\":\"count\"}},\"id\":\"54009\",\"type\":\"Line\"},{\"attributes\":{},\"id\":\"53870\",\"type\":\"Selection\"},{\"attributes\":{\"line_color\":\"#58d8b0\",\"line_width\":6,\"x\":{\"field\":\"open_date\"},\"y\":{\"field\":\"count\"}},\"id\":\"53975\",\"type\":\"Line\"},{\"attributes\":{\"coordinates\":null,\"data_source\":{\"id\":\"53972\"},\"glyph\":{\"id\":\"53975\"},\"group\":null,\"hover_glyph\":null,\"muted_glyph\":{\"id\":\"53977\"},\"nonselection_glyph\":{\"id\":\"53976\"},\"selection_glyph\":{\"id\":\"54009\"},\"view\":{\"id\":\"53979\"}},\"id\":\"53978\",\"type\":\"GlyphRenderer\"},{\"attributes\":{\"data\":{\"count\":{\"__ndarray__\":\"AAAAAAAAO0A=\",\"dtype\":\"float64\",\"order\":\"little\",\"shape\":[1]},\"name\":[\"A\"],\"open_date\":{\"__ndarray__\":\"AADA1/Wld0I=\",\"dtype\":\"float64\",\"order\":\"little\",\"shape\":[1]}},\"selected\":{\"id\":\"53870\"},\"selection_policy\":{\"id\":\"53884\"}},\"id\":\"53869\",\"type\":\"ColumnDataSource\"},{\"attributes\":{},\"id\":\"53973\",\"type\":\"Selection\"},{\"attributes\":{\"line_alpha\":0.2,\"line_color\":\"#58d8b0\",\"line_width\":6,\"x\":{\"field\":\"open_date\"},\"y\":{\"field\":\"count\"}},\"id\":\"53977\",\"type\":\"Line\"},{\"attributes\":{\"children\":[{\"id\":\"53823\"},{\"id\":\"53824\"},{\"id\":\"53825\"}],\"margin\":[0,0,0,0],\"name\":\"Column63652\",\"sizing_mode\":\"stretch_width\"},\"id\":\"53822\",\"type\":\"Column\"},{\"attributes\":{\"label\":{\"value\":\"A\"},\"renderers\":[{\"id\":\"53875\"}]},\"id\":\"53900\",\"type\":\"LegendItem\"},{\"attributes\":{\"line_color\":\"#ff6f69\",\"line_width\":6,\"x\":{\"field\":\"open_date\"},\"y\":{\"field\":\"count\"}},\"id\":\"53872\",\"type\":\"Line\"},{\"attributes\":{\"axis_label\":\"count\",\"coordinates\":null,\"formatter\":{\"id\":\"53867\"},\"group\":null,\"major_label_policy\":{\"id\":\"53868\"},\"ticker\":{\"id\":\"53847\"}},\"id\":\"53846\",\"type\":\"LinearAxis\"},{\"attributes\":{\"source\":{\"id\":\"53936\"}},\"id\":\"53943\",\"type\":\"CDSView\"}],\"root_ids\":[\"53819\",\"54122\"]},\"title\":\"Bokeh Application\",\"version\":\"2.4.3\"}};\n",
       "    var render_items = [{\"docid\":\"caf0b6fb-0c00-471f-8ff3-0db611cb9ca8\",\"root_ids\":[\"53819\"],\"roots\":{\"53819\":\"2c929633-be4a-415c-99db-df215f5d6103\"}}];\n",
       "    root.Bokeh.embed.embed_items_notebook(docs_json, render_items);\n",
       "  }\n",
       "  if (root.Bokeh !== undefined && root.Bokeh.Panel !== undefined) {\n",
       "    embed_document(root);\n",
       "  } else {\n",
       "    var attempts = 0;\n",
       "    var timer = setInterval(function(root) {\n",
       "      if (root.Bokeh !== undefined && root.Bokeh.Panel !== undefined) {\n",
       "        clearInterval(timer);\n",
       "        embed_document(root);\n",
       "      } else if (document.readyState == \"complete\") {\n",
       "        attempts++;\n",
       "        if (attempts > 200) {\n",
       "          clearInterval(timer);\n",
       "          console.log(\"Bokeh: ERROR: Unable to run BokehJS code because BokehJS library is missing\");\n",
       "        }\n",
       "      }\n",
       "    }, 25, root)\n",
       "  }\n",
       "})(window);</script>"
      ],
      "text/plain": [
       "<hvplot.interactive.Interactive at 0x138e406a0>"
      ]
     },
     "execution_count": 333,
     "metadata": {
      "application/vnd.holoviews_exec.v0+json": {
       "id": "53819"
      }
     },
     "output_type": "execute_result"
    }
   ],
   "source": [
    "ihvplot = ipipeline.hvplot(x='open_date', y=yaxis, by='name', color=PALETTE, line_width=6, height=400)\n",
    "ihvplot"
   ]
  },
  {
   "cell_type": "code",
   "execution_count": 334,
   "metadata": {},
   "outputs": [
    {
     "name": "stdout",
     "output_type": "stream",
     "text": [
      "Launching server at http://localhost:59059\n"
     ]
    },
    {
     "data": {
      "text/plain": [
       "<bokeh.server.server.Server at 0x13adfc790>"
      ]
     },
     "execution_count": 334,
     "metadata": {},
     "output_type": "execute_result"
    }
   ],
   "source": [
    "template = pn.template.FastListTemplate(\n",
    "    title='Real States Players', \n",
    "    sidebar=[pn.pane.Markdown(\"### Assignment CIS7029\"), \n",
    "            'Year', years_togglegroup,\n",
    "            'Months', months_slider,\n",
    "            'Dimention' , yaxis, \n",
    "             pn.pane.Markdown(\"### \"), \n",
    "             pn.pane.PNG('climate_day.png', sizing_mode='scale_both'),\n",
    "             pn.pane.Markdown(\"## Settings\"),   \n",
    "             ],\n",
    "    main=[pn.Row(ihvplot.panel()), \n",
    "          pn.Row(itable.panel())],\n",
    ")\n",
    "template.show()\n",
    "#template.servable();"
   ]
  }
 ],
 "metadata": {
  "kernelspec": {
   "display_name": "Python 3.10.5 64-bit",
   "language": "python",
   "name": "python3"
  },
  "language_info": {
   "codemirror_mode": {
    "name": "ipython",
    "version": 3
   },
   "file_extension": ".py",
   "mimetype": "text/x-python",
   "name": "python",
   "nbconvert_exporter": "python",
   "pygments_lexer": "ipython3",
   "version": "3.10.5"
  },
  "orig_nbformat": 4,
  "vscode": {
   "interpreter": {
    "hash": "aee8b7b246df8f9039afb4144a1f6fd8d2ca17a180786b69acc140d282b71a49"
   }
  }
 },
 "nbformat": 4,
 "nbformat_minor": 2
}
