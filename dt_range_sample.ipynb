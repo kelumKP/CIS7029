{
 "cells": [
  {
   "cell_type": "code",
   "execution_count": 733,
   "metadata": {},
   "outputs": [],
   "source": [
    "import pathlib\n",
    "\n",
    "import holoviews as hv\n",
    "import hvplot.pandas # noqa\n",
    "import numpy as np\n",
    "import pandas as pd\n",
    "import panel as pn\n",
    "import datetime as dt\n",
    "\n",
    "pn.extension(sizing_mode='stretch_width')"
   ]
  },
  {
   "cell_type": "code",
   "execution_count": 734,
   "metadata": {},
   "outputs": [
    {
     "data": {
      "text/html": [
       "<div>\n",
       "<style scoped>\n",
       "    .dataframe tbody tr th:only-of-type {\n",
       "        vertical-align: middle;\n",
       "    }\n",
       "\n",
       "    .dataframe tbody tr th {\n",
       "        vertical-align: top;\n",
       "    }\n",
       "\n",
       "    .dataframe thead th {\n",
       "        text-align: right;\n",
       "    }\n",
       "</style>\n",
       "<table border=\"1\" class=\"dataframe\">\n",
       "  <thead>\n",
       "    <tr style=\"text-align: right;\">\n",
       "      <th></th>\n",
       "      <th>name</th>\n",
       "      <th>open_time</th>\n",
       "      <th>count</th>\n",
       "      <th>size</th>\n",
       "    </tr>\n",
       "  </thead>\n",
       "  <tbody>\n",
       "    <tr>\n",
       "      <th>0</th>\n",
       "      <td>A</td>\n",
       "      <td>2021-07-01</td>\n",
       "      <td>27</td>\n",
       "      <td>34</td>\n",
       "    </tr>\n",
       "    <tr>\n",
       "      <th>1</th>\n",
       "      <td>B</td>\n",
       "      <td>2021-07-02</td>\n",
       "      <td>24</td>\n",
       "      <td>56</td>\n",
       "    </tr>\n",
       "    <tr>\n",
       "      <th>2</th>\n",
       "      <td>C</td>\n",
       "      <td>2021-07-03</td>\n",
       "      <td>22</td>\n",
       "      <td>67</td>\n",
       "    </tr>\n",
       "    <tr>\n",
       "      <th>3</th>\n",
       "      <td>D</td>\n",
       "      <td>2021-07-03</td>\n",
       "      <td>32</td>\n",
       "      <td>78</td>\n",
       "    </tr>\n",
       "  </tbody>\n",
       "</table>\n",
       "</div>"
      ],
      "text/plain": [
       "  name   open_time  count  size\n",
       "0    A  2021-07-01     27    34\n",
       "1    B  2021-07-02     24    56\n",
       "2    C  2021-07-03     22    67\n",
       "3    D  2021-07-03     32    78"
      ]
     },
     "execution_count": 734,
     "metadata": {},
     "output_type": "execute_result"
    }
   ],
   "source": [
    "data = {'name':['A', 'B', 'C', 'D'],\n",
    "        'open_time': [dt.datetime(2021, 7, 1, 0, 0, 0), dt.datetime(2021, 7, 2, 0, 0), dt.datetime(2021, 7, 3, 0, 0),dt.datetime(2021, 7, 3, 0, 0) ],\n",
    "        'count':[27, 24, 22, 32],\n",
    "        'size':[34, 56,67,78]\n",
    "       }\n",
    "\n",
    "df = pd.DataFrame(data)\n",
    "df\n",
    "df['open_time'] = pd.to_datetime(df['open_time']).dt.date\n",
    "df\n"
   ]
  },
  {
   "cell_type": "code",
   "execution_count": 735,
   "metadata": {},
   "outputs": [
    {
     "data": {
      "text/html": [
       "<div>\n",
       "<style scoped>\n",
       "    .dataframe tbody tr th:only-of-type {\n",
       "        vertical-align: middle;\n",
       "    }\n",
       "\n",
       "    .dataframe tbody tr th {\n",
       "        vertical-align: top;\n",
       "    }\n",
       "\n",
       "    .dataframe thead th {\n",
       "        text-align: right;\n",
       "    }\n",
       "</style>\n",
       "<table border=\"1\" class=\"dataframe\">\n",
       "  <thead>\n",
       "    <tr style=\"text-align: right;\">\n",
       "      <th></th>\n",
       "      <th>name</th>\n",
       "      <th>count</th>\n",
       "      <th>size</th>\n",
       "    </tr>\n",
       "    <tr>\n",
       "      <th>open_time</th>\n",
       "      <th></th>\n",
       "      <th></th>\n",
       "      <th></th>\n",
       "    </tr>\n",
       "  </thead>\n",
       "  <tbody>\n",
       "    <tr>\n",
       "      <th>2021-07-01</th>\n",
       "      <td>A</td>\n",
       "      <td>27</td>\n",
       "      <td>34</td>\n",
       "    </tr>\n",
       "    <tr>\n",
       "      <th>2021-07-02</th>\n",
       "      <td>B</td>\n",
       "      <td>24</td>\n",
       "      <td>56</td>\n",
       "    </tr>\n",
       "    <tr>\n",
       "      <th>2021-07-03</th>\n",
       "      <td>C</td>\n",
       "      <td>22</td>\n",
       "      <td>67</td>\n",
       "    </tr>\n",
       "    <tr>\n",
       "      <th>2021-07-03</th>\n",
       "      <td>D</td>\n",
       "      <td>32</td>\n",
       "      <td>78</td>\n",
       "    </tr>\n",
       "  </tbody>\n",
       "</table>\n",
       "</div>"
      ],
      "text/plain": [
       "           name  count  size\n",
       "open_time                   \n",
       "2021-07-01    A     27    34\n",
       "2021-07-02    B     24    56\n",
       "2021-07-03    C     22    67\n",
       "2021-07-03    D     32    78"
      ]
     },
     "execution_count": 735,
     "metadata": {},
     "output_type": "execute_result"
    }
   ],
   "source": [
    "\n",
    "df.set_index('open_time', inplace=True)\n",
    "df"
   ]
  },
  {
   "cell_type": "code",
   "execution_count": 736,
   "metadata": {},
   "outputs": [],
   "source": [
    "idf = df.interactive()"
   ]
  },
  {
   "cell_type": "code",
   "execution_count": 737,
   "metadata": {},
   "outputs": [],
   "source": [
    "date_range = pn.widgets.DateRangeSlider(name='Date Range',\n",
    "     start=df.index[0], end=df.index[-1])\n"
   ]
  },
  {
   "cell_type": "code",
   "execution_count": 738,
   "metadata": {},
   "outputs": [
    {
     "data": {},
     "metadata": {},
     "output_type": "display_data"
    },
    {
     "data": {
      "application/vnd.holoviews_exec.v0+json": "",
      "text/html": [
       "<div id='105427'>\n",
       "  <div class=\"bk-root\" id=\"32d85550-009b-4266-b4b9-fc45b3474e94\" data-root-id=\"105427\"></div>\n",
       "</div>\n",
       "<script type=\"application/javascript\">(function(root) {\n",
       "  function embed_document(root) {\n",
       "    var docs_json = {\"714aca26-a55c-4255-b87f-f3c89d9b7aa7\":{\"defs\":[{\"extends\":null,\"module\":null,\"name\":\"ReactiveHTML1\",\"overrides\":[],\"properties\":[]},{\"extends\":null,\"module\":null,\"name\":\"FlexBox1\",\"overrides\":[],\"properties\":[{\"default\":\"flex-start\",\"kind\":null,\"name\":\"align_content\"},{\"default\":\"flex-start\",\"kind\":null,\"name\":\"align_items\"},{\"default\":\"row\",\"kind\":null,\"name\":\"flex_direction\"},{\"default\":\"wrap\",\"kind\":null,\"name\":\"flex_wrap\"},{\"default\":\"flex-start\",\"kind\":null,\"name\":\"justify_content\"}]},{\"extends\":null,\"module\":null,\"name\":\"GridStack1\",\"overrides\":[],\"properties\":[{\"default\":\"warn\",\"kind\":null,\"name\":\"mode\"},{\"default\":null,\"kind\":null,\"name\":\"ncols\"},{\"default\":null,\"kind\":null,\"name\":\"nrows\"},{\"default\":true,\"kind\":null,\"name\":\"allow_resize\"},{\"default\":true,\"kind\":null,\"name\":\"allow_drag\"},{\"default\":[],\"kind\":null,\"name\":\"state\"}]},{\"extends\":null,\"module\":null,\"name\":\"click1\",\"overrides\":[],\"properties\":[{\"default\":\"\",\"kind\":null,\"name\":\"terminal_output\"},{\"default\":\"\",\"kind\":null,\"name\":\"debug_name\"},{\"default\":0,\"kind\":null,\"name\":\"clears\"}]},{\"extends\":null,\"module\":null,\"name\":\"NotificationAreaBase1\",\"overrides\":[],\"properties\":[{\"default\":\"bottom-right\",\"kind\":null,\"name\":\"position\"},{\"default\":0,\"kind\":null,\"name\":\"_clear\"}]},{\"extends\":null,\"module\":null,\"name\":\"NotificationArea1\",\"overrides\":[],\"properties\":[{\"default\":[],\"kind\":null,\"name\":\"notifications\"},{\"default\":\"bottom-right\",\"kind\":null,\"name\":\"position\"},{\"default\":0,\"kind\":null,\"name\":\"_clear\"},{\"default\":[{\"background\":\"#ffc107\",\"icon\":{\"className\":\"fas fa-exclamation-triangle\",\"color\":\"white\",\"tagName\":\"i\"},\"type\":\"warning\"},{\"background\":\"#007bff\",\"icon\":{\"className\":\"fas fa-info-circle\",\"color\":\"white\",\"tagName\":\"i\"},\"type\":\"info\"}],\"kind\":null,\"name\":\"types\"}]},{\"extends\":null,\"module\":null,\"name\":\"Notification\",\"overrides\":[],\"properties\":[{\"default\":null,\"kind\":null,\"name\":\"background\"},{\"default\":3000,\"kind\":null,\"name\":\"duration\"},{\"default\":null,\"kind\":null,\"name\":\"icon\"},{\"default\":\"\",\"kind\":null,\"name\":\"message\"},{\"default\":null,\"kind\":null,\"name\":\"notification_type\"},{\"default\":false,\"kind\":null,\"name\":\"_destroyed\"}]},{\"extends\":null,\"module\":null,\"name\":\"TemplateActions1\",\"overrides\":[],\"properties\":[{\"default\":0,\"kind\":null,\"name\":\"open_modal\"},{\"default\":0,\"kind\":null,\"name\":\"close_modal\"}]},{\"extends\":null,\"module\":null,\"name\":\"MaterialTemplateActions1\",\"overrides\":[],\"properties\":[{\"default\":0,\"kind\":null,\"name\":\"open_modal\"},{\"default\":0,\"kind\":null,\"name\":\"close_modal\"}]}],\"roots\":{\"references\":[{\"attributes\":{\"margin\":[5,5,5,5],\"name\":\"HSpacer122556\",\"sizing_mode\":\"stretch_width\"},\"id\":\"105432\",\"type\":\"Spacer\"},{\"attributes\":{\"children\":[{\"id\":\"105429\"},{\"id\":\"105433\"}],\"margin\":[0,0,0,0],\"name\":\"Column122558\",\"sizing_mode\":\"stretch_width\"},\"id\":\"105428\",\"type\":\"Column\"},{\"attributes\":{\"end\":1625270400000.0,\"margin\":[5,10,5,10],\"sizing_mode\":\"stretch_width\",\"start\":1625097600000.0,\"title\":\"Date Range\",\"value\":[1625097600000.0,1625270400000.0]},\"id\":\"105431\",\"type\":\"DateRangeSlider\"},{\"attributes\":{\"children\":[{\"id\":\"105430\"},{\"id\":\"105432\"}],\"margin\":[0,0,0,0],\"name\":\"Row122557\",\"sizing_mode\":\"stretch_width\"},\"id\":\"105429\",\"type\":\"Row\"},{\"attributes\":{\"children\":[{\"id\":\"105428\"}],\"margin\":[0,0,0,0],\"name\":\"Row122559\",\"sizing_mode\":\"stretch_width\"},\"id\":\"105427\",\"type\":\"Row\"},{\"attributes\":{\"client_comm_id\":\"626443f484804777a2ca2cc117b68056\",\"comm_id\":\"fb5aa20e3a774bc6a5daa89201df3623\",\"plot_id\":\"105427\"},\"id\":\"105435\",\"type\":\"panel.models.comm_manager.CommManager\"},{\"attributes\":{\"children\":[{\"id\":\"105434\"}],\"margin\":[0,0,0,0],\"name\":\"Row122537\",\"sizing_mode\":\"stretch_width\"},\"id\":\"105433\",\"type\":\"Row\"},{\"attributes\":{\"children\":[{\"id\":\"105431\"}],\"margin\":[0,0,0,0],\"name\":\"Column122532\",\"sizing_mode\":\"stretch_width\"},\"id\":\"105430\",\"type\":\"Column\"},{\"attributes\":{\"margin\":[5,5,5,5],\"name\":\"DataFrame122554\",\"sizing_mode\":\"stretch_width\",\"text\":\"&lt;table border=&quot;0&quot; class=&quot;dataframe panel-df&quot;&gt;\\n  &lt;thead&gt;\\n    &lt;tr style=&quot;text-align: right;&quot;&gt;\\n      &lt;th&gt;&lt;/th&gt;\\n      &lt;th&gt;name&lt;/th&gt;\\n      &lt;th&gt;count&lt;/th&gt;\\n      &lt;th&gt;size&lt;/th&gt;\\n    &lt;/tr&gt;\\n    &lt;tr&gt;\\n      &lt;th&gt;open_time&lt;/th&gt;\\n      &lt;th&gt;&lt;/th&gt;\\n      &lt;th&gt;&lt;/th&gt;\\n      &lt;th&gt;&lt;/th&gt;\\n    &lt;/tr&gt;\\n  &lt;/thead&gt;\\n  &lt;tbody&gt;\\n    &lt;tr&gt;\\n      &lt;th&gt;2021-07-01&lt;/th&gt;\\n      &lt;td&gt;A&lt;/td&gt;\\n      &lt;td&gt;27&lt;/td&gt;\\n      &lt;td&gt;34&lt;/td&gt;\\n    &lt;/tr&gt;\\n    &lt;tr&gt;\\n      &lt;th&gt;2021-07-02&lt;/th&gt;\\n      &lt;td&gt;B&lt;/td&gt;\\n      &lt;td&gt;24&lt;/td&gt;\\n      &lt;td&gt;56&lt;/td&gt;\\n    &lt;/tr&gt;\\n    &lt;tr&gt;\\n      &lt;th&gt;2021-07-03&lt;/th&gt;\\n      &lt;td&gt;C&lt;/td&gt;\\n      &lt;td&gt;22&lt;/td&gt;\\n      &lt;td&gt;67&lt;/td&gt;\\n    &lt;/tr&gt;\\n    &lt;tr&gt;\\n      &lt;th&gt;2021-07-03&lt;/th&gt;\\n      &lt;td&gt;D&lt;/td&gt;\\n      &lt;td&gt;32&lt;/td&gt;\\n      &lt;td&gt;78&lt;/td&gt;\\n    &lt;/tr&gt;\\n  &lt;/tbody&gt;\\n&lt;/table&gt;\"},\"id\":\"105434\",\"type\":\"panel.models.markup.HTML\"}],\"root_ids\":[\"105427\",\"105435\"]},\"title\":\"Bokeh Application\",\"version\":\"2.4.3\"}};\n",
       "    var render_items = [{\"docid\":\"714aca26-a55c-4255-b87f-f3c89d9b7aa7\",\"root_ids\":[\"105427\"],\"roots\":{\"105427\":\"32d85550-009b-4266-b4b9-fc45b3474e94\"}}];\n",
       "    root.Bokeh.embed.embed_items_notebook(docs_json, render_items);\n",
       "  }\n",
       "  if (root.Bokeh !== undefined && root.Bokeh.Panel !== undefined) {\n",
       "    embed_document(root);\n",
       "  } else {\n",
       "    var attempts = 0;\n",
       "    var timer = setInterval(function(root) {\n",
       "      if (root.Bokeh !== undefined && root.Bokeh.Panel !== undefined) {\n",
       "        clearInterval(timer);\n",
       "        embed_document(root);\n",
       "      } else if (document.readyState == \"complete\") {\n",
       "        attempts++;\n",
       "        if (attempts > 200) {\n",
       "          clearInterval(timer);\n",
       "          console.log(\"Bokeh: ERROR: Unable to run BokehJS code because BokehJS library is missing\");\n",
       "        }\n",
       "      }\n",
       "    }, 25, root)\n",
       "  }\n",
       "})(window);</script>"
      ],
      "text/plain": [
       "<hvplot.interactive.Interactive at 0x1453d8460>"
      ]
     },
     "execution_count": 738,
     "metadata": {
      "application/vnd.holoviews_exec.v0+json": {
       "id": "105427"
      }
     },
     "output_type": "execute_result"
    }
   ],
   "source": [
    "filtered = (idf[\n",
    "   (idf.index >= date_range.param.value_start) &\n",
    "    (idf.index <= date_range.param.value_end)]\n",
    ")\n",
    "\n",
    "filtered.head()\n",
    "\n",
    "#com_pipeline = (\n",
    "#    idf[\n",
    "#        (idf.open_time >= date_range.param.value_start) & (idf.open_time <= date_range.param.value_end)\n",
    "#       ]\n",
    "#       .groupby(['name', 'open_time'])[date_range].mean().to_frame()\n",
    "#       .reset_index()\n",
    "#       .sort_values(by='open_time')\n",
    "#       .reset_index(drop=True)\n",
    "#      )\n"
   ]
  },
  {
   "cell_type": "code",
   "execution_count": 739,
   "metadata": {},
   "outputs": [
    {
     "data": {
      "text/plain": [
       "'notebook'"
      ]
     },
     "execution_count": 739,
     "metadata": {},
     "output_type": "execute_result"
    }
   ],
   "source": [
    "def environment():\n",
    "    try:\n",
    "        get_ipython()\n",
    "        return \"notebook\"\n",
    "    except:\n",
    "        return \"server\"\n",
    "environment()"
   ]
  },
  {
   "cell_type": "code",
   "execution_count": 740,
   "metadata": {},
   "outputs": [
    {
     "data": {},
     "metadata": {},
     "output_type": "display_data"
    },
    {
     "data": {
      "application/vnd.holoviews_exec.v0+json": "",
      "text/html": [
       "<div id='105436'>\n",
       "  <div class=\"bk-root\" id=\"7b184d0c-a485-492f-a0db-0456f301fd08\" data-root-id=\"105436\"></div>\n",
       "</div>\n",
       "<script type=\"application/javascript\">(function(root) {\n",
       "  function embed_document(root) {\n",
       "    var docs_json = {\"98b52a10-c63a-4f34-8c0b-55a58d4c4e18\":{\"defs\":[{\"extends\":null,\"module\":null,\"name\":\"ReactiveHTML1\",\"overrides\":[],\"properties\":[]},{\"extends\":null,\"module\":null,\"name\":\"FlexBox1\",\"overrides\":[],\"properties\":[{\"default\":\"flex-start\",\"kind\":null,\"name\":\"align_content\"},{\"default\":\"flex-start\",\"kind\":null,\"name\":\"align_items\"},{\"default\":\"row\",\"kind\":null,\"name\":\"flex_direction\"},{\"default\":\"wrap\",\"kind\":null,\"name\":\"flex_wrap\"},{\"default\":\"flex-start\",\"kind\":null,\"name\":\"justify_content\"}]},{\"extends\":null,\"module\":null,\"name\":\"GridStack1\",\"overrides\":[],\"properties\":[{\"default\":\"warn\",\"kind\":null,\"name\":\"mode\"},{\"default\":null,\"kind\":null,\"name\":\"ncols\"},{\"default\":null,\"kind\":null,\"name\":\"nrows\"},{\"default\":true,\"kind\":null,\"name\":\"allow_resize\"},{\"default\":true,\"kind\":null,\"name\":\"allow_drag\"},{\"default\":[],\"kind\":null,\"name\":\"state\"}]},{\"extends\":null,\"module\":null,\"name\":\"click1\",\"overrides\":[],\"properties\":[{\"default\":\"\",\"kind\":null,\"name\":\"terminal_output\"},{\"default\":\"\",\"kind\":null,\"name\":\"debug_name\"},{\"default\":0,\"kind\":null,\"name\":\"clears\"}]},{\"extends\":null,\"module\":null,\"name\":\"NotificationAreaBase1\",\"overrides\":[],\"properties\":[{\"default\":\"bottom-right\",\"kind\":null,\"name\":\"position\"},{\"default\":0,\"kind\":null,\"name\":\"_clear\"}]},{\"extends\":null,\"module\":null,\"name\":\"NotificationArea1\",\"overrides\":[],\"properties\":[{\"default\":[],\"kind\":null,\"name\":\"notifications\"},{\"default\":\"bottom-right\",\"kind\":null,\"name\":\"position\"},{\"default\":0,\"kind\":null,\"name\":\"_clear\"},{\"default\":[{\"background\":\"#ffc107\",\"icon\":{\"className\":\"fas fa-exclamation-triangle\",\"color\":\"white\",\"tagName\":\"i\"},\"type\":\"warning\"},{\"background\":\"#007bff\",\"icon\":{\"className\":\"fas fa-info-circle\",\"color\":\"white\",\"tagName\":\"i\"},\"type\":\"info\"}],\"kind\":null,\"name\":\"types\"}]},{\"extends\":null,\"module\":null,\"name\":\"Notification\",\"overrides\":[],\"properties\":[{\"default\":null,\"kind\":null,\"name\":\"background\"},{\"default\":3000,\"kind\":null,\"name\":\"duration\"},{\"default\":null,\"kind\":null,\"name\":\"icon\"},{\"default\":\"\",\"kind\":null,\"name\":\"message\"},{\"default\":null,\"kind\":null,\"name\":\"notification_type\"},{\"default\":false,\"kind\":null,\"name\":\"_destroyed\"}]},{\"extends\":null,\"module\":null,\"name\":\"TemplateActions1\",\"overrides\":[],\"properties\":[{\"default\":0,\"kind\":null,\"name\":\"open_modal\"},{\"default\":0,\"kind\":null,\"name\":\"close_modal\"}]},{\"extends\":null,\"module\":null,\"name\":\"MaterialTemplateActions1\",\"overrides\":[],\"properties\":[{\"default\":0,\"kind\":null,\"name\":\"open_modal\"},{\"default\":0,\"kind\":null,\"name\":\"close_modal\"}]}],\"roots\":{\"references\":[{\"attributes\":{\"background\":\"#ff6f69\",\"height\":50,\"margin\":[5,5,5,5],\"name\":\"HSpacer122562\",\"sizing_mode\":\"stretch_width\"},\"id\":\"105437\",\"type\":\"Spacer\"},{\"attributes\":{\"client_comm_id\":\"1aea53e89a564e158f5124a5aee0a4a0\",\"comm_id\":\"00e041fc691a4ad68649a93dd4b701a2\",\"plot_id\":\"105436\"},\"id\":\"105441\",\"type\":\"panel.models.comm_manager.CommManager\"},{\"attributes\":{\"background\":\"#ffcc5c\",\"height\":50,\"margin\":[5,5,5,5],\"name\":\"HSpacer122563\",\"sizing_mode\":\"stretch_width\"},\"id\":\"105438\",\"type\":\"Spacer\"},{\"attributes\":{\"children\":[{\"id\":\"105437\"},{\"id\":\"105438\"},{\"id\":\"105439\"},{\"id\":\"105440\"}],\"margin\":[0,0,0,0],\"name\":\"Row122566\",\"sizing_mode\":\"stretch_width\"},\"id\":\"105436\",\"type\":\"Row\"},{\"attributes\":{\"background\":\"#88d8b0\",\"height\":50,\"margin\":[5,5,5,5],\"name\":\"HSpacer122564\",\"sizing_mode\":\"stretch_width\"},\"id\":\"105439\",\"type\":\"Spacer\"},{\"attributes\":{\"background\":\"#58d8b0\",\"height\":50,\"margin\":[5,5,5,5],\"name\":\"HSpacer122565\",\"sizing_mode\":\"stretch_width\"},\"id\":\"105440\",\"type\":\"Spacer\"}],\"root_ids\":[\"105436\",\"105441\"]},\"title\":\"Bokeh Application\",\"version\":\"2.4.3\"}};\n",
       "    var render_items = [{\"docid\":\"98b52a10-c63a-4f34-8c0b-55a58d4c4e18\",\"root_ids\":[\"105436\"],\"roots\":{\"105436\":\"7b184d0c-a485-492f-a0db-0456f301fd08\"}}];\n",
       "    root.Bokeh.embed.embed_items_notebook(docs_json, render_items);\n",
       "  }\n",
       "  if (root.Bokeh !== undefined && root.Bokeh.Panel !== undefined) {\n",
       "    embed_document(root);\n",
       "  } else {\n",
       "    var attempts = 0;\n",
       "    var timer = setInterval(function(root) {\n",
       "      if (root.Bokeh !== undefined && root.Bokeh.Panel !== undefined) {\n",
       "        clearInterval(timer);\n",
       "        embed_document(root);\n",
       "      } else if (document.readyState == \"complete\") {\n",
       "        attempts++;\n",
       "        if (attempts > 200) {\n",
       "          clearInterval(timer);\n",
       "          console.log(\"Bokeh: ERROR: Unable to run BokehJS code because BokehJS library is missing\");\n",
       "        }\n",
       "      }\n",
       "    }, 25, root)\n",
       "  }\n",
       "})(window);</script>"
      ],
      "text/plain": [
       "Row(sizing_mode='stretch_width')\n",
       "    [0] HSpacer(background='#ff6f69', height=50)\n",
       "    [1] HSpacer(background='#ffcc5c', height=50)\n",
       "    [2] HSpacer(background='#88d8b0', height=50)\n",
       "    [3] HSpacer(background='#58d8b0', height=50)"
      ]
     },
     "execution_count": 740,
     "metadata": {
      "application/vnd.holoviews_exec.v0+json": {
       "id": "105436"
      }
     },
     "output_type": "execute_result"
    }
   ],
   "source": [
    "PALETTE = [\"#ff6f69\", \"#ffcc5c\", \"#88d8b0\",\"#58d8b0\" ]\n",
    "pn.Row(\n",
    "    pn.layout.HSpacer(height=50, background=PALETTE[0]),\n",
    "    pn.layout.HSpacer(height=50, background=PALETTE[1]),\n",
    "    pn.layout.HSpacer(height=50, background=PALETTE[2]),\n",
    "    pn.layout.HSpacer(height=50, background=PALETTE[3]),\n",
    ")"
   ]
  },
  {
   "cell_type": "code",
   "execution_count": 741,
   "metadata": {},
   "outputs": [],
   "source": [
    "if environment()==\"server\":\n",
    "   theme=\"fast\"\n",
    "else:\n",
    "   theme=\"simple\""
   ]
  },
  {
   "cell_type": "code",
   "execution_count": 742,
   "metadata": {},
   "outputs": [
    {
     "data": {},
     "metadata": {},
     "output_type": "display_data"
    },
    {
     "data": {
      "application/vnd.holoviews_exec.v0+json": "",
      "text/html": [
       "<div id='105442'>\n",
       "  <div class=\"bk-root\" id=\"b8f19b53-d3e7-40d4-ab7a-ee257e736800\" data-root-id=\"105442\"></div>\n",
       "</div>\n",
       "<script type=\"application/javascript\">(function(root) {\n",
       "  function embed_document(root) {\n",
       "    var docs_json = {\"13b3b76e-b32a-41e3-b9b7-bd557048e1fe\":{\"defs\":[{\"extends\":null,\"module\":null,\"name\":\"ReactiveHTML1\",\"overrides\":[],\"properties\":[]},{\"extends\":null,\"module\":null,\"name\":\"FlexBox1\",\"overrides\":[],\"properties\":[{\"default\":\"flex-start\",\"kind\":null,\"name\":\"align_content\"},{\"default\":\"flex-start\",\"kind\":null,\"name\":\"align_items\"},{\"default\":\"row\",\"kind\":null,\"name\":\"flex_direction\"},{\"default\":\"wrap\",\"kind\":null,\"name\":\"flex_wrap\"},{\"default\":\"flex-start\",\"kind\":null,\"name\":\"justify_content\"}]},{\"extends\":null,\"module\":null,\"name\":\"GridStack1\",\"overrides\":[],\"properties\":[{\"default\":\"warn\",\"kind\":null,\"name\":\"mode\"},{\"default\":null,\"kind\":null,\"name\":\"ncols\"},{\"default\":null,\"kind\":null,\"name\":\"nrows\"},{\"default\":true,\"kind\":null,\"name\":\"allow_resize\"},{\"default\":true,\"kind\":null,\"name\":\"allow_drag\"},{\"default\":[],\"kind\":null,\"name\":\"state\"}]},{\"extends\":null,\"module\":null,\"name\":\"click1\",\"overrides\":[],\"properties\":[{\"default\":\"\",\"kind\":null,\"name\":\"terminal_output\"},{\"default\":\"\",\"kind\":null,\"name\":\"debug_name\"},{\"default\":0,\"kind\":null,\"name\":\"clears\"}]},{\"extends\":null,\"module\":null,\"name\":\"NotificationAreaBase1\",\"overrides\":[],\"properties\":[{\"default\":\"bottom-right\",\"kind\":null,\"name\":\"position\"},{\"default\":0,\"kind\":null,\"name\":\"_clear\"}]},{\"extends\":null,\"module\":null,\"name\":\"NotificationArea1\",\"overrides\":[],\"properties\":[{\"default\":[],\"kind\":null,\"name\":\"notifications\"},{\"default\":\"bottom-right\",\"kind\":null,\"name\":\"position\"},{\"default\":0,\"kind\":null,\"name\":\"_clear\"},{\"default\":[{\"background\":\"#ffc107\",\"icon\":{\"className\":\"fas fa-exclamation-triangle\",\"color\":\"white\",\"tagName\":\"i\"},\"type\":\"warning\"},{\"background\":\"#007bff\",\"icon\":{\"className\":\"fas fa-info-circle\",\"color\":\"white\",\"tagName\":\"i\"},\"type\":\"info\"}],\"kind\":null,\"name\":\"types\"}]},{\"extends\":null,\"module\":null,\"name\":\"Notification\",\"overrides\":[],\"properties\":[{\"default\":null,\"kind\":null,\"name\":\"background\"},{\"default\":3000,\"kind\":null,\"name\":\"duration\"},{\"default\":null,\"kind\":null,\"name\":\"icon\"},{\"default\":\"\",\"kind\":null,\"name\":\"message\"},{\"default\":null,\"kind\":null,\"name\":\"notification_type\"},{\"default\":false,\"kind\":null,\"name\":\"_destroyed\"}]},{\"extends\":null,\"module\":null,\"name\":\"TemplateActions1\",\"overrides\":[],\"properties\":[{\"default\":0,\"kind\":null,\"name\":\"open_modal\"},{\"default\":0,\"kind\":null,\"name\":\"close_modal\"}]},{\"extends\":null,\"module\":null,\"name\":\"MaterialTemplateActions1\",\"overrides\":[],\"properties\":[{\"default\":0,\"kind\":null,\"name\":\"open_modal\"},{\"default\":0,\"kind\":null,\"name\":\"close_modal\"}]}],\"roots\":{\"references\":[{\"attributes\":{},\"id\":\"105457\",\"type\":\"StringFormatter\"},{\"attributes\":{\"client_comm_id\":\"6452e3388b954016a97fa5d25551975a\",\"comm_id\":\"1e09a8187ed24a218722cc9986dfd8ef\",\"plot_id\":\"105442\"},\"id\":\"105480\",\"type\":\"panel.models.comm_manager.CommManager\"},{\"attributes\":{},\"id\":\"105468\",\"type\":\"IntEditor\"},{\"attributes\":{\"text_align\":\"right\"},\"id\":\"105467\",\"type\":\"NumberFormatter\"},{\"attributes\":{\"editor\":{\"id\":\"105453\"},\"field\":\"open_time\",\"formatter\":{\"id\":\"105451\"},\"title\":\"open_time\",\"width\":0},\"id\":\"105454\",\"type\":\"TableColumn\"},{\"attributes\":{},\"id\":\"105453\",\"type\":\"CellEditor\"},{\"attributes\":{\"children\":[{\"id\":\"105444\"},{\"id\":\"105448\"}],\"margin\":[0,0,0,0],\"name\":\"Column122643\",\"sizing_mode\":\"stretch_width\"},\"id\":\"105443\",\"type\":\"Column\"},{\"attributes\":{},\"id\":\"105451\",\"type\":\"StringFormatter\"},{\"attributes\":{},\"id\":\"105463\",\"type\":\"IntEditor\"},{\"attributes\":{\"columns\":[{\"id\":\"105454\"},{\"id\":\"105459\"},{\"id\":\"105464\"},{\"id\":\"105469\"}],\"configuration\":{\"columns\":[{\"field\":\"open_time\"},{\"field\":\"name\"},{\"field\":\"count\"},{\"field\":\"size\"}],\"dataTree\":false,\"selectable\":true},\"indexes\":[\"open_time\"],\"layout\":\"fit_data_table\",\"margin\":[5,10,5,10],\"max_page\":1,\"name\":\"\",\"page\":1,\"page_size\":10,\"pagination\":\"remote\",\"select_mode\":true,\"selectable_rows\":null,\"sizing_mode\":\"stretch_width\",\"source\":{\"id\":\"105449\"},\"styles\":{\"data\":{},\"id\":\"7b9c0a788a274d23a80f4a3791784fd8\"},\"subscribed_events\":[\"table-edit\",\"cell-click\"]},\"id\":\"105472\",\"type\":\"panel.models.tabulator.DataTabulator\"},{\"attributes\":{\"editor\":{\"id\":\"105458\"},\"field\":\"name\",\"formatter\":{\"id\":\"105457\"},\"title\":\"name\",\"width\":0},\"id\":\"105459\",\"type\":\"TableColumn\"},{\"attributes\":{\"children\":[{\"id\":\"105446\"}],\"margin\":[0,0,0,0],\"name\":\"Column122618\",\"sizing_mode\":\"stretch_width\"},\"id\":\"105445\",\"type\":\"Column\"},{\"attributes\":{\"editor\":{\"id\":\"105463\"},\"field\":\"count\",\"formatter\":{\"id\":\"105462\"},\"title\":\"count\",\"width\":0},\"id\":\"105464\",\"type\":\"TableColumn\"},{\"attributes\":{\"margin\":[5,5,5,5],\"name\":\"HSpacer122641\",\"sizing_mode\":\"stretch_width\"},\"id\":\"105447\",\"type\":\"Spacer\"},{\"attributes\":{\"editor\":{\"id\":\"105468\"},\"field\":\"size\",\"formatter\":{\"id\":\"105467\"},\"title\":\"size\",\"width\":0},\"id\":\"105469\",\"type\":\"TableColumn\"},{\"attributes\":{\"indices\":[]},\"id\":\"105450\",\"type\":\"Selection\"},{\"attributes\":{\"children\":[{\"id\":\"105472\"}],\"margin\":[0,0,0,0],\"name\":\"Row122623\",\"sizing_mode\":\"stretch_width\"},\"id\":\"105448\",\"type\":\"Row\"},{\"attributes\":{\"children\":[{\"id\":\"105443\"}],\"margin\":[0,0,0,0],\"name\":\"Row122644\",\"sizing_mode\":\"stretch_width\"},\"id\":\"105442\",\"type\":\"Row\"},{\"attributes\":{},\"id\":\"105474\",\"type\":\"UnionRenderers\"},{\"attributes\":{},\"id\":\"105458\",\"type\":\"StringEditor\"},{\"attributes\":{\"text_align\":\"right\"},\"id\":\"105462\",\"type\":\"NumberFormatter\"},{\"attributes\":{\"children\":[{\"id\":\"105445\"},{\"id\":\"105447\"}],\"margin\":[0,0,0,0],\"name\":\"Row122642\",\"sizing_mode\":\"stretch_width\"},\"id\":\"105444\",\"type\":\"Row\"},{\"attributes\":{\"end\":1625270400000.0,\"margin\":[5,10,5,10],\"sizing_mode\":\"stretch_width\",\"start\":1625097600000.0,\"title\":\"Date Range\",\"value\":[1625097600000.0,1625270400000.0]},\"id\":\"105446\",\"type\":\"DateRangeSlider\"},{\"attributes\":{\"data\":{\"count\":[27,24,22,32],\"name\":[\"A\",\"B\",\"C\",\"D\"],\"open_time\":{\"__ndarray__\":\"AADA1/Wld0IAAIA9SKZ3QgAAQKOapndCAABAo5qmd0I=\",\"dtype\":\"float64\",\"order\":\"little\",\"shape\":[4]},\"size\":[34,56,67,78]},\"selected\":{\"id\":\"105450\"},\"selection_policy\":{\"id\":\"105474\"}},\"id\":\"105449\",\"type\":\"ColumnDataSource\"}],\"root_ids\":[\"105442\",\"105480\"]},\"title\":\"Bokeh Application\",\"version\":\"2.4.3\"}};\n",
       "    var render_items = [{\"docid\":\"13b3b76e-b32a-41e3-b9b7-bd557048e1fe\",\"root_ids\":[\"105442\"],\"roots\":{\"105442\":\"b8f19b53-d3e7-40d4-ab7a-ee257e736800\"}}];\n",
       "    root.Bokeh.embed.embed_items_notebook(docs_json, render_items);\n",
       "  }\n",
       "  if (root.Bokeh !== undefined && root.Bokeh.Panel !== undefined) {\n",
       "    embed_document(root);\n",
       "  } else {\n",
       "    var attempts = 0;\n",
       "    var timer = setInterval(function(root) {\n",
       "      if (root.Bokeh !== undefined && root.Bokeh.Panel !== undefined) {\n",
       "        clearInterval(timer);\n",
       "        embed_document(root);\n",
       "      } else if (document.readyState == \"complete\") {\n",
       "        attempts++;\n",
       "        if (attempts > 200) {\n",
       "          clearInterval(timer);\n",
       "          console.log(\"Bokeh: ERROR: Unable to run BokehJS code because BokehJS library is missing\");\n",
       "        }\n",
       "      }\n",
       "    }, 25, root)\n",
       "  }\n",
       "})(window);</script>"
      ],
      "text/plain": [
       "<hvplot.interactive.Interactive at 0x1453d8310>"
      ]
     },
     "execution_count": 742,
     "metadata": {
      "application/vnd.holoviews_exec.v0+json": {
       "id": "105442"
      }
     },
     "output_type": "execute_result"
    }
   ],
   "source": [
    "itable = filtered.pipe(pn.widgets.Tabulator, pagination='remote', page_size=10, theme=theme)\n",
    "itable"
   ]
  },
  {
   "cell_type": "code",
   "execution_count": 743,
   "metadata": {},
   "outputs": [],
   "source": [
    "depth_hist = filtered.hvplot(y='count', kind='hist', responsive=True, min_height=200)"
   ]
  },
  {
   "cell_type": "code",
   "execution_count": 744,
   "metadata": {},
   "outputs": [],
   "source": [
    "yaxis = pn.widgets.RadioButtonGroup(\n",
    "    name='Y axis', \n",
    "    options=['count', 'size'],\n",
    "    button_type='success'\n",
    ")"
   ]
  },
  {
   "cell_type": "code",
   "execution_count": 745,
   "metadata": {},
   "outputs": [
    {
     "data": {},
     "metadata": {},
     "output_type": "display_data"
    },
    {
     "data": {},
     "metadata": {},
     "output_type": "display_data"
    },
    {
     "data": {
      "application/vnd.holoviews_exec.v0+json": "",
      "text/html": [
       "<div id='105491'>\n",
       "  <div class=\"bk-root\" id=\"a99ab1fa-3b0f-486d-9eca-c8795a28cbab\" data-root-id=\"105491\"></div>\n",
       "</div>\n",
       "<script type=\"application/javascript\">(function(root) {\n",
       "  function embed_document(root) {\n",
       "    var docs_json = {\"d9e5ea99-e6be-401b-bc48-036ba358b877\":{\"defs\":[{\"extends\":null,\"module\":null,\"name\":\"ReactiveHTML1\",\"overrides\":[],\"properties\":[]},{\"extends\":null,\"module\":null,\"name\":\"FlexBox1\",\"overrides\":[],\"properties\":[{\"default\":\"flex-start\",\"kind\":null,\"name\":\"align_content\"},{\"default\":\"flex-start\",\"kind\":null,\"name\":\"align_items\"},{\"default\":\"row\",\"kind\":null,\"name\":\"flex_direction\"},{\"default\":\"wrap\",\"kind\":null,\"name\":\"flex_wrap\"},{\"default\":\"flex-start\",\"kind\":null,\"name\":\"justify_content\"}]},{\"extends\":null,\"module\":null,\"name\":\"GridStack1\",\"overrides\":[],\"properties\":[{\"default\":\"warn\",\"kind\":null,\"name\":\"mode\"},{\"default\":null,\"kind\":null,\"name\":\"ncols\"},{\"default\":null,\"kind\":null,\"name\":\"nrows\"},{\"default\":true,\"kind\":null,\"name\":\"allow_resize\"},{\"default\":true,\"kind\":null,\"name\":\"allow_drag\"},{\"default\":[],\"kind\":null,\"name\":\"state\"}]},{\"extends\":null,\"module\":null,\"name\":\"click1\",\"overrides\":[],\"properties\":[{\"default\":\"\",\"kind\":null,\"name\":\"terminal_output\"},{\"default\":\"\",\"kind\":null,\"name\":\"debug_name\"},{\"default\":0,\"kind\":null,\"name\":\"clears\"}]},{\"extends\":null,\"module\":null,\"name\":\"NotificationAreaBase1\",\"overrides\":[],\"properties\":[{\"default\":\"bottom-right\",\"kind\":null,\"name\":\"position\"},{\"default\":0,\"kind\":null,\"name\":\"_clear\"}]},{\"extends\":null,\"module\":null,\"name\":\"NotificationArea1\",\"overrides\":[],\"properties\":[{\"default\":[],\"kind\":null,\"name\":\"notifications\"},{\"default\":\"bottom-right\",\"kind\":null,\"name\":\"position\"},{\"default\":0,\"kind\":null,\"name\":\"_clear\"},{\"default\":[{\"background\":\"#ffc107\",\"icon\":{\"className\":\"fas fa-exclamation-triangle\",\"color\":\"white\",\"tagName\":\"i\"},\"type\":\"warning\"},{\"background\":\"#007bff\",\"icon\":{\"className\":\"fas fa-info-circle\",\"color\":\"white\",\"tagName\":\"i\"},\"type\":\"info\"}],\"kind\":null,\"name\":\"types\"}]},{\"extends\":null,\"module\":null,\"name\":\"Notification\",\"overrides\":[],\"properties\":[{\"default\":null,\"kind\":null,\"name\":\"background\"},{\"default\":3000,\"kind\":null,\"name\":\"duration\"},{\"default\":null,\"kind\":null,\"name\":\"icon\"},{\"default\":\"\",\"kind\":null,\"name\":\"message\"},{\"default\":null,\"kind\":null,\"name\":\"notification_type\"},{\"default\":false,\"kind\":null,\"name\":\"_destroyed\"}]},{\"extends\":null,\"module\":null,\"name\":\"TemplateActions1\",\"overrides\":[],\"properties\":[{\"default\":0,\"kind\":null,\"name\":\"open_modal\"},{\"default\":0,\"kind\":null,\"name\":\"close_modal\"}]},{\"extends\":null,\"module\":null,\"name\":\"MaterialTemplateActions1\",\"overrides\":[],\"properties\":[{\"default\":0,\"kind\":null,\"name\":\"open_modal\"},{\"default\":0,\"kind\":null,\"name\":\"close_modal\"}]}],\"roots\":{\"references\":[{\"attributes\":{\"coordinates\":null,\"data_source\":{\"id\":\"105607\"},\"glyph\":{\"id\":\"105610\"},\"group\":null,\"hover_glyph\":null,\"muted_glyph\":{\"id\":\"105612\"},\"nonselection_glyph\":{\"id\":\"105611\"},\"selection_glyph\":{\"id\":\"105642\"},\"view\":{\"id\":\"105614\"}},\"id\":\"105613\",\"type\":\"GlyphRenderer\"},{\"attributes\":{\"axis\":{\"id\":\"105513\"},\"coordinates\":null,\"grid_line_color\":null,\"group\":null,\"ticker\":null},\"id\":\"105516\",\"type\":\"Grid\"},{\"attributes\":{\"axis_label\":\"open_time\",\"coordinates\":null,\"formatter\":{\"id\":\"105535\"},\"group\":null,\"major_label_policy\":{\"id\":\"105536\"},\"ticker\":{\"id\":\"105514\"}},\"id\":\"105513\",\"type\":\"DatetimeAxis\"},{\"attributes\":{\"line_alpha\":0.2,\"line_color\":\"#58d8b0\",\"x\":{\"field\":\"open_time\"},\"y\":{\"field\":\"count\"}},\"id\":\"105648\",\"type\":\"Line\"},{\"attributes\":{\"line_alpha\":0.1,\"line_color\":\"#58d8b0\",\"x\":{\"field\":\"open_time\"},\"y\":{\"field\":\"count\"}},\"id\":\"105647\",\"type\":\"Line\"},{\"attributes\":{},\"id\":\"105522\",\"type\":\"PanTool\"},{\"attributes\":{},\"id\":\"105518\",\"type\":\"BasicTicker\"},{\"attributes\":{\"line_color\":\"#88d8b0\",\"x\":{\"field\":\"open_time\"},\"y\":{\"field\":\"count\"}},\"id\":\"105610\",\"type\":\"Line\"},{\"attributes\":{},\"id\":\"105523\",\"type\":\"WheelZoomTool\"},{\"attributes\":{\"line_alpha\":0.1,\"line_color\":\"#ff6f69\",\"x\":{\"field\":\"open_time\"},\"y\":{\"field\":\"count\"}},\"id\":\"105544\",\"type\":\"Line\"},{\"attributes\":{},\"id\":\"105538\",\"type\":\"BasicTickFormatter\"},{\"attributes\":{\"margin\":[5,5,5,5],\"name\":\"HSpacer122946\",\"sizing_mode\":\"stretch_width\"},\"id\":\"105497\",\"type\":\"Spacer\"},{\"attributes\":{\"months\":[0,1,2,3,4,5,6,7,8,9,10,11]},\"id\":\"105565\",\"type\":\"MonthsTicker\"},{\"attributes\":{\"end\":1625270400000.0,\"margin\":[5,10,5,10],\"sizing_mode\":\"stretch_width\",\"start\":1625097600000.0,\"title\":\"Date Range\",\"value\":[1625097600000.0,1625270400000.0]},\"id\":\"105495\",\"type\":\"DateRangeSlider\"},{\"attributes\":{},\"id\":\"105644\",\"type\":\"Selection\"},{\"attributes\":{\"children\":[{\"id\":\"105495\"},{\"id\":\"105496\"}],\"margin\":[0,0,0,0],\"name\":\"Column122942\",\"sizing_mode\":\"stretch_width\"},\"id\":\"105494\",\"type\":\"Column\"},{\"attributes\":{\"coordinates\":null,\"group\":null,\"text_color\":\"black\",\"text_font_size\":\"12pt\"},\"id\":\"105505\",\"type\":\"Title\"},{\"attributes\":{\"months\":[0,6]},\"id\":\"105568\",\"type\":\"MonthsTicker\"},{\"attributes\":{\"children\":[{\"id\":\"105493\"},{\"id\":\"105504\"}],\"margin\":[0,0,0,0],\"name\":\"Column122953\",\"sizing_mode\":\"stretch_width\"},\"id\":\"105492\",\"type\":\"Column\"},{\"attributes\":{\"children\":[{\"id\":\"105494\"},{\"id\":\"105497\"}],\"margin\":[0,0,0,0],\"name\":\"Row122947\",\"sizing_mode\":\"stretch_width\"},\"id\":\"105493\",\"type\":\"Row\"},{\"attributes\":{\"days\":[1,15]},\"id\":\"105564\",\"type\":\"DaysTicker\"},{\"attributes\":{\"coordinates\":null,\"data_source\":{\"id\":\"105540\"},\"glyph\":{\"id\":\"105543\"},\"group\":null,\"hover_glyph\":null,\"muted_glyph\":{\"id\":\"105545\"},\"nonselection_glyph\":{\"id\":\"105544\"},\"selection_glyph\":{\"id\":\"105572\"},\"view\":{\"id\":\"105547\"}},\"id\":\"105546\",\"type\":\"GlyphRenderer\"},{\"attributes\":{\"line_color\":\"#ffcc5c\",\"x\":{\"field\":\"open_time\"},\"y\":{\"field\":\"count\"}},\"id\":\"105606\",\"type\":\"Line\"},{\"attributes\":{},\"id\":\"105539\",\"type\":\"AllLabels\"},{\"attributes\":{\"months\":[0,4,8]},\"id\":\"105567\",\"type\":\"MonthsTicker\"},{\"attributes\":{\"line_alpha\":0.2,\"line_color\":\"#ffcc5c\",\"x\":{\"field\":\"open_time\"},\"y\":{\"field\":\"count\"}},\"id\":\"105578\",\"type\":\"Line\"},{\"attributes\":{},\"id\":\"105569\",\"type\":\"YearsTicker\"},{\"attributes\":{\"source\":{\"id\":\"105643\"}},\"id\":\"105650\",\"type\":\"CDSView\"},{\"attributes\":{},\"id\":\"105608\",\"type\":\"Selection\"},{\"attributes\":{\"callback\":null,\"formatters\":{\"@{open_time}\":\"datetime\"},\"renderers\":[{\"id\":\"105546\"},{\"id\":\"105579\"},{\"id\":\"105613\"},{\"id\":\"105649\"}],\"tags\":[\"hv_created\"],\"tooltips\":[[\"name\",\"@{name}\"],[\"open_time\",\"@{open_time}{%F %T}\"],[\"count\",\"@{count}\"]]},\"id\":\"105500\",\"type\":\"HoverTool\"},{\"attributes\":{\"base\":24,\"mantissas\":[1,2,4,6,8,12],\"max_interval\":43200000.0,\"min_interval\":3600000.0,\"num_minor_ticks\":0},\"id\":\"105560\",\"type\":\"AdaptiveTicker\"},{\"attributes\":{\"months\":[0,2,4,6,8,10]},\"id\":\"105566\",\"type\":\"MonthsTicker\"},{\"attributes\":{\"end\":1625270400000.0,\"reset_end\":1625270400000.0,\"reset_start\":1625097600000.0,\"start\":1625097600000.0,\"tags\":[[[\"open_time\",\"open_time\",null]]]},\"id\":\"105498\",\"type\":\"Range1d\"},{\"attributes\":{\"line_color\":\"#ff6f69\",\"x\":{\"field\":\"open_time\"},\"y\":{\"field\":\"count\"}},\"id\":\"105543\",\"type\":\"Line\"},{\"attributes\":{\"active\":0,\"button_type\":\"success\",\"labels\":[\"count\",\"size\"],\"margin\":[5,10,5,10],\"sizing_mode\":\"stretch_width\"},\"id\":\"105496\",\"type\":\"RadioButtonGroup\"},{\"attributes\":{},\"id\":\"105536\",\"type\":\"AllLabels\"},{\"attributes\":{\"data\":{\"count\":[22],\"name\":[\"C\"],\"open_time\":{\"__ndarray__\":\"AABAo5qmd0I=\",\"dtype\":\"float64\",\"order\":\"little\",\"shape\":[1]}},\"selected\":{\"id\":\"105608\"},\"selection_policy\":{\"id\":\"105626\"}},\"id\":\"105607\",\"type\":\"ColumnDataSource\"},{\"attributes\":{\"below\":[{\"id\":\"105513\"}],\"center\":[{\"id\":\"105516\"},{\"id\":\"105520\"}],\"height\":400,\"left\":[{\"id\":\"105517\"}],\"margin\":[5,5,5,5],\"min_border_bottom\":10,\"min_border_left\":10,\"min_border_right\":10,\"min_border_top\":10,\"renderers\":[{\"id\":\"105546\"},{\"id\":\"105579\"},{\"id\":\"105613\"},{\"id\":\"105649\"}],\"right\":[{\"id\":\"105570\"}],\"sizing_mode\":\"stretch_width\",\"title\":{\"id\":\"105505\"},\"toolbar\":{\"id\":\"105527\"},\"width\":700,\"x_range\":{\"id\":\"105498\"},\"x_scale\":{\"id\":\"105509\"},\"y_range\":{\"id\":\"105499\"},\"y_scale\":{\"id\":\"105511\"}},\"id\":\"105504\",\"subtype\":\"Figure\",\"type\":\"Plot\"},{\"attributes\":{\"label\":{\"value\":\"C\"},\"renderers\":[{\"id\":\"105613\"}]},\"id\":\"105641\",\"type\":\"LegendItem\"},{\"attributes\":{\"data\":{\"count\":[24],\"name\":[\"B\"],\"open_time\":{\"__ndarray__\":\"AACAPUimd0I=\",\"dtype\":\"float64\",\"order\":\"little\",\"shape\":[1]}},\"selected\":{\"id\":\"105574\"},\"selection_policy\":{\"id\":\"105590\"}},\"id\":\"105573\",\"type\":\"ColumnDataSource\"},{\"attributes\":{},\"id\":\"105541\",\"type\":\"Selection\"},{\"attributes\":{\"num_minor_ticks\":5,\"tickers\":[{\"id\":\"105558\"},{\"id\":\"105559\"},{\"id\":\"105560\"},{\"id\":\"105561\"},{\"id\":\"105562\"},{\"id\":\"105563\"},{\"id\":\"105564\"},{\"id\":\"105565\"},{\"id\":\"105566\"},{\"id\":\"105567\"},{\"id\":\"105568\"},{\"id\":\"105569\"}]},\"id\":\"105514\",\"type\":\"DatetimeTicker\"},{\"attributes\":{\"client_comm_id\":\"0f27fc8673524c4584c3cceb17a41051\",\"comm_id\":\"f2fbcc2af4604c568ca40a7dcaacca39\",\"plot_id\":\"105491\"},\"id\":\"105793\",\"type\":\"panel.models.comm_manager.CommManager\"},{\"attributes\":{\"line_color\":\"#ffcc5c\",\"x\":{\"field\":\"open_time\"},\"y\":{\"field\":\"count\"}},\"id\":\"105576\",\"type\":\"Line\"},{\"attributes\":{\"end\":33.0,\"reset_end\":33.0,\"reset_start\":21.0,\"start\":21.0,\"tags\":[[[\"count\",\"count\",null]]]},\"id\":\"105499\",\"type\":\"Range1d\"},{\"attributes\":{},\"id\":\"105574\",\"type\":\"Selection\"},{\"attributes\":{},\"id\":\"105509\",\"type\":\"LinearScale\"},{\"attributes\":{\"line_color\":\"#ff6f69\",\"x\":{\"field\":\"open_time\"},\"y\":{\"field\":\"count\"}},\"id\":\"105572\",\"type\":\"Line\"},{\"attributes\":{\"source\":{\"id\":\"105573\"}},\"id\":\"105580\",\"type\":\"CDSView\"},{\"attributes\":{\"line_alpha\":0.2,\"line_color\":\"#88d8b0\",\"x\":{\"field\":\"open_time\"},\"y\":{\"field\":\"count\"}},\"id\":\"105612\",\"type\":\"Line\"},{\"attributes\":{},\"id\":\"105626\",\"type\":\"UnionRenderers\"},{\"attributes\":{\"source\":{\"id\":\"105607\"}},\"id\":\"105614\",\"type\":\"CDSView\"},{\"attributes\":{\"days\":[1,4,7,10,13,16,19,22,25,28]},\"id\":\"105562\",\"type\":\"DaysTicker\"},{\"attributes\":{\"children\":[{\"id\":\"105492\"}],\"margin\":[0,0,0,0],\"name\":\"Row122954\",\"sizing_mode\":\"stretch_width\"},\"id\":\"105491\",\"type\":\"Row\"},{\"attributes\":{\"axis_label\":\"count\",\"coordinates\":null,\"formatter\":{\"id\":\"105538\"},\"group\":null,\"major_label_policy\":{\"id\":\"105539\"},\"ticker\":{\"id\":\"105518\"}},\"id\":\"105517\",\"type\":\"LinearAxis\"},{\"attributes\":{\"data\":{\"count\":[27],\"name\":[\"A\"],\"open_time\":{\"__ndarray__\":\"AADA1/Wld0I=\",\"dtype\":\"float64\",\"order\":\"little\",\"shape\":[1]}},\"selected\":{\"id\":\"105541\"},\"selection_policy\":{\"id\":\"105555\"}},\"id\":\"105540\",\"type\":\"ColumnDataSource\"},{\"attributes\":{\"days\":[1,2,3,4,5,6,7,8,9,10,11,12,13,14,15,16,17,18,19,20,21,22,23,24,25,26,27,28,29,30,31]},\"id\":\"105561\",\"type\":\"DaysTicker\"},{\"attributes\":{\"click_policy\":\"mute\",\"coordinates\":null,\"group\":null,\"items\":[{\"id\":\"105571\"},{\"id\":\"105605\"},{\"id\":\"105641\"},{\"id\":\"105679\"}],\"location\":[0,0],\"title\":\"name\"},\"id\":\"105570\",\"type\":\"Legend\"},{\"attributes\":{},\"id\":\"105664\",\"type\":\"UnionRenderers\"},{\"attributes\":{\"days\":[1,8,15,22]},\"id\":\"105563\",\"type\":\"DaysTicker\"},{\"attributes\":{\"line_alpha\":0.1,\"line_color\":\"#88d8b0\",\"x\":{\"field\":\"open_time\"},\"y\":{\"field\":\"count\"}},\"id\":\"105611\",\"type\":\"Line\"},{\"attributes\":{\"line_color\":\"#58d8b0\",\"x\":{\"field\":\"open_time\"},\"y\":{\"field\":\"count\"}},\"id\":\"105680\",\"type\":\"Line\"},{\"attributes\":{\"base\":60,\"mantissas\":[1,2,5,10,15,20,30],\"max_interval\":1800000.0,\"min_interval\":1000.0,\"num_minor_ticks\":0},\"id\":\"105559\",\"type\":\"AdaptiveTicker\"},{\"attributes\":{\"coordinates\":null,\"data_source\":{\"id\":\"105643\"},\"glyph\":{\"id\":\"105646\"},\"group\":null,\"hover_glyph\":null,\"muted_glyph\":{\"id\":\"105648\"},\"nonselection_glyph\":{\"id\":\"105647\"},\"selection_glyph\":{\"id\":\"105680\"},\"view\":{\"id\":\"105650\"}},\"id\":\"105649\",\"type\":\"GlyphRenderer\"},{\"attributes\":{\"line_alpha\":0.1,\"line_color\":\"#ffcc5c\",\"x\":{\"field\":\"open_time\"},\"y\":{\"field\":\"count\"}},\"id\":\"105577\",\"type\":\"Line\"},{\"attributes\":{\"label\":{\"value\":\"D\"},\"renderers\":[{\"id\":\"105649\"}]},\"id\":\"105679\",\"type\":\"LegendItem\"},{\"attributes\":{\"source\":{\"id\":\"105540\"}},\"id\":\"105547\",\"type\":\"CDSView\"},{\"attributes\":{\"coordinates\":null,\"data_source\":{\"id\":\"105573\"},\"glyph\":{\"id\":\"105576\"},\"group\":null,\"hover_glyph\":null,\"muted_glyph\":{\"id\":\"105578\"},\"nonselection_glyph\":{\"id\":\"105577\"},\"selection_glyph\":{\"id\":\"105606\"},\"view\":{\"id\":\"105580\"}},\"id\":\"105579\",\"type\":\"GlyphRenderer\"},{\"attributes\":{},\"id\":\"105555\",\"type\":\"UnionRenderers\"},{\"attributes\":{\"data\":{\"count\":[32],\"name\":[\"D\"],\"open_time\":{\"__ndarray__\":\"AABAo5qmd0I=\",\"dtype\":\"float64\",\"order\":\"little\",\"shape\":[1]}},\"selected\":{\"id\":\"105644\"},\"selection_policy\":{\"id\":\"105664\"}},\"id\":\"105643\",\"type\":\"ColumnDataSource\"},{\"attributes\":{\"mantissas\":[1,2,5],\"max_interval\":500.0,\"num_minor_ticks\":0},\"id\":\"105558\",\"type\":\"AdaptiveTicker\"},{\"attributes\":{\"label\":{\"value\":\"A\"},\"renderers\":[{\"id\":\"105546\"}]},\"id\":\"105571\",\"type\":\"LegendItem\"},{\"attributes\":{\"label\":{\"value\":\"B\"},\"renderers\":[{\"id\":\"105579\"}]},\"id\":\"105605\",\"type\":\"LegendItem\"},{\"attributes\":{\"tools\":[{\"id\":\"105500\"},{\"id\":\"105521\"},{\"id\":\"105522\"},{\"id\":\"105523\"},{\"id\":\"105524\"},{\"id\":\"105525\"}]},\"id\":\"105527\",\"type\":\"Toolbar\"},{\"attributes\":{\"line_color\":\"#58d8b0\",\"x\":{\"field\":\"open_time\"},\"y\":{\"field\":\"count\"}},\"id\":\"105646\",\"type\":\"Line\"},{\"attributes\":{\"line_alpha\":0.2,\"line_color\":\"#ff6f69\",\"x\":{\"field\":\"open_time\"},\"y\":{\"field\":\"count\"}},\"id\":\"105545\",\"type\":\"Line\"},{\"attributes\":{},\"id\":\"105521\",\"type\":\"SaveTool\"},{\"attributes\":{\"line_color\":\"#88d8b0\",\"x\":{\"field\":\"open_time\"},\"y\":{\"field\":\"count\"}},\"id\":\"105642\",\"type\":\"Line\"},{\"attributes\":{\"bottom_units\":\"screen\",\"coordinates\":null,\"fill_alpha\":0.5,\"fill_color\":\"lightgrey\",\"group\":null,\"left_units\":\"screen\",\"level\":\"overlay\",\"line_alpha\":1.0,\"line_color\":\"black\",\"line_dash\":[4,4],\"line_width\":2,\"right_units\":\"screen\",\"syncable\":false,\"top_units\":\"screen\"},\"id\":\"105526\",\"type\":\"BoxAnnotation\"},{\"attributes\":{},\"id\":\"105535\",\"type\":\"DatetimeTickFormatter\"},{\"attributes\":{},\"id\":\"105525\",\"type\":\"ResetTool\"},{\"attributes\":{\"axis\":{\"id\":\"105517\"},\"coordinates\":null,\"dimension\":1,\"grid_line_color\":null,\"group\":null,\"ticker\":null},\"id\":\"105520\",\"type\":\"Grid\"},{\"attributes\":{\"overlay\":{\"id\":\"105526\"}},\"id\":\"105524\",\"type\":\"BoxZoomTool\"},{\"attributes\":{},\"id\":\"105511\",\"type\":\"LinearScale\"},{\"attributes\":{},\"id\":\"105590\",\"type\":\"UnionRenderers\"}],\"root_ids\":[\"105491\",\"105793\"]},\"title\":\"Bokeh Application\",\"version\":\"2.4.3\"}};\n",
       "    var render_items = [{\"docid\":\"d9e5ea99-e6be-401b-bc48-036ba358b877\",\"root_ids\":[\"105491\"],\"roots\":{\"105491\":\"a99ab1fa-3b0f-486d-9eca-c8795a28cbab\"}}];\n",
       "    root.Bokeh.embed.embed_items_notebook(docs_json, render_items);\n",
       "  }\n",
       "  if (root.Bokeh !== undefined && root.Bokeh.Panel !== undefined) {\n",
       "    embed_document(root);\n",
       "  } else {\n",
       "    var attempts = 0;\n",
       "    var timer = setInterval(function(root) {\n",
       "      if (root.Bokeh !== undefined && root.Bokeh.Panel !== undefined) {\n",
       "        clearInterval(timer);\n",
       "        embed_document(root);\n",
       "      } else if (document.readyState == \"complete\") {\n",
       "        attempts++;\n",
       "        if (attempts > 200) {\n",
       "          clearInterval(timer);\n",
       "          console.log(\"Bokeh: ERROR: Unable to run BokehJS code because BokehJS library is missing\");\n",
       "        }\n",
       "      }\n",
       "    }, 25, root)\n",
       "  }\n",
       "})(window);</script>"
      ],
      "text/plain": [
       "<hvplot.interactive.Interactive at 0x1453931f0>"
      ]
     },
     "execution_count": 745,
     "metadata": {
      "application/vnd.holoviews_exec.v0+json": {
       "id": "105491"
      }
     },
     "output_type": "execute_result"
    }
   ],
   "source": [
    "ihvplot = filtered.hvplot(x='open_time', y=yaxis, by='name', color=PALETTE, line_width=1, height=400)\n",
    "ihvplot\n",
    "\n"
   ]
  },
  {
   "cell_type": "code",
   "execution_count": 746,
   "metadata": {},
   "outputs": [],
   "source": [
    "template = pn.template.FastListTemplate(\n",
    "    title='Interactive DataFrame Dashboards', \n",
    "    sidebar=[date_range],\n",
    "    main=[depth_hist.panel(), itable.panel(), ihvplot.panel()],\n",
    "    accent_base_color=\"#88d8b0\",\n",
    "    header_background=\"#88d8b0\",\n",
    ")\n",
    "# template.show()\n",
    "template.servable();\n"
   ]
  }
 ],
 "metadata": {
  "kernelspec": {
   "display_name": "Python 3.10.5 64-bit",
   "language": "python",
   "name": "python3"
  },
  "language_info": {
   "codemirror_mode": {
    "name": "ipython",
    "version": 3
   },
   "file_extension": ".py",
   "mimetype": "text/x-python",
   "name": "python",
   "nbconvert_exporter": "python",
   "pygments_lexer": "ipython3",
   "version": "3.10.5"
  },
  "orig_nbformat": 4,
  "vscode": {
   "interpreter": {
    "hash": "aee8b7b246df8f9039afb4144a1f6fd8d2ca17a180786b69acc140d282b71a49"
   }
  }
 },
 "nbformat": 4,
 "nbformat_minor": 2
}
