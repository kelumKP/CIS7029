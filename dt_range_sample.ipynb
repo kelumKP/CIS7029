{
 "cells": [
  {
   "cell_type": "code",
   "execution_count": 203,
   "metadata": {},
   "outputs": [],
   "source": [
    "import pathlib\n",
    "\n",
    "import holoviews as hv\n",
    "import hvplot.pandas # noqa\n",
    "import numpy as np\n",
    "import pandas as pd\n",
    "import panel as pn\n",
    "import datetime as dt\n",
    "import calendar\n",
    "\n",
    "pn.extension(sizing_mode='stretch_width')"
   ]
  },
  {
   "cell_type": "code",
   "execution_count": 204,
   "metadata": {},
   "outputs": [
    {
     "data": {
      "text/html": [
       "<div>\n",
       "<style scoped>\n",
       "    .dataframe tbody tr th:only-of-type {\n",
       "        vertical-align: middle;\n",
       "    }\n",
       "\n",
       "    .dataframe tbody tr th {\n",
       "        vertical-align: top;\n",
       "    }\n",
       "\n",
       "    .dataframe thead th {\n",
       "        text-align: right;\n",
       "    }\n",
       "</style>\n",
       "<table border=\"1\" class=\"dataframe\">\n",
       "  <thead>\n",
       "    <tr style=\"text-align: right;\">\n",
       "      <th></th>\n",
       "      <th>name</th>\n",
       "      <th>open_time</th>\n",
       "      <th>count</th>\n",
       "      <th>size</th>\n",
       "      <th>open_date</th>\n",
       "    </tr>\n",
       "  </thead>\n",
       "  <tbody>\n",
       "    <tr>\n",
       "      <th>0</th>\n",
       "      <td>A</td>\n",
       "      <td>2021-07-01</td>\n",
       "      <td>27</td>\n",
       "      <td>34</td>\n",
       "      <td>2021-07-01</td>\n",
       "    </tr>\n",
       "    <tr>\n",
       "      <th>1</th>\n",
       "      <td>B</td>\n",
       "      <td>2022-07-02</td>\n",
       "      <td>24</td>\n",
       "      <td>56</td>\n",
       "      <td>2022-07-02</td>\n",
       "    </tr>\n",
       "    <tr>\n",
       "      <th>2</th>\n",
       "      <td>C</td>\n",
       "      <td>2021-07-03</td>\n",
       "      <td>22</td>\n",
       "      <td>67</td>\n",
       "      <td>2021-07-03</td>\n",
       "    </tr>\n",
       "    <tr>\n",
       "      <th>3</th>\n",
       "      <td>D</td>\n",
       "      <td>2021-07-03</td>\n",
       "      <td>32</td>\n",
       "      <td>78</td>\n",
       "      <td>2021-07-03</td>\n",
       "    </tr>\n",
       "    <tr>\n",
       "      <th>4</th>\n",
       "      <td>A</td>\n",
       "      <td>2021-08-05</td>\n",
       "      <td>17</td>\n",
       "      <td>33</td>\n",
       "      <td>2021-08-05</td>\n",
       "    </tr>\n",
       "    <tr>\n",
       "      <th>5</th>\n",
       "      <td>B</td>\n",
       "      <td>2021-09-11</td>\n",
       "      <td>34</td>\n",
       "      <td>55</td>\n",
       "      <td>2021-09-11</td>\n",
       "    </tr>\n",
       "    <tr>\n",
       "      <th>6</th>\n",
       "      <td>C</td>\n",
       "      <td>2021-10-11</td>\n",
       "      <td>52</td>\n",
       "      <td>69</td>\n",
       "      <td>2021-10-11</td>\n",
       "    </tr>\n",
       "    <tr>\n",
       "      <th>7</th>\n",
       "      <td>D</td>\n",
       "      <td>2022-11-11</td>\n",
       "      <td>62</td>\n",
       "      <td>79</td>\n",
       "      <td>2022-11-11</td>\n",
       "    </tr>\n",
       "    <tr>\n",
       "      <th>8</th>\n",
       "      <td>A</td>\n",
       "      <td>2021-05-11</td>\n",
       "      <td>44</td>\n",
       "      <td>34</td>\n",
       "      <td>2021-05-11</td>\n",
       "    </tr>\n",
       "    <tr>\n",
       "      <th>9</th>\n",
       "      <td>B</td>\n",
       "      <td>2022-08-11</td>\n",
       "      <td>88</td>\n",
       "      <td>12</td>\n",
       "      <td>2022-08-11</td>\n",
       "    </tr>\n",
       "    <tr>\n",
       "      <th>10</th>\n",
       "      <td>D</td>\n",
       "      <td>2022-05-11</td>\n",
       "      <td>22</td>\n",
       "      <td>23</td>\n",
       "      <td>2022-05-11</td>\n",
       "    </tr>\n",
       "  </tbody>\n",
       "</table>\n",
       "</div>"
      ],
      "text/plain": [
       "   name  open_time  count  size   open_date\n",
       "0     A 2021-07-01     27    34  2021-07-01\n",
       "1     B 2022-07-02     24    56  2022-07-02\n",
       "2     C 2021-07-03     22    67  2021-07-03\n",
       "3     D 2021-07-03     32    78  2021-07-03\n",
       "4     A 2021-08-05     17    33  2021-08-05\n",
       "5     B 2021-09-11     34    55  2021-09-11\n",
       "6     C 2021-10-11     52    69  2021-10-11\n",
       "7     D 2022-11-11     62    79  2022-11-11\n",
       "8     A 2021-05-11     44    34  2021-05-11\n",
       "9     B 2022-08-11     88    12  2022-08-11\n",
       "10    D 2022-05-11     22    23  2022-05-11"
      ]
     },
     "execution_count": 204,
     "metadata": {},
     "output_type": "execute_result"
    }
   ],
   "source": [
    "data = {'name':['A', 'B', 'C', 'D', 'A', 'B', 'C', 'D', 'A', 'B', 'D'],\n",
    "        'open_time': [dt.datetime(2021, 7, 1, 0, 0, 0), dt.datetime(2022, 7, 2, 0, 0), dt.datetime(2021, 7, 3, 0, 0),dt.datetime(2021, 7, 3, 0, 0), dt.datetime(2021, 8, 5, 0, 0, 0), dt.datetime(2021, 9, 11, 0, 0, 0), dt.datetime(2021, 10, 11, 0, 0, 0), dt.datetime(2022, 11, 11, 0, 0, 0), dt.datetime(2021, 5, 11, 0, 0, 0), dt.datetime(2022, 8, 11, 0, 0, 0), dt.datetime(2022, 5, 11, 0, 0, 0)],\n",
    "        'count':[27, 24, 22, 32, 17, 34, 52, 62, 44, 88, 22],\n",
    "        'size':[34, 56,67,78, 33, 55,69,79, 34,12, 23]\n",
    "       }\n",
    "\n",
    "df = pd.DataFrame(data)\n",
    "df\n",
    "df['open_date'] = pd.to_datetime(df['open_time']).dt.date\n",
    "df\n"
   ]
  },
  {
   "cell_type": "code",
   "execution_count": 205,
   "metadata": {},
   "outputs": [
    {
     "data": {
      "text/html": [
       "<div>\n",
       "<style scoped>\n",
       "    .dataframe tbody tr th:only-of-type {\n",
       "        vertical-align: middle;\n",
       "    }\n",
       "\n",
       "    .dataframe tbody tr th {\n",
       "        vertical-align: top;\n",
       "    }\n",
       "\n",
       "    .dataframe thead th {\n",
       "        text-align: right;\n",
       "    }\n",
       "</style>\n",
       "<table border=\"1\" class=\"dataframe\">\n",
       "  <thead>\n",
       "    <tr style=\"text-align: right;\">\n",
       "      <th></th>\n",
       "      <th>name</th>\n",
       "      <th>open_time</th>\n",
       "      <th>count</th>\n",
       "      <th>size</th>\n",
       "      <th>open_date</th>\n",
       "      <th>year</th>\n",
       "      <th>month</th>\n",
       "    </tr>\n",
       "  </thead>\n",
       "  <tbody>\n",
       "    <tr>\n",
       "      <th>0</th>\n",
       "      <td>A</td>\n",
       "      <td>2021-07-01</td>\n",
       "      <td>27</td>\n",
       "      <td>34</td>\n",
       "      <td>2021-07-01</td>\n",
       "      <td>2021</td>\n",
       "      <td>7</td>\n",
       "    </tr>\n",
       "    <tr>\n",
       "      <th>1</th>\n",
       "      <td>B</td>\n",
       "      <td>2022-07-02</td>\n",
       "      <td>24</td>\n",
       "      <td>56</td>\n",
       "      <td>2022-07-02</td>\n",
       "      <td>2022</td>\n",
       "      <td>7</td>\n",
       "    </tr>\n",
       "    <tr>\n",
       "      <th>2</th>\n",
       "      <td>C</td>\n",
       "      <td>2021-07-03</td>\n",
       "      <td>22</td>\n",
       "      <td>67</td>\n",
       "      <td>2021-07-03</td>\n",
       "      <td>2021</td>\n",
       "      <td>7</td>\n",
       "    </tr>\n",
       "    <tr>\n",
       "      <th>3</th>\n",
       "      <td>D</td>\n",
       "      <td>2021-07-03</td>\n",
       "      <td>32</td>\n",
       "      <td>78</td>\n",
       "      <td>2021-07-03</td>\n",
       "      <td>2021</td>\n",
       "      <td>7</td>\n",
       "    </tr>\n",
       "    <tr>\n",
       "      <th>4</th>\n",
       "      <td>A</td>\n",
       "      <td>2021-08-05</td>\n",
       "      <td>17</td>\n",
       "      <td>33</td>\n",
       "      <td>2021-08-05</td>\n",
       "      <td>2021</td>\n",
       "      <td>8</td>\n",
       "    </tr>\n",
       "    <tr>\n",
       "      <th>5</th>\n",
       "      <td>B</td>\n",
       "      <td>2021-09-11</td>\n",
       "      <td>34</td>\n",
       "      <td>55</td>\n",
       "      <td>2021-09-11</td>\n",
       "      <td>2021</td>\n",
       "      <td>9</td>\n",
       "    </tr>\n",
       "    <tr>\n",
       "      <th>6</th>\n",
       "      <td>C</td>\n",
       "      <td>2021-10-11</td>\n",
       "      <td>52</td>\n",
       "      <td>69</td>\n",
       "      <td>2021-10-11</td>\n",
       "      <td>2021</td>\n",
       "      <td>10</td>\n",
       "    </tr>\n",
       "    <tr>\n",
       "      <th>7</th>\n",
       "      <td>D</td>\n",
       "      <td>2022-11-11</td>\n",
       "      <td>62</td>\n",
       "      <td>79</td>\n",
       "      <td>2022-11-11</td>\n",
       "      <td>2022</td>\n",
       "      <td>11</td>\n",
       "    </tr>\n",
       "    <tr>\n",
       "      <th>8</th>\n",
       "      <td>A</td>\n",
       "      <td>2021-05-11</td>\n",
       "      <td>44</td>\n",
       "      <td>34</td>\n",
       "      <td>2021-05-11</td>\n",
       "      <td>2021</td>\n",
       "      <td>5</td>\n",
       "    </tr>\n",
       "    <tr>\n",
       "      <th>9</th>\n",
       "      <td>B</td>\n",
       "      <td>2022-08-11</td>\n",
       "      <td>88</td>\n",
       "      <td>12</td>\n",
       "      <td>2022-08-11</td>\n",
       "      <td>2022</td>\n",
       "      <td>8</td>\n",
       "    </tr>\n",
       "    <tr>\n",
       "      <th>10</th>\n",
       "      <td>D</td>\n",
       "      <td>2022-05-11</td>\n",
       "      <td>22</td>\n",
       "      <td>23</td>\n",
       "      <td>2022-05-11</td>\n",
       "      <td>2022</td>\n",
       "      <td>5</td>\n",
       "    </tr>\n",
       "  </tbody>\n",
       "</table>\n",
       "</div>"
      ],
      "text/plain": [
       "   name  open_time  count  size   open_date  year  month\n",
       "0     A 2021-07-01     27    34  2021-07-01  2021      7\n",
       "1     B 2022-07-02     24    56  2022-07-02  2022      7\n",
       "2     C 2021-07-03     22    67  2021-07-03  2021      7\n",
       "3     D 2021-07-03     32    78  2021-07-03  2021      7\n",
       "4     A 2021-08-05     17    33  2021-08-05  2021      8\n",
       "5     B 2021-09-11     34    55  2021-09-11  2021      9\n",
       "6     C 2021-10-11     52    69  2021-10-11  2021     10\n",
       "7     D 2022-11-11     62    79  2022-11-11  2022     11\n",
       "8     A 2021-05-11     44    34  2021-05-11  2021      5\n",
       "9     B 2022-08-11     88    12  2022-08-11  2022      8\n",
       "10    D 2022-05-11     22    23  2022-05-11  2022      5"
      ]
     },
     "execution_count": 205,
     "metadata": {},
     "output_type": "execute_result"
    }
   ],
   "source": [
    "df['year'] = pd.to_datetime(df['open_time']).dt.year\n",
    "df['month'] = pd.to_datetime(df['open_time']).dt.month\n",
    "\n",
    "df"
   ]
  },
  {
   "cell_type": "code",
   "execution_count": 206,
   "metadata": {},
   "outputs": [],
   "source": [
    "idf = df.interactive()\n",
    "\n",
    "\n",
    "\n",
    "df.set_index('open_time', inplace=True)"
   ]
  },
  {
   "cell_type": "code",
   "execution_count": 207,
   "metadata": {},
   "outputs": [],
   "source": [
    "years_slider = pn.widgets.IntSlider(name='Year', start=2021, end=2022, step=1)\n",
    "\n",
    "months = pn.widgets.ToggleGroup(\n",
    "    name='Months',\n",
    "    options=[1, 2, 3, 4 ,5 ,6 ,7 ,8 ,9 ,10,11, 12], \n",
    "    value=[1, 2, 3, 4 ,5 ,6 ,7 ,8 ,9 ,10,11, 12],\n",
    "    button_type='success')\n",
    "yaxis = pn.widgets.RadioButtonGroup(\n",
    "    name='Y axis', \n",
    "    options=['count', 'size'],\n",
    "    button_type='warning'\n",
    ")\n"
   ]
  },
  {
   "cell_type": "code",
   "execution_count": 208,
   "metadata": {},
   "outputs": [
    {
     "data": {},
     "metadata": {},
     "output_type": "display_data"
    },
    {
     "data": {
      "application/vnd.holoviews_exec.v0+json": "",
      "text/html": [
       "<div id='17347'>\n",
       "  <div class=\"bk-root\" id=\"04e5e69f-2cf1-4ad7-9143-686d7e58e1b4\" data-root-id=\"17347\"></div>\n",
       "</div>\n",
       "<script type=\"application/javascript\">(function(root) {\n",
       "  function embed_document(root) {\n",
       "    var docs_json = {\"c32d9903-377c-4c5c-a85b-62fb7967eb1f\":{\"defs\":[{\"extends\":null,\"module\":null,\"name\":\"ReactiveHTML1\",\"overrides\":[],\"properties\":[]},{\"extends\":null,\"module\":null,\"name\":\"FlexBox1\",\"overrides\":[],\"properties\":[{\"default\":\"flex-start\",\"kind\":null,\"name\":\"align_content\"},{\"default\":\"flex-start\",\"kind\":null,\"name\":\"align_items\"},{\"default\":\"row\",\"kind\":null,\"name\":\"flex_direction\"},{\"default\":\"wrap\",\"kind\":null,\"name\":\"flex_wrap\"},{\"default\":\"flex-start\",\"kind\":null,\"name\":\"justify_content\"}]},{\"extends\":null,\"module\":null,\"name\":\"GridStack1\",\"overrides\":[],\"properties\":[{\"default\":\"warn\",\"kind\":null,\"name\":\"mode\"},{\"default\":null,\"kind\":null,\"name\":\"ncols\"},{\"default\":null,\"kind\":null,\"name\":\"nrows\"},{\"default\":true,\"kind\":null,\"name\":\"allow_resize\"},{\"default\":true,\"kind\":null,\"name\":\"allow_drag\"},{\"default\":[],\"kind\":null,\"name\":\"state\"}]},{\"extends\":null,\"module\":null,\"name\":\"click1\",\"overrides\":[],\"properties\":[{\"default\":\"\",\"kind\":null,\"name\":\"terminal_output\"},{\"default\":\"\",\"kind\":null,\"name\":\"debug_name\"},{\"default\":0,\"kind\":null,\"name\":\"clears\"}]},{\"extends\":null,\"module\":null,\"name\":\"NotificationAreaBase1\",\"overrides\":[],\"properties\":[{\"default\":\"bottom-right\",\"kind\":null,\"name\":\"position\"},{\"default\":0,\"kind\":null,\"name\":\"_clear\"}]},{\"extends\":null,\"module\":null,\"name\":\"NotificationArea1\",\"overrides\":[],\"properties\":[{\"default\":[],\"kind\":null,\"name\":\"notifications\"},{\"default\":\"bottom-right\",\"kind\":null,\"name\":\"position\"},{\"default\":0,\"kind\":null,\"name\":\"_clear\"},{\"default\":[{\"background\":\"#ffc107\",\"icon\":{\"className\":\"fas fa-exclamation-triangle\",\"color\":\"white\",\"tagName\":\"i\"},\"type\":\"warning\"},{\"background\":\"#007bff\",\"icon\":{\"className\":\"fas fa-info-circle\",\"color\":\"white\",\"tagName\":\"i\"},\"type\":\"info\"}],\"kind\":null,\"name\":\"types\"}]},{\"extends\":null,\"module\":null,\"name\":\"Notification\",\"overrides\":[],\"properties\":[{\"default\":null,\"kind\":null,\"name\":\"background\"},{\"default\":3000,\"kind\":null,\"name\":\"duration\"},{\"default\":null,\"kind\":null,\"name\":\"icon\"},{\"default\":\"\",\"kind\":null,\"name\":\"message\"},{\"default\":null,\"kind\":null,\"name\":\"notification_type\"},{\"default\":false,\"kind\":null,\"name\":\"_destroyed\"}]},{\"extends\":null,\"module\":null,\"name\":\"TemplateActions1\",\"overrides\":[],\"properties\":[{\"default\":0,\"kind\":null,\"name\":\"open_modal\"},{\"default\":0,\"kind\":null,\"name\":\"close_modal\"}]},{\"extends\":null,\"module\":null,\"name\":\"MaterialTemplateActions1\",\"overrides\":[],\"properties\":[{\"default\":0,\"kind\":null,\"name\":\"open_modal\"},{\"default\":0,\"kind\":null,\"name\":\"close_modal\"}]}],\"roots\":{\"references\":[{\"attributes\":{\"children\":[{\"id\":\"17349\"},{\"id\":\"17355\"}],\"margin\":[0,0,0,0],\"name\":\"Column30288\",\"sizing_mode\":\"stretch_width\"},\"id\":\"17348\",\"type\":\"Column\"},{\"attributes\":{\"active\":0,\"button_type\":\"warning\",\"labels\":[\"count\",\"size\"],\"margin\":[5,10,5,10],\"sizing_mode\":\"stretch_width\"},\"id\":\"17353\",\"type\":\"RadioButtonGroup\"},{\"attributes\":{\"children\":[{\"id\":\"17348\"}],\"margin\":[0,0,0,0],\"name\":\"Row30289\",\"sizing_mode\":\"stretch_width\"},\"id\":\"17347\",\"type\":\"Row\"},{\"attributes\":{\"margin\":[5,5,5,5],\"name\":\"DataFrame30284\",\"sizing_mode\":\"stretch_width\",\"text\":\"&lt;table border=&quot;0&quot; class=&quot;dataframe panel-df&quot;&gt;\\n  &lt;thead&gt;\\n    &lt;tr style=&quot;text-align: right;&quot;&gt;\\n      &lt;th&gt;&lt;/th&gt;\\n      &lt;th&gt;name&lt;/th&gt;\\n      &lt;th&gt;open_date&lt;/th&gt;\\n      &lt;th&gt;count&lt;/th&gt;\\n    &lt;/tr&gt;\\n  &lt;/thead&gt;\\n  &lt;tbody&gt;\\n    &lt;tr&gt;\\n      &lt;th&gt;0&lt;/th&gt;\\n      &lt;td&gt;A&lt;/td&gt;\\n      &lt;td&gt;2021-05-11&lt;/td&gt;\\n      &lt;td&gt;44.0&lt;/td&gt;\\n    &lt;/tr&gt;\\n    &lt;tr&gt;\\n      &lt;th&gt;1&lt;/th&gt;\\n      &lt;td&gt;A&lt;/td&gt;\\n      &lt;td&gt;2021-07-01&lt;/td&gt;\\n      &lt;td&gt;27.0&lt;/td&gt;\\n    &lt;/tr&gt;\\n    &lt;tr&gt;\\n      &lt;th&gt;2&lt;/th&gt;\\n      &lt;td&gt;C&lt;/td&gt;\\n      &lt;td&gt;2021-07-03&lt;/td&gt;\\n      &lt;td&gt;22.0&lt;/td&gt;\\n    &lt;/tr&gt;\\n    &lt;tr&gt;\\n      &lt;th&gt;3&lt;/th&gt;\\n      &lt;td&gt;D&lt;/td&gt;\\n      &lt;td&gt;2021-07-03&lt;/td&gt;\\n      &lt;td&gt;32.0&lt;/td&gt;\\n    &lt;/tr&gt;\\n    &lt;tr&gt;\\n      &lt;th&gt;4&lt;/th&gt;\\n      &lt;td&gt;A&lt;/td&gt;\\n      &lt;td&gt;2021-08-05&lt;/td&gt;\\n      &lt;td&gt;17.0&lt;/td&gt;\\n    &lt;/tr&gt;\\n    &lt;tr&gt;\\n      &lt;th&gt;5&lt;/th&gt;\\n      &lt;td&gt;B&lt;/td&gt;\\n      &lt;td&gt;2021-09-11&lt;/td&gt;\\n      &lt;td&gt;34.0&lt;/td&gt;\\n    &lt;/tr&gt;\\n    &lt;tr&gt;\\n      &lt;th&gt;6&lt;/th&gt;\\n      &lt;td&gt;C&lt;/td&gt;\\n      &lt;td&gt;2021-10-11&lt;/td&gt;\\n      &lt;td&gt;52.0&lt;/td&gt;\\n    &lt;/tr&gt;\\n  &lt;/tbody&gt;\\n&lt;/table&gt;\"},\"id\":\"17356\",\"type\":\"panel.models.markup.HTML\"},{\"attributes\":{\"children\":[{\"id\":\"17356\"}],\"margin\":[0,0,0,0],\"name\":\"Row30264\",\"sizing_mode\":\"stretch_width\"},\"id\":\"17355\",\"type\":\"Row\"},{\"attributes\":{\"client_comm_id\":\"8ff6bb75a3694a45b4815cf03aa23251\",\"comm_id\":\"6af651b23e764f7f94a09b7c089f9497\",\"plot_id\":\"17347\"},\"id\":\"17357\",\"type\":\"panel.models.comm_manager.CommManager\"},{\"attributes\":{\"margin\":[5,5,5,5],\"name\":\"HSpacer30286\",\"sizing_mode\":\"stretch_width\"},\"id\":\"17354\",\"type\":\"Spacer\"},{\"attributes\":{\"children\":[{\"id\":\"17351\"},{\"id\":\"17352\"},{\"id\":\"17353\"}],\"margin\":[0,0,0,0],\"name\":\"Column30259\",\"sizing_mode\":\"stretch_width\"},\"id\":\"17350\",\"type\":\"Column\"},{\"attributes\":{\"children\":[{\"id\":\"17350\"},{\"id\":\"17354\"}],\"margin\":[0,0,0,0],\"name\":\"Row30287\",\"sizing_mode\":\"stretch_width\"},\"id\":\"17349\",\"type\":\"Row\"},{\"attributes\":{\"end\":2022,\"margin\":[5,10,5,10],\"sizing_mode\":\"stretch_width\",\"start\":2021,\"title\":\"Year\",\"value\":2021},\"id\":\"17351\",\"type\":\"Slider\"},{\"attributes\":{\"active\":[0,1,2,3,4,5,6,7,8,9,10,11],\"button_type\":\"success\",\"labels\":[\"1\",\"2\",\"3\",\"4\",\"5\",\"6\",\"7\",\"8\",\"9\",\"10\",\"11\",\"12\"],\"margin\":[5,10,5,10],\"sizing_mode\":\"stretch_width\"},\"id\":\"17352\",\"type\":\"CheckboxButtonGroup\"}],\"root_ids\":[\"17347\",\"17357\"]},\"title\":\"Bokeh Application\",\"version\":\"2.4.3\"}};\n",
       "    var render_items = [{\"docid\":\"c32d9903-377c-4c5c-a85b-62fb7967eb1f\",\"root_ids\":[\"17347\"],\"roots\":{\"17347\":\"04e5e69f-2cf1-4ad7-9143-686d7e58e1b4\"}}];\n",
       "    root.Bokeh.embed.embed_items_notebook(docs_json, render_items);\n",
       "  }\n",
       "  if (root.Bokeh !== undefined && root.Bokeh.Panel !== undefined) {\n",
       "    embed_document(root);\n",
       "  } else {\n",
       "    var attempts = 0;\n",
       "    var timer = setInterval(function(root) {\n",
       "      if (root.Bokeh !== undefined && root.Bokeh.Panel !== undefined) {\n",
       "        clearInterval(timer);\n",
       "        embed_document(root);\n",
       "      } else if (document.readyState == \"complete\") {\n",
       "        attempts++;\n",
       "        if (attempts > 200) {\n",
       "          clearInterval(timer);\n",
       "          console.log(\"Bokeh: ERROR: Unable to run BokehJS code because BokehJS library is missing\");\n",
       "        }\n",
       "      }\n",
       "    }, 25, root)\n",
       "  }\n",
       "})(window);</script>"
      ],
      "text/plain": [
       "<hvplot.interactive.Interactive at 0x13a977d00>"
      ]
     },
     "execution_count": 208,
     "metadata": {
      "application/vnd.holoviews_exec.v0+json": {
       "id": "17347"
      }
     },
     "output_type": "execute_result"
    }
   ],
   "source": [
    "ipipeline = (\n",
    "    idf[\n",
    "        (idf.year == years_slider) & \n",
    "        (idf.month.isin(months))\n",
    "    ]\n",
    "    .groupby(['name', 'open_date'])[yaxis].mean()\n",
    "    .to_frame()\n",
    "    .reset_index()\n",
    "    .sort_values(by='open_date')  \n",
    "    .reset_index(drop=True)\n",
    ")\n",
    "ipipeline\n"
   ]
  },
  {
   "cell_type": "code",
   "execution_count": 209,
   "metadata": {},
   "outputs": [
    {
     "data": {
      "text/plain": [
       "'notebook'"
      ]
     },
     "execution_count": 209,
     "metadata": {},
     "output_type": "execute_result"
    }
   ],
   "source": [
    "def environment():\n",
    "    try:\n",
    "        get_ipython()\n",
    "        return \"notebook\"\n",
    "    except:\n",
    "        return \"server\"\n",
    "environment()"
   ]
  },
  {
   "cell_type": "code",
   "execution_count": 210,
   "metadata": {},
   "outputs": [
    {
     "data": {},
     "metadata": {},
     "output_type": "display_data"
    },
    {
     "data": {
      "application/vnd.holoviews_exec.v0+json": "",
      "text/html": [
       "<div id='17358'>\n",
       "  <div class=\"bk-root\" id=\"6362a2dd-7049-4446-8976-c1c568afb914\" data-root-id=\"17358\"></div>\n",
       "</div>\n",
       "<script type=\"application/javascript\">(function(root) {\n",
       "  function embed_document(root) {\n",
       "    var docs_json = {\"f746c912-b230-40e9-9999-98b684081e02\":{\"defs\":[{\"extends\":null,\"module\":null,\"name\":\"ReactiveHTML1\",\"overrides\":[],\"properties\":[]},{\"extends\":null,\"module\":null,\"name\":\"FlexBox1\",\"overrides\":[],\"properties\":[{\"default\":\"flex-start\",\"kind\":null,\"name\":\"align_content\"},{\"default\":\"flex-start\",\"kind\":null,\"name\":\"align_items\"},{\"default\":\"row\",\"kind\":null,\"name\":\"flex_direction\"},{\"default\":\"wrap\",\"kind\":null,\"name\":\"flex_wrap\"},{\"default\":\"flex-start\",\"kind\":null,\"name\":\"justify_content\"}]},{\"extends\":null,\"module\":null,\"name\":\"GridStack1\",\"overrides\":[],\"properties\":[{\"default\":\"warn\",\"kind\":null,\"name\":\"mode\"},{\"default\":null,\"kind\":null,\"name\":\"ncols\"},{\"default\":null,\"kind\":null,\"name\":\"nrows\"},{\"default\":true,\"kind\":null,\"name\":\"allow_resize\"},{\"default\":true,\"kind\":null,\"name\":\"allow_drag\"},{\"default\":[],\"kind\":null,\"name\":\"state\"}]},{\"extends\":null,\"module\":null,\"name\":\"click1\",\"overrides\":[],\"properties\":[{\"default\":\"\",\"kind\":null,\"name\":\"terminal_output\"},{\"default\":\"\",\"kind\":null,\"name\":\"debug_name\"},{\"default\":0,\"kind\":null,\"name\":\"clears\"}]},{\"extends\":null,\"module\":null,\"name\":\"NotificationAreaBase1\",\"overrides\":[],\"properties\":[{\"default\":\"bottom-right\",\"kind\":null,\"name\":\"position\"},{\"default\":0,\"kind\":null,\"name\":\"_clear\"}]},{\"extends\":null,\"module\":null,\"name\":\"NotificationArea1\",\"overrides\":[],\"properties\":[{\"default\":[],\"kind\":null,\"name\":\"notifications\"},{\"default\":\"bottom-right\",\"kind\":null,\"name\":\"position\"},{\"default\":0,\"kind\":null,\"name\":\"_clear\"},{\"default\":[{\"background\":\"#ffc107\",\"icon\":{\"className\":\"fas fa-exclamation-triangle\",\"color\":\"white\",\"tagName\":\"i\"},\"type\":\"warning\"},{\"background\":\"#007bff\",\"icon\":{\"className\":\"fas fa-info-circle\",\"color\":\"white\",\"tagName\":\"i\"},\"type\":\"info\"}],\"kind\":null,\"name\":\"types\"}]},{\"extends\":null,\"module\":null,\"name\":\"Notification\",\"overrides\":[],\"properties\":[{\"default\":null,\"kind\":null,\"name\":\"background\"},{\"default\":3000,\"kind\":null,\"name\":\"duration\"},{\"default\":null,\"kind\":null,\"name\":\"icon\"},{\"default\":\"\",\"kind\":null,\"name\":\"message\"},{\"default\":null,\"kind\":null,\"name\":\"notification_type\"},{\"default\":false,\"kind\":null,\"name\":\"_destroyed\"}]},{\"extends\":null,\"module\":null,\"name\":\"TemplateActions1\",\"overrides\":[],\"properties\":[{\"default\":0,\"kind\":null,\"name\":\"open_modal\"},{\"default\":0,\"kind\":null,\"name\":\"close_modal\"}]},{\"extends\":null,\"module\":null,\"name\":\"MaterialTemplateActions1\",\"overrides\":[],\"properties\":[{\"default\":0,\"kind\":null,\"name\":\"open_modal\"},{\"default\":0,\"kind\":null,\"name\":\"close_modal\"}]}],\"roots\":{\"references\":[{\"attributes\":{\"background\":\"#88d8b0\",\"height\":50,\"margin\":[5,5,5,5],\"name\":\"HSpacer30294\",\"sizing_mode\":\"stretch_width\"},\"id\":\"17361\",\"type\":\"Spacer\"},{\"attributes\":{\"background\":\"#ffcc5c\",\"height\":50,\"margin\":[5,5,5,5],\"name\":\"HSpacer30293\",\"sizing_mode\":\"stretch_width\"},\"id\":\"17360\",\"type\":\"Spacer\"},{\"attributes\":{\"background\":\"#58d8b0\",\"height\":50,\"margin\":[5,5,5,5],\"name\":\"HSpacer30295\",\"sizing_mode\":\"stretch_width\"},\"id\":\"17362\",\"type\":\"Spacer\"},{\"attributes\":{\"background\":\"#ff6f69\",\"height\":50,\"margin\":[5,5,5,5],\"name\":\"HSpacer30292\",\"sizing_mode\":\"stretch_width\"},\"id\":\"17359\",\"type\":\"Spacer\"},{\"attributes\":{\"children\":[{\"id\":\"17359\"},{\"id\":\"17360\"},{\"id\":\"17361\"},{\"id\":\"17362\"}],\"margin\":[0,0,0,0],\"name\":\"Row30296\",\"sizing_mode\":\"stretch_width\"},\"id\":\"17358\",\"type\":\"Row\"},{\"attributes\":{\"client_comm_id\":\"3d2dc5b905cb4159be0be27bafbca490\",\"comm_id\":\"00d83084296849dc948a4ad7b4d91426\",\"plot_id\":\"17358\"},\"id\":\"17363\",\"type\":\"panel.models.comm_manager.CommManager\"}],\"root_ids\":[\"17358\",\"17363\"]},\"title\":\"Bokeh Application\",\"version\":\"2.4.3\"}};\n",
       "    var render_items = [{\"docid\":\"f746c912-b230-40e9-9999-98b684081e02\",\"root_ids\":[\"17358\"],\"roots\":{\"17358\":\"6362a2dd-7049-4446-8976-c1c568afb914\"}}];\n",
       "    root.Bokeh.embed.embed_items_notebook(docs_json, render_items);\n",
       "  }\n",
       "  if (root.Bokeh !== undefined && root.Bokeh.Panel !== undefined) {\n",
       "    embed_document(root);\n",
       "  } else {\n",
       "    var attempts = 0;\n",
       "    var timer = setInterval(function(root) {\n",
       "      if (root.Bokeh !== undefined && root.Bokeh.Panel !== undefined) {\n",
       "        clearInterval(timer);\n",
       "        embed_document(root);\n",
       "      } else if (document.readyState == \"complete\") {\n",
       "        attempts++;\n",
       "        if (attempts > 200) {\n",
       "          clearInterval(timer);\n",
       "          console.log(\"Bokeh: ERROR: Unable to run BokehJS code because BokehJS library is missing\");\n",
       "        }\n",
       "      }\n",
       "    }, 25, root)\n",
       "  }\n",
       "})(window);</script>"
      ],
      "text/plain": [
       "Row(sizing_mode='stretch_width')\n",
       "    [0] HSpacer(background='#ff6f69', height=50)\n",
       "    [1] HSpacer(background='#ffcc5c', height=50)\n",
       "    [2] HSpacer(background='#88d8b0', height=50)\n",
       "    [3] HSpacer(background='#58d8b0', height=50)"
      ]
     },
     "execution_count": 210,
     "metadata": {
      "application/vnd.holoviews_exec.v0+json": {
       "id": "17358"
      }
     },
     "output_type": "execute_result"
    }
   ],
   "source": [
    "PALETTE = [\"#ff6f69\", \"#ffcc5c\", \"#88d8b0\",\"#58d8b0\" ]\n",
    "pn.Row(\n",
    "    pn.layout.HSpacer(height=50, background=PALETTE[0]),\n",
    "    pn.layout.HSpacer(height=50, background=PALETTE[1]),\n",
    "    pn.layout.HSpacer(height=50, background=PALETTE[2]),\n",
    "    pn.layout.HSpacer(height=50, background=PALETTE[3]),\n",
    ")"
   ]
  },
  {
   "cell_type": "code",
   "execution_count": 211,
   "metadata": {},
   "outputs": [],
   "source": [
    "if environment()==\"server\":\n",
    "   theme=\"fast\"\n",
    "else:\n",
    "   theme=\"simple\""
   ]
  },
  {
   "cell_type": "code",
   "execution_count": 212,
   "metadata": {},
   "outputs": [
    {
     "data": {},
     "metadata": {},
     "output_type": "display_data"
    },
    {
     "data": {
      "application/vnd.holoviews_exec.v0+json": "",
      "text/html": [
       "<div id='17364'>\n",
       "  <div class=\"bk-root\" id=\"74bda928-d2f9-49cb-8716-d051ca1e69bc\" data-root-id=\"17364\"></div>\n",
       "</div>\n",
       "<script type=\"application/javascript\">(function(root) {\n",
       "  function embed_document(root) {\n",
       "    var docs_json = {\"e0439a3f-e8f3-45e4-99a8-5d227beb087d\":{\"defs\":[{\"extends\":null,\"module\":null,\"name\":\"ReactiveHTML1\",\"overrides\":[],\"properties\":[]},{\"extends\":null,\"module\":null,\"name\":\"FlexBox1\",\"overrides\":[],\"properties\":[{\"default\":\"flex-start\",\"kind\":null,\"name\":\"align_content\"},{\"default\":\"flex-start\",\"kind\":null,\"name\":\"align_items\"},{\"default\":\"row\",\"kind\":null,\"name\":\"flex_direction\"},{\"default\":\"wrap\",\"kind\":null,\"name\":\"flex_wrap\"},{\"default\":\"flex-start\",\"kind\":null,\"name\":\"justify_content\"}]},{\"extends\":null,\"module\":null,\"name\":\"GridStack1\",\"overrides\":[],\"properties\":[{\"default\":\"warn\",\"kind\":null,\"name\":\"mode\"},{\"default\":null,\"kind\":null,\"name\":\"ncols\"},{\"default\":null,\"kind\":null,\"name\":\"nrows\"},{\"default\":true,\"kind\":null,\"name\":\"allow_resize\"},{\"default\":true,\"kind\":null,\"name\":\"allow_drag\"},{\"default\":[],\"kind\":null,\"name\":\"state\"}]},{\"extends\":null,\"module\":null,\"name\":\"click1\",\"overrides\":[],\"properties\":[{\"default\":\"\",\"kind\":null,\"name\":\"terminal_output\"},{\"default\":\"\",\"kind\":null,\"name\":\"debug_name\"},{\"default\":0,\"kind\":null,\"name\":\"clears\"}]},{\"extends\":null,\"module\":null,\"name\":\"NotificationAreaBase1\",\"overrides\":[],\"properties\":[{\"default\":\"bottom-right\",\"kind\":null,\"name\":\"position\"},{\"default\":0,\"kind\":null,\"name\":\"_clear\"}]},{\"extends\":null,\"module\":null,\"name\":\"NotificationArea1\",\"overrides\":[],\"properties\":[{\"default\":[],\"kind\":null,\"name\":\"notifications\"},{\"default\":\"bottom-right\",\"kind\":null,\"name\":\"position\"},{\"default\":0,\"kind\":null,\"name\":\"_clear\"},{\"default\":[{\"background\":\"#ffc107\",\"icon\":{\"className\":\"fas fa-exclamation-triangle\",\"color\":\"white\",\"tagName\":\"i\"},\"type\":\"warning\"},{\"background\":\"#007bff\",\"icon\":{\"className\":\"fas fa-info-circle\",\"color\":\"white\",\"tagName\":\"i\"},\"type\":\"info\"}],\"kind\":null,\"name\":\"types\"}]},{\"extends\":null,\"module\":null,\"name\":\"Notification\",\"overrides\":[],\"properties\":[{\"default\":null,\"kind\":null,\"name\":\"background\"},{\"default\":3000,\"kind\":null,\"name\":\"duration\"},{\"default\":null,\"kind\":null,\"name\":\"icon\"},{\"default\":\"\",\"kind\":null,\"name\":\"message\"},{\"default\":null,\"kind\":null,\"name\":\"notification_type\"},{\"default\":false,\"kind\":null,\"name\":\"_destroyed\"}]},{\"extends\":null,\"module\":null,\"name\":\"TemplateActions1\",\"overrides\":[],\"properties\":[{\"default\":0,\"kind\":null,\"name\":\"open_modal\"},{\"default\":0,\"kind\":null,\"name\":\"close_modal\"}]},{\"extends\":null,\"module\":null,\"name\":\"MaterialTemplateActions1\",\"overrides\":[],\"properties\":[{\"default\":0,\"kind\":null,\"name\":\"open_modal\"},{\"default\":0,\"kind\":null,\"name\":\"close_modal\"}]}],\"roots\":{\"references\":[{\"attributes\":{\"active\":[0,1,2,3,4,5,6,7,8,9,10,11],\"button_type\":\"success\",\"labels\":[\"1\",\"2\",\"3\",\"4\",\"5\",\"6\",\"7\",\"8\",\"9\",\"10\",\"11\",\"12\"],\"margin\":[5,10,5,10],\"sizing_mode\":\"stretch_width\"},\"id\":\"17369\",\"type\":\"CheckboxButtonGroup\"},{\"attributes\":{\"children\":[{\"id\":\"17365\"}],\"margin\":[0,0,0,0],\"name\":\"Row30386\",\"sizing_mode\":\"stretch_width\"},\"id\":\"17364\",\"type\":\"Row\"},{\"attributes\":{\"children\":[{\"id\":\"17368\"},{\"id\":\"17369\"},{\"id\":\"17370\"}],\"margin\":[0,0,0,0],\"name\":\"Column30357\",\"sizing_mode\":\"stretch_width\"},\"id\":\"17367\",\"type\":\"Column\"},{\"attributes\":{},\"id\":\"17377\",\"type\":\"CellEditor\"},{\"attributes\":{\"indices\":[]},\"id\":\"17374\",\"type\":\"Selection\"},{\"attributes\":{},\"id\":\"17398\",\"type\":\"UnionRenderers\"},{\"attributes\":{\"editor\":{\"id\":\"17377\"},\"field\":\"index\",\"formatter\":{\"id\":\"17375\"},\"title\":\"index\",\"width\":0},\"id\":\"17378\",\"type\":\"TableColumn\"},{\"attributes\":{\"format\":\"0,0.0[00000]\",\"text_align\":\"right\"},\"id\":\"17391\",\"type\":\"NumberFormatter\"},{\"attributes\":{\"end\":2022,\"margin\":[5,10,5,10],\"sizing_mode\":\"stretch_width\",\"start\":2021,\"title\":\"Year\",\"value\":2021},\"id\":\"17368\",\"type\":\"Slider\"},{\"attributes\":{\"text_align\":\"left\"},\"id\":\"17375\",\"type\":\"NumberFormatter\"},{\"attributes\":{\"editor\":{\"id\":\"17387\"},\"field\":\"open_date\",\"formatter\":{\"id\":\"17386\"},\"title\":\"open_date\",\"width\":0},\"id\":\"17388\",\"type\":\"TableColumn\"},{\"attributes\":{\"columns\":[{\"id\":\"17378\"},{\"id\":\"17383\"},{\"id\":\"17388\"},{\"id\":\"17393\"}],\"configuration\":{\"columns\":[{\"field\":\"index\"},{\"field\":\"name\"},{\"field\":\"open_date\"},{\"field\":\"count\"}],\"dataTree\":false,\"selectable\":true},\"indexes\":[\"index\"],\"layout\":\"fit_data_table\",\"margin\":[5,10,5,10],\"max_page\":1,\"name\":\"\",\"page\":1,\"page_size\":10,\"pagination\":\"remote\",\"select_mode\":true,\"selectable_rows\":null,\"sizing_mode\":\"stretch_width\",\"source\":{\"id\":\"17373\"},\"styles\":{\"data\":{},\"id\":\"e9e60d26a8fb4e72ae589d440008653f\"},\"subscribed_events\":[\"table-edit\",\"cell-click\"]},\"id\":\"17396\",\"type\":\"panel.models.tabulator.DataTabulator\"},{\"attributes\":{\"format\":\"%Y-%m-%d\",\"text_align\":\"right\"},\"id\":\"17386\",\"type\":\"DateFormatter\"},{\"attributes\":{\"client_comm_id\":\"cdb4e67621c04ca795c326486636b03f\",\"comm_id\":\"f349231c123144d798a46de416f39c30\",\"plot_id\":\"17364\"},\"id\":\"17404\",\"type\":\"panel.models.comm_manager.CommManager\"},{\"attributes\":{},\"id\":\"17381\",\"type\":\"StringFormatter\"},{\"attributes\":{\"active\":0,\"button_type\":\"warning\",\"labels\":[\"count\",\"size\"],\"margin\":[5,10,5,10],\"sizing_mode\":\"stretch_width\"},\"id\":\"17370\",\"type\":\"RadioButtonGroup\"},{\"attributes\":{\"children\":[{\"id\":\"17367\"},{\"id\":\"17371\"}],\"margin\":[0,0,0,0],\"name\":\"Row30384\",\"sizing_mode\":\"stretch_width\"},\"id\":\"17366\",\"type\":\"Row\"},{\"attributes\":{\"children\":[{\"id\":\"17396\"}],\"margin\":[0,0,0,0],\"name\":\"Row30362\",\"sizing_mode\":\"stretch_width\"},\"id\":\"17372\",\"type\":\"Row\"},{\"attributes\":{\"editor\":{\"id\":\"17382\"},\"field\":\"name\",\"formatter\":{\"id\":\"17381\"},\"title\":\"name\",\"width\":0},\"id\":\"17383\",\"type\":\"TableColumn\"},{\"attributes\":{},\"id\":\"17382\",\"type\":\"StringEditor\"},{\"attributes\":{\"data\":{\"count\":{\"__ndarray__\":\"AAAAAAAARkAAAAAAAAA7QAAAAAAAADZAAAAAAAAAQEAAAAAAAAAxQAAAAAAAAEFAAAAAAAAASkA=\",\"dtype\":\"float64\",\"order\":\"little\",\"shape\":[7]},\"index\":[0,1,2,3,4,5,6],\"name\":[\"A\",\"A\",\"C\",\"D\",\"A\",\"B\",\"C\"],\"open_date\":{\"__ndarray__\":\"AACAkouVd0IAAMDX9aV3QgAAQKOapndCAABAo5qmd0IAAADBObF3QgAAwHUivXdCAABAYsrGd0I=\",\"dtype\":\"float64\",\"order\":\"little\",\"shape\":[7]}},\"selected\":{\"id\":\"17374\"},\"selection_policy\":{\"id\":\"17398\"}},\"id\":\"17373\",\"type\":\"ColumnDataSource\"},{\"attributes\":{\"children\":[{\"id\":\"17366\"},{\"id\":\"17372\"}],\"margin\":[0,0,0,0],\"name\":\"Column30385\",\"sizing_mode\":\"stretch_width\"},\"id\":\"17365\",\"type\":\"Column\"},{\"attributes\":{\"margin\":[5,5,5,5],\"name\":\"HSpacer30383\",\"sizing_mode\":\"stretch_width\"},\"id\":\"17371\",\"type\":\"Spacer\"},{\"attributes\":{},\"id\":\"17387\",\"type\":\"DateEditor\"},{\"attributes\":{\"editor\":{\"id\":\"17392\"},\"field\":\"count\",\"formatter\":{\"id\":\"17391\"},\"title\":\"count\",\"width\":0},\"id\":\"17393\",\"type\":\"TableColumn\"},{\"attributes\":{},\"id\":\"17392\",\"type\":\"NumberEditor\"}],\"root_ids\":[\"17364\",\"17404\"]},\"title\":\"Bokeh Application\",\"version\":\"2.4.3\"}};\n",
       "    var render_items = [{\"docid\":\"e0439a3f-e8f3-45e4-99a8-5d227beb087d\",\"root_ids\":[\"17364\"],\"roots\":{\"17364\":\"74bda928-d2f9-49cb-8716-d051ca1e69bc\"}}];\n",
       "    root.Bokeh.embed.embed_items_notebook(docs_json, render_items);\n",
       "  }\n",
       "  if (root.Bokeh !== undefined && root.Bokeh.Panel !== undefined) {\n",
       "    embed_document(root);\n",
       "  } else {\n",
       "    var attempts = 0;\n",
       "    var timer = setInterval(function(root) {\n",
       "      if (root.Bokeh !== undefined && root.Bokeh.Panel !== undefined) {\n",
       "        clearInterval(timer);\n",
       "        embed_document(root);\n",
       "      } else if (document.readyState == \"complete\") {\n",
       "        attempts++;\n",
       "        if (attempts > 200) {\n",
       "          clearInterval(timer);\n",
       "          console.log(\"Bokeh: ERROR: Unable to run BokehJS code because BokehJS library is missing\");\n",
       "        }\n",
       "      }\n",
       "    }, 25, root)\n",
       "  }\n",
       "})(window);</script>"
      ],
      "text/plain": [
       "<hvplot.interactive.Interactive at 0x13ab8b730>"
      ]
     },
     "execution_count": 212,
     "metadata": {
      "application/vnd.holoviews_exec.v0+json": {
       "id": "17364"
      }
     },
     "output_type": "execute_result"
    }
   ],
   "source": [
    "itable = ipipeline.pipe(pn.widgets.Tabulator, pagination='remote', page_size=10, theme=theme)\n",
    "itable"
   ]
  },
  {
   "cell_type": "code",
   "execution_count": 213,
   "metadata": {},
   "outputs": [
    {
     "data": {},
     "metadata": {},
     "output_type": "display_data"
    },
    {
     "data": {},
     "metadata": {},
     "output_type": "display_data"
    },
    {
     "data": {
      "application/vnd.holoviews_exec.v0+json": "",
      "text/html": [
       "<div id='17415'>\n",
       "  <div class=\"bk-root\" id=\"9009f60a-8b07-4eaf-8b91-37d3ddb28283\" data-root-id=\"17415\"></div>\n",
       "</div>\n",
       "<script type=\"application/javascript\">(function(root) {\n",
       "  function embed_document(root) {\n",
       "    var docs_json = {\"70155a70-3a2f-41f8-bf78-c305ee2690a7\":{\"defs\":[{\"extends\":null,\"module\":null,\"name\":\"ReactiveHTML1\",\"overrides\":[],\"properties\":[]},{\"extends\":null,\"module\":null,\"name\":\"FlexBox1\",\"overrides\":[],\"properties\":[{\"default\":\"flex-start\",\"kind\":null,\"name\":\"align_content\"},{\"default\":\"flex-start\",\"kind\":null,\"name\":\"align_items\"},{\"default\":\"row\",\"kind\":null,\"name\":\"flex_direction\"},{\"default\":\"wrap\",\"kind\":null,\"name\":\"flex_wrap\"},{\"default\":\"flex-start\",\"kind\":null,\"name\":\"justify_content\"}]},{\"extends\":null,\"module\":null,\"name\":\"GridStack1\",\"overrides\":[],\"properties\":[{\"default\":\"warn\",\"kind\":null,\"name\":\"mode\"},{\"default\":null,\"kind\":null,\"name\":\"ncols\"},{\"default\":null,\"kind\":null,\"name\":\"nrows\"},{\"default\":true,\"kind\":null,\"name\":\"allow_resize\"},{\"default\":true,\"kind\":null,\"name\":\"allow_drag\"},{\"default\":[],\"kind\":null,\"name\":\"state\"}]},{\"extends\":null,\"module\":null,\"name\":\"click1\",\"overrides\":[],\"properties\":[{\"default\":\"\",\"kind\":null,\"name\":\"terminal_output\"},{\"default\":\"\",\"kind\":null,\"name\":\"debug_name\"},{\"default\":0,\"kind\":null,\"name\":\"clears\"}]},{\"extends\":null,\"module\":null,\"name\":\"NotificationAreaBase1\",\"overrides\":[],\"properties\":[{\"default\":\"bottom-right\",\"kind\":null,\"name\":\"position\"},{\"default\":0,\"kind\":null,\"name\":\"_clear\"}]},{\"extends\":null,\"module\":null,\"name\":\"NotificationArea1\",\"overrides\":[],\"properties\":[{\"default\":[],\"kind\":null,\"name\":\"notifications\"},{\"default\":\"bottom-right\",\"kind\":null,\"name\":\"position\"},{\"default\":0,\"kind\":null,\"name\":\"_clear\"},{\"default\":[{\"background\":\"#ffc107\",\"icon\":{\"className\":\"fas fa-exclamation-triangle\",\"color\":\"white\",\"tagName\":\"i\"},\"type\":\"warning\"},{\"background\":\"#007bff\",\"icon\":{\"className\":\"fas fa-info-circle\",\"color\":\"white\",\"tagName\":\"i\"},\"type\":\"info\"}],\"kind\":null,\"name\":\"types\"}]},{\"extends\":null,\"module\":null,\"name\":\"Notification\",\"overrides\":[],\"properties\":[{\"default\":null,\"kind\":null,\"name\":\"background\"},{\"default\":3000,\"kind\":null,\"name\":\"duration\"},{\"default\":null,\"kind\":null,\"name\":\"icon\"},{\"default\":\"\",\"kind\":null,\"name\":\"message\"},{\"default\":null,\"kind\":null,\"name\":\"notification_type\"},{\"default\":false,\"kind\":null,\"name\":\"_destroyed\"}]},{\"extends\":null,\"module\":null,\"name\":\"TemplateActions1\",\"overrides\":[],\"properties\":[{\"default\":0,\"kind\":null,\"name\":\"open_modal\"},{\"default\":0,\"kind\":null,\"name\":\"close_modal\"}]},{\"extends\":null,\"module\":null,\"name\":\"MaterialTemplateActions1\",\"overrides\":[],\"properties\":[{\"default\":0,\"kind\":null,\"name\":\"open_modal\"},{\"default\":0,\"kind\":null,\"name\":\"close_modal\"}]}],\"roots\":{\"references\":[{\"attributes\":{},\"id\":\"17466\",\"type\":\"Selection\"},{\"attributes\":{\"days\":[1,8,15,22]},\"id\":\"17488\",\"type\":\"DaysTicker\"},{\"attributes\":{\"line_alpha\":0.2,\"line_color\":\"#ff6f69\",\"line_width\":6,\"x\":{\"field\":\"open_date\"},\"y\":{\"field\":\"count\"}},\"id\":\"17470\",\"type\":\"Line\"},{\"attributes\":{\"coordinates\":null,\"data_source\":{\"id\":\"17532\"},\"glyph\":{\"id\":\"17535\"},\"group\":null,\"hover_glyph\":null,\"muted_glyph\":{\"id\":\"17537\"},\"nonselection_glyph\":{\"id\":\"17536\"},\"selection_glyph\":{\"id\":\"17567\"},\"view\":{\"id\":\"17539\"}},\"id\":\"17538\",\"type\":\"GlyphRenderer\"},{\"attributes\":{\"num_minor_ticks\":5,\"tickers\":[{\"id\":\"17483\"},{\"id\":\"17484\"},{\"id\":\"17485\"},{\"id\":\"17486\"},{\"id\":\"17487\"},{\"id\":\"17488\"},{\"id\":\"17489\"},{\"id\":\"17490\"},{\"id\":\"17491\"},{\"id\":\"17492\"},{\"id\":\"17493\"},{\"id\":\"17494\"}]},\"id\":\"17439\",\"type\":\"DatetimeTicker\"},{\"attributes\":{},\"id\":\"17494\",\"type\":\"YearsTicker\"},{\"attributes\":{\"days\":[1,15]},\"id\":\"17489\",\"type\":\"DaysTicker\"},{\"attributes\":{\"active\":0,\"button_type\":\"warning\",\"labels\":[\"count\",\"size\"],\"margin\":[5,10,5,10],\"sizing_mode\":\"stretch_width\"},\"id\":\"17421\",\"type\":\"RadioButtonGroup\"},{\"attributes\":{\"label\":{\"value\":\"B\"},\"renderers\":[{\"id\":\"17504\"}]},\"id\":\"17530\",\"type\":\"LegendItem\"},{\"attributes\":{\"coordinates\":null,\"data_source\":{\"id\":\"17465\"},\"glyph\":{\"id\":\"17468\"},\"group\":null,\"hover_glyph\":null,\"muted_glyph\":{\"id\":\"17470\"},\"nonselection_glyph\":{\"id\":\"17469\"},\"selection_glyph\":{\"id\":\"17497\"},\"view\":{\"id\":\"17472\"}},\"id\":\"17471\",\"type\":\"GlyphRenderer\"},{\"attributes\":{\"data\":{\"count\":{\"__ndarray__\":\"AAAAAAAAQEA=\",\"dtype\":\"float64\",\"order\":\"little\",\"shape\":[1]},\"name\":[\"D\"],\"open_date\":{\"__ndarray__\":\"AABAo5qmd0I=\",\"dtype\":\"float64\",\"order\":\"little\",\"shape\":[1]}},\"selected\":{\"id\":\"17569\"},\"selection_policy\":{\"id\":\"17589\"}},\"id\":\"17568\",\"type\":\"ColumnDataSource\"},{\"attributes\":{\"months\":[0,6]},\"id\":\"17493\",\"type\":\"MonthsTicker\"},{\"attributes\":{\"children\":[{\"id\":\"17417\"},{\"id\":\"17429\"}],\"margin\":[0,0,0,0],\"name\":\"Column30586\",\"sizing_mode\":\"stretch_width\"},\"id\":\"17416\",\"type\":\"Column\"},{\"attributes\":{},\"id\":\"17443\",\"type\":\"BasicTicker\"},{\"attributes\":{\"line_alpha\":0.1,\"line_color\":\"#ff6f69\",\"line_width\":6,\"x\":{\"field\":\"open_date\"},\"y\":{\"field\":\"count\"}},\"id\":\"17469\",\"type\":\"Line\"},{\"attributes\":{\"source\":{\"id\":\"17465\"}},\"id\":\"17472\",\"type\":\"CDSView\"},{\"attributes\":{},\"id\":\"17464\",\"type\":\"AllLabels\"},{\"attributes\":{\"base\":24,\"mantissas\":[1,2,4,6,8,12],\"max_interval\":43200000.0,\"min_interval\":3600000.0,\"num_minor_ticks\":0},\"id\":\"17485\",\"type\":\"AdaptiveTicker\"},{\"attributes\":{\"line_color\":\"#ff6f69\",\"line_width\":6,\"x\":{\"field\":\"open_date\"},\"y\":{\"field\":\"count\"}},\"id\":\"17497\",\"type\":\"Line\"},{\"attributes\":{\"days\":[1,4,7,10,13,16,19,22,25,28]},\"id\":\"17487\",\"type\":\"DaysTicker\"},{\"attributes\":{},\"id\":\"17447\",\"type\":\"PanTool\"},{\"attributes\":{\"base\":60,\"mantissas\":[1,2,5,10,15,20,30],\"max_interval\":1800000.0,\"min_interval\":1000.0,\"num_minor_ticks\":0},\"id\":\"17484\",\"type\":\"AdaptiveTicker\"},{\"attributes\":{\"line_color\":\"#58d8b0\",\"line_width\":6,\"x\":{\"field\":\"open_date\"},\"y\":{\"field\":\"count\"}},\"id\":\"17605\",\"type\":\"Line\"},{\"attributes\":{\"months\":[0,1,2,3,4,5,6,7,8,9,10,11]},\"id\":\"17490\",\"type\":\"MonthsTicker\"},{\"attributes\":{\"line_color\":\"#ffcc5c\",\"line_width\":6,\"x\":{\"field\":\"open_date\"},\"y\":{\"field\":\"count\"}},\"id\":\"17501\",\"type\":\"Line\"},{\"attributes\":{},\"id\":\"17461\",\"type\":\"AllLabels\"},{\"attributes\":{\"axis\":{\"id\":\"17442\"},\"coordinates\":null,\"dimension\":1,\"grid_line_color\":null,\"group\":null,\"ticker\":null},\"id\":\"17445\",\"type\":\"Grid\"},{\"attributes\":{\"coordinates\":null,\"data_source\":{\"id\":\"17498\"},\"glyph\":{\"id\":\"17501\"},\"group\":null,\"hover_glyph\":null,\"muted_glyph\":{\"id\":\"17503\"},\"nonselection_glyph\":{\"id\":\"17502\"},\"selection_glyph\":{\"id\":\"17531\"},\"view\":{\"id\":\"17505\"}},\"id\":\"17504\",\"type\":\"GlyphRenderer\"},{\"attributes\":{\"months\":[0,4,8]},\"id\":\"17492\",\"type\":\"MonthsTicker\"},{\"attributes\":{\"client_comm_id\":\"96fe54e04509450592d660b7f037d1ae\",\"comm_id\":\"3297674f40924a77a7897d7f5473de7b\",\"plot_id\":\"17415\"},\"id\":\"17718\",\"type\":\"panel.models.comm_manager.CommManager\"},{\"attributes\":{\"active\":[0,1,2,3,4,5,6,7,8,9,10,11],\"button_type\":\"success\",\"labels\":[\"1\",\"2\",\"3\",\"4\",\"5\",\"6\",\"7\",\"8\",\"9\",\"10\",\"11\",\"12\"],\"margin\":[5,10,5,10],\"sizing_mode\":\"stretch_width\"},\"id\":\"17420\",\"type\":\"CheckboxButtonGroup\"},{\"attributes\":{\"axis\":{\"id\":\"17438\"},\"coordinates\":null,\"grid_line_color\":null,\"group\":null,\"ticker\":null},\"id\":\"17441\",\"type\":\"Grid\"},{\"attributes\":{\"months\":[0,2,4,6,8,10]},\"id\":\"17491\",\"type\":\"MonthsTicker\"},{\"attributes\":{},\"id\":\"17436\",\"type\":\"LinearScale\"},{\"attributes\":{\"axis_label\":\"open_date\",\"coordinates\":null,\"formatter\":{\"id\":\"17460\"},\"group\":null,\"major_label_policy\":{\"id\":\"17461\"},\"ticker\":{\"id\":\"17439\"}},\"id\":\"17438\",\"type\":\"DatetimeAxis\"},{\"attributes\":{\"days\":[1,2,3,4,5,6,7,8,9,10,11,12,13,14,15,16,17,18,19,20,21,22,23,24,25,26,27,28,29,30,31]},\"id\":\"17486\",\"type\":\"DaysTicker\"},{\"attributes\":{},\"id\":\"17448\",\"type\":\"WheelZoomTool\"},{\"attributes\":{},\"id\":\"17569\",\"type\":\"Selection\"},{\"attributes\":{\"tools\":[{\"id\":\"17425\"},{\"id\":\"17446\"},{\"id\":\"17447\"},{\"id\":\"17448\"},{\"id\":\"17449\"},{\"id\":\"17450\"}]},\"id\":\"17452\",\"type\":\"Toolbar\"},{\"attributes\":{\"click_policy\":\"mute\",\"coordinates\":null,\"group\":null,\"items\":[{\"id\":\"17496\"},{\"id\":\"17530\"},{\"id\":\"17566\"},{\"id\":\"17604\"}],\"location\":[0,0],\"title\":\"name\"},\"id\":\"17495\",\"type\":\"Legend\"},{\"attributes\":{},\"id\":\"17533\",\"type\":\"Selection\"},{\"attributes\":{\"mantissas\":[1,2,5],\"max_interval\":500.0,\"num_minor_ticks\":0},\"id\":\"17483\",\"type\":\"AdaptiveTicker\"},{\"attributes\":{\"end\":1633910400000.0,\"reset_end\":1633910400000.0,\"reset_start\":1620691200000.0,\"start\":1620691200000.0,\"tags\":[[[\"open_date\",\"open_date\",null]]]},\"id\":\"17423\",\"type\":\"Range1d\"},{\"attributes\":{\"line_alpha\":0.1,\"line_color\":\"#88d8b0\",\"line_width\":6,\"x\":{\"field\":\"open_date\"},\"y\":{\"field\":\"count\"}},\"id\":\"17536\",\"type\":\"Line\"},{\"attributes\":{\"line_color\":\"#88d8b0\",\"line_width\":6,\"x\":{\"field\":\"open_date\"},\"y\":{\"field\":\"count\"}},\"id\":\"17535\",\"type\":\"Line\"},{\"attributes\":{},\"id\":\"17589\",\"type\":\"UnionRenderers\"},{\"attributes\":{\"line_color\":\"#58d8b0\",\"line_width\":6,\"x\":{\"field\":\"open_date\"},\"y\":{\"field\":\"count\"}},\"id\":\"17571\",\"type\":\"Line\"},{\"attributes\":{\"data\":{\"count\":{\"__ndarray__\":\"AAAAAAAANkAAAAAAAABKQA==\",\"dtype\":\"float64\",\"order\":\"little\",\"shape\":[2]},\"name\":[\"C\",\"C\"],\"open_date\":{\"__ndarray__\":\"AABAo5qmd0IAAEBiysZ3Qg==\",\"dtype\":\"float64\",\"order\":\"little\",\"shape\":[2]}},\"selected\":{\"id\":\"17533\"},\"selection_policy\":{\"id\":\"17551\"}},\"id\":\"17532\",\"type\":\"ColumnDataSource\"},{\"attributes\":{\"data\":{\"count\":{\"__ndarray__\":\"AAAAAAAARkAAAAAAAAA7QAAAAAAAADFA\",\"dtype\":\"float64\",\"order\":\"little\",\"shape\":[3]},\"name\":[\"A\",\"A\",\"A\"],\"open_date\":{\"__ndarray__\":\"AACAkouVd0IAAMDX9aV3QgAAAME5sXdC\",\"dtype\":\"float64\",\"order\":\"little\",\"shape\":[3]}},\"selected\":{\"id\":\"17466\"},\"selection_policy\":{\"id\":\"17480\"}},\"id\":\"17465\",\"type\":\"ColumnDataSource\"},{\"attributes\":{\"line_alpha\":0.1,\"line_color\":\"#58d8b0\",\"line_width\":6,\"x\":{\"field\":\"open_date\"},\"y\":{\"field\":\"count\"}},\"id\":\"17572\",\"type\":\"Line\"},{\"attributes\":{\"source\":{\"id\":\"17568\"}},\"id\":\"17575\",\"type\":\"CDSView\"},{\"attributes\":{\"line_color\":\"#88d8b0\",\"line_width\":6,\"x\":{\"field\":\"open_date\"},\"y\":{\"field\":\"count\"}},\"id\":\"17567\",\"type\":\"Line\"},{\"attributes\":{},\"id\":\"17446\",\"type\":\"SaveTool\"},{\"attributes\":{\"label\":{\"value\":\"C\"},\"renderers\":[{\"id\":\"17538\"}]},\"id\":\"17566\",\"type\":\"LegendItem\"},{\"attributes\":{},\"id\":\"17450\",\"type\":\"ResetTool\"},{\"attributes\":{\"overlay\":{\"id\":\"17451\"}},\"id\":\"17449\",\"type\":\"BoxZoomTool\"},{\"attributes\":{\"children\":[{\"id\":\"17419\"},{\"id\":\"17420\"},{\"id\":\"17421\"}],\"margin\":[0,0,0,0],\"name\":\"Column30575\",\"sizing_mode\":\"stretch_width\"},\"id\":\"17418\",\"type\":\"Column\"},{\"attributes\":{\"end\":2022,\"margin\":[5,10,5,10],\"sizing_mode\":\"stretch_width\",\"start\":2021,\"title\":\"Year\",\"value\":2021},\"id\":\"17419\",\"type\":\"Slider\"},{\"attributes\":{\"coordinates\":null,\"data_source\":{\"id\":\"17568\"},\"glyph\":{\"id\":\"17571\"},\"group\":null,\"hover_glyph\":null,\"muted_glyph\":{\"id\":\"17573\"},\"nonselection_glyph\":{\"id\":\"17572\"},\"selection_glyph\":{\"id\":\"17605\"},\"view\":{\"id\":\"17575\"}},\"id\":\"17574\",\"type\":\"GlyphRenderer\"},{\"attributes\":{\"margin\":[5,5,5,5],\"name\":\"HSpacer30579\",\"sizing_mode\":\"stretch_width\"},\"id\":\"17422\",\"type\":\"Spacer\"},{\"attributes\":{},\"id\":\"17434\",\"type\":\"LinearScale\"},{\"attributes\":{},\"id\":\"17463\",\"type\":\"BasicTickFormatter\"},{\"attributes\":{\"end\":55.5,\"reset_end\":55.5,\"reset_start\":13.5,\"start\":13.5,\"tags\":[[[\"count\",\"count\",null]]]},\"id\":\"17424\",\"type\":\"Range1d\"},{\"attributes\":{\"source\":{\"id\":\"17498\"}},\"id\":\"17505\",\"type\":\"CDSView\"},{\"attributes\":{\"line_alpha\":0.2,\"line_color\":\"#ffcc5c\",\"line_width\":6,\"x\":{\"field\":\"open_date\"},\"y\":{\"field\":\"count\"}},\"id\":\"17503\",\"type\":\"Line\"},{\"attributes\":{\"source\":{\"id\":\"17532\"}},\"id\":\"17539\",\"type\":\"CDSView\"},{\"attributes\":{\"line_color\":\"#ffcc5c\",\"line_width\":6,\"x\":{\"field\":\"open_date\"},\"y\":{\"field\":\"count\"}},\"id\":\"17531\",\"type\":\"Line\"},{\"attributes\":{\"data\":{\"count\":{\"__ndarray__\":\"AAAAAAAAQUA=\",\"dtype\":\"float64\",\"order\":\"little\",\"shape\":[1]},\"name\":[\"B\"],\"open_date\":{\"__ndarray__\":\"AADAdSK9d0I=\",\"dtype\":\"float64\",\"order\":\"little\",\"shape\":[1]}},\"selected\":{\"id\":\"17499\"},\"selection_policy\":{\"id\":\"17515\"}},\"id\":\"17498\",\"type\":\"ColumnDataSource\"},{\"attributes\":{\"children\":[{\"id\":\"17418\"},{\"id\":\"17422\"}],\"margin\":[0,0,0,0],\"name\":\"Row30580\",\"sizing_mode\":\"stretch_width\"},\"id\":\"17417\",\"type\":\"Row\"},{\"attributes\":{\"line_alpha\":0.1,\"line_color\":\"#ffcc5c\",\"line_width\":6,\"x\":{\"field\":\"open_date\"},\"y\":{\"field\":\"count\"}},\"id\":\"17502\",\"type\":\"Line\"},{\"attributes\":{},\"id\":\"17551\",\"type\":\"UnionRenderers\"},{\"attributes\":{\"label\":{\"value\":\"A\"},\"renderers\":[{\"id\":\"17471\"}]},\"id\":\"17496\",\"type\":\"LegendItem\"},{\"attributes\":{\"line_color\":\"#ff6f69\",\"line_width\":6,\"x\":{\"field\":\"open_date\"},\"y\":{\"field\":\"count\"}},\"id\":\"17468\",\"type\":\"Line\"},{\"attributes\":{\"line_alpha\":0.2,\"line_color\":\"#58d8b0\",\"line_width\":6,\"x\":{\"field\":\"open_date\"},\"y\":{\"field\":\"count\"}},\"id\":\"17573\",\"type\":\"Line\"},{\"attributes\":{},\"id\":\"17480\",\"type\":\"UnionRenderers\"},{\"attributes\":{\"children\":[{\"id\":\"17416\"}],\"margin\":[0,0,0,0],\"name\":\"Row30587\",\"sizing_mode\":\"stretch_width\"},\"id\":\"17415\",\"type\":\"Row\"},{\"attributes\":{\"coordinates\":null,\"group\":null,\"text_color\":\"black\",\"text_font_size\":\"12pt\"},\"id\":\"17430\",\"type\":\"Title\"},{\"attributes\":{\"axis_label\":\"count\",\"coordinates\":null,\"formatter\":{\"id\":\"17463\"},\"group\":null,\"major_label_policy\":{\"id\":\"17464\"},\"ticker\":{\"id\":\"17443\"}},\"id\":\"17442\",\"type\":\"LinearAxis\"},{\"attributes\":{},\"id\":\"17460\",\"type\":\"DatetimeTickFormatter\"},{\"attributes\":{\"line_alpha\":0.2,\"line_color\":\"#88d8b0\",\"line_width\":6,\"x\":{\"field\":\"open_date\"},\"y\":{\"field\":\"count\"}},\"id\":\"17537\",\"type\":\"Line\"},{\"attributes\":{\"callback\":null,\"formatters\":{\"@{open_date}\":\"datetime\"},\"renderers\":[{\"id\":\"17471\"},{\"id\":\"17504\"},{\"id\":\"17538\"},{\"id\":\"17574\"}],\"tags\":[\"hv_created\"],\"tooltips\":[[\"name\",\"@{name}\"],[\"open_date\",\"@{open_date}{%F %T}\"],[\"count\",\"@{count}\"]]},\"id\":\"17425\",\"type\":\"HoverTool\"},{\"attributes\":{\"label\":{\"value\":\"D\"},\"renderers\":[{\"id\":\"17574\"}]},\"id\":\"17604\",\"type\":\"LegendItem\"},{\"attributes\":{\"below\":[{\"id\":\"17438\"}],\"center\":[{\"id\":\"17441\"},{\"id\":\"17445\"}],\"height\":400,\"left\":[{\"id\":\"17442\"}],\"margin\":[5,5,5,5],\"min_border_bottom\":10,\"min_border_left\":10,\"min_border_right\":10,\"min_border_top\":10,\"renderers\":[{\"id\":\"17471\"},{\"id\":\"17504\"},{\"id\":\"17538\"},{\"id\":\"17574\"}],\"right\":[{\"id\":\"17495\"}],\"sizing_mode\":\"stretch_width\",\"title\":{\"id\":\"17430\"},\"toolbar\":{\"id\":\"17452\"},\"width\":700,\"x_range\":{\"id\":\"17423\"},\"x_scale\":{\"id\":\"17434\"},\"y_range\":{\"id\":\"17424\"},\"y_scale\":{\"id\":\"17436\"}},\"id\":\"17429\",\"subtype\":\"Figure\",\"type\":\"Plot\"},{\"attributes\":{\"bottom_units\":\"screen\",\"coordinates\":null,\"fill_alpha\":0.5,\"fill_color\":\"lightgrey\",\"group\":null,\"left_units\":\"screen\",\"level\":\"overlay\",\"line_alpha\":1.0,\"line_color\":\"black\",\"line_dash\":[4,4],\"line_width\":2,\"right_units\":\"screen\",\"syncable\":false,\"top_units\":\"screen\"},\"id\":\"17451\",\"type\":\"BoxAnnotation\"},{\"attributes\":{},\"id\":\"17515\",\"type\":\"UnionRenderers\"},{\"attributes\":{},\"id\":\"17499\",\"type\":\"Selection\"}],\"root_ids\":[\"17415\",\"17718\"]},\"title\":\"Bokeh Application\",\"version\":\"2.4.3\"}};\n",
       "    var render_items = [{\"docid\":\"70155a70-3a2f-41f8-bf78-c305ee2690a7\",\"root_ids\":[\"17415\"],\"roots\":{\"17415\":\"9009f60a-8b07-4eaf-8b91-37d3ddb28283\"}}];\n",
       "    root.Bokeh.embed.embed_items_notebook(docs_json, render_items);\n",
       "  }\n",
       "  if (root.Bokeh !== undefined && root.Bokeh.Panel !== undefined) {\n",
       "    embed_document(root);\n",
       "  } else {\n",
       "    var attempts = 0;\n",
       "    var timer = setInterval(function(root) {\n",
       "      if (root.Bokeh !== undefined && root.Bokeh.Panel !== undefined) {\n",
       "        clearInterval(timer);\n",
       "        embed_document(root);\n",
       "      } else if (document.readyState == \"complete\") {\n",
       "        attempts++;\n",
       "        if (attempts > 200) {\n",
       "          clearInterval(timer);\n",
       "          console.log(\"Bokeh: ERROR: Unable to run BokehJS code because BokehJS library is missing\");\n",
       "        }\n",
       "      }\n",
       "    }, 25, root)\n",
       "  }\n",
       "})(window);</script>"
      ],
      "text/plain": [
       "<hvplot.interactive.Interactive at 0x13ab8a890>"
      ]
     },
     "execution_count": 213,
     "metadata": {
      "application/vnd.holoviews_exec.v0+json": {
       "id": "17415"
      }
     },
     "output_type": "execute_result"
    }
   ],
   "source": [
    "ihvplot = ipipeline.hvplot(x='open_date', y=yaxis, by='name', color=PALETTE, line_width=6, height=400)\n",
    "ihvplot"
   ]
  },
  {
   "cell_type": "code",
   "execution_count": 214,
   "metadata": {},
   "outputs": [
    {
     "name": "stdout",
     "output_type": "stream",
     "text": [
      "Launching server at http://localhost:50831\n"
     ]
    },
    {
     "data": {
      "text/plain": [
       "<bokeh.server.server.Server at 0x1321bc9a0>"
      ]
     },
     "execution_count": 214,
     "metadata": {},
     "output_type": "execute_result"
    }
   ],
   "source": [
    "template = pn.template.FastListTemplate(\n",
    "    title='Interactive DataFrame Dashboards with hvplot .interactive', \n",
    "    sidebar=[years_slider, 'Manufacturers', months, 'Y axis' , yaxis],\n",
    "    main=[ihvplot.panel(), itable.panel()],\n",
    "    accent_base_color=\"#88d8b0\",\n",
    "    header_background=\"#88d8b0\",\n",
    ")\n",
    "template.show()\n",
    "#template.servable();"
   ]
  }
 ],
 "metadata": {
  "kernelspec": {
   "display_name": "Python 3.10.5 64-bit",
   "language": "python",
   "name": "python3"
  },
  "language_info": {
   "codemirror_mode": {
    "name": "ipython",
    "version": 3
   },
   "file_extension": ".py",
   "mimetype": "text/x-python",
   "name": "python",
   "nbconvert_exporter": "python",
   "pygments_lexer": "ipython3",
   "version": "3.10.5"
  },
  "orig_nbformat": 4,
  "vscode": {
   "interpreter": {
    "hash": "aee8b7b246df8f9039afb4144a1f6fd8d2ca17a180786b69acc140d282b71a49"
   }
  }
 },
 "nbformat": 4,
 "nbformat_minor": 2
}
